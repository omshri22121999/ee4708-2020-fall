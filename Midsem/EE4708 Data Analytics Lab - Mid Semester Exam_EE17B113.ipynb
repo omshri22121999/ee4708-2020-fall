{
 "cells": [
  {
   "cell_type": "markdown",
   "metadata": {},
   "source": [
    "## EE4708: Data Analytics Lab - Mid Semester Examination\n",
    "\n",
    "### Date: September 30, 2029 \n",
    "### Duration: 3 hrs\n",
    "### Max. Marks: 30"
   ]
  },
  {
   "cell_type": "markdown",
   "metadata": {},
   "source": [
    "### Roll Number : EE17B113\n"
   ]
  },
  {
   "cell_type": "markdown",
   "metadata": {},
   "source": [
    "### Instructions:\n",
    "\n",
    "1) Write your roll number is the cell above. \n",
    "\n",
    "2) All questions are to be answered in this jupyter notebook only, including any assumptions and observations. The cells have been provided as needed but you can add new cells if required.\n",
    "\n",
    "3) There are 3 main questions with multiple sub-questions. The corresponding datasets are to be downloaded from the google drive folder link provided. You have to strictly use the datasets provided in the folder bearing your roll number and evaluation will be based only on that. If you use any other dataset, you will be marked zero.  \n",
    "\n",
    "4) In the codes, any python packages/functions discussed in the course can be used unless mentioned otherwise in the question. \n",
    "\n",
    "5) Any parameters required for using an inbuilt python function may be chosen appropriately.   \n",
    "\n",
    "6) You are free to use any resources at your disposal (assignments, text books, internet, etc.) but you are strictly forbidden from discussing with other students. There will be harsh penalties if two or more people are found to have submitted exactly the same code.\n",
    "\n",
    "7) For any doubts during the exam, the TAs will be available continuously between 2 pm and 5 pm on a google meet session to clarify your doubts. Joining this session is optional and only to clarify any doubts. Here is the link to the session: https://meet.google.com/mai-ixxh-jaq\n",
    "\n",
    "8) The codes are only verified for desired functionality and not for speed/efficiency. \n"
   ]
  },
  {
   "cell_type": "markdown",
   "metadata": {},
   "source": [
    "### Question 1: Linear/Polynomial Regression (10 Marks)\n",
    "\n",
    "Consider the given regression dataset which has 18 input features (x1 to x18)  and a target variable (y). Write a code in the cells provided to perform the following (1.1 to 1.7) on the given dataset:\n",
    "\n",
    "1.1) Standardise or Normalise the features if deemed necessary\n",
    "\n",
    "1.2) Use train_test_split function in sklearn with random_state = 0  to split the dataset into train and validation sets in the ratio of 80:20\n"
   ]
  },
  {
   "cell_type": "code",
   "execution_count": 1,
   "metadata": {},
   "outputs": [],
   "source": [
    "from sklearn.model_selection import train_test_split\n",
    "from sklearn.preprocessing import StandardScaler\n",
    "from sklearn.metrics import r2_score,mean_squared_error\n",
    "import numpy as np\n",
    "import pandas as pd\n",
    "import matplotlib.pyplot as plt\n",
    "import warnings\n",
    "\n",
    "warnings.filterwarnings(\"ignore\")"
   ]
  },
  {
   "cell_type": "code",
   "execution_count": 2,
   "metadata": {},
   "outputs": [],
   "source": [
    "data = pd.read_csv(\"EE17B113/Linear Regression Dataset_33.csv\")"
   ]
  },
  {
   "cell_type": "code",
   "execution_count": 3,
   "metadata": {},
   "outputs": [],
   "source": [
    "y = data['y'].values.reshape(-1,1)\n",
    "X = data[set(data.columns)-set(['y'])].values"
   ]
  },
  {
   "cell_type": "code",
   "execution_count": 4,
   "metadata": {},
   "outputs": [],
   "source": [
    "X_train,X_test,y_train,y_test = train_test_split(X,y,random_state=0,test_size=0.2)"
   ]
  },
  {
   "cell_type": "code",
   "execution_count": 5,
   "metadata": {},
   "outputs": [
    {
     "name": "stdout",
     "output_type": "stream",
     "text": [
      "(800, 18) (200, 18)\n",
      "(800, 1) (200, 1)\n"
     ]
    }
   ],
   "source": [
    "print(X_train.shape,X_test.shape)\n",
    "print(y_train.shape,y_test.shape)"
   ]
  },
  {
   "cell_type": "code",
   "execution_count": 6,
   "metadata": {},
   "outputs": [],
   "source": [
    "# Standardising since Lasso feature selection is asked\n",
    "\n",
    "st = StandardScaler()\n",
    "\n",
    "X_train_st = st.fit_transform(X_train)\n",
    "X_test_st = st.transform(X_test)"
   ]
  },
  {
   "cell_type": "markdown",
   "metadata": {},
   "source": [
    "1.3) Learn polynomial regression models of degrees 1, 2 and 3 and print the R^2 score for all the models"
   ]
  },
  {
   "cell_type": "code",
   "execution_count": 7,
   "metadata": {},
   "outputs": [],
   "source": [
    "from sklearn.linear_model import LinearRegression\n",
    "from sklearn.preprocessing import PolynomialFeatures"
   ]
  },
  {
   "cell_type": "code",
   "execution_count": 8,
   "metadata": {},
   "outputs": [
    {
     "name": "stdout",
     "output_type": "stream",
     "text": [
      "Model with degree = 1\n",
      "\tTrain Error : 0.7593724171237896\n",
      "\tValidation Error : 0.7909338199279644 \n",
      "\n",
      "Model with degree = 2\n",
      "\tTrain Error : 0.926449652668039\n",
      "\tValidation Error : 0.39487065429591583 \n",
      "\n",
      "Model with degree = 3\n",
      "\tTrain Error : 1.0\n",
      "\tValidation Error : -2113.078934333943 \n",
      "\n"
     ]
    }
   ],
   "source": [
    "models = []\n",
    "train_errors = []\n",
    "test_errors = []\n",
    "for i in range(1,4):\n",
    "    poly = PolynomialFeatures(degree=i)\n",
    "    X_train_poly = poly.fit_transform(X_train_st)\n",
    "    print(\"Model with degree =\",i)\n",
    "    model = LinearRegression(fit_intercept=False)\n",
    "    model.fit(X_train_poly,y_train)\n",
    "    tr_e = r2_score(y_train,model.predict(X_train_poly))\n",
    "    train_errors.append(tr_e)\n",
    "    print(\"\\tTrain Error :\",tr_e)\n",
    "    X_test_poly = poly.transform(X_test_st)\n",
    "    ts_e = r2_score(y_test,model.predict(X_test_poly))\n",
    "    test_errors.append(ts_e)\n",
    "    print(\"\\tValidation Error :\",ts_e,'\\n')"
   ]
  },
  {
   "cell_type": "markdown",
   "metadata": {},
   "source": [
    "1.4) Which among the 3 models would you chose based on the R^2 score and why ? (Write your answer below) "
   ]
  },
  {
   "cell_type": "markdown",
   "metadata": {},
   "source": [
    "Model with degree = 1 would be the best since it has the best R^2 score in the validation dataset."
   ]
  },
  {
   "cell_type": "markdown",
   "metadata": {},
   "source": [
    "1.5) On the above chosen polynomial model, apply L1 regularisation (LASSO) with alpha = 0.01 and print the LASSO model coefficients. "
   ]
  },
  {
   "cell_type": "code",
   "execution_count": 9,
   "metadata": {},
   "outputs": [],
   "source": [
    "from sklearn.linear_model import Lasso"
   ]
  },
  {
   "cell_type": "code",
   "execution_count": 10,
   "metadata": {},
   "outputs": [
    {
     "data": {
      "text/plain": [
       "Lasso(alpha=0.01, fit_intercept=False)"
      ]
     },
     "execution_count": 10,
     "metadata": {},
     "output_type": "execute_result"
    }
   ],
   "source": [
    "model = Lasso(alpha=0.01,fit_intercept=False)\n",
    "poly = PolynomialFeatures(degree=1)\n",
    "\n",
    "X_train_poly = poly.fit_transform(X_train_st)\n",
    "model.fit(X_train_poly,y_train)"
   ]
  },
  {
   "cell_type": "markdown",
   "metadata": {},
   "source": [
    "1.6) Select features from the LASSO model with a coefficient threshold of 0.001. List below the selected features by their label names (i.e, x1,x2,...)\n"
   ]
  },
  {
   "cell_type": "code",
   "execution_count": 11,
   "metadata": {},
   "outputs": [
    {
     "name": "stdout",
     "output_type": "stream",
     "text": [
      "['x1', 'x2', 'x3', 'x4', 'x5', 'x6', 'x7', 'x8', 'x9', 'x10', 'x11', 'x12', 'x13', 'x14', 'x15', 'x16', 'x17', 'x18']\n"
     ]
    }
   ],
   "source": [
    "print([\"x\"+str(i+1) for i in np.where(np.abs(model.coef_[1:])>0.001)[0]])"
   ]
  },
  {
   "cell_type": "markdown",
   "metadata": {},
   "source": [
    "The features selected by LASSO model are 'x1', 'x2', 'x3', 'x4', 'x5', 'x6', 'x7', 'x8', 'x9', 'x10', 'x11', 'x12', 'x13', 'x14', 'x15', 'x16', 'x17', 'x18', i.e. all the features have been selected.\n"
   ]
  },
  {
   "cell_type": "markdown",
   "metadata": {},
   "source": [
    "1.7) With the above chosen features, learn the polynomial regression model of chosen degree (in Q. 1.4) and print the  regression coefficients, mean squared error of predictions on validation set and R^2 score on the validation set. "
   ]
  },
  {
   "cell_type": "code",
   "execution_count": 12,
   "metadata": {},
   "outputs": [
    {
     "name": "stdout",
     "output_type": "stream",
     "text": [
      "Coefficients : [69.47227252866976, 1.170017315122738, -0.49115507418389437, -2.598742037971366, -0.44838756119384243, 3.0066800920431658, 0.39460051026453535, 0.7186234438461108, 9.514853855396856, -9.247210908817195, 0.8537113617384823, -2.307900137239841, 0.25822837741414995, 0.25873345553959626, -0.4033048225865138, 0.2928491588441652, 1.1749074141744593, -0.14746251520638656, -0.31731740775315415] \n",
      "\n",
      "MSE Error : 18.716418469367213 \n",
      "\n",
      "R^2 Score : 0.7911073816937368 \n",
      "\n"
     ]
    }
   ],
   "source": [
    "model_final = LinearRegression(fit_intercept=False)\n",
    "\n",
    "\n",
    "poly = PolynomialFeatures(degree=1)\n",
    "\n",
    "X_train_poly = poly.fit_transform(X_train_st)\n",
    "model.fit(X_train_poly,y_train)\n",
    "\n",
    "X_test_poly = poly.transform(X_test_st)\n",
    "\n",
    "print(\"Coefficients :\",model.coef_.tolist(),'\\n')\n",
    "print(\"MSE Error :\",mean_squared_error(y_test,model.predict(X_test_poly)),'\\n')\n",
    "print(\"R^2 Score :\",r2_score(y_test,model.predict(X_test_poly)),'\\n')"
   ]
  },
  {
   "cell_type": "markdown",
   "metadata": {},
   "source": [
    "### Question 2: Naive Baye's Classifier (10 Marks)\n",
    "\n",
    "Consider the given naive bayes classification dataset which has 10 input features (x1 to x10) and a target class (y). The samples come from 3 different classes labelled 0, 1 and 2. Perform the following (2.1 to 2.4) on the given dataset:\n",
    "\n",
    "2.1) Use train_test_split function in sklearn with random_state = 42  to split the dataset into train and validation sets in the ratio of 80:20\n"
   ]
  },
  {
   "cell_type": "code",
   "execution_count": 90,
   "metadata": {},
   "outputs": [
    {
     "data": {
      "text/html": [
       "<div>\n",
       "<style scoped>\n",
       "    .dataframe tbody tr th:only-of-type {\n",
       "        vertical-align: middle;\n",
       "    }\n",
       "\n",
       "    .dataframe tbody tr th {\n",
       "        vertical-align: top;\n",
       "    }\n",
       "\n",
       "    .dataframe thead th {\n",
       "        text-align: right;\n",
       "    }\n",
       "</style>\n",
       "<table border=\"1\" class=\"dataframe\">\n",
       "  <thead>\n",
       "    <tr style=\"text-align: right;\">\n",
       "      <th></th>\n",
       "      <th>x1</th>\n",
       "      <th>x2</th>\n",
       "      <th>x3</th>\n",
       "      <th>x4</th>\n",
       "      <th>x5</th>\n",
       "      <th>x6</th>\n",
       "      <th>x7</th>\n",
       "      <th>x8</th>\n",
       "      <th>x9</th>\n",
       "      <th>x10</th>\n",
       "      <th>y</th>\n",
       "    </tr>\n",
       "  </thead>\n",
       "  <tbody>\n",
       "    <tr>\n",
       "      <th>0</th>\n",
       "      <td>-3.364363</td>\n",
       "      <td>-1.830350</td>\n",
       "      <td>0.420545</td>\n",
       "      <td>0.744564</td>\n",
       "      <td>-0.431720</td>\n",
       "      <td>-4.841922</td>\n",
       "      <td>2.235383</td>\n",
       "      <td>2.228471</td>\n",
       "      <td>-0.830772</td>\n",
       "      <td>-5.073946</td>\n",
       "      <td>1</td>\n",
       "    </tr>\n",
       "    <tr>\n",
       "      <th>1</th>\n",
       "      <td>0.050510</td>\n",
       "      <td>-0.881934</td>\n",
       "      <td>2.757558</td>\n",
       "      <td>-0.838081</td>\n",
       "      <td>-1.504136</td>\n",
       "      <td>-1.840437</td>\n",
       "      <td>-0.423329</td>\n",
       "      <td>1.573968</td>\n",
       "      <td>-0.093955</td>\n",
       "      <td>3.906343</td>\n",
       "      <td>2</td>\n",
       "    </tr>\n",
       "    <tr>\n",
       "      <th>2</th>\n",
       "      <td>2.657809</td>\n",
       "      <td>3.286058</td>\n",
       "      <td>-1.527602</td>\n",
       "      <td>2.947351</td>\n",
       "      <td>-1.500329</td>\n",
       "      <td>3.387374</td>\n",
       "      <td>-3.171896</td>\n",
       "      <td>1.856556</td>\n",
       "      <td>0.249984</td>\n",
       "      <td>0.521994</td>\n",
       "      <td>1</td>\n",
       "    </tr>\n",
       "    <tr>\n",
       "      <th>3</th>\n",
       "      <td>0.235972</td>\n",
       "      <td>-2.309880</td>\n",
       "      <td>1.658473</td>\n",
       "      <td>-0.191327</td>\n",
       "      <td>4.359119</td>\n",
       "      <td>3.226423</td>\n",
       "      <td>0.264076</td>\n",
       "      <td>-0.506547</td>\n",
       "      <td>-2.000994</td>\n",
       "      <td>2.520818</td>\n",
       "      <td>2</td>\n",
       "    </tr>\n",
       "    <tr>\n",
       "      <th>4</th>\n",
       "      <td>-0.401140</td>\n",
       "      <td>0.728190</td>\n",
       "      <td>-1.131079</td>\n",
       "      <td>-1.478193</td>\n",
       "      <td>-1.016404</td>\n",
       "      <td>-1.214197</td>\n",
       "      <td>0.733565</td>\n",
       "      <td>-2.758655</td>\n",
       "      <td>1.650629</td>\n",
       "      <td>-0.872197</td>\n",
       "      <td>1</td>\n",
       "    </tr>\n",
       "    <tr>\n",
       "      <th>...</th>\n",
       "      <td>...</td>\n",
       "      <td>...</td>\n",
       "      <td>...</td>\n",
       "      <td>...</td>\n",
       "      <td>...</td>\n",
       "      <td>...</td>\n",
       "      <td>...</td>\n",
       "      <td>...</td>\n",
       "      <td>...</td>\n",
       "      <td>...</td>\n",
       "      <td>...</td>\n",
       "    </tr>\n",
       "    <tr>\n",
       "      <th>995</th>\n",
       "      <td>2.407269</td>\n",
       "      <td>-1.299487</td>\n",
       "      <td>-3.096209</td>\n",
       "      <td>-2.651825</td>\n",
       "      <td>-0.693633</td>\n",
       "      <td>0.573310</td>\n",
       "      <td>0.223511</td>\n",
       "      <td>-2.125617</td>\n",
       "      <td>1.515622</td>\n",
       "      <td>0.830220</td>\n",
       "      <td>0</td>\n",
       "    </tr>\n",
       "    <tr>\n",
       "      <th>996</th>\n",
       "      <td>-0.478944</td>\n",
       "      <td>1.811401</td>\n",
       "      <td>2.493546</td>\n",
       "      <td>-0.602623</td>\n",
       "      <td>-3.629204</td>\n",
       "      <td>-2.764517</td>\n",
       "      <td>0.212820</td>\n",
       "      <td>-1.183636</td>\n",
       "      <td>0.355459</td>\n",
       "      <td>2.135174</td>\n",
       "      <td>1</td>\n",
       "    </tr>\n",
       "    <tr>\n",
       "      <th>997</th>\n",
       "      <td>2.118022</td>\n",
       "      <td>1.589870</td>\n",
       "      <td>-2.143390</td>\n",
       "      <td>0.903045</td>\n",
       "      <td>-2.157586</td>\n",
       "      <td>0.975314</td>\n",
       "      <td>-1.517027</td>\n",
       "      <td>-0.170576</td>\n",
       "      <td>0.907040</td>\n",
       "      <td>-0.147119</td>\n",
       "      <td>1</td>\n",
       "    </tr>\n",
       "    <tr>\n",
       "      <th>998</th>\n",
       "      <td>1.123393</td>\n",
       "      <td>-0.831422</td>\n",
       "      <td>-1.045194</td>\n",
       "      <td>-1.815558</td>\n",
       "      <td>0.044015</td>\n",
       "      <td>0.561374</td>\n",
       "      <td>1.091844</td>\n",
       "      <td>-0.885142</td>\n",
       "      <td>-0.405033</td>\n",
       "      <td>0.136127</td>\n",
       "      <td>2</td>\n",
       "    </tr>\n",
       "    <tr>\n",
       "      <th>999</th>\n",
       "      <td>1.006537</td>\n",
       "      <td>-2.834862</td>\n",
       "      <td>-0.621310</td>\n",
       "      <td>-2.052361</td>\n",
       "      <td>3.826735</td>\n",
       "      <td>3.017859</td>\n",
       "      <td>2.305998</td>\n",
       "      <td>-2.077473</td>\n",
       "      <td>-2.454056</td>\n",
       "      <td>0.069217</td>\n",
       "      <td>2</td>\n",
       "    </tr>\n",
       "  </tbody>\n",
       "</table>\n",
       "<p>1000 rows × 11 columns</p>\n",
       "</div>"
      ],
      "text/plain": [
       "           x1        x2        x3        x4        x5        x6        x7  \\\n",
       "0   -3.364363 -1.830350  0.420545  0.744564 -0.431720 -4.841922  2.235383   \n",
       "1    0.050510 -0.881934  2.757558 -0.838081 -1.504136 -1.840437 -0.423329   \n",
       "2    2.657809  3.286058 -1.527602  2.947351 -1.500329  3.387374 -3.171896   \n",
       "3    0.235972 -2.309880  1.658473 -0.191327  4.359119  3.226423  0.264076   \n",
       "4   -0.401140  0.728190 -1.131079 -1.478193 -1.016404 -1.214197  0.733565   \n",
       "..        ...       ...       ...       ...       ...       ...       ...   \n",
       "995  2.407269 -1.299487 -3.096209 -2.651825 -0.693633  0.573310  0.223511   \n",
       "996 -0.478944  1.811401  2.493546 -0.602623 -3.629204 -2.764517  0.212820   \n",
       "997  2.118022  1.589870 -2.143390  0.903045 -2.157586  0.975314 -1.517027   \n",
       "998  1.123393 -0.831422 -1.045194 -1.815558  0.044015  0.561374  1.091844   \n",
       "999  1.006537 -2.834862 -0.621310 -2.052361  3.826735  3.017859  2.305998   \n",
       "\n",
       "           x8        x9       x10  y  \n",
       "0    2.228471 -0.830772 -5.073946  1  \n",
       "1    1.573968 -0.093955  3.906343  2  \n",
       "2    1.856556  0.249984  0.521994  1  \n",
       "3   -0.506547 -2.000994  2.520818  2  \n",
       "4   -2.758655  1.650629 -0.872197  1  \n",
       "..        ...       ...       ... ..  \n",
       "995 -2.125617  1.515622  0.830220  0  \n",
       "996 -1.183636  0.355459  2.135174  1  \n",
       "997 -0.170576  0.907040 -0.147119  1  \n",
       "998 -0.885142 -0.405033  0.136127  2  \n",
       "999 -2.077473 -2.454056  0.069217  2  \n",
       "\n",
       "[1000 rows x 11 columns]"
      ]
     },
     "execution_count": 90,
     "metadata": {},
     "output_type": "execute_result"
    }
   ],
   "source": [
    "data = pd.read_csv(\"EE17B113/Naive_Bayes_Dataset_33.csv\")\n",
    "\n",
    "data"
   ]
  },
  {
   "cell_type": "code",
   "execution_count": 91,
   "metadata": {},
   "outputs": [],
   "source": [
    "y = data['y'].values\n",
    "x_cols = ['x1','x2','x3','x4','x5','x6','x7','x8','x9','x10']\n",
    "X = data[x_cols].values"
   ]
  },
  {
   "cell_type": "code",
   "execution_count": 92,
   "metadata": {},
   "outputs": [],
   "source": [
    "X_train,X_test,y_train,y_test = train_test_split(X,y,random_state=42,test_size=0.2)"
   ]
  },
  {
   "cell_type": "code",
   "execution_count": 93,
   "metadata": {},
   "outputs": [],
   "source": [
    "sc = StandardScaler()\n",
    "\n",
    "X_train_sc = sc.fit_transform(X_train)\n",
    "X_test_sc = sc.transform(X_test)"
   ]
  },
  {
   "cell_type": "markdown",
   "metadata": {},
   "source": [
    "2.2) Learn a Gaussian Naive Bayes classifier model from scratch using only functions from math, pandas, numpy and scipy packages (sklearn is not allowed for this step). Using this model, predict the classes of samples in validation set and print the accuracy of predictions.  "
   ]
  },
  {
   "cell_type": "code",
   "execution_count": 94,
   "metadata": {},
   "outputs": [],
   "source": [
    "from scipy.stats import norm\n",
    "from sklearn.metrics import accuracy_score"
   ]
  },
  {
   "cell_type": "code",
   "execution_count": 95,
   "metadata": {},
   "outputs": [],
   "source": [
    "c_0 = np.sum(y_train==0)/len(y_train)\n",
    "c_1 = np.sum(y_train==1)/len(y_train)\n",
    "c_2 = np.sum(y_train==2)/len(y_train)"
   ]
  },
  {
   "cell_type": "code",
   "execution_count": 96,
   "metadata": {},
   "outputs": [],
   "source": [
    "mean_0 = np.mean(X_train_sc[(y_train==0),:],axis = 0)\n",
    "mean_1 = np.mean(X_train_sc[(y_train==1),:],axis = 0)\n",
    "mean_2 = np.mean(X_train_sc[(y_train==2),:],axis = 0)\n",
    "\n",
    "var_0 = np.var(X_train_sc[(y_train==0),:],axis = 0)\n",
    "var_1 = np.var(X_train_sc[(y_train==1),:],axis = 0)\n",
    "var_2 = np.var(X_train_sc[(y_train==2),:],axis = 0)"
   ]
  },
  {
   "cell_type": "code",
   "execution_count": 97,
   "metadata": {},
   "outputs": [
    {
     "name": "stdout",
     "output_type": "stream",
     "text": [
      "0.54\n"
     ]
    }
   ],
   "source": [
    "preds = []\n",
    "for x in X_test_sc:\n",
    "    p_0 = np.mean(norm.pdf(x,mean_0,var_0))\n",
    "    p_1 = np.mean(norm.pdf(x,mean_1,var_1))\n",
    "    p_2 = np.mean(norm.pdf(x,mean_2,var_2))\n",
    "    preds.append(np.argmax([c_0*p_0,c_1*p_1,c_2*p_2]))\n",
    "\n",
    "print(accuracy_score(y_test,preds))"
   ]
  },
  {
   "cell_type": "markdown",
   "metadata": {},
   "source": [
    "2.3) Perform Feature selection as mentioned in the following steps 2.3.1 to 2.3.4: \n",
    "\n",
    "2.3.1) For each feature $x_i$, plot the three gaussian curves of $P(x_i| y=0) , P(x_i | y=1)$ and $P(x_i | y=2)$ using the mean and variance calculated while building the naive bayes model. Ensure that all the plots are labelled properly. There should be 10 plots pertaining to 10 features with each plot having 3 gaussian curves corresponding to 3 classes. \n",
    " \n"
   ]
  },
  {
   "cell_type": "code",
   "execution_count": 98,
   "metadata": {
    "scrolled": false
   },
   "outputs": [
    {
     "data": {
      "image/png": "[encoded data removed]",
      "text/plain": [
       "<Figure size 432x288 with 1 Axes>"
      ]
     },
     "metadata": {
      "needs_background": "light"
     },
     "output_type": "display_data"
    },
    {
     "data": {
      "image/png": "[encoded data removed]",
      "text/plain": [
       "<Figure size 432x288 with 1 Axes>"
      ]
     },
     "metadata": {
      "needs_background": "light"
     },
     "output_type": "display_data"
    },
    {
     "data": {
      "image/png": "[encoded data removed]",
      "text/plain": [
       "<Figure size 432x288 with 1 Axes>"
      ]
     },
     "metadata": {
      "needs_background": "light"
     },
     "output_type": "display_data"
    },
    {
     "data": {
      "image/png": "[encoded data removed]",
      "text/plain": [
       "<Figure size 432x288 with 1 Axes>"
      ]
     },
     "metadata": {
      "needs_background": "light"
     },
     "output_type": "display_data"
    },
    {
     "data": {
      "image/png": "[encoded data removed]",
      "text/plain": [
       "<Figure size 432x288 with 1 Axes>"
      ]
     },
     "metadata": {
      "needs_background": "light"
     },
     "output_type": "display_data"
    },
    {
     "data": {
      "image/png": "[encoded data removed]",
      "text/plain": [
       "<Figure size 432x288 with 1 Axes>"
      ]
     },
     "metadata": {
      "needs_background": "light"
     },
     "output_type": "display_data"
    },
    {
     "data": {
      "image/png": "[encoded data removed]",
      "text/plain": [
       "<Figure size 432x288 with 1 Axes>"
      ]
     },
     "metadata": {
      "needs_background": "light"
     },
     "output_type": "display_data"
    },
    {
     "data": {
      "image/png": "[encoded data removed]",
      "text/plain": [
       "<Figure size 432x288 with 1 Axes>"
      ]
     },
     "metadata": {
      "needs_background": "light"
     },
     "output_type": "display_data"
    },
    {
     "data": {
      "image/png": "[encoded data removed]",
      "text/plain": [
       "<Figure size 432x288 with 1 Axes>"
      ]
     },
     "metadata": {
      "needs_background": "light"
     },
     "output_type": "display_data"
    },
    {
     "data": {
      "image/png": "[encoded data removed]",
      "text/plain": [
       "<Figure size 432x288 with 1 Axes>"
      ]
     },
     "metadata": {
      "needs_background": "light"
     },
     "output_type": "display_data"
    }
   ],
   "source": [
    "for i in range(X_train.shape[1]):\n",
    "    x_i = X_train[:,i]\n",
    "    x_r = np.linspace(x_i.min(),x_i.max(),1000)\n",
    "    plt.title(\"x\"+str(i+1))\n",
    "    plt.plot(x_r,norm.pdf(x_r,mean_0[i],var_0[i]),label = \"0\")\n",
    "    plt.plot(x_r,norm.pdf(x_r,mean_1[i],var_1[i]),label = \"1\")\n",
    "    plt.plot(x_r,norm.pdf(x_r,mean_2[i],var_2[i]),label = \"2\")\n",
    "    plt.legend()\n",
    "    plt.show()"
   ]
  },
  {
   "cell_type": "markdown",
   "metadata": {},
   "source": [
    "2.3.2) Among the 10 plots, observe the ones with significant overlapping gaussian curves. It indicates that the particular feature is not well separated across classes and is not much relevant in predicting the class using bayes rule. Remove the features one by one starting with most significant overlap as observed in the plots and build a naive bayes model with the rest of the features. Find the accuracy of model predictions on the validation set. Continue removing features as long as  the accuracy of prediction on the validation set improves, otherwise stop. "
   ]
  },
  {
   "cell_type": "code",
   "execution_count": 99,
   "metadata": {},
   "outputs": [
    {
     "name": "stdout",
     "output_type": "stream",
     "text": [
      "0.56\n"
     ]
    }
   ],
   "source": [
    "# All features\n",
    "feat = [0,1,2,7,8]\n",
    "preds = []\n",
    "for x in X_test_sc:\n",
    "    p_0 = np.mean(norm.pdf(x[feat],mean_0[feat],var_0[feat]))\n",
    "    p_1 = np.mean(norm.pdf(x[feat],mean_1[feat],var_1[feat]))\n",
    "    p_2 = np.mean(norm.pdf(x[feat],mean_2[feat],var_2[feat]))\n",
    "    preds.append(np.argmax([c_0*p_0,c_1*p_1,c_2*p_2]))\n",
    "\n",
    "pred = accuracy_score(y_test,preds)\n",
    "\n",
    "print(pred)"
   ]
  },
  {
   "cell_type": "code",
   "execution_count": 100,
   "metadata": {},
   "outputs": [],
   "source": [
    "# Manually Calculated\n",
    "accs = [0.54,0.545,0.55,0.545,0.55,0.56,0.55,0.53,0.52,0.5]\n",
    "accs.reverse()"
   ]
  },
  {
   "cell_type": "markdown",
   "metadata": {},
   "source": [
    "2.3.3) List below the selected and removed features by their label names (i.e, x1,x2,...)"
   ]
  },
  {
   "cell_type": "markdown",
   "metadata": {},
   "source": [
    "Selected Feautures : x1,x3,x4,x5,x10\n",
    "\n",
    "Removed Features : x2,x6,x7,x8,x9"
   ]
  },
  {
   "cell_type": "markdown",
   "metadata": {},
   "source": [
    "2.3.4) Plot a curve (properly labelled) with the validation set accuracy on y-axis and number of features on x-axis as varied in 2.3.2 "
   ]
  },
  {
   "cell_type": "code",
   "execution_count": 101,
   "metadata": {},
   "outputs": [
    {
     "data": {
      "image/png": "[encoded data removed]",
      "text/plain": [
       "<Figure size 432x288 with 1 Axes>"
      ]
     },
     "metadata": {
      "needs_background": "light"
     },
     "output_type": "display_data"
    }
   ],
   "source": [
    "plt.title(\"Number of features vs validation accuracy\")\n",
    "x_s = [1,2,3,4,5,6,7,8,9,10]\n",
    "plt.scatter(x_s,accs)\n",
    "plt.plot(x_s,accs)\n",
    "plt.xlabel(\"No. of features\")\n",
    "plt.ylabel(\"Accuracy\")\n",
    "plt.show()"
   ]
  },
  {
   "cell_type": "markdown",
   "metadata": {},
   "source": [
    "2.4) Based on the naive bayes model with selected features, print the accuracy of predictions on the validation set."
   ]
  },
  {
   "cell_type": "code",
   "execution_count": 102,
   "metadata": {},
   "outputs": [
    {
     "name": "stdout",
     "output_type": "stream",
     "text": [
      "Accuracy with selected features : 0.56\n"
     ]
    }
   ],
   "source": [
    "print(\"Accuracy with selected features :\",pred)"
   ]
  },
  {
   "cell_type": "markdown",
   "metadata": {},
   "source": [
    "### Question 3: Logistic Regression Classifier (10 Marks)\n",
    "\n",
    "Consider the given logistic regression dataset which has 9 input features (x1 to x9)  and a target class (y). The samples come from 2 different classes labelled 0 and 1. Perform the following on the given dataset:\n",
    "\n",
    "3.1) There are two categorical features (x5 and x6) in the dataset. Encode these features appropriately. Mention as a comment how the encoding is being performed.\n",
    "\n",
    "3.2) Standardise of Normalise the features if deemed necessary\n",
    "\n",
    "3.3) Use train_test_split function in sklearn with random_state = 0  to split the dataset into train and validation sets in the ratio of 80:20"
   ]
  },
  {
   "cell_type": "code",
   "execution_count": 103,
   "metadata": {},
   "outputs": [
    {
     "name": "stdout",
     "output_type": "stream",
     "text": [
      "['1-2 Year' '< 1 Year' '> 2 Years']\n",
      "['Yes' 'No']\n"
     ]
    }
   ],
   "source": [
    "data = pd.read_csv('EE17B113/Logistic Regression Dataset_33.csv')\n",
    "\n",
    "print(data['x5'].unique())\n",
    "print(data['x6'].unique())"
   ]
  },
  {
   "cell_type": "code",
   "execution_count": 27,
   "metadata": {},
   "outputs": [],
   "source": [
    "x5_oh = pd.get_dummies(data['x5'],prefix=\"x5\")\n",
    "\n",
    "data = data.drop('x5',axis = 1)\n",
    "data = data.join(x5_oh)"
   ]
  },
  {
   "cell_type": "code",
   "execution_count": 28,
   "metadata": {},
   "outputs": [],
   "source": [
    "data['x6'] = data['x6'].apply(lambda x:1 if x==\"Yes\" else 0)"
   ]
  },
  {
   "cell_type": "code",
   "execution_count": 51,
   "metadata": {},
   "outputs": [
    {
     "data": {
      "text/html": [
       "<div>\n",
       "<style scoped>\n",
       "    .dataframe tbody tr th:only-of-type {\n",
       "        vertical-align: middle;\n",
       "    }\n",
       "\n",
       "    .dataframe tbody tr th {\n",
       "        vertical-align: top;\n",
       "    }\n",
       "\n",
       "    .dataframe thead th {\n",
       "        text-align: right;\n",
       "    }\n",
       "</style>\n",
       "<table border=\"1\" class=\"dataframe\">\n",
       "  <thead>\n",
       "    <tr style=\"text-align: right;\">\n",
       "      <th></th>\n",
       "      <th>x1</th>\n",
       "      <th>x2</th>\n",
       "      <th>x3</th>\n",
       "      <th>x4</th>\n",
       "      <th>x6</th>\n",
       "      <th>x7</th>\n",
       "      <th>x8</th>\n",
       "      <th>x9</th>\n",
       "      <th>y</th>\n",
       "      <th>x5_1-2 Year</th>\n",
       "      <th>x5_&lt; 1 Year</th>\n",
       "      <th>x5_&gt; 2 Years</th>\n",
       "    </tr>\n",
       "  </thead>\n",
       "  <tbody>\n",
       "    <tr>\n",
       "      <th>0</th>\n",
       "      <td>48</td>\n",
       "      <td>1</td>\n",
       "      <td>28.0</td>\n",
       "      <td>0</td>\n",
       "      <td>1</td>\n",
       "      <td>53099.0</td>\n",
       "      <td>124.0</td>\n",
       "      <td>248</td>\n",
       "      <td>0</td>\n",
       "      <td>1</td>\n",
       "      <td>0</td>\n",
       "      <td>0</td>\n",
       "    </tr>\n",
       "    <tr>\n",
       "      <th>1</th>\n",
       "      <td>66</td>\n",
       "      <td>1</td>\n",
       "      <td>28.0</td>\n",
       "      <td>0</td>\n",
       "      <td>1</td>\n",
       "      <td>42088.0</td>\n",
       "      <td>124.0</td>\n",
       "      <td>158</td>\n",
       "      <td>0</td>\n",
       "      <td>1</td>\n",
       "      <td>0</td>\n",
       "      <td>0</td>\n",
       "    </tr>\n",
       "    <tr>\n",
       "      <th>2</th>\n",
       "      <td>40</td>\n",
       "      <td>1</td>\n",
       "      <td>50.0</td>\n",
       "      <td>1</td>\n",
       "      <td>0</td>\n",
       "      <td>28747.0</td>\n",
       "      <td>124.0</td>\n",
       "      <td>65</td>\n",
       "      <td>0</td>\n",
       "      <td>1</td>\n",
       "      <td>0</td>\n",
       "      <td>0</td>\n",
       "    </tr>\n",
       "    <tr>\n",
       "      <th>3</th>\n",
       "      <td>39</td>\n",
       "      <td>1</td>\n",
       "      <td>25.0</td>\n",
       "      <td>0</td>\n",
       "      <td>1</td>\n",
       "      <td>2630.0</td>\n",
       "      <td>156.0</td>\n",
       "      <td>190</td>\n",
       "      <td>1</td>\n",
       "      <td>1</td>\n",
       "      <td>0</td>\n",
       "      <td>0</td>\n",
       "    </tr>\n",
       "    <tr>\n",
       "      <th>4</th>\n",
       "      <td>49</td>\n",
       "      <td>1</td>\n",
       "      <td>28.0</td>\n",
       "      <td>1</td>\n",
       "      <td>0</td>\n",
       "      <td>47198.0</td>\n",
       "      <td>26.0</td>\n",
       "      <td>107</td>\n",
       "      <td>0</td>\n",
       "      <td>1</td>\n",
       "      <td>0</td>\n",
       "      <td>0</td>\n",
       "    </tr>\n",
       "  </tbody>\n",
       "</table>\n",
       "</div>"
      ],
      "text/plain": [
       "   x1  x2    x3  x4  x6       x7     x8   x9  y  x5_1-2 Year  x5_< 1 Year  \\\n",
       "0  48   1  28.0   0   1  53099.0  124.0  248  0            1            0   \n",
       "1  66   1  28.0   0   1  42088.0  124.0  158  0            1            0   \n",
       "2  40   1  50.0   1   0  28747.0  124.0   65  0            1            0   \n",
       "3  39   1  25.0   0   1   2630.0  156.0  190  1            1            0   \n",
       "4  49   1  28.0   1   0  47198.0   26.0  107  0            1            0   \n",
       "\n",
       "   x5_> 2 Years  \n",
       "0             0  \n",
       "1             0  \n",
       "2             0  \n",
       "3             0  \n",
       "4             0  "
      ]
     },
     "execution_count": 51,
     "metadata": {},
     "output_type": "execute_result"
    }
   ],
   "source": [
    "data.head()"
   ]
  },
  {
   "cell_type": "code",
   "execution_count": 52,
   "metadata": {},
   "outputs": [],
   "source": [
    "n_cols = ['x1','x2','x3','x4','x7','x8','x9']"
   ]
  },
  {
   "cell_type": "markdown",
   "metadata": {},
   "source": [
    "One Hot Encoding works better in x5 since there is no ordinal relationship between the variables. Ordinal Encoding works better in x6 since it is of True/False type"
   ]
  },
  {
   "cell_type": "code",
   "execution_count": 41,
   "metadata": {},
   "outputs": [],
   "source": [
    "y = data['y']\n",
    "X = data[set(data.columns)-set(['y'])]"
   ]
  },
  {
   "cell_type": "code",
   "execution_count": 42,
   "metadata": {},
   "outputs": [],
   "source": [
    "X_train,X_test,y_train,y_test = train_test_split(X,y,random_state=0,test_size=0.2)"
   ]
  },
  {
   "cell_type": "markdown",
   "metadata": {},
   "source": [
    "3.4) Learn a logistic regression model for classification and print the accuracy of the model in predicting the classes of the samples in the validation set. "
   ]
  },
  {
   "cell_type": "code",
   "execution_count": 43,
   "metadata": {},
   "outputs": [],
   "source": [
    "from sklearn.linear_model import LogisticRegression\n",
    "from sklearn.metrics import accuracy_score"
   ]
  },
  {
   "cell_type": "code",
   "execution_count": 44,
   "metadata": {},
   "outputs": [
    {
     "data": {
      "text/plain": [
       "LogisticRegression()"
      ]
     },
     "execution_count": 44,
     "metadata": {},
     "output_type": "execute_result"
    }
   ],
   "source": [
    "model = LogisticRegression()\n",
    "\n",
    "model.fit(X_train,y_train)"
   ]
  },
  {
   "cell_type": "code",
   "execution_count": 45,
   "metadata": {},
   "outputs": [
    {
     "name": "stdout",
     "output_type": "stream",
     "text": [
      "Validation Accuracy : 0.879344262295082\n"
     ]
    }
   ],
   "source": [
    "print(\"Validation Accuracy :\",accuracy_score(y_test,model.predict(X_test)))"
   ]
  },
  {
   "cell_type": "markdown",
   "metadata": {},
   "source": [
    "3.5) Perform feature selection using ‘RFE’ function (Recursive Feature Elimination) in sklearn and using the function argument, vary the number of features to be selected until the model prediction accuracy obtained on validation set is best possible. Print the best possible accuracy that is obtained.  "
   ]
  },
  {
   "cell_type": "code",
   "execution_count": 46,
   "metadata": {},
   "outputs": [],
   "source": [
    "from sklearn.feature_selection import RFE"
   ]
  },
  {
   "cell_type": "code",
   "execution_count": 47,
   "metadata": {},
   "outputs": [
    {
     "name": "stdout",
     "output_type": "stream",
     "text": [
      "Number of features = 1\n",
      "\tAccuracy = 0.879344262295082\n",
      "Number of features = 2\n",
      "\tAccuracy = 0.879344262295082\n",
      "Number of features = 3\n",
      "\tAccuracy = 0.879344262295082\n",
      "Number of features = 4\n",
      "\tAccuracy = 0.879344262295082\n",
      "Number of features = 5\n",
      "\tAccuracy = 0.879344262295082\n",
      "Number of features = 6\n",
      "\tAccuracy = 0.879344262295082\n",
      "Number of features = 7\n",
      "\tAccuracy = 0.879344262295082\n",
      "Number of features = 8\n",
      "\tAccuracy = 0.879344262295082\n",
      "Number of features = 9\n",
      "\tAccuracy = 0.879344262295082\n",
      "Number of features = 10\n",
      "\tAccuracy = 0.879344262295082\n",
      "Number of features = 11\n",
      "\tAccuracy = 0.879344262295082\n"
     ]
    }
   ],
   "source": [
    "val_accs = []\n",
    "sels = []\n",
    "for i in range(1,(X_train.shape[1]+1)):\n",
    "    sel = RFE(estimator=LogisticRegression(),n_features_to_select=i)\n",
    "    print(\"Number of features =\",i)\n",
    "    sel.fit(X_train,y_train)\n",
    "    sels.append(sel)\n",
    "    acc = accuracy_score(y_test,sel.predict(X_test))\n",
    "    print(\"\\tAccuracy =\",acc)\n",
    "    val_accs.append(acc)"
   ]
  },
  {
   "cell_type": "code",
   "execution_count": 48,
   "metadata": {},
   "outputs": [
    {
     "name": "stdout",
     "output_type": "stream",
     "text": [
      "Maximum Accuracy : 0.879344262295082\n"
     ]
    }
   ],
   "source": [
    "print(\"Maximum Accuracy :\",max(val_accs))"
   ]
  },
  {
   "cell_type": "markdown",
   "metadata": {},
   "source": [
    "3.6) List the features that were selected and eliminated by their label names (i.e, x1,x2,...)."
   ]
  },
  {
   "cell_type": "markdown",
   "metadata": {},
   "source": [
    "Feature selection does not work here, since all the combination of features are giving the same accuracy"
   ]
  },
  {
   "cell_type": "markdown",
   "metadata": {},
   "source": [
    "3.7) Plot a curve (properly labelled) with the validation set accuracy on y-axis and number of features on x-axis as varied in step 3.5"
   ]
  },
  {
   "cell_type": "code",
   "execution_count": 49,
   "metadata": {},
   "outputs": [
    {
     "data": {
      "image/png": "[encoded data removed]",
      "text/plain": [
       "<Figure size 432x288 with 1 Axes>"
      ]
     },
     "metadata": {
      "needs_background": "light"
     },
     "output_type": "display_data"
    }
   ],
   "source": [
    "plt.title(\"Accuracy vs Number of Features\")\n",
    "plt.scatter(range(1,(X_train.shape[1]+1)),val_accs)\n",
    "plt.xlabel(\"Number of Features\")\n",
    "plt.ylabel(\"Accuracy\")\n",
    "plt.show()"
   ]
  },
  {
   "cell_type": "markdown",
   "metadata": {},
   "source": [
    "3.8) For the given dataset, give your observations as to what happens with and without standardisation or normalisation of input features. Your observations can be based on above obtained results. You can also run any other code you like to give your observations. "
   ]
  },
  {
   "cell_type": "markdown",
   "metadata": {},
   "source": [
    "### Trying Standardization"
   ]
  },
  {
   "cell_type": "code",
   "execution_count": null,
   "metadata": {},
   "outputs": [],
   "source": []
  },
  {
   "cell_type": "code",
   "execution_count": 56,
   "metadata": {},
   "outputs": [],
   "source": [
    "sc = StandardScaler()\n",
    "\n",
    "X_train_sc = X_train.copy()\n",
    "X_train_sc[n_cols] = sc.fit_transform(X_train_sc[n_cols])\n",
    "\n",
    "\n",
    "X_test_sc = X_test.copy()\n",
    "X_test_sc[n_cols] = sc.transform(X_test_sc[n_cols])"
   ]
  },
  {
   "cell_type": "code",
   "execution_count": 57,
   "metadata": {},
   "outputs": [
    {
     "data": {
      "text/plain": [
       "LogisticRegression()"
      ]
     },
     "execution_count": 57,
     "metadata": {},
     "output_type": "execute_result"
    }
   ],
   "source": [
    "model = LogisticRegression()\n",
    "\n",
    "model.fit(X_train_sc,y_train)"
   ]
  },
  {
   "cell_type": "code",
   "execution_count": 59,
   "metadata": {},
   "outputs": [
    {
     "name": "stdout",
     "output_type": "stream",
     "text": [
      "Validation Accuracy : 0.879344262295082\n"
     ]
    }
   ],
   "source": [
    "print(\"Validation Accuracy :\",accuracy_score(y_test,model.predict(X_test_sc)))"
   ]
  },
  {
   "cell_type": "code",
   "execution_count": 60,
   "metadata": {},
   "outputs": [
    {
     "name": "stdout",
     "output_type": "stream",
     "text": [
      "Number of features = 1\n",
      "\tAccuracy = 0.879344262295082\n",
      "Number of features = 2\n",
      "\tAccuracy = 0.879344262295082\n",
      "Number of features = 3\n",
      "\tAccuracy = 0.879344262295082\n",
      "Number of features = 4\n",
      "\tAccuracy = 0.879344262295082\n",
      "Number of features = 5\n",
      "\tAccuracy = 0.879344262295082\n",
      "Number of features = 6\n",
      "\tAccuracy = 0.879344262295082\n",
      "Number of features = 7\n",
      "\tAccuracy = 0.879344262295082\n",
      "Number of features = 8\n",
      "\tAccuracy = 0.879344262295082\n",
      "Number of features = 9\n",
      "\tAccuracy = 0.879344262295082\n",
      "Number of features = 10\n",
      "\tAccuracy = 0.879344262295082\n",
      "Number of features = 11\n",
      "\tAccuracy = 0.879344262295082\n"
     ]
    }
   ],
   "source": [
    "val_accs = []\n",
    "sels = []\n",
    "for i in range(1,(X_train.shape[1]+1)):\n",
    "    sel = RFE(estimator=LogisticRegression(),n_features_to_select=i)\n",
    "    print(\"Number of features =\",i)\n",
    "    sel.fit(X_train,y_train)\n",
    "    sels.append(sel)\n",
    "    acc = accuracy_score(y_test,sel.predict(X_test))\n",
    "    print(\"\\tAccuracy =\",acc)\n",
    "    val_accs.append(acc)"
   ]
  },
  {
   "cell_type": "code",
   "execution_count": 62,
   "metadata": {},
   "outputs": [
    {
     "name": "stdout",
     "output_type": "stream",
     "text": [
      "(array([0, 1]), array([6689,  934]))\n",
      "7.161670235546039\n"
     ]
    }
   ],
   "source": [
    "# Checking label counts in dataset\n",
    "\n",
    "cts = np.unique(y,return_counts=True)\n",
    "print(cts)\n",
    "print(cts[1][0]/cts[1][1])"
   ]
  },
  {
   "cell_type": "code",
   "execution_count": null,
   "metadata": {},
   "outputs": [],
   "source": []
  },
  {
   "cell_type": "code",
   "execution_count": null,
   "metadata": {},
   "outputs": [],
   "source": []
  },
  {
   "cell_type": "markdown",
   "metadata": {},
   "source": [
    "As we can see from the above workings, the data for label = 1 is very small, almost 7 times less than that for label = 0. This difference in label is making an huge skew in the model which is making the model predict 0 everytime regardless of the output. Thus it does not matter whether we normalize or not, prediction on the given data is difficult"
   ]
  }
 ],
 "metadata": {
  "kernelspec": {
   "display_name": "Python 3.7.4 64-bit ('ee4708')",
   "language": "python",
   "name": "python37464bitee47082b8c44f9ef114bac9925a63aa3f18cbc"
  },
  "language_info": {
   "codemirror_mode": {
    "name": "ipython",
    "version": 3
   },
   "file_extension": ".py",
   "mimetype": "text/x-python",
   "name": "python",
   "nbconvert_exporter": "python",
   "pygments_lexer": "ipython3",
   "version": "3.7.4"
  }
 },
 "nbformat": 4,
 "nbformat_minor": 4
}
