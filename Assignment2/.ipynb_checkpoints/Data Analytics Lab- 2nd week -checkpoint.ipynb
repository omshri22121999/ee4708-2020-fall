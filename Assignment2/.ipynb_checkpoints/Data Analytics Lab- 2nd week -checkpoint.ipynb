{
 "cells": [
  {
   "cell_type": "markdown",
   "metadata": {},
   "source": [
    "## Data Analytics Lab (2nd Week)\n",
    "\n",
    "### Probability Distribution, Moments, Visualisation, Data Generation, Parameter Estimation, Hypothesis Testing, Correlation\n",
    "\n",
    "### Basic moments of one-dimensional data and visualisation"
   ]
  },
  {
   "cell_type": "markdown",
   "metadata": {},
   "source": [
    "Implement functions to compute median, mode, sample mean, sample variance, standard deviation of one-dimensional data \n",
    "\"without using numpy\". \n",
    "\n",
    "Example :\n",
    "data1 = np.array([1,2,3,4,5])\n",
    "\n",
    "data1_median = median(data1)\n",
    "\n",
    "data1_mode = mode(data1)\n",
    "\n",
    "data1_mean = mean(data1)\n",
    "\n",
    "data1_variance = variance(data1)\n",
    "\n",
    "data1_stddev = stddev(data1)"
   ]
  },
  {
   "cell_type": "code",
   "execution_count": 97,
   "metadata": {},
   "outputs": [
    {
     "data": {
      "application/javascript": [
       "\n",
       "            setTimeout(function() {\n",
       "                var nbb_cell_id = 97;\n",
       "                var nbb_unformatted_code = \"# import dependencies\\nimport numpy as np\\nimport pandas as pd\\nimport matplotlib.pyplot as plt\\nimport scipy.stats as st\\nimport seaborn as sns\\n\\nsns.set()\";\n",
       "                var nbb_formatted_code = \"# import dependencies\\nimport numpy as np\\nimport pandas as pd\\nimport matplotlib.pyplot as plt\\nimport scipy.stats as st\\nimport seaborn as sns\\n\\nsns.set()\";\n",
       "                var nbb_cells = Jupyter.notebook.get_cells();\n",
       "                for (var i = 0; i < nbb_cells.length; ++i) {\n",
       "                    if (nbb_cells[i].input_prompt_number == nbb_cell_id) {\n",
       "                        if (nbb_cells[i].get_text() == nbb_unformatted_code) {\n",
       "                             nbb_cells[i].set_text(nbb_formatted_code);\n",
       "                        }\n",
       "                        break;\n",
       "                    }\n",
       "                }\n",
       "            }, 500);\n",
       "            "
      ],
      "text/plain": [
       "<IPython.core.display.Javascript object>"
      ]
     },
     "metadata": {},
     "output_type": "display_data"
    }
   ],
   "source": [
    "# import dependencies\n",
    "import numpy as np\n",
    "import pandas as pd\n",
    "import matplotlib.pyplot as plt\n",
    "import scipy.stats as st\n",
    "import seaborn as sns\n",
    "\n",
    "sns.set()"
   ]
  },
  {
   "cell_type": "markdown",
   "metadata": {},
   "source": [
    "Compute the above for some one dimensional data. Verify the results using the numpy built in functions for mean,stddev and variance."
   ]
  },
  {
   "cell_type": "code",
   "execution_count": 98,
   "metadata": {},
   "outputs": [
    {
     "data": {
      "application/javascript": [
       "\n",
       "            setTimeout(function() {\n",
       "                var nbb_cell_id = 98;\n",
       "                var nbb_unformatted_code = \"np.random.seed(10)\\n\\ndata1 = np.random.randint(1,100,100)\";\n",
       "                var nbb_formatted_code = \"np.random.seed(10)\\n\\ndata1 = np.random.randint(1, 100, 100)\";\n",
       "                var nbb_cells = Jupyter.notebook.get_cells();\n",
       "                for (var i = 0; i < nbb_cells.length; ++i) {\n",
       "                    if (nbb_cells[i].input_prompt_number == nbb_cell_id) {\n",
       "                        if (nbb_cells[i].get_text() == nbb_unformatted_code) {\n",
       "                             nbb_cells[i].set_text(nbb_formatted_code);\n",
       "                        }\n",
       "                        break;\n",
       "                    }\n",
       "                }\n",
       "            }, 500);\n",
       "            "
      ],
      "text/plain": [
       "<IPython.core.display.Javascript object>"
      ]
     },
     "metadata": {},
     "output_type": "display_data"
    }
   ],
   "source": [
    "np.random.seed(10)\n",
    "\n",
    "data1 = np.random.randint(1, 100, 100)"
   ]
  },
  {
   "cell_type": "code",
   "execution_count": 99,
   "metadata": {},
   "outputs": [
    {
     "data": {
      "application/javascript": [
       "\n",
       "            setTimeout(function() {\n",
       "                var nbb_cell_id = 99;\n",
       "                var nbb_unformatted_code = \"def mean(data):\\n    return sum(data) / len(data)\\n\\n\\ndef median(data):\\n    s = sorted(data)\\n    n = len(s)\\n    if n % 2 == 0:\\n        return (s[n // 2] + s[(n - 1) // 2]) / 2\\n    else:\\n        return s[(n - 1) // 2]\\n\\n# Assuming 1 mode\\ndef mode(data):\\n    s = {}\\n\\n    for i in data:\\n        if i not in s:\\n            s[i] = 0\\n        s[i] += 1\\n    return max(s, key=s.get)\\n\\n\\ndef variance(data):\\n    m = sum(data) / len(data)\\n    s = 0\\n    for i in data:\\n        s = s + (m - i) ** 2\\n    return s / len(data)\\n\\n\\ndef stddev(data):\\n    m = sum(data) / len(data)\\n    s = 0\\n\\n    for i in data:\\n        s = s + (m - i) ** 2\\n\\n    return (s / len(data)) ** (0.5)\";\n",
       "                var nbb_formatted_code = \"def mean(data):\\n    return sum(data) / len(data)\\n\\n\\ndef median(data):\\n    s = sorted(data)\\n    n = len(s)\\n    if n % 2 == 0:\\n        return (s[n // 2] + s[(n - 1) // 2]) / 2\\n    else:\\n        return s[(n - 1) // 2]\\n\\n\\n# Assuming 1 mode\\ndef mode(data):\\n    s = {}\\n\\n    for i in data:\\n        if i not in s:\\n            s[i] = 0\\n        s[i] += 1\\n    return max(s, key=s.get)\\n\\n\\ndef variance(data):\\n    m = sum(data) / len(data)\\n    s = 0\\n    for i in data:\\n        s = s + (m - i) ** 2\\n    return s / len(data)\\n\\n\\ndef stddev(data):\\n    m = sum(data) / len(data)\\n    s = 0\\n\\n    for i in data:\\n        s = s + (m - i) ** 2\\n\\n    return (s / len(data)) ** (0.5)\";\n",
       "                var nbb_cells = Jupyter.notebook.get_cells();\n",
       "                for (var i = 0; i < nbb_cells.length; ++i) {\n",
       "                    if (nbb_cells[i].input_prompt_number == nbb_cell_id) {\n",
       "                        if (nbb_cells[i].get_text() == nbb_unformatted_code) {\n",
       "                             nbb_cells[i].set_text(nbb_formatted_code);\n",
       "                        }\n",
       "                        break;\n",
       "                    }\n",
       "                }\n",
       "            }, 500);\n",
       "            "
      ],
      "text/plain": [
       "<IPython.core.display.Javascript object>"
      ]
     },
     "metadata": {},
     "output_type": "display_data"
    }
   ],
   "source": [
    "def mean(data):\n",
    "    return sum(data) / len(data)\n",
    "\n",
    "\n",
    "def median(data):\n",
    "    s = sorted(data)\n",
    "    n = len(s)\n",
    "    if n % 2 == 0:\n",
    "        return (s[n // 2] + s[(n - 1) // 2]) / 2\n",
    "    else:\n",
    "        return s[(n - 1) // 2]\n",
    "\n",
    "\n",
    "# Assuming 1 mode\n",
    "def mode(data):\n",
    "    s = {}\n",
    "\n",
    "    for i in data:\n",
    "        if i not in s:\n",
    "            s[i] = 0\n",
    "        s[i] += 1\n",
    "    return max(s, key=s.get)\n",
    "\n",
    "\n",
    "def variance(data):\n",
    "    m = sum(data) / len(data)\n",
    "    s = 0\n",
    "    for i in data:\n",
    "        s = s + (m - i) ** 2\n",
    "    return s / len(data)\n",
    "\n",
    "\n",
    "def stddev(data):\n",
    "    m = sum(data) / len(data)\n",
    "    s = 0\n",
    "\n",
    "    for i in data:\n",
    "        s = s + (m - i) ** 2\n",
    "\n",
    "    return (s / len(data)) ** (0.5)"
   ]
  },
  {
   "cell_type": "code",
   "execution_count": 100,
   "metadata": {},
   "outputs": [
    {
     "name": "stdout",
     "output_type": "stream",
     "text": [
      "Mean for data1 from user-defined function : \t 49.24\n",
      "Mean for data1 from numpy-library function : \t 49.24 \n",
      "\n",
      "Median for data1 from user-defined function : \t 46.5\n",
      "Median for data1 from numpy-library function : \t 46.5 \n",
      "\n",
      "Mode for data1 from user-defined function : \t 89\n",
      "Median for data1 from scipy-library function : \t 89\n",
      "Variance for data1 from user-defined function : \t 921.9423999999995\n",
      "Variance for data1 from numpy-library function : \t 921.9423999999998 \n",
      "\n",
      "Standard Deviation for data1 from user-defined function : \t 30.36350440907636\n",
      "Standard Deviation for data1 from numpy-library function : \t 30.363504409076363 \n",
      "\n"
     ]
    },
    {
     "data": {
      "application/javascript": [
       "\n",
       "            setTimeout(function() {\n",
       "                var nbb_cell_id = 100;\n",
       "                var nbb_unformatted_code = \"print(\\\"Mean for data1 from user-defined function : \\\\t\\\",mean(data1))\\nprint(\\\"Mean for data1 from numpy-library function : \\\\t\\\",np.mean(data1),'\\\\n')\\n\\nprint(\\\"Median for data1 from user-defined function : \\\\t\\\",median(data1))\\nprint(\\\"Median for data1 from numpy-library function : \\\\t\\\",np.median(data1),'\\\\n')\\n\\nprint(\\\"Mode for data1 from user-defined function : \\\\t\\\",mode(data1))\\nprint(\\\"Median for data1 from scipy-library function : \\\\t\\\",st.mode(data1)[0][0])\\n\\nprint(\\\"Variance for data1 from user-defined function : \\\\t\\\",variance(data1))\\nprint(\\\"Variance for data1 from numpy-library function : \\\\t\\\",np.var(data1),'\\\\n')\\n\\nprint(\\\"Standard Deviation for data1 from user-defined function : \\\\t\\\",stddev(data1))\\nprint(\\\"Standard Deviation for data1 from numpy-library function : \\\\t\\\",np.std(data1),'\\\\n')\";\n",
       "                var nbb_formatted_code = \"print(\\\"Mean for data1 from user-defined function : \\\\t\\\", mean(data1))\\nprint(\\\"Mean for data1 from numpy-library function : \\\\t\\\", np.mean(data1), \\\"\\\\n\\\")\\n\\nprint(\\\"Median for data1 from user-defined function : \\\\t\\\", median(data1))\\nprint(\\\"Median for data1 from numpy-library function : \\\\t\\\", np.median(data1), \\\"\\\\n\\\")\\n\\nprint(\\\"Mode for data1 from user-defined function : \\\\t\\\", mode(data1))\\nprint(\\\"Median for data1 from scipy-library function : \\\\t\\\", st.mode(data1)[0][0])\\n\\nprint(\\\"Variance for data1 from user-defined function : \\\\t\\\", variance(data1))\\nprint(\\\"Variance for data1 from numpy-library function : \\\\t\\\", np.var(data1), \\\"\\\\n\\\")\\n\\nprint(\\\"Standard Deviation for data1 from user-defined function : \\\\t\\\", stddev(data1))\\nprint(\\n    \\\"Standard Deviation for data1 from numpy-library function : \\\\t\\\", np.std(data1), \\\"\\\\n\\\"\\n)\";\n",
       "                var nbb_cells = Jupyter.notebook.get_cells();\n",
       "                for (var i = 0; i < nbb_cells.length; ++i) {\n",
       "                    if (nbb_cells[i].input_prompt_number == nbb_cell_id) {\n",
       "                        if (nbb_cells[i].get_text() == nbb_unformatted_code) {\n",
       "                             nbb_cells[i].set_text(nbb_formatted_code);\n",
       "                        }\n",
       "                        break;\n",
       "                    }\n",
       "                }\n",
       "            }, 500);\n",
       "            "
      ],
      "text/plain": [
       "<IPython.core.display.Javascript object>"
      ]
     },
     "metadata": {},
     "output_type": "display_data"
    }
   ],
   "source": [
    "print(\"Mean for data1 from user-defined function : \\t\", mean(data1))\n",
    "print(\"Mean for data1 from numpy-library function : \\t\", np.mean(data1), \"\\n\")\n",
    "\n",
    "print(\"Median for data1 from user-defined function : \\t\", median(data1))\n",
    "print(\"Median for data1 from numpy-library function : \\t\", np.median(data1), \"\\n\")\n",
    "\n",
    "print(\"Mode for data1 from user-defined function : \\t\", mode(data1))\n",
    "print(\"Median for data1 from scipy-library function : \\t\", st.mode(data1)[0][0])\n",
    "\n",
    "print(\"Variance for data1 from user-defined function : \\t\", variance(data1))\n",
    "print(\"Variance for data1 from numpy-library function : \\t\", np.var(data1), \"\\n\")\n",
    "\n",
    "print(\"Standard Deviation for data1 from user-defined function : \\t\", stddev(data1))\n",
    "print(\n",
    "    \"Standard Deviation for data1 from numpy-library function : \\t\", np.std(data1), \"\\n\"\n",
    ")"
   ]
  },
  {
   "cell_type": "markdown",
   "metadata": {},
   "source": [
    "Visualize all the datasets (1-4) separately using matplotlib scatter plot and histograms. \n",
    "\n",
    "1. Comment on initial observations of distributions. \n",
    "\n",
    "2. For the dataset, specify which descriptive statistics best describe the data.\n",
    "\n",
    "Example :\n",
    "\n",
    "data1 - mean\n",
    "\n",
    "Hints: If you want to plot a known distribution (Normal,Unifrom, Exponential etc) using matplotlib, define it as a function \n",
    "and plot it. For this, you need to know the formula of the chosen distribution. If you dont know the exact distribution \n",
    "of a dataset, plot it as a histogram and smooth the data by converting bin edges to centres. Using seaborn library: \n",
    "    Install seaborn library and use $\\texttt{distplot()}$ function to plot the distribution and verify the result."
   ]
  },
  {
   "cell_type": "code",
   "execution_count": 149,
   "metadata": {},
   "outputs": [
    {
     "data": {
      "image/png": "[encoded data removed]",
      "text/plain": [
       "<Figure size 432x288 with 1 Axes>"
      ]
     },
     "metadata": {},
     "output_type": "display_data"
    },
    {
     "data": {
      "image/png": "[encoded data removed]",
      "text/plain": [
       "<Figure size 432x288 with 1 Axes>"
      ]
     },
     "metadata": {},
     "output_type": "display_data"
    },
    {
     "data": {
      "image/png": "[encoded data removed]",
      "text/plain": [
       "<Figure size 432x288 with 1 Axes>"
      ]
     },
     "metadata": {},
     "output_type": "display_data"
    },
    {
     "data": {
      "application/javascript": [
       "\n",
       "            setTimeout(function() {\n",
       "                var nbb_cell_id = 149;\n",
       "                var nbb_unformatted_code = \"# visualization by scatter plot\\n\\nx = np.arange(len(data1))\\n\\nplt.title(\\\"Mean\\\")\\nplt.scatter(x, data1, c=\\\"green\\\")\\nplt.plot(x, [mean(data1)] * len(x))\\nplt.show()\\nplt.scatter(x, data1, c=\\\"green\\\")\\nplt.ylim([-30, 120])\\nplt.plot(x, [median(data1)] * len(x), label=\\\"Median\\\")\\nplt.legend()\\nplt.show()\\nplt.scatter(x, data1, c=\\\"green\\\")\\nplt.ylim([-30, 120])\\nplt.plot(x, [mode(data1)] * len(x), label=\\\"Mode\\\")\\nplt.legend()\\nplt.show()\";\n",
       "                var nbb_formatted_code = \"# visualization by scatter plot\\n\\nx = np.arange(len(data1))\\n\\nplt.title(\\\"Mean\\\")\\nplt.scatter(x, data1, c=\\\"green\\\")\\nplt.plot(x, [mean(data1)] * len(x))\\nplt.show()\\nplt.scatter(x, data1, c=\\\"green\\\")\\nplt.ylim([-30, 120])\\nplt.plot(x, [median(data1)] * len(x), label=\\\"Median\\\")\\nplt.legend()\\nplt.show()\\nplt.scatter(x, data1, c=\\\"green\\\")\\nplt.ylim([-30, 120])\\nplt.plot(x, [mode(data1)] * len(x), label=\\\"Mode\\\")\\nplt.legend()\\nplt.show()\";\n",
       "                var nbb_cells = Jupyter.notebook.get_cells();\n",
       "                for (var i = 0; i < nbb_cells.length; ++i) {\n",
       "                    if (nbb_cells[i].input_prompt_number == nbb_cell_id) {\n",
       "                        if (nbb_cells[i].get_text() == nbb_unformatted_code) {\n",
       "                             nbb_cells[i].set_text(nbb_formatted_code);\n",
       "                        }\n",
       "                        break;\n",
       "                    }\n",
       "                }\n",
       "            }, 500);\n",
       "            "
      ],
      "text/plain": [
       "<IPython.core.display.Javascript object>"
      ]
     },
     "metadata": {},
     "output_type": "display_data"
    }
   ],
   "source": [
    "# visualization by scatter plot\n",
    "\n",
    "x = np.arange(len(data1))\n",
    "\n",
    "plt.title(\"Mean\")\n",
    "plt.scatter(x, data1, c=\"green\")\n",
    "plt.ylim([-10, 120])\n",
    "plt.plot(x, [mean(data1)] * len(x))\n",
    "plt.show()\n",
    "plt.scatter(x, data1, c=\"green\")\n",
    "plt.ylim([-10, 120])\n",
    "plt.plot(x, [median(data1)] * len(x), label=\"Median\")\n",
    "plt.legend()\n",
    "plt.show()\n",
    "plt.scatter(x, data1, c=\"green\")\n",
    "plt.ylim([-10, 120])\n",
    "plt.plot(x, [mode(data1)] * len(x), label=\"Mode\")\n",
    "plt.legend()\n",
    "plt.show()"
   ]
  },
  {
   "cell_type": "code",
   "execution_count": 102,
   "metadata": {},
   "outputs": [
    {
     "data": {
      "image/png": "[encoded data removed]",
      "text/plain": [
       "<Figure size 432x288 with 1 Axes>"
      ]
     },
     "metadata": {},
     "output_type": "display_data"
    },
    {
     "data": {
      "application/javascript": [
       "\n",
       "            setTimeout(function() {\n",
       "                var nbb_cell_id = 102;\n",
       "                var nbb_unformatted_code = \"# histogram plot\\n\\nplt.title(\\\"Data1 Histogram\\\")\\nsns.distplot(data1)\\nplt.show()\";\n",
       "                var nbb_formatted_code = \"# histogram plot\\n\\nplt.title(\\\"Data1 Histogram\\\")\\nsns.distplot(data1)\\nplt.show()\";\n",
       "                var nbb_cells = Jupyter.notebook.get_cells();\n",
       "                for (var i = 0; i < nbb_cells.length; ++i) {\n",
       "                    if (nbb_cells[i].input_prompt_number == nbb_cell_id) {\n",
       "                        if (nbb_cells[i].get_text() == nbb_unformatted_code) {\n",
       "                             nbb_cells[i].set_text(nbb_formatted_code);\n",
       "                        }\n",
       "                        break;\n",
       "                    }\n",
       "                }\n",
       "            }, 500);\n",
       "            "
      ],
      "text/plain": [
       "<IPython.core.display.Javascript object>"
      ]
     },
     "metadata": {},
     "output_type": "display_data"
    }
   ],
   "source": [
    "# histogram plot\n",
    "\n",
    "plt.title(\"Data1 Histogram\")\n",
    "sns.distplot(data1)\n",
    "plt.show()"
   ]
  },
  {
   "cell_type": "markdown",
   "metadata": {},
   "source": [
    "**The distribution fits an bimodal data. We can use either the median, or the major and minor mode as the measure of central tendency.**"
   ]
  },
  {
   "cell_type": "markdown",
   "metadata": {},
   "source": [
    "### Probability Distribution parameters and visualisation"
   ]
  },
  {
   "cell_type": "markdown",
   "metadata": {},
   "source": [
    "Uniform Distribution: A uniform distribution, also called a rectangular distribution, is a probability distribution that has constant probability. This distribution is defined by two parameters, a and b: a is the minimum and b is the maximum."
   ]
  },
  {
   "cell_type": "markdown",
   "metadata": {},
   "source": [
    "Formula: \n",
    "\\begin{align*}\n",
    "f(x) = \\frac{1}{b-a} , a \\leq x \\leq b\n",
    "\\end{align*}\n",
    "Parameters:  $\\text{Mean} = \\frac{(a+b)}{2} ; \\text{Variance} = \\frac{1}{12(b-a)^2}$\n"
   ]
  },
  {
   "cell_type": "markdown",
   "metadata": {},
   "source": [
    "Gaussian Distribution: The normal distribution is a probability function that describes how the values of a variable are distributed. It is a symmetric distribution where most of the observations cluster around the central peak and the probabilities for values further away from the mean taper off equally in both directions. For mean, $\\mu$ and standard deviation, $\\sigma$, the formula is given as\n",
    "\\begin{align*}\n",
    "f(x) = \\frac{1}{\\sigma \\sqrt{2\\pi}}e^{\\frac{-(x-\\mu)^2}{2\\sigma^2}}\n",
    "\\end{align*}"
   ]
  },
  {
   "cell_type": "markdown",
   "metadata": {},
   "source": [
    "Use the random.normal() method to get a Normal Data Distribution.\n",
    "\n",
    "It has three parameters:\n",
    "\n",
    "loc - (Mean) where the peak of the bell exists.\n",
    "\n",
    "scale - (Standard Deviation) how flat the graph distribution should be.\n",
    "\n",
    "size - The shape of the returned array."
   ]
  },
  {
   "cell_type": "markdown",
   "metadata": {},
   "source": [
    "Given a normal distribution of mean = 3 and standard deviation = 1. \n",
    "1. Find $P(x\\leq3)$ from the given distribution. \n",
    "2. Find the probability that $P(3\\lt x\\leq5)$ drawn from the given distribution. \n",
    "Write a function to estimate the above cumulative distribution function of a normal distribution. Verify the same.\n",
    " "
   ]
  },
  {
   "cell_type": "code",
   "execution_count": 103,
   "metadata": {},
   "outputs": [
    {
     "data": {
      "application/javascript": [
       "\n",
       "            setTimeout(function() {\n",
       "                var nbb_cell_id = 103;\n",
       "                var nbb_unformatted_code = \"# 1. Find  p(x<3)  from the given distribution\\n\\n# 2. Find the probability that p(3<x<=5)  drawn from the given distribution\\n\\n# Function for estimating cdf\\n\\ndef estimateCDF(x, a, b):\\n    \\\"\\\"\\\"\\n    PARAMETERS:\\n    x : input 1D data\\n    a, b: data points at which cdf is to be estimated \\n    \\n    RETURNS:\\n    cdf : cumulative distibution values s.t. P(a<x<=b)  \\n    \\\"\\\"\\\"\\n    cdf = 0\\n    cdf = sum((x>=a) & (x<=b))/len(x)\\n    \\n    return cdf\";\n",
       "                var nbb_formatted_code = \"# 1. Find  p(x<3)  from the given distribution\\n\\n# 2. Find the probability that p(3<x<=5)  drawn from the given distribution\\n\\n# Function for estimating cdf\\n\\n\\ndef estimateCDF(x, a, b):\\n    \\\"\\\"\\\"\\n    PARAMETERS:\\n    x : input 1D data\\n    a, b: data points at which cdf is to be estimated \\n    \\n    RETURNS:\\n    cdf : cumulative distibution values s.t. P(a<x<=b)  \\n    \\\"\\\"\\\"\\n    cdf = 0\\n    cdf = sum((x >= a) & (x <= b)) / len(x)\\n\\n    return cdf\";\n",
       "                var nbb_cells = Jupyter.notebook.get_cells();\n",
       "                for (var i = 0; i < nbb_cells.length; ++i) {\n",
       "                    if (nbb_cells[i].input_prompt_number == nbb_cell_id) {\n",
       "                        if (nbb_cells[i].get_text() == nbb_unformatted_code) {\n",
       "                             nbb_cells[i].set_text(nbb_formatted_code);\n",
       "                        }\n",
       "                        break;\n",
       "                    }\n",
       "                }\n",
       "            }, 500);\n",
       "            "
      ],
      "text/plain": [
       "<IPython.core.display.Javascript object>"
      ]
     },
     "metadata": {},
     "output_type": "display_data"
    }
   ],
   "source": [
    "# 1. Find  p(x<3)  from the given distribution\n",
    "\n",
    "# 2. Find the probability that p(3<x<=5)  drawn from the given distribution\n",
    "\n",
    "# Function for estimating cdf\n",
    "\n",
    "\n",
    "def estimateCDF(x, a, b):\n",
    "    \"\"\"\n",
    "    PARAMETERS:\n",
    "    x : input 1D data\n",
    "    a, b: data points at which cdf is to be estimated \n",
    "    \n",
    "    RETURNS:\n",
    "    cdf : cumulative distibution values s.t. P(a<x<=b)  \n",
    "    \"\"\"\n",
    "    cdf = 0\n",
    "    cdf = sum((x >= a) & (x <= b)) / len(x)\n",
    "\n",
    "    return cdf"
   ]
  },
  {
   "cell_type": "code",
   "execution_count": 104,
   "metadata": {},
   "outputs": [
    {
     "name": "stdout",
     "output_type": "stream",
     "text": [
      "Values calculated from distribution for above questions : \n",
      "\n",
      "P(X<3) =  0.50092\n",
      "P(3<X<=5) =  0.47643\n",
      "\n",
      "Actual Values : \n",
      "\n",
      "P(X<3) =  0.5\n",
      "P(3<X<=5) =  0.4772498680518208\n"
     ]
    },
    {
     "data": {
      "application/javascript": [
       "\n",
       "            setTimeout(function() {\n",
       "                var nbb_cell_id = 104;\n",
       "                var nbb_unformatted_code = \"np.random.seed(10)\\n\\nx = np.random.normal(3,1,100000)\\n\\nprint(\\\"Values calculated from distribution for above questions : \\\\n\\\")\\n\\nprint(\\\"P(X<3) = \\\",estimateCDF(x,-np.inf,3))\\nprint(\\\"P(3<X<=5) = \\\",estimateCDF(x,3,5))\\n\\nprint(\\\"\\\\nActual Values : \\\\n\\\")\\n\\nprint(\\\"P(X<3) = \\\",st.norm(3,1).cdf(3))\\nprint(\\\"P(3<X<=5) = \\\",st.norm(3,1).cdf(5)-st.norm(3,1).cdf(3))\";\n",
       "                var nbb_formatted_code = \"np.random.seed(10)\\n\\nx = np.random.normal(3, 1, 100000)\\n\\nprint(\\\"Values calculated from distribution for above questions : \\\\n\\\")\\n\\nprint(\\\"P(X<3) = \\\", estimateCDF(x, -np.inf, 3))\\nprint(\\\"P(3<X<=5) = \\\", estimateCDF(x, 3, 5))\\n\\nprint(\\\"\\\\nActual Values : \\\\n\\\")\\n\\nprint(\\\"P(X<3) = \\\", st.norm(3, 1).cdf(3))\\nprint(\\\"P(3<X<=5) = \\\", st.norm(3, 1).cdf(5) - st.norm(3, 1).cdf(3))\";\n",
       "                var nbb_cells = Jupyter.notebook.get_cells();\n",
       "                for (var i = 0; i < nbb_cells.length; ++i) {\n",
       "                    if (nbb_cells[i].input_prompt_number == nbb_cell_id) {\n",
       "                        if (nbb_cells[i].get_text() == nbb_unformatted_code) {\n",
       "                             nbb_cells[i].set_text(nbb_formatted_code);\n",
       "                        }\n",
       "                        break;\n",
       "                    }\n",
       "                }\n",
       "            }, 500);\n",
       "            "
      ],
      "text/plain": [
       "<IPython.core.display.Javascript object>"
      ]
     },
     "metadata": {},
     "output_type": "display_data"
    }
   ],
   "source": [
    "np.random.seed(10)\n",
    "\n",
    "x = np.random.normal(3, 1, 100000)\n",
    "\n",
    "print(\"Values calculated from distribution for above questions : \\n\")\n",
    "\n",
    "print(\"P(X<3) = \", estimateCDF(x, -np.inf, 3))\n",
    "print(\"P(3<X<=5) = \", estimateCDF(x, 3, 5))\n",
    "\n",
    "print(\"\\nActual Values : \\n\")\n",
    "\n",
    "print(\"P(X<3) = \", st.norm(3, 1).cdf(3))\n",
    "print(\"P(3<X<=5) = \", st.norm(3, 1).cdf(5) - st.norm(3, 1).cdf(3))"
   ]
  },
  {
   "cell_type": "markdown",
   "metadata": {},
   "source": [
    "### Maximum Likelihood Estimation for normal distribution : \n",
    "A method of estimating the parameters of a distribution by maximizing a likelihood function, so that under the assumed statistical model the observed data is most probable. For normal distribution, $f(x,\\mu,\\sigma) = \\frac{1}{\\sigma \\sqrt{2\\pi}}e^{\\frac{-(x-\\mu)^2}{2\\sigma^2}}$, the goal is to determine $\\mu$ and $\\sigma$ for our data so that we can match our data to its most likely Gaussian bell curve. The estimated mean, $\\hat{\\mu}$ for normal distribution is  $\\hat{\\mu} = \\frac{1}{n}\\sum_{i=1}^nx_i$ and the estimated standard deviation is $\\hat{\\sigma} = \\sqrt{ \\frac{1}{n}\\sum_{i=1}^n(x_i-\\mu)^2}$."
   ]
  },
  {
   "cell_type": "markdown",
   "metadata": {},
   "source": [
    "Assuming that data1 has been sampled from normal distribution with unknown mean and standard deviation of 2, calculate $95\\%$ confidence interval of data1_mean."
   ]
  },
  {
   "cell_type": "code",
   "execution_count": 105,
   "metadata": {},
   "outputs": [
    {
     "name": "stdout",
     "output_type": "stream",
     "text": [
      "Confidence interval of mean of data1 =  5.010204112003829 ± 0.03919927969080108\n"
     ]
    },
    {
     "data": {
      "application/javascript": [
       "\n",
       "            setTimeout(function() {\n",
       "                var nbb_cell_id = 105;\n",
       "                var nbb_unformatted_code = \"np.random.seed(10)\\n\\nn = 10000\\nactual_mean = 5\\nsig = 2\\n\\nz = st.norm.ppf(0.975)\\n\\ndata1 = np.random.normal(actual_mean,sig,n)\\n\\ncalc_mean = np.mean(data1)\\n\\ncalc_inter = z*sig/np.sqrt(n)\\n\\nprint(\\\"Confidence interval of mean of data1 = \\\",calc_mean,u\\\"\\\\u00B1\\\",calc_inter)\";\n",
       "                var nbb_formatted_code = \"np.random.seed(10)\\n\\nn = 10000\\nactual_mean = 5\\nsig = 2\\n\\nz = st.norm.ppf(0.975)\\n\\ndata1 = np.random.normal(actual_mean, sig, n)\\n\\ncalc_mean = np.mean(data1)\\n\\ncalc_inter = z * sig / np.sqrt(n)\\n\\nprint(\\\"Confidence interval of mean of data1 = \\\", calc_mean, u\\\"\\\\u00B1\\\", calc_inter)\";\n",
       "                var nbb_cells = Jupyter.notebook.get_cells();\n",
       "                for (var i = 0; i < nbb_cells.length; ++i) {\n",
       "                    if (nbb_cells[i].input_prompt_number == nbb_cell_id) {\n",
       "                        if (nbb_cells[i].get_text() == nbb_unformatted_code) {\n",
       "                             nbb_cells[i].set_text(nbb_formatted_code);\n",
       "                        }\n",
       "                        break;\n",
       "                    }\n",
       "                }\n",
       "            }, 500);\n",
       "            "
      ],
      "text/plain": [
       "<IPython.core.display.Javascript object>"
      ]
     },
     "metadata": {},
     "output_type": "display_data"
    }
   ],
   "source": [
    "np.random.seed(10)\n",
    "\n",
    "n = 10000\n",
    "actual_mean = 5\n",
    "sig = 2\n",
    "\n",
    "z = st.norm.ppf(0.975)\n",
    "\n",
    "data1 = np.random.normal(actual_mean, sig, n)\n",
    "\n",
    "calc_mean = np.mean(data1)\n",
    "\n",
    "calc_inter = z * sig / np.sqrt(n)\n",
    "\n",
    "print(\"Confidence interval of mean of data1 = \", calc_mean, u\"\\u00B1\", calc_inter)"
   ]
  },
  {
   "cell_type": "markdown",
   "metadata": {},
   "source": [
    "### Parameter estimation"
   ]
  },
  {
   "cell_type": "markdown",
   "metadata": {},
   "source": [
    "In this section you will fit data to a standard distribution.\n",
    "\n",
    "Normal distribution \n",
    "\"DataSet1.txt\" is to be fitted to normal distribution. Complete the function fitNormal() to estimate parameters."
   ]
  },
  {
   "cell_type": "code",
   "execution_count": 106,
   "metadata": {},
   "outputs": [
    {
     "data": {
      "application/javascript": [
       "\n",
       "            setTimeout(function() {\n",
       "                var nbb_cell_id = 106;\n",
       "                var nbb_unformatted_code = \"def fitNormal(x):\\n    \\\"\\\"\\\"\\n    PARAMETERS:\\n    x : input 1D data\\n    \\n    RETURNS:\\n    mu : mean of distribution\\n    sig : standard deviation of distribution\\n    \\\"\\\"\\\"\\n\\n    mu = np.mean(x)\\n    sig = np.std(x)\\n\\n    return [mu, sig]\";\n",
       "                var nbb_formatted_code = \"def fitNormal(x):\\n    \\\"\\\"\\\"\\n    PARAMETERS:\\n    x : input 1D data\\n    \\n    RETURNS:\\n    mu : mean of distribution\\n    sig : standard deviation of distribution\\n    \\\"\\\"\\\"\\n\\n    mu = np.mean(x)\\n    sig = np.std(x)\\n\\n    return [mu, sig]\";\n",
       "                var nbb_cells = Jupyter.notebook.get_cells();\n",
       "                for (var i = 0; i < nbb_cells.length; ++i) {\n",
       "                    if (nbb_cells[i].input_prompt_number == nbb_cell_id) {\n",
       "                        if (nbb_cells[i].get_text() == nbb_unformatted_code) {\n",
       "                             nbb_cells[i].set_text(nbb_formatted_code);\n",
       "                        }\n",
       "                        break;\n",
       "                    }\n",
       "                }\n",
       "            }, 500);\n",
       "            "
      ],
      "text/plain": [
       "<IPython.core.display.Javascript object>"
      ]
     },
     "metadata": {},
     "output_type": "display_data"
    }
   ],
   "source": [
    "def fitNormal(x):\n",
    "    \"\"\"\n",
    "    PARAMETERS:\n",
    "    x : input 1D data\n",
    "    \n",
    "    RETURNS:\n",
    "    mu : mean of distribution\n",
    "    sig : standard deviation of distribution\n",
    "    \"\"\"\n",
    "\n",
    "    mu = np.mean(x)\n",
    "    sig = np.std(x)\n",
    "\n",
    "    return [mu, sig]"
   ]
  },
  {
   "cell_type": "markdown",
   "metadata": {},
   "source": [
    "Read the file \"DataSet1.txt\" into a variable $\\texttt{data1}$. Also plot a histogram of the same. Then pass it to $\\texttt{fitNormal()}$ to estimate parameters. Generate your own data using estimated parameters and plot the distribution. Use $\\texttt{numpy.linspace()}$ to generate 1000 points in the range of $\\texttt{data1}$. The probabilities are estimated from Gaussian distribution formula. Make a lineplot in the same figure."
   ]
  },
  {
   "cell_type": "code",
   "execution_count": 107,
   "metadata": {},
   "outputs": [
    {
     "data": {
      "image/png": "[encoded data removed]",
      "text/plain": [
       "<Figure size 576x360 with 1 Axes>"
      ]
     },
     "metadata": {},
     "output_type": "display_data"
    },
    {
     "data": {
      "application/javascript": [
       "\n",
       "            setTimeout(function() {\n",
       "                var nbb_cell_id = 107;\n",
       "                var nbb_unformatted_code = \"# Read datafile\\ndata1 = np.loadtxt(\\\"DataSet1.txt\\\")\\n# Plot histogram of input data\\nplt.figure(figsize=(8, 5))\\n_, bins, _ = plt.hist(data1, density=True, label=\\\"Histogram\\\")\\n# Fit data to normal distribution\\nmu, sigma = fitNormal(data1)\\n# Generate data using estimated parameters for visualization and plot the same\\nx = np.linspace(np.min(data1), np.max(data1), 100)\\nplt.plot(\\n    x,\\n    1 / (sigma * np.sqrt(2 * np.pi)) * np.exp(-((x - mu) ** 2) / (2 * sigma ** 2)),c='black',\\n    label=\\\"Probability Density\\\",\\n)\\nplt.legend()\\nplt.show()\";\n",
       "                var nbb_formatted_code = \"# Read datafile\\ndata1 = np.loadtxt(\\\"DataSet1.txt\\\")\\n# Plot histogram of input data\\nplt.figure(figsize=(8, 5))\\n_, bins, _ = plt.hist(data1, density=True, label=\\\"Histogram\\\")\\n# Fit data to normal distribution\\nmu, sigma = fitNormal(data1)\\n# Generate data using estimated parameters for visualization and plot the same\\nx = np.linspace(np.min(data1), np.max(data1), 100)\\nplt.plot(\\n    x,\\n    1 / (sigma * np.sqrt(2 * np.pi)) * np.exp(-((x - mu) ** 2) / (2 * sigma ** 2)),\\n    c=\\\"black\\\",\\n    label=\\\"Probability Density\\\",\\n)\\nplt.legend()\\nplt.show()\";\n",
       "                var nbb_cells = Jupyter.notebook.get_cells();\n",
       "                for (var i = 0; i < nbb_cells.length; ++i) {\n",
       "                    if (nbb_cells[i].input_prompt_number == nbb_cell_id) {\n",
       "                        if (nbb_cells[i].get_text() == nbb_unformatted_code) {\n",
       "                             nbb_cells[i].set_text(nbb_formatted_code);\n",
       "                        }\n",
       "                        break;\n",
       "                    }\n",
       "                }\n",
       "            }, 500);\n",
       "            "
      ],
      "text/plain": [
       "<IPython.core.display.Javascript object>"
      ]
     },
     "metadata": {},
     "output_type": "display_data"
    }
   ],
   "source": [
    "# Read datafile\n",
    "data1 = np.loadtxt(\"DataSet1.txt\")\n",
    "# Plot histogram of input data\n",
    "plt.figure(figsize=(8, 5))\n",
    "_, bins, _ = plt.hist(data1, density=True, label=\"Histogram\")\n",
    "# Fit data to normal distribution\n",
    "mu, sigma = fitNormal(data1)\n",
    "# Generate data using estimated parameters for visualization and plot the same\n",
    "x = np.linspace(np.min(data1), np.max(data1), 100)\n",
    "plt.plot(\n",
    "    x,\n",
    "    1 / (sigma * np.sqrt(2 * np.pi)) * np.exp(-((x - mu) ** 2) / (2 * sigma ** 2)),\n",
    "    c=\"black\",\n",
    "    label=\"Probability Density\",\n",
    ")\n",
    "plt.legend()\n",
    "plt.show()"
   ]
  },
  {
   "cell_type": "markdown",
   "metadata": {},
   "source": [
    "\"DataSet2.txt\" is to be fitted to uniform distribution. Complete the function fitUniform() to estimate parameters. Generate and plot data as before."
   ]
  },
  {
   "cell_type": "code",
   "execution_count": 108,
   "metadata": {},
   "outputs": [
    {
     "data": {
      "application/javascript": [
       "\n",
       "            setTimeout(function() {\n",
       "                var nbb_cell_id = 108;\n",
       "                var nbb_unformatted_code = \"def fitUniform(x):\\n    \\\"\\\"\\\"\\n    PARAMETERS:\\n    x : input 1D data\\n    \\n    RETURNS:\\n    a : minimum value of distribution\\n    b : maximum value of distribution\\n    \\\"\\\"\\\"\\n    a = np.min(x)\\n    b = np.max(x)\\n\\n    return [a, b]\";\n",
       "                var nbb_formatted_code = \"def fitUniform(x):\\n    \\\"\\\"\\\"\\n    PARAMETERS:\\n    x : input 1D data\\n    \\n    RETURNS:\\n    a : minimum value of distribution\\n    b : maximum value of distribution\\n    \\\"\\\"\\\"\\n    a = np.min(x)\\n    b = np.max(x)\\n\\n    return [a, b]\";\n",
       "                var nbb_cells = Jupyter.notebook.get_cells();\n",
       "                for (var i = 0; i < nbb_cells.length; ++i) {\n",
       "                    if (nbb_cells[i].input_prompt_number == nbb_cell_id) {\n",
       "                        if (nbb_cells[i].get_text() == nbb_unformatted_code) {\n",
       "                             nbb_cells[i].set_text(nbb_formatted_code);\n",
       "                        }\n",
       "                        break;\n",
       "                    }\n",
       "                }\n",
       "            }, 500);\n",
       "            "
      ],
      "text/plain": [
       "<IPython.core.display.Javascript object>"
      ]
     },
     "metadata": {},
     "output_type": "display_data"
    }
   ],
   "source": [
    "def fitUniform(x):\n",
    "    \"\"\"\n",
    "    PARAMETERS:\n",
    "    x : input 1D data\n",
    "    \n",
    "    RETURNS:\n",
    "    a : minimum value of distribution\n",
    "    b : maximum value of distribution\n",
    "    \"\"\"\n",
    "    a = np.min(x)\n",
    "    b = np.max(x)\n",
    "\n",
    "    return [a, b]"
   ]
  },
  {
   "cell_type": "markdown",
   "metadata": {},
   "source": [
    "Read the file \"DataSet2.txt\" into a variable \"data2\". Also plot a histogram of the same. Then pass it to $\\texttt{fitUniform()}$ to estimate parameters. Generate your own data using estimated parameters and plot the distribution."
   ]
  },
  {
   "cell_type": "code",
   "execution_count": 109,
   "metadata": {},
   "outputs": [
    {
     "data": {
      "image/png": "[encoded data removed]",
      "text/plain": [
       "<Figure size 576x360 with 1 Axes>"
      ]
     },
     "metadata": {},
     "output_type": "display_data"
    },
    {
     "data": {
      "application/javascript": [
       "\n",
       "            setTimeout(function() {\n",
       "                var nbb_cell_id = 109;\n",
       "                var nbb_unformatted_code = \"# Read datafile\\ndata2 = np.loadtxt(\\\"DataSet2.txt\\\")\\n# Plot histogram of input data\\nplt.figure(figsize=(8, 5))\\n_, bins, _ = plt.hist(data2, density=True, label=\\\"Histogram\\\")\\n# Fit data to normal distribution\\na, b = fitUniform(data2)\\n# Generate data using estimated parameters for visualization and plot the same\\nx = np.linspace(np.min(data2), np.max(data2), 100)\\nplt.plot(x, [1 / (b - a)] * len(x), label=\\\"Probability Density\\\",c='black')\\nplt.legend()\\nplt.show()\";\n",
       "                var nbb_formatted_code = \"# Read datafile\\ndata2 = np.loadtxt(\\\"DataSet2.txt\\\")\\n# Plot histogram of input data\\nplt.figure(figsize=(8, 5))\\n_, bins, _ = plt.hist(data2, density=True, label=\\\"Histogram\\\")\\n# Fit data to normal distribution\\na, b = fitUniform(data2)\\n# Generate data using estimated parameters for visualization and plot the same\\nx = np.linspace(np.min(data2), np.max(data2), 100)\\nplt.plot(x, [1 / (b - a)] * len(x), label=\\\"Probability Density\\\", c=\\\"black\\\")\\nplt.legend()\\nplt.show()\";\n",
       "                var nbb_cells = Jupyter.notebook.get_cells();\n",
       "                for (var i = 0; i < nbb_cells.length; ++i) {\n",
       "                    if (nbb_cells[i].input_prompt_number == nbb_cell_id) {\n",
       "                        if (nbb_cells[i].get_text() == nbb_unformatted_code) {\n",
       "                             nbb_cells[i].set_text(nbb_formatted_code);\n",
       "                        }\n",
       "                        break;\n",
       "                    }\n",
       "                }\n",
       "            }, 500);\n",
       "            "
      ],
      "text/plain": [
       "<IPython.core.display.Javascript object>"
      ]
     },
     "metadata": {},
     "output_type": "display_data"
    }
   ],
   "source": [
    "# Read datafile\n",
    "data2 = np.loadtxt(\"DataSet2.txt\")\n",
    "# Plot histogram of input data\n",
    "plt.figure(figsize=(8, 5))\n",
    "_, bins, _ = plt.hist(data2, density=True, label=\"Histogram\")\n",
    "# Fit data to normal distribution\n",
    "a, b = fitUniform(data2)\n",
    "# Generate data using estimated parameters for visualization and plot the same\n",
    "x = np.linspace(np.min(data2), np.max(data2), 100)\n",
    "plt.plot(x, [1 / (b - a)] * len(x), label=\"Probability Density\", c=\"black\")\n",
    "plt.legend()\n",
    "plt.show()"
   ]
  },
  {
   "cell_type": "markdown",
   "metadata": {},
   "source": [
    "## Correlation\n",
    "\n",
    "In this section you are required to measure correlation between two variables. The dataset \"**AirQualityData.csv**\" contains daily readings of $\\text{PM}_{10}$ and $O_3$ concentration in air along with temperature readings. To verify if the variation concentration of any of these pollutants is associated with temperature changes, measure the correlation between temperature and each of these pollutants. Complete the function $\\texttt{correlationCoeff()}$ below that measures the correlation coefficient between two given time-series data. For a given n two data sets x and y, the Pearson coefficient formula is given as\n",
    "\n",
    "\\begin{align*}\n",
    "    r_{xy} = \\frac{cov(X,Y)}{\\sigma(X)\\cdot \\sigma(Y)}\n",
    "\\end{align*}\n",
    "$cov(X,Y) = \\frac{\\Sigma_{i=1}^n (x_i-\\bar{x})(y_i-\\bar{y})}{n-1}; \\\\ $ \n",
    "$\\sigma(X), \\sigma(Y)$ are respective standard deviations\n"
   ]
  },
  {
   "cell_type": "code",
   "execution_count": 110,
   "metadata": {},
   "outputs": [
    {
     "data": {
      "application/javascript": [
       "\n",
       "            setTimeout(function() {\n",
       "                var nbb_cell_id = 110;\n",
       "                var nbb_unformatted_code = \"def correlationCoeff(x, y):\\n    \\\"\\\"\\\"\\n    PARAMETERS:\\n    x : input 1D data\\n    y : input 1D data\\n    \\n    RETURNS:\\n    est : coefficient value\\n    \\\"\\\"\\\"\\n    x_mean = sum(x) / len(x)\\n    y_mean = sum(y) / len(y)\\n\\n    n = len(x)\\n\\n    cov = 0\\n    x_std = 0\\n    y_std = 0\\n\\n    for i, j in zip(x, y):\\n        cov = cov + (i - x_mean) * (j - y_mean)\\n        x_std = x_std + (i - x_mean) ** 2\\n        y_std = y_std + (j - y_mean) ** 2\\n\\n    cov = cov / (n - 1)\\n    x_std = (x_std / n) ** 0.5\\n    y_std = (y_std / n) ** 0.5\\n\\n    est = cov / (x_std * y_std)\\n    return est\";\n",
       "                var nbb_formatted_code = \"def correlationCoeff(x, y):\\n    \\\"\\\"\\\"\\n    PARAMETERS:\\n    x : input 1D data\\n    y : input 1D data\\n    \\n    RETURNS:\\n    est : coefficient value\\n    \\\"\\\"\\\"\\n    x_mean = sum(x) / len(x)\\n    y_mean = sum(y) / len(y)\\n\\n    n = len(x)\\n\\n    cov = 0\\n    x_std = 0\\n    y_std = 0\\n\\n    for i, j in zip(x, y):\\n        cov = cov + (i - x_mean) * (j - y_mean)\\n        x_std = x_std + (i - x_mean) ** 2\\n        y_std = y_std + (j - y_mean) ** 2\\n\\n    cov = cov / (n - 1)\\n    x_std = (x_std / n) ** 0.5\\n    y_std = (y_std / n) ** 0.5\\n\\n    est = cov / (x_std * y_std)\\n    return est\";\n",
       "                var nbb_cells = Jupyter.notebook.get_cells();\n",
       "                for (var i = 0; i < nbb_cells.length; ++i) {\n",
       "                    if (nbb_cells[i].input_prompt_number == nbb_cell_id) {\n",
       "                        if (nbb_cells[i].get_text() == nbb_unformatted_code) {\n",
       "                             nbb_cells[i].set_text(nbb_formatted_code);\n",
       "                        }\n",
       "                        break;\n",
       "                    }\n",
       "                }\n",
       "            }, 500);\n",
       "            "
      ],
      "text/plain": [
       "<IPython.core.display.Javascript object>"
      ]
     },
     "metadata": {},
     "output_type": "display_data"
    }
   ],
   "source": [
    "def correlationCoeff(x, y):\n",
    "    \"\"\"\n",
    "    PARAMETERS:\n",
    "    x : input 1D data\n",
    "    y : input 1D data\n",
    "    \n",
    "    RETURNS:\n",
    "    est : coefficient value\n",
    "    \"\"\"\n",
    "    x_mean = sum(x) / len(x)\n",
    "    y_mean = sum(y) / len(y)\n",
    "\n",
    "    n = len(x)\n",
    "\n",
    "    cov = 0\n",
    "    x_std = 0\n",
    "    y_std = 0\n",
    "\n",
    "    for i, j in zip(x, y):\n",
    "        cov = cov + (i - x_mean) * (j - y_mean)\n",
    "        x_std = x_std + (i - x_mean) ** 2\n",
    "        y_std = y_std + (j - y_mean) ** 2\n",
    "\n",
    "    cov = cov / (n - 1)\n",
    "    x_std = (x_std / n) ** 0.5\n",
    "    y_std = (y_std / n) ** 0.5\n",
    "\n",
    "    est = cov / (x_std * y_std)\n",
    "    return est"
   ]
  },
  {
   "cell_type": "markdown",
   "metadata": {},
   "source": [
    "Read the file \"AirQualityData.csv\" . Ignoring the \"date\" column, read columns \"temp\", \"pm10\" and \"o3\" as the dataframe as pass them to the function $\\texttt{correlationCoeff()}$ to estimate seperately the effect of \"pm10\" on \"temp\" and \"o3\" on \"temp\". Which of the pollutants has a greater impact on temperature? Compare the value that you get from the above function with the python built in function $\\texttt{df.corr()}$ . "
   ]
  },
  {
   "cell_type": "code",
   "execution_count": 111,
   "metadata": {},
   "outputs": [
    {
     "name": "stdout",
     "output_type": "stream",
     "text": [
      "Correlation between temp and pm10  from user defined function =\t 0.36248659213981516\n",
      "Correlation between temp and pm10  from inbuilt function =\t 0.3623906454505245\n",
      "Correlation between temp and o3  from user defined function =\t 0.5703904221495659\n",
      "Correlation between temp and o3  from inbuilt function =\t 0.5702394453305745\n",
      "Correlation between pm10 and o3  from user defined function =\t 0.33338377445706846\n",
      "Correlation between pm10 and o3  from inbuilt function =\t 0.3332955310016801\n"
     ]
    },
    {
     "data": {
      "application/javascript": [
       "\n",
       "            setTimeout(function() {\n",
       "                var nbb_cell_id = 111;\n",
       "                var nbb_unformatted_code = \"# Read datafile\\n\\ndata = pd.read_csv(\\\"AirQualityData.csv\\\")\\ncols = [\\\"temp\\\", \\\"pm10\\\", \\\"o3\\\"]\\ndata = data[cols]\\ncorr_data = data.corr()\\n\\n# Estimate correlation\\n\\nfor i in range(len(cols) - 1):\\n    for j in range(i + 1, len(cols)):\\n        print(\\n            \\\"Correlation between\\\",\\n            cols[i],\\n            \\\"and\\\",\\n            cols[j],\\n            \\\" from user defined function =\\\\t\\\",\\n            correlationCoeff(data[cols[i]], data[cols[j]]),\\n        )\\n        print(\\n            \\\"Correlation between\\\",\\n            cols[i],\\n            \\\"and\\\",\\n            cols[j],\\n            \\\" from inbuilt function =\\\\t\\\",\\n            corr_data[cols[i]].loc[cols[j]],\\n        )\";\n",
       "                var nbb_formatted_code = \"# Read datafile\\n\\ndata = pd.read_csv(\\\"AirQualityData.csv\\\")\\ncols = [\\\"temp\\\", \\\"pm10\\\", \\\"o3\\\"]\\ndata = data[cols]\\ncorr_data = data.corr()\\n\\n# Estimate correlation\\n\\nfor i in range(len(cols) - 1):\\n    for j in range(i + 1, len(cols)):\\n        print(\\n            \\\"Correlation between\\\",\\n            cols[i],\\n            \\\"and\\\",\\n            cols[j],\\n            \\\" from user defined function =\\\\t\\\",\\n            correlationCoeff(data[cols[i]], data[cols[j]]),\\n        )\\n        print(\\n            \\\"Correlation between\\\",\\n            cols[i],\\n            \\\"and\\\",\\n            cols[j],\\n            \\\" from inbuilt function =\\\\t\\\",\\n            corr_data[cols[i]].loc[cols[j]],\\n        )\";\n",
       "                var nbb_cells = Jupyter.notebook.get_cells();\n",
       "                for (var i = 0; i < nbb_cells.length; ++i) {\n",
       "                    if (nbb_cells[i].input_prompt_number == nbb_cell_id) {\n",
       "                        if (nbb_cells[i].get_text() == nbb_unformatted_code) {\n",
       "                             nbb_cells[i].set_text(nbb_formatted_code);\n",
       "                        }\n",
       "                        break;\n",
       "                    }\n",
       "                }\n",
       "            }, 500);\n",
       "            "
      ],
      "text/plain": [
       "<IPython.core.display.Javascript object>"
      ]
     },
     "metadata": {},
     "output_type": "display_data"
    }
   ],
   "source": [
    "# Read datafile\n",
    "\n",
    "data = pd.read_csv(\"AirQualityData.csv\")\n",
    "cols = [\"temp\", \"pm10\", \"o3\"]\n",
    "data = data[cols]\n",
    "corr_data = data.corr()\n",
    "\n",
    "# Estimate correlation\n",
    "\n",
    "for i in range(len(cols) - 1):\n",
    "    for j in range(i + 1, len(cols)):\n",
    "        print(\n",
    "            \"Correlation between\",\n",
    "            cols[i],\n",
    "            \"and\",\n",
    "            cols[j],\n",
    "            \" from user defined function =\\t\",\n",
    "            correlationCoeff(data[cols[i]], data[cols[j]]),\n",
    "        )\n",
    "        print(\n",
    "            \"Correlation between\",\n",
    "            cols[i],\n",
    "            \"and\",\n",
    "            cols[j],\n",
    "            \" from inbuilt function =\\t\",\n",
    "            corr_data[cols[i]].loc[cols[j]],\n",
    "        )"
   ]
  },
  {
   "cell_type": "markdown",
   "metadata": {},
   "source": [
    "**Since temp has higher correlation with o3 than p10, we can tell that o3 has the greater impact on temperature**"
   ]
  },
  {
   "cell_type": "markdown",
   "metadata": {},
   "source": [
    "### Hypothesis Testing and Confidence Interval "
   ]
  },
  {
   "cell_type": "markdown",
   "metadata": {},
   "source": [
    "P Value: A p-value for a statistical model is the probability that when the null hypothesis is true, the statistical summary is equal to or greater than the actual observed results. This is also termed ‘probability value’ or ‘asymptotic significance’. The null hypothesis states that two measured phenomena experience no relationship to each other. We denote this as H or H0. If one or more of these probabilities turn out to be less than or equal to α, the level of significance, we reject the null hypothesis."
   ]
  },
  {
   "cell_type": "markdown",
   "metadata": {},
   "source": [
    "Example: One such null hypothesis can be that the number of hours spent in the office affects the amount of salary paid. For a significance level of 5%, if the p-value falls lower than 5%, the null hypothesis is invalidated. Then it is discovered that the number of hours you spend in your office will not affect the amount of salary you will take home. "
   ]
  },
  {
   "cell_type": "markdown",
   "metadata": {},
   "source": [
    "T Test: Such a test tells us whether a sample of numeric data strays or differs significantly from the population. It also talks about two samples- whether they’re different. In other words, it gives us the probability of difference between populations."
   ]
  },
  {
   "cell_type": "markdown",
   "metadata": {},
   "source": [
    "KS Test: KS Test in Python Statistics: This is the Kolmogorov-Smirnov test. It lets us test the hypothesis that the sample is a part of the standard t-distribution. Let’s take an example."
   ]
  },
  {
   "cell_type": "markdown",
   "metadata": {},
   "source": [
    "### Example\n",
    "Generate 10,000 random data from a normal distribution of mean 0 and standard 1 with a random seed value of 10.\n",
    "Use KS test to compare the generated data to a normal distribution using kstest\n",
    "if the p-value is less than 0.05 or 5% (for a 95% confidence level), then the null hypothesis is rejected, \n",
    "which means the generated data is not from the normal distribution"
   ]
  },
  {
   "cell_type": "code",
   "execution_count": 140,
   "metadata": {},
   "outputs": [
    {
     "name": "stdout",
     "output_type": "stream",
     "text": [
      "Data derived from normal distribution\n"
     ]
    },
    {
     "data": {
      "application/javascript": [
       "\n",
       "            setTimeout(function() {\n",
       "                var nbb_cell_id = 140;\n",
       "                var nbb_unformatted_code = \"np.random.seed(10)\\n\\nx = st.distributions.norm.rvs(0, 1, 10000)\\nd, p = st.kstest(x, \\\"norm\\\")\\nif p > 0.05:\\n    print(\\\"Data derived from normal distribution\\\")\\nelse:\\n    print(\\\"Data not derived from normal distribution\\\")\";\n",
       "                var nbb_formatted_code = \"np.random.seed(10)\\n\\nx = st.distributions.norm.rvs(0, 1, 10000)\\nd, p = st.kstest(x, \\\"norm\\\")\\nif p > 0.05:\\n    print(\\\"Data derived from normal distribution\\\")\\nelse:\\n    print(\\\"Data not derived from normal distribution\\\")\";\n",
       "                var nbb_cells = Jupyter.notebook.get_cells();\n",
       "                for (var i = 0; i < nbb_cells.length; ++i) {\n",
       "                    if (nbb_cells[i].input_prompt_number == nbb_cell_id) {\n",
       "                        if (nbb_cells[i].get_text() == nbb_unformatted_code) {\n",
       "                             nbb_cells[i].set_text(nbb_formatted_code);\n",
       "                        }\n",
       "                        break;\n",
       "                    }\n",
       "                }\n",
       "            }, 500);\n",
       "            "
      ],
      "text/plain": [
       "<IPython.core.display.Javascript object>"
      ]
     },
     "metadata": {},
     "output_type": "display_data"
    }
   ],
   "source": [
    "np.random.seed(10)\n",
    "\n",
    "x = st.distributions.norm.rvs(0, 1, 10000)\n",
    "d, p = st.kstest(x, \"norm\")\n",
    "if p > 0.05:\n",
    "    print(\"Data derived from normal distribution\")\n",
    "else:\n",
    "    print(\"Data not derived from normal distribution\")"
   ]
  },
  {
   "cell_type": "markdown",
   "metadata": {},
   "source": [
    "### Example \n",
    "Generate 10,000 random data from a poisson distribution of lambda = 5\n",
    "Generate 7,000 random data from a poisson distribution of lambda = 7\n",
    "compare the mean of the two data sets using t test with a confidence level of 95%."
   ]
  },
  {
   "cell_type": "code",
   "execution_count": 142,
   "metadata": {},
   "outputs": [
    {
     "name": "stdout",
     "output_type": "stream",
     "text": [
      "Both the samples are from different population\n"
     ]
    },
    {
     "data": {
      "application/javascript": [
       "\n",
       "            setTimeout(function() {\n",
       "                var nbb_cell_id = 142;\n",
       "                var nbb_unformatted_code = \"np.random.seed(10)\\n\\nx_5 = st.distributions.poisson.rvs(mu=5, size=10000)\\nx_7 = st.distributions.poisson.rvs(mu=7, size=7000)\\n\\nt,p = st.ttest_ind(x_5, x_7,equal_var = False)\\n\\nif(p<0.05):\\n    print(\\\"Both the samples are from different population\\\")\\nelse:\\n    print(\\\"Both the samples are from same population\\\")\";\n",
       "                var nbb_formatted_code = \"np.random.seed(10)\\n\\nx_5 = st.distributions.poisson.rvs(mu=5, size=10000)\\nx_7 = st.distributions.poisson.rvs(mu=7, size=7000)\\n\\nt, p = st.ttest_ind(x_5, x_7, equal_var=False)\\n\\nif p < 0.05:\\n    print(\\\"Both the samples are from different population\\\")\\nelse:\\n    print(\\\"Both the samples are from same population\\\")\";\n",
       "                var nbb_cells = Jupyter.notebook.get_cells();\n",
       "                for (var i = 0; i < nbb_cells.length; ++i) {\n",
       "                    if (nbb_cells[i].input_prompt_number == nbb_cell_id) {\n",
       "                        if (nbb_cells[i].get_text() == nbb_unformatted_code) {\n",
       "                             nbb_cells[i].set_text(nbb_formatted_code);\n",
       "                        }\n",
       "                        break;\n",
       "                    }\n",
       "                }\n",
       "            }, 500);\n",
       "            "
      ],
      "text/plain": [
       "<IPython.core.display.Javascript object>"
      ]
     },
     "metadata": {},
     "output_type": "display_data"
    }
   ],
   "source": [
    "np.random.seed(10)\n",
    "\n",
    "x_5 = st.distributions.poisson.rvs(mu=5, size=10000)\n",
    "x_7 = st.distributions.poisson.rvs(mu=7, size=7000)\n",
    "\n",
    "t, p = st.ttest_ind(x_5, x_7, equal_var=False)\n",
    "\n",
    "if p < 0.05:\n",
    "    print(\"Both the samples are from different population\")\n",
    "else:\n",
    "    print(\"Both the samples are from same population\")"
   ]
  }
 ],
 "metadata": {
  "kernelspec": {
   "display_name": "ee4708",
   "language": "python",
   "name": "ee4708"
  },
  "language_info": {
   "codemirror_mode": {
    "name": "ipython",
    "version": 3
   },
   "file_extension": ".py",
   "mimetype": "text/x-python",
   "name": "python",
   "nbconvert_exporter": "python",
   "pygments_lexer": "ipython3",
   "version": "3.7.4"
  }
 },
 "nbformat": 4,
 "nbformat_minor": 4
}
