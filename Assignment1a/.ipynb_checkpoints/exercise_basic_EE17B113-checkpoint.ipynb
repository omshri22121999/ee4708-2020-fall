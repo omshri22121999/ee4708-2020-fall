{
 "cells": [
  {
   "cell_type": "markdown",
   "metadata": {},
   "source": [
    "1) Given the array split the array at the middle (if it is odd length consider next higher integer), add reverse the array.\n",
    "\n",
    "Ex:\n",
    "if input is [12,10,5,6,52,36] \n",
    "output should be [6,52,36,12,10,5]\n",
    "\n",
    "if input is  [12,10,5,6,52,36,34]\n",
    "output should be [6,52,36,34,12,10,5]"
   ]
  },
  {
   "cell_type": "code",
   "execution_count": 1,
   "metadata": {},
   "outputs": [],
   "source": [
    "import numpy as np"
   ]
  },
  {
   "cell_type": "code",
   "execution_count": 2,
   "metadata": {},
   "outputs": [],
   "source": [
    "# Complete this function to get the desired result\n",
    "def reverseatCenter(arr):\n",
    "    arr2 = np.concatenate((arr[len(arr) // 2 :], arr[: len(arr) // 2]))\n",
    "    return arr2"
   ]
  },
  {
   "cell_type": "code",
   "execution_count": 3,
   "metadata": {},
   "outputs": [
    {
     "name": "stdout",
     "output_type": "stream",
     "text": [
      "Initial array :  \t [12 10  5  6 52 36]\n",
      "Reversed array :  \t [ 6 52 36 12 10  5] \n",
      "\n",
      "Initial array :  \t [12 10  5  6 52 36 34]\n",
      "Reversed array :  \t [ 6 52 36 34 12 10  5]\n"
     ]
    }
   ],
   "source": [
    "# Print wroking examples\n",
    "arr1 = np.array([12, 10, 5, 6, 52, 36])\n",
    "print(\"Initial array : \", \"\\t\", arr1)\n",
    "print(\"Reversed array : \", \"\\t\", reverseatCenter(arr1), \"\\n\")\n",
    "\n",
    "arr2 = np.array([12, 10, 5, 6, 52, 36, 34])\n",
    "print(\"Initial array : \", \"\\t\", arr2)\n",
    "print(\"Reversed array : \", \"\\t\", reverseatCenter(arr2))"
   ]
  },
  {
   "cell_type": "markdown",
   "metadata": {},
   "source": [
    "2) Given a list of numbers, return a list where all adjacent duplicate elements have been removed.\n",
    "\n",
    "Ex:\n",
    "\n",
    "2, 2, 2, 3, 2 returns 2, 3, 2."
   ]
  },
  {
   "cell_type": "code",
   "execution_count": 4,
   "metadata": {},
   "outputs": [],
   "source": [
    "# Complete the function to get the desired result\n",
    "\n",
    "\n",
    "def remove_adjacent(b):\n",
    "\n",
    "    assert type(b) == list\n",
    "    b = [b[i] for i in range(len(b)) if i == 0 or b[i] != b[i - 1]]\n",
    "    return b"
   ]
  },
  {
   "cell_type": "code",
   "execution_count": 5,
   "metadata": {},
   "outputs": [
    {
     "name": "stdout",
     "output_type": "stream",
     "text": [
      "List with Duplicates :  \t [2, 2, 2, 3, 2]\n",
      "List without Duplicates :  \t [2, 3, 2]\n",
      "List with Duplicates :  \t [3, 3, 4, 4, 5, 2, 3, 2]\n",
      "List without Duplicates :  \t [3, 4, 5, 2, 3, 2]\n"
     ]
    }
   ],
   "source": [
    "# Print working examples\n",
    "l = [2, 2, 2, 3, 2]\n",
    "print(\"List with Duplicates : \", \"\\t\", l)\n",
    "print(\"List without Duplicates : \", \"\\t\", remove_adjacent(l))\n",
    "\n",
    "l = [3, 3, 4, 4, 5, 2, 3, 2]\n",
    "print(\"List with Duplicates : \", \"\\t\", l)\n",
    "print(\"List without Duplicates : \", \"\\t\", remove_adjacent(l))"
   ]
  },
  {
   "cell_type": "markdown",
   "metadata": {},
   "source": [
    "3) given matrix of 7x7 full of ones, create a square with given side length (center same as original square(7x7)) replace ones with zeors at the edges for example,\n",
    "\n"
   ]
  },
  {
   "cell_type": "markdown",
   "metadata": {},
   "source": [
    "$$\n",
    "\\begin{align}\n",
    "A = \\begin{bmatrix}\n",
    "1 & 1 & 1 & 1 & 1 & 1 & 1\\\\\n",
    "1 & 1 & 1 & 1 & 1 & 1 & 1\\\\\n",
    "1 & 1 & 1 & 1 & 1 & 1 & 1\\\\\n",
    "1 & 1 & 1 & 1 & 1 & 1 & 1\\\\\n",
    "1 & 1 & 1 & 1 & 1 & 1 & 1\\\\\n",
    "1 & 1 & 1 & 1 & 1 & 1 & 1\\\\\n",
    "1 & 1 & 1 & 1 & 1 & 1 & 1\\\\\n",
    "\\end{bmatrix}\n",
    "\\end{align}\n",
    "$$\n",
    "After modification\n",
    "$$\n",
    "\\begin{align}\n",
    "A = \\begin{bmatrix}\n",
    "1 & 1 & 1 & 1 & 1 & 1 & 1\\\\\n",
    "1 & 1 & 1 & 1 & 1 & 1 & 1\\\\\n",
    "1 & 1 & 0 & 0 & 0 & 1 & 1\\\\\n",
    "1 & 1 & 0 & 1 & 0 & 1 & 1\\\\\n",
    "1 & 1 & 0 & 0 & 0 & 1 & 1\\\\\n",
    "1 & 1 & 1 & 1 & 1 & 1 & 1\\\\\n",
    "1 & 1 & 1 & 1 & 1 & 1 & 1\\\\\n",
    "\\end{bmatrix}\n",
    "\\end{align}\n",
    "$$"
   ]
  },
  {
   "cell_type": "code",
   "execution_count": 6,
   "metadata": {},
   "outputs": [],
   "source": [
    "import numpy as np\n",
    "\n",
    "# write program to get the desired result\n",
    "\n",
    "\n",
    "def replace_zeros(A, N, H):\n",
    "    A[N // 2 - H // 2, N // 2 - H // 2 : N // 2 + H // 2 + 1] = A[\n",
    "        N // 2 + H // 2, N // 2 - H // 2 : N // 2 + H // 2 + 1\n",
    "    ] = A[N // 2 - H // 2 : N // 2 + H // 2 + 1, N // 2 + H // 2] = A[\n",
    "        N // 2 - H // 2 : N // 2 + H // 2 + 1, N // 2 - H // 2\n",
    "    ] = 0\n",
    "    return A"
   ]
  },
  {
   "cell_type": "code",
   "execution_count": 7,
   "metadata": {},
   "outputs": [
    {
     "name": "stdout",
     "output_type": "stream",
     "text": [
      "Array before placing zeros : \n",
      "[[1. 1. 1. 1. 1. 1. 1.]\n",
      " [1. 1. 1. 1. 1. 1. 1.]\n",
      " [1. 1. 1. 1. 1. 1. 1.]\n",
      " [1. 1. 1. 1. 1. 1. 1.]\n",
      " [1. 1. 1. 1. 1. 1. 1.]\n",
      " [1. 1. 1. 1. 1. 1. 1.]\n",
      " [1. 1. 1. 1. 1. 1. 1.]]\n",
      "Array after placing zeros : \n",
      "[[1. 1. 1. 1. 1. 1. 1.]\n",
      " [1. 1. 1. 1. 1. 1. 1.]\n",
      " [1. 1. 0. 0. 0. 1. 1.]\n",
      " [1. 1. 0. 1. 0. 1. 1.]\n",
      " [1. 1. 0. 0. 0. 1. 1.]\n",
      " [1. 1. 1. 1. 1. 1. 1.]\n",
      " [1. 1. 1. 1. 1. 1. 1.]]\n",
      "Array before placing zeros : \n",
      "[[1. 1. 1. 1. 1. 1. 1. 1. 1. 1. 1.]\n",
      " [1. 1. 1. 1. 1. 1. 1. 1. 1. 1. 1.]\n",
      " [1. 1. 1. 1. 1. 1. 1. 1. 1. 1. 1.]\n",
      " [1. 1. 1. 1. 1. 1. 1. 1. 1. 1. 1.]\n",
      " [1. 1. 1. 1. 1. 1. 1. 1. 1. 1. 1.]\n",
      " [1. 1. 1. 1. 1. 1. 1. 1. 1. 1. 1.]\n",
      " [1. 1. 1. 1. 1. 1. 1. 1. 1. 1. 1.]\n",
      " [1. 1. 1. 1. 1. 1. 1. 1. 1. 1. 1.]\n",
      " [1. 1. 1. 1. 1. 1. 1. 1. 1. 1. 1.]\n",
      " [1. 1. 1. 1. 1. 1. 1. 1. 1. 1. 1.]\n",
      " [1. 1. 1. 1. 1. 1. 1. 1. 1. 1. 1.]]\n",
      "Array after placing zeros : \n",
      "[[1. 1. 1. 1. 1. 1. 1. 1. 1. 1. 1.]\n",
      " [1. 1. 1. 1. 1. 1. 1. 1. 1. 1. 1.]\n",
      " [1. 1. 1. 1. 1. 1. 1. 1. 1. 1. 1.]\n",
      " [1. 1. 1. 0. 0. 0. 0. 0. 1. 1. 1.]\n",
      " [1. 1. 1. 0. 1. 1. 1. 0. 1. 1. 1.]\n",
      " [1. 1. 1. 0. 1. 1. 1. 0. 1. 1. 1.]\n",
      " [1. 1. 1. 0. 1. 1. 1. 0. 1. 1. 1.]\n",
      " [1. 1. 1. 0. 0. 0. 0. 0. 1. 1. 1.]\n",
      " [1. 1. 1. 1. 1. 1. 1. 1. 1. 1. 1.]\n",
      " [1. 1. 1. 1. 1. 1. 1. 1. 1. 1. 1.]\n",
      " [1. 1. 1. 1. 1. 1. 1. 1. 1. 1. 1.]]\n"
     ]
    }
   ],
   "source": [
    "# Print working examples\n",
    "\n",
    "\n",
    "N = 7  # Length of array\n",
    "H = 3  # Side length to replace with zeros\n",
    "\n",
    "A = np.ones((N, N))\n",
    "print(\"Array before placing zeros : \")\n",
    "print(A)\n",
    "\n",
    "replace_zeros(A, N, H)\n",
    "\n",
    "print(\"Array after placing zeros : \")\n",
    "print(A)\n",
    "\n",
    "N = 11  # Length of array\n",
    "H = 4  # Side length to replace with zeros\n",
    "\n",
    "A = np.ones((N, N))\n",
    "print(\"Array before placing zeros : \")\n",
    "print(A)\n",
    "\n",
    "replace_zeros(A, N, H)\n",
    "\n",
    "print(\"Array after placing zeros : \")\n",
    "print(A)"
   ]
  },
  {
   "cell_type": "markdown",
   "metadata": {},
   "source": [
    "4) Paragraph present in data.txt is encoded such that each character in word (excluding whitespace) is incremented to next ascii value. Decode the paragraph present in the data_encoded.txt (Hint: decrease the ascii value of each character in the word)\n"
   ]
  },
  {
   "cell_type": "code",
   "execution_count": 8,
   "metadata": {},
   "outputs": [],
   "source": [
    "def sentence_decode(s):\n",
    "\n",
    "    dec_words = \"\"\n",
    "\n",
    "    for i in range(len(s)):\n",
    "        if s[i] != \" \":\n",
    "            dec_words = dec_words + chr(ord(s[i]) - 1)\n",
    "        else:\n",
    "            dec_words = dec_words + s[i]\n",
    "\n",
    "    return dec_words"
   ]
  },
  {
   "cell_type": "code",
   "execution_count": 9,
   "metadata": {
    "tags": []
   },
   "outputs": [
    {
     "name": "stdout",
     "output_type": "stream",
     "text": [
      "ebub bobmztjt jt b qspdftt pg jotqfdujoh- dmfbotjoh- usbotgpsnjoh boe npefmjoh ebub xjui uif hpbm pg ejtdpwfsjoh vtfgvm jogpsnbujpo- jogpsnjoh dpodmvtjpot boe tvqqpsujoh efdjtjpo.nbljoh/ ebub bobmztjt ibt nvmujqmf gbdfut boe bqqspbdift- fodpnqbttjoh ejwfstf ufdiojrvft voefs b wbsjfuz pg obnft- boe jt vtfe jo ejggfsfou cvtjoftt- tdjfodf- boe tpdjbm tdjfodf epnbjot/ jo upebz(t cvtjoftt xpsme- ebub bobmztjt qmbzt b spmf jo nbljoh efdjtjpot npsf tdjfoujgjd boe ifmqjoh cvtjofttft pqfsbuf npsf fggfdujwfmz/\n",
      " \n",
      "data analysis is a process of inspecting, cleansing, transforming and modeling data with the goal of discovering useful information, informing conclusions and supporting decision-making. data analysis has multiple facets and approaches, encompassing diverse techniques under a variety of names, and is used in different business, science, and social science domains. in today's business world, data analysis plays a role in making decisions more scientific and helping businesses operate more effectively.\n"
     ]
    }
   ],
   "source": [
    "with open(\"data_encoded.txt\", \"r\") as myfile:\n",
    "    data = myfile.read()\n",
    "    print(data)\n",
    "    print(\" \")\n",
    "    print(sentence_decode(data))"
   ]
  }
 ],
 "metadata": {
  "kernelspec": {
   "display_name": "ee4708",
   "language": "python",
   "name": "ee4708"
  },
  "language_info": {
   "codemirror_mode": {
    "name": "ipython",
    "version": 3
   },
   "file_extension": ".py",
   "mimetype": "text/x-python",
   "name": "python",
   "nbconvert_exporter": "python",
   "pygments_lexer": "ipython3",
   "version": "3.7.4"
  }
 },
 "nbformat": 4,
 "nbformat_minor": 2
}
