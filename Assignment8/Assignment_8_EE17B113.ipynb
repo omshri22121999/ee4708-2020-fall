{
 "cells": [
  {
   "cell_type": "markdown",
   "metadata": {},
   "source": [
    "# Decision trees and random forests"
   ]
  },
  {
   "cell_type": "markdown",
   "metadata": {},
   "source": [
    "Decision trees build classification or regression models in the form of a tree structure. Creating a binary decision tree is a process of dividing up the input space. A greedy and recursive approach is used to recursively create binary splits in the input space. At each step, all the values are lined up and different split points are tried and tested using a cost function. The split with the best cost (lowest cost because we minimize cost) is selected. All input variables and all possible split points are evaluated and chosen in a greedy manner as the optimal split point is chosen in each step without checking for whether or not the split will lead to the lowest possible cost several levels down. \n",
    "\n",
    "In order to make a prediction for a given observation, we typically use the mean (regression) or the mode (classification) of the training observations in the region to which the observation belongs. "
   ]
  },
  {
   "cell_type": "markdown",
   "metadata": {},
   "source": [
    "### A. Classification using decision trees"
   ]
  },
  {
   "cell_type": "markdown",
   "metadata": {},
   "source": [
    "1. Import the make_moons dataset from sklearn using $100$ samples, noise $= 0.35$ and a fixed random state = $42$.\n",
    "2. Fit and visualize a decision tree classifier. Plot the decision boundaries by calling the helper function plot_decision_boundary provided to you. "
   ]
  },
  {
   "cell_type": "code",
   "execution_count": 8,
   "metadata": {},
   "outputs": [
    {
     "data": {
      "application/javascript": [
       "\n",
       "            setTimeout(function() {\n",
       "                var nbb_cell_id = 8;\n",
       "                var nbb_unformatted_code = \"import numpy as np\\nimport matplotlib.pyplot as plt\\nfrom matplotlib.colors import ListedColormap\\n\\n%load_ext nb_black\";\n",
       "                var nbb_formatted_code = \"import numpy as np\\nimport matplotlib.pyplot as plt\\nfrom matplotlib.colors import ListedColormap\\n\\n%load_ext nb_black\";\n",
       "                var nbb_cells = Jupyter.notebook.get_cells();\n",
       "                for (var i = 0; i < nbb_cells.length; ++i) {\n",
       "                    if (nbb_cells[i].input_prompt_number == nbb_cell_id) {\n",
       "                        if (nbb_cells[i].get_text() == nbb_unformatted_code) {\n",
       "                             nbb_cells[i].set_text(nbb_formatted_code);\n",
       "                        }\n",
       "                        break;\n",
       "                    }\n",
       "                }\n",
       "            }, 500);\n",
       "            "
      ],
      "text/plain": [
       "<IPython.core.display.Javascript object>"
      ]
     },
     "metadata": {},
     "output_type": "display_data"
    }
   ],
   "source": [
    "import numpy as np\n",
    "import matplotlib.pyplot as plt\n",
    "from matplotlib.colors import ListedColormap\n",
    "\n",
    "%load_ext nb_black"
   ]
  },
  {
   "cell_type": "code",
   "execution_count": 9,
   "metadata": {},
   "outputs": [
    {
     "data": {
      "application/javascript": [
       "\n",
       "            setTimeout(function() {\n",
       "                var nbb_cell_id = 9;\n",
       "                var nbb_unformatted_code = \"def plot_decision_boundary(tree, X, y, axes=[0, 7.5, 0, 3], legend=False, plot_training=True):\\n    x1s = np.linspace(axes[0], axes[1], 100)\\n    x2s = np.linspace(axes[2], axes[3], 100)\\n    x1, x2 = np.meshgrid(x1s, x2s)\\n    X_new = np.c_[x1.ravel(), x2.ravel()]\\n    y_pred = tree.predict(X_new).reshape(x1.shape)\\n    custom_cmap = ListedColormap(['#fafab0','#9898ff','#a0faa0'])\\n    plt.contourf(x1, x2, y_pred, alpha=0.3, cmap=custom_cmap)\\n    custom_cmap2 = ListedColormap(['#7d7d58','#4c4c7f','#507d50'])\\n    plt.contour(x1, x2, y_pred, cmap=custom_cmap2, alpha=0.8)\\n    if plot_training:\\n        plt.plot(X[:, 0][y==0], X[:, 1][y==0], \\\"yo\\\")\\n        plt.plot(X[:, 0][y==1], X[:, 1][y==1], \\\"bs\\\")\\n        plt.plot(X[:, 0][y==2], X[:, 1][y==2], \\\"g^\\\")\\n        plt.axis(axes)\\n    plt.xlabel(r\\\"$x_1$\\\", fontsize=18)\\n    plt.ylabel(r\\\"$x_2$\\\", fontsize=18, rotation=0)\\n    if legend:\\n        plt.legend(loc=\\\"lower right\\\", fontsize=14)\";\n",
       "                var nbb_formatted_code = \"def plot_decision_boundary(\\n    tree, X, y, axes=[0, 7.5, 0, 3], legend=False, plot_training=True\\n):\\n    x1s = np.linspace(axes[0], axes[1], 100)\\n    x2s = np.linspace(axes[2], axes[3], 100)\\n    x1, x2 = np.meshgrid(x1s, x2s)\\n    X_new = np.c_[x1.ravel(), x2.ravel()]\\n    y_pred = tree.predict(X_new).reshape(x1.shape)\\n    custom_cmap = ListedColormap([\\\"#fafab0\\\", \\\"#9898ff\\\", \\\"#a0faa0\\\"])\\n    plt.contourf(x1, x2, y_pred, alpha=0.3, cmap=custom_cmap)\\n    custom_cmap2 = ListedColormap([\\\"#7d7d58\\\", \\\"#4c4c7f\\\", \\\"#507d50\\\"])\\n    plt.contour(x1, x2, y_pred, cmap=custom_cmap2, alpha=0.8)\\n    if plot_training:\\n        plt.plot(X[:, 0][y == 0], X[:, 1][y == 0], \\\"yo\\\")\\n        plt.plot(X[:, 0][y == 1], X[:, 1][y == 1], \\\"bs\\\")\\n        plt.plot(X[:, 0][y == 2], X[:, 1][y == 2], \\\"g^\\\")\\n        plt.axis(axes)\\n    plt.xlabel(r\\\"$x_1$\\\", fontsize=18)\\n    plt.ylabel(r\\\"$x_2$\\\", fontsize=18, rotation=0)\\n    if legend:\\n        plt.legend(loc=\\\"lower right\\\", fontsize=14)\";\n",
       "                var nbb_cells = Jupyter.notebook.get_cells();\n",
       "                for (var i = 0; i < nbb_cells.length; ++i) {\n",
       "                    if (nbb_cells[i].input_prompt_number == nbb_cell_id) {\n",
       "                        if (nbb_cells[i].get_text() == nbb_unformatted_code) {\n",
       "                             nbb_cells[i].set_text(nbb_formatted_code);\n",
       "                        }\n",
       "                        break;\n",
       "                    }\n",
       "                }\n",
       "            }, 500);\n",
       "            "
      ],
      "text/plain": [
       "<IPython.core.display.Javascript object>"
      ]
     },
     "metadata": {},
     "output_type": "display_data"
    }
   ],
   "source": [
    "def plot_decision_boundary(\n",
    "    tree, X, y, axes=[0, 7.5, 0, 3], legend=False, plot_training=True\n",
    "):\n",
    "    x1s = np.linspace(axes[0], axes[1], 100)\n",
    "    x2s = np.linspace(axes[2], axes[3], 100)\n",
    "    x1, x2 = np.meshgrid(x1s, x2s)\n",
    "    X_new = np.c_[x1.ravel(), x2.ravel()]\n",
    "    y_pred = tree.predict(X_new).reshape(x1.shape)\n",
    "    custom_cmap = ListedColormap([\"#fafab0\", \"#9898ff\", \"#a0faa0\"])\n",
    "    plt.contourf(x1, x2, y_pred, alpha=0.3, cmap=custom_cmap)\n",
    "    custom_cmap2 = ListedColormap([\"#7d7d58\", \"#4c4c7f\", \"#507d50\"])\n",
    "    plt.contour(x1, x2, y_pred, cmap=custom_cmap2, alpha=0.8)\n",
    "    if plot_training:\n",
    "        plt.plot(X[:, 0][y == 0], X[:, 1][y == 0], \"yo\")\n",
    "        plt.plot(X[:, 0][y == 1], X[:, 1][y == 1], \"bs\")\n",
    "        plt.plot(X[:, 0][y == 2], X[:, 1][y == 2], \"g^\")\n",
    "        plt.axis(axes)\n",
    "    plt.xlabel(r\"$x_1$\", fontsize=18)\n",
    "    plt.ylabel(r\"$x_2$\", fontsize=18, rotation=0)\n",
    "    if legend:\n",
    "        plt.legend(loc=\"lower right\", fontsize=14)"
   ]
  },
  {
   "cell_type": "code",
   "execution_count": 10,
   "metadata": {},
   "outputs": [
    {
     "data": {
      "application/javascript": [
       "\n",
       "            setTimeout(function() {\n",
       "                var nbb_cell_id = 10;\n",
       "                var nbb_unformatted_code = \"from sklearn.datasets import make_moons\\nfrom sklearn.tree import DecisionTreeClassifier\";\n",
       "                var nbb_formatted_code = \"from sklearn.datasets import make_moons\\nfrom sklearn.tree import DecisionTreeClassifier\";\n",
       "                var nbb_cells = Jupyter.notebook.get_cells();\n",
       "                for (var i = 0; i < nbb_cells.length; ++i) {\n",
       "                    if (nbb_cells[i].input_prompt_number == nbb_cell_id) {\n",
       "                        if (nbb_cells[i].get_text() == nbb_unformatted_code) {\n",
       "                             nbb_cells[i].set_text(nbb_formatted_code);\n",
       "                        }\n",
       "                        break;\n",
       "                    }\n",
       "                }\n",
       "            }, 500);\n",
       "            "
      ],
      "text/plain": [
       "<IPython.core.display.Javascript object>"
      ]
     },
     "metadata": {},
     "output_type": "display_data"
    }
   ],
   "source": [
    "from sklearn.datasets import make_moons\n",
    "from sklearn.tree import DecisionTreeClassifier"
   ]
  },
  {
   "cell_type": "code",
   "execution_count": 11,
   "metadata": {},
   "outputs": [
    {
     "data": {
      "application/javascript": [
       "\n",
       "            setTimeout(function() {\n",
       "                var nbb_cell_id = 11;\n",
       "                var nbb_unformatted_code = \"X_moons,y_moons = make_moons(n_samples=100,noise=0.35,random_state=42)\";\n",
       "                var nbb_formatted_code = \"X_moons, y_moons = make_moons(n_samples=100, noise=0.35, random_state=42)\";\n",
       "                var nbb_cells = Jupyter.notebook.get_cells();\n",
       "                for (var i = 0; i < nbb_cells.length; ++i) {\n",
       "                    if (nbb_cells[i].input_prompt_number == nbb_cell_id) {\n",
       "                        if (nbb_cells[i].get_text() == nbb_unformatted_code) {\n",
       "                             nbb_cells[i].set_text(nbb_formatted_code);\n",
       "                        }\n",
       "                        break;\n",
       "                    }\n",
       "                }\n",
       "            }, 500);\n",
       "            "
      ],
      "text/plain": [
       "<IPython.core.display.Javascript object>"
      ]
     },
     "metadata": {},
     "output_type": "display_data"
    }
   ],
   "source": [
    "X_moons, y_moons = make_moons(n_samples=100, noise=0.35, random_state=42)"
   ]
  },
  {
   "cell_type": "code",
   "execution_count": 12,
   "metadata": {},
   "outputs": [
    {
     "data": {
      "image/png": "[encoded data removed]",
      "text/plain": [
       "<Figure size 432x288 with 1 Axes>"
      ]
     },
     "metadata": {
      "needs_background": "light"
     },
     "output_type": "display_data"
    },
    {
     "data": {
      "application/javascript": [
       "\n",
       "            setTimeout(function() {\n",
       "                var nbb_cell_id = 12;\n",
       "                var nbb_unformatted_code = \"tree = DecisionTreeClassifier()\\n\\ntree.fit(X_moons,y_moons)\\n\\nplot_decision_boundary(tree,X_moons,y_moons,axes=[X_moons[:,0].min()-0.5,X_moons[:,0].max()+0.5,X_moons[:,1].min()-0.5,X_moons[:,1].max()+0.5])\";\n",
       "                var nbb_formatted_code = \"tree = DecisionTreeClassifier()\\n\\ntree.fit(X_moons, y_moons)\\n\\nplot_decision_boundary(\\n    tree,\\n    X_moons,\\n    y_moons,\\n    axes=[\\n        X_moons[:, 0].min() - 0.5,\\n        X_moons[:, 0].max() + 0.5,\\n        X_moons[:, 1].min() - 0.5,\\n        X_moons[:, 1].max() + 0.5,\\n    ],\\n)\";\n",
       "                var nbb_cells = Jupyter.notebook.get_cells();\n",
       "                for (var i = 0; i < nbb_cells.length; ++i) {\n",
       "                    if (nbb_cells[i].input_prompt_number == nbb_cell_id) {\n",
       "                        if (nbb_cells[i].get_text() == nbb_unformatted_code) {\n",
       "                             nbb_cells[i].set_text(nbb_formatted_code);\n",
       "                        }\n",
       "                        break;\n",
       "                    }\n",
       "                }\n",
       "            }, 500);\n",
       "            "
      ],
      "text/plain": [
       "<IPython.core.display.Javascript object>"
      ]
     },
     "metadata": {},
     "output_type": "display_data"
    }
   ],
   "source": [
    "tree = DecisionTreeClassifier()\n",
    "\n",
    "tree.fit(X_moons, y_moons)\n",
    "\n",
    "plot_decision_boundary(\n",
    "    tree,\n",
    "    X_moons,\n",
    "    y_moons,\n",
    "    axes=[\n",
    "        X_moons[:, 0].min() - 0.5,\n",
    "        X_moons[:, 0].max() + 0.5,\n",
    "        X_moons[:, 1].min() - 0.5,\n",
    "        X_moons[:, 1].max() + 0.5,\n",
    "    ],\n",
    ")"
   ]
  },
  {
   "cell_type": "markdown",
   "metadata": {},
   "source": [
    "#### Q. Comment on the overfitting nature of the Decision trees"
   ]
  },
  {
   "cell_type": "markdown",
   "metadata": {},
   "source": [
    "#### From the plot above we can see the overfitting nature of Decision Trees. The decisions boundaries are not continuous and they are having sudden changes in the data and somwhat abnormal decision regions. These are the indicators of an overfitting classifier."
   ]
  },
  {
   "cell_type": "markdown",
   "metadata": {},
   "source": [
    "### B. Overfitting in decision tree classifiers"
   ]
  },
  {
   "cell_type": "markdown",
   "metadata": {},
   "source": [
    "1. List and explain in a few lines, three of the regularization hyperparameters used while building a decision tree and why they might help reduce overfitting of a decision tree model.\n",
    "2. Now fit a decision tree classifier on the same dataset using the min_samples_leaf hyperparameter set to $4$. Plot the decision boundaries and compare with the model fit without any hyperparameters. Which model do you think will generalize better to the test dataset? \n",
    "3. Fit and visualize a decision tree classifier after setting the maximum depth of nodes as $5$. Plot the decision boundaries by calling the helper function plot_decision_boundary provided to you. and compare with the model fit without any hyperparameters. Which model do you think will generalize better to the test dataset? "
   ]
  },
  {
   "cell_type": "markdown",
   "metadata": {},
   "source": [
    "#### The hyperparameters which are usedmin_impurity_decrease for the regularization are as follows : \n",
    "\n",
    "#### - `max_depth` -  It is used to limit the size of the tree, thereby reducing its variance and in turn reduces overfitting.\n",
    "#### - `min_samples_leaf` - It is used to set the minimum number of samples required to be at leaf node, and makes sure that there is not too many splits that causes the tree to remember the data by creating splits for each sample, thus reducing overfitting.\n",
    "#### - `min_impurity_decrease` - It is used to set the limit for the impurity decrease, which works similar to the above hyperparameter makes sure we do not overfit the data."
   ]
  },
  {
   "cell_type": "code",
   "execution_count": 13,
   "metadata": {},
   "outputs": [
    {
     "data": {
      "image/png": "[encoded data removed]",
      "text/plain": [
       "<Figure size 432x288 with 1 Axes>"
      ]
     },
     "metadata": {
      "needs_background": "light"
     },
     "output_type": "display_data"
    },
    {
     "data": {
      "application/javascript": [
       "\n",
       "            setTimeout(function() {\n",
       "                var nbb_cell_id = 13;\n",
       "                var nbb_unformatted_code = \"# Setting min_samples_leaf to 4\\n\\ntree = DecisionTreeClassifier(min_samples_leaf=4)\\n\\ntree.fit(X_moons,y_moons)\\n\\nplot_decision_boundary(tree,X_moons,y_moons,axes=[X_moons[:,0].min()-0.5,X_moons[:,0].max()+0.5,X_moons[:,1].min()-0.5,X_moons[:,1].max()+0.5])\";\n",
       "                var nbb_formatted_code = \"# Setting min_samples_leaf to 4\\n\\ntree = DecisionTreeClassifier(min_samples_leaf=4)\\n\\ntree.fit(X_moons, y_moons)\\n\\nplot_decision_boundary(\\n    tree,\\n    X_moons,\\n    y_moons,\\n    axes=[\\n        X_moons[:, 0].min() - 0.5,\\n        X_moons[:, 0].max() + 0.5,\\n        X_moons[:, 1].min() - 0.5,\\n        X_moons[:, 1].max() + 0.5,\\n    ],\\n)\";\n",
       "                var nbb_cells = Jupyter.notebook.get_cells();\n",
       "                for (var i = 0; i < nbb_cells.length; ++i) {\n",
       "                    if (nbb_cells[i].input_prompt_number == nbb_cell_id) {\n",
       "                        if (nbb_cells[i].get_text() == nbb_unformatted_code) {\n",
       "                             nbb_cells[i].set_text(nbb_formatted_code);\n",
       "                        }\n",
       "                        break;\n",
       "                    }\n",
       "                }\n",
       "            }, 500);\n",
       "            "
      ],
      "text/plain": [
       "<IPython.core.display.Javascript object>"
      ]
     },
     "metadata": {},
     "output_type": "display_data"
    }
   ],
   "source": [
    "# Setting min_samples_leaf to 4\n",
    "\n",
    "tree = DecisionTreeClassifier(min_samples_leaf=4)\n",
    "\n",
    "tree.fit(X_moons, y_moons)\n",
    "\n",
    "plot_decision_boundary(\n",
    "    tree,\n",
    "    X_moons,\n",
    "    y_moons,\n",
    "    axes=[\n",
    "        X_moons[:, 0].min() - 0.5,\n",
    "        X_moons[:, 0].max() + 0.5,\n",
    "        X_moons[:, 1].min() - 0.5,\n",
    "        X_moons[:, 1].max() + 0.5,\n",
    "    ],\n",
    ")"
   ]
  },
  {
   "cell_type": "markdown",
   "metadata": {},
   "source": [
    "#### The model which we have created with ```min_samples_leaf=4``` will generalize better to the test dataset, since the boundaries look less haywire and decision regions look normal."
   ]
  },
  {
   "cell_type": "code",
   "execution_count": 14,
   "metadata": {},
   "outputs": [
    {
     "data": {
      "image/png": "[encoded data removed]",
      "text/plain": [
       "<Figure size 432x288 with 1 Axes>"
      ]
     },
     "metadata": {
      "needs_background": "light"
     },
     "output_type": "display_data"
    },
    {
     "data": {
      "application/javascript": [
       "\n",
       "            setTimeout(function() {\n",
       "                var nbb_cell_id = 14;\n",
       "                var nbb_unformatted_code = \"# Setting max_depth to 5\\n\\ntree = DecisionTreeClassifier(max_depth=5)\\n\\ntree.fit(X_moons,y_moons)\\n\\nplot_decision_boundary(tree,X_moons,y_moons,axes=[X_moons[:,0].min()-0.5,X_moons[:,0].max()+0.5,X_moons[:,1].min()-0.5,X_moons[:,1].max()+0.5])\";\n",
       "                var nbb_formatted_code = \"# Setting max_depth to 5\\n\\ntree = DecisionTreeClassifier(max_depth=5)\\n\\ntree.fit(X_moons, y_moons)\\n\\nplot_decision_boundary(\\n    tree,\\n    X_moons,\\n    y_moons,\\n    axes=[\\n        X_moons[:, 0].min() - 0.5,\\n        X_moons[:, 0].max() + 0.5,\\n        X_moons[:, 1].min() - 0.5,\\n        X_moons[:, 1].max() + 0.5,\\n    ],\\n)\";\n",
       "                var nbb_cells = Jupyter.notebook.get_cells();\n",
       "                for (var i = 0; i < nbb_cells.length; ++i) {\n",
       "                    if (nbb_cells[i].input_prompt_number == nbb_cell_id) {\n",
       "                        if (nbb_cells[i].get_text() == nbb_unformatted_code) {\n",
       "                             nbb_cells[i].set_text(nbb_formatted_code);\n",
       "                        }\n",
       "                        break;\n",
       "                    }\n",
       "                }\n",
       "            }, 500);\n",
       "            "
      ],
      "text/plain": [
       "<IPython.core.display.Javascript object>"
      ]
     },
     "metadata": {},
     "output_type": "display_data"
    }
   ],
   "source": [
    "# Setting max_depth to 5\n",
    "\n",
    "tree = DecisionTreeClassifier(max_depth=5)\n",
    "\n",
    "tree.fit(X_moons, y_moons)\n",
    "\n",
    "plot_decision_boundary(\n",
    "    tree,\n",
    "    X_moons,\n",
    "    y_moons,\n",
    "    axes=[\n",
    "        X_moons[:, 0].min() - 0.5,\n",
    "        X_moons[:, 0].max() + 0.5,\n",
    "        X_moons[:, 1].min() - 0.5,\n",
    "        X_moons[:, 1].max() + 0.5,\n",
    "    ],\n",
    ")"
   ]
  },
  {
   "cell_type": "markdown",
   "metadata": {},
   "source": [
    "#### The model which we have created with ```max_depth=5``` will generalize better to the test dataset for the same reasons as stated for the above model, but the `max_depth=5` model looks to be more slightly overfitted compared to `min_samples_leaf=4`"
   ]
  },
  {
   "cell_type": "markdown",
   "metadata": {},
   "source": [
    "#### Q. Comment on the boundary surface of the decision tree. \n",
    "Hint: Observe the orthogonality of the boundary"
   ]
  },
  {
   "cell_type": "markdown",
   "metadata": {},
   "source": [
    "#### The boundary surfaces consist of straight lines with 90$^\\text{o}$ edges at all the corners."
   ]
  },
  {
   "cell_type": "markdown",
   "metadata": {},
   "source": [
    "### C. Linear classifiers vs decision tree classifiers"
   ]
  },
  {
   "cell_type": "code",
   "execution_count": 48,
   "metadata": {},
   "outputs": [
    {
     "data": {
      "application/javascript": [
       "\n",
       "            setTimeout(function() {\n",
       "                var nbb_cell_id = 48;\n",
       "                var nbb_unformatted_code = \"from sklearn.linear_model import LogisticRegression\\nfrom sklearn.model_selection import train_test_split\\nfrom sklearn.metrics import accuracy_score\";\n",
       "                var nbb_formatted_code = \"from sklearn.linear_model import LogisticRegression\\nfrom sklearn.model_selection import train_test_split\\nfrom sklearn.metrics import accuracy_score\";\n",
       "                var nbb_cells = Jupyter.notebook.get_cells();\n",
       "                for (var i = 0; i < nbb_cells.length; ++i) {\n",
       "                    if (nbb_cells[i].input_prompt_number == nbb_cell_id) {\n",
       "                        if (nbb_cells[i].get_text() == nbb_unformatted_code) {\n",
       "                             nbb_cells[i].set_text(nbb_formatted_code);\n",
       "                        }\n",
       "                        break;\n",
       "                    }\n",
       "                }\n",
       "            }, 500);\n",
       "            "
      ],
      "text/plain": [
       "<IPython.core.display.Javascript object>"
      ]
     },
     "metadata": {},
     "output_type": "display_data"
    }
   ],
   "source": [
    "from sklearn.linear_model import LogisticRegression\n",
    "from sklearn.model_selection import train_test_split\n",
    "from sklearn.metrics import accuracy_score"
   ]
  },
  {
   "cell_type": "code",
   "execution_count": 60,
   "metadata": {},
   "outputs": [
    {
     "data": {
      "application/javascript": [
       "\n",
       "            setTimeout(function() {\n",
       "                var nbb_cell_id = 60;\n",
       "                var nbb_unformatted_code = \"# Generate 100 points [x1, x2] in the 2D plane using np.random.rand() for -0.5<x1<0.5 and -0.5<x2<0.5\\nx = np.random.rand(100, 2) - 0.5\\ny = np.zeros(100)\\n# Assign a label of 1 to all points having x1>0.0 and 0 otherwise\\ny[x[:, 0] > 0] = 1\\n# Rotate the dataset by 45 degrees in the [x1,x2] plane\\nrot = [[0.414, -0.414], [0.414, 0.414]]\\nx_rot = np.matmul(rot, x.T)\\nx_rot = x_rot.T\";\n",
       "                var nbb_formatted_code = \"# Generate 100 points [x1, x2] in the 2D plane using np.random.rand() for -0.5<x1<0.5 and -0.5<x2<0.5\\nx = np.random.rand(100, 2) - 0.5\\ny = np.zeros(100)\\n# Assign a label of 1 to all points having x1>0.0 and 0 otherwise\\ny[x[:, 0] > 0] = 1\\n# Rotate the dataset by 45 degrees in the [x1,x2] plane\\nrot = [[0.414, -0.414], [0.414, 0.414]]\\nx_rot = np.matmul(rot, x.T)\\nx_rot = x_rot.T\";\n",
       "                var nbb_cells = Jupyter.notebook.get_cells();\n",
       "                for (var i = 0; i < nbb_cells.length; ++i) {\n",
       "                    if (nbb_cells[i].input_prompt_number == nbb_cell_id) {\n",
       "                        if (nbb_cells[i].get_text() == nbb_unformatted_code) {\n",
       "                             nbb_cells[i].set_text(nbb_formatted_code);\n",
       "                        }\n",
       "                        break;\n",
       "                    }\n",
       "                }\n",
       "            }, 500);\n",
       "            "
      ],
      "text/plain": [
       "<IPython.core.display.Javascript object>"
      ]
     },
     "metadata": {},
     "output_type": "display_data"
    }
   ],
   "source": [
    "# Generate 100 points [x1, x2] in the 2D plane using np.random.rand() for -0.5<x1<0.5 and -0.5<x2<0.5\n",
    "x = np.random.rand(100, 2) - 0.5\n",
    "y = np.zeros(100)\n",
    "# Assign a label of 1 to all points having x1>0.0 and 0 otherwise\n",
    "y[x[:, 0] > 0] = 1\n",
    "# Rotate the dataset by 45 degrees in the [x1,x2] plane\n",
    "rot = [[0.414, -0.414], [0.414, 0.414]]\n",
    "x_rot = np.matmul(rot, x.T)\n",
    "x_rot = x_rot.T"
   ]
  },
  {
   "cell_type": "markdown",
   "metadata": {},
   "source": [
    "1. Fit a linear Logistic Regression model and Decision Tree on the x_rot\n",
    "2. Fit a linear Logistic Regression model and Decision tree on the make_moons dataset generated in A(1)\n"
   ]
  },
  {
   "cell_type": "markdown",
   "metadata": {},
   "source": [
    "### Fitting the models to x_rot"
   ]
  },
  {
   "cell_type": "code",
   "execution_count": 61,
   "metadata": {},
   "outputs": [
    {
     "data": {
      "application/javascript": [
       "\n",
       "            setTimeout(function() {\n",
       "                var nbb_cell_id = 61;\n",
       "                var nbb_unformatted_code = \"x_rot_train, x_rot_test, y_train, y_test = train_test_split(\\n    x_rot, y, test_size=0.3, random_state=1\\n)\";\n",
       "                var nbb_formatted_code = \"x_rot_train, x_rot_test, y_train, y_test = train_test_split(\\n    x_rot, y, test_size=0.3, random_state=1\\n)\";\n",
       "                var nbb_cells = Jupyter.notebook.get_cells();\n",
       "                for (var i = 0; i < nbb_cells.length; ++i) {\n",
       "                    if (nbb_cells[i].input_prompt_number == nbb_cell_id) {\n",
       "                        if (nbb_cells[i].get_text() == nbb_unformatted_code) {\n",
       "                             nbb_cells[i].set_text(nbb_formatted_code);\n",
       "                        }\n",
       "                        break;\n",
       "                    }\n",
       "                }\n",
       "            }, 500);\n",
       "            "
      ],
      "text/plain": [
       "<IPython.core.display.Javascript object>"
      ]
     },
     "metadata": {},
     "output_type": "display_data"
    }
   ],
   "source": [
    "x_rot_train, x_rot_test, y_train, y_test = train_test_split(\n",
    "    x_rot, y, test_size=0.3, random_state=1\n",
    ")"
   ]
  },
  {
   "cell_type": "code",
   "execution_count": 62,
   "metadata": {},
   "outputs": [
    {
     "name": "stdout",
     "output_type": "stream",
     "text": [
      "Trained Linear Model\n",
      "Trained Decision Tree Model\n"
     ]
    },
    {
     "data": {
      "application/javascript": [
       "\n",
       "            setTimeout(function() {\n",
       "                var nbb_cell_id = 62;\n",
       "                var nbb_unformatted_code = \"# Linear\\nlin = LogisticRegression()\\nlin.fit(x_rot_train, y_train)\\nprint(\\\"Trained Linear Model\\\")\\n\\n# Tree\\ntree = DecisionTreeClassifier()\\ntree.fit(x_rot_train, y_train)\\nprint(\\\"Trained Decision Tree Model\\\")\";\n",
       "                var nbb_formatted_code = \"# Linear\\nlin = LogisticRegression()\\nlin.fit(x_rot_train, y_train)\\nprint(\\\"Trained Linear Model\\\")\\n\\n# Tree\\ntree = DecisionTreeClassifier()\\ntree.fit(x_rot_train, y_train)\\nprint(\\\"Trained Decision Tree Model\\\")\";\n",
       "                var nbb_cells = Jupyter.notebook.get_cells();\n",
       "                for (var i = 0; i < nbb_cells.length; ++i) {\n",
       "                    if (nbb_cells[i].input_prompt_number == nbb_cell_id) {\n",
       "                        if (nbb_cells[i].get_text() == nbb_unformatted_code) {\n",
       "                             nbb_cells[i].set_text(nbb_formatted_code);\n",
       "                        }\n",
       "                        break;\n",
       "                    }\n",
       "                }\n",
       "            }, 500);\n",
       "            "
      ],
      "text/plain": [
       "<IPython.core.display.Javascript object>"
      ]
     },
     "metadata": {},
     "output_type": "display_data"
    }
   ],
   "source": [
    "# Linear\n",
    "lin = LogisticRegression()\n",
    "lin.fit(x_rot_train, y_train)\n",
    "print(\"Trained Linear Model\")\n",
    "\n",
    "# Tree\n",
    "tree = DecisionTreeClassifier()\n",
    "tree.fit(x_rot_train, y_train)\n",
    "print(\"Trained Decision Tree Model\")"
   ]
  },
  {
   "cell_type": "code",
   "execution_count": 63,
   "metadata": {},
   "outputs": [
    {
     "name": "stdout",
     "output_type": "stream",
     "text": [
      "Accuracy on Test Data for Linear : 0.933\n",
      "Accuracy on Test Data for Tree : 0.933\n"
     ]
    },
    {
     "data": {
      "application/javascript": [
       "\n",
       "            setTimeout(function() {\n",
       "                var nbb_cell_id = 63;\n",
       "                var nbb_unformatted_code = \"print(\\n    \\\"Accuracy on Test Data for Linear :\\\",\\n    round(accuracy_score(lin.predict(x_rot_test), y_test), 3),\\n)\\nprint(\\n    \\\"Accuracy on Test Data for Tree :\\\",\\n    round(accuracy_score(tree.predict(x_rot_test), y_test), 3),\\n)\";\n",
       "                var nbb_formatted_code = \"print(\\n    \\\"Accuracy on Test Data for Linear :\\\",\\n    round(accuracy_score(lin.predict(x_rot_test), y_test), 3),\\n)\\nprint(\\n    \\\"Accuracy on Test Data for Tree :\\\",\\n    round(accuracy_score(tree.predict(x_rot_test), y_test), 3),\\n)\";\n",
       "                var nbb_cells = Jupyter.notebook.get_cells();\n",
       "                for (var i = 0; i < nbb_cells.length; ++i) {\n",
       "                    if (nbb_cells[i].input_prompt_number == nbb_cell_id) {\n",
       "                        if (nbb_cells[i].get_text() == nbb_unformatted_code) {\n",
       "                             nbb_cells[i].set_text(nbb_formatted_code);\n",
       "                        }\n",
       "                        break;\n",
       "                    }\n",
       "                }\n",
       "            }, 500);\n",
       "            "
      ],
      "text/plain": [
       "<IPython.core.display.Javascript object>"
      ]
     },
     "metadata": {},
     "output_type": "display_data"
    }
   ],
   "source": [
    "print(\n",
    "    \"Accuracy on Test Data for Linear on x_rot data :\",\n",
    "    round(accuracy_score(lin.predict(x_rot_test), y_test), 3),\n",
    ")\n",
    "print(\n",
    "    \"Accuracy on Test Data for Tree on x_rot data :\",\n",
    "    round(accuracy_score(tree.predict(x_rot_test), y_test), 3),\n",
    ")"
   ]
  },
  {
   "cell_type": "markdown",
   "metadata": {},
   "source": [
    "#### Plot of decision boundary with linear model"
   ]
  },
  {
   "cell_type": "code",
   "execution_count": 64,
   "metadata": {},
   "outputs": [
    {
     "data": {
      "image/png": "[encoded data removed]",
      "text/plain": [
       "<Figure size 432x288 with 1 Axes>"
      ]
     },
     "metadata": {
      "needs_background": "light"
     },
     "output_type": "display_data"
    },
    {
     "data": {
      "application/javascript": [
       "\n",
       "            setTimeout(function() {\n",
       "                var nbb_cell_id = 64;\n",
       "                var nbb_unformatted_code = \"plot_decision_boundary(lin, x_rot, y, axes=[-0.75, 0.75, -0.75, 0.75])\";\n",
       "                var nbb_formatted_code = \"plot_decision_boundary(lin, x_rot, y, axes=[-0.75, 0.75, -0.75, 0.75])\";\n",
       "                var nbb_cells = Jupyter.notebook.get_cells();\n",
       "                for (var i = 0; i < nbb_cells.length; ++i) {\n",
       "                    if (nbb_cells[i].input_prompt_number == nbb_cell_id) {\n",
       "                        if (nbb_cells[i].get_text() == nbb_unformatted_code) {\n",
       "                             nbb_cells[i].set_text(nbb_formatted_code);\n",
       "                        }\n",
       "                        break;\n",
       "                    }\n",
       "                }\n",
       "            }, 500);\n",
       "            "
      ],
      "text/plain": [
       "<IPython.core.display.Javascript object>"
      ]
     },
     "metadata": {},
     "output_type": "display_data"
    }
   ],
   "source": [
    "plot_decision_boundary(lin, x_rot, y, axes=[-0.75, 0.75, -0.75, 0.75])"
   ]
  },
  {
   "cell_type": "markdown",
   "metadata": {},
   "source": [
    "#### Plot of decision boundary with decision tree model"
   ]
  },
  {
   "cell_type": "code",
   "execution_count": 65,
   "metadata": {},
   "outputs": [
    {
     "data": {
      "image/png": "[encoded data removed]",
      "text/plain": [
       "<Figure size 432x288 with 1 Axes>"
      ]
     },
     "metadata": {
      "needs_background": "light"
     },
     "output_type": "display_data"
    },
    {
     "data": {
      "application/javascript": [
       "\n",
       "            setTimeout(function() {\n",
       "                var nbb_cell_id = 65;\n",
       "                var nbb_unformatted_code = \"plot_decision_boundary(tree, x_rot, y, axes=[-0.75, 0.75, -0.75, 0.75])\";\n",
       "                var nbb_formatted_code = \"plot_decision_boundary(tree, x_rot, y, axes=[-0.75, 0.75, -0.75, 0.75])\";\n",
       "                var nbb_cells = Jupyter.notebook.get_cells();\n",
       "                for (var i = 0; i < nbb_cells.length; ++i) {\n",
       "                    if (nbb_cells[i].input_prompt_number == nbb_cell_id) {\n",
       "                        if (nbb_cells[i].get_text() == nbb_unformatted_code) {\n",
       "                             nbb_cells[i].set_text(nbb_formatted_code);\n",
       "                        }\n",
       "                        break;\n",
       "                    }\n",
       "                }\n",
       "            }, 500);\n",
       "            "
      ],
      "text/plain": [
       "<IPython.core.display.Javascript object>"
      ]
     },
     "metadata": {},
     "output_type": "display_data"
    }
   ],
   "source": [
    "plot_decision_boundary(tree, x_rot, y, axes=[-0.75, 0.75, -0.75, 0.75])"
   ]
  },
  {
   "cell_type": "markdown",
   "metadata": {},
   "source": [
    "### FItting the models on make_moons dataset"
   ]
  },
  {
   "cell_type": "code",
   "execution_count": 66,
   "metadata": {},
   "outputs": [
    {
     "data": {
      "application/javascript": [
       "\n",
       "            setTimeout(function() {\n",
       "                var nbb_cell_id = 66;\n",
       "                var nbb_unformatted_code = \"X_train, X_test, y_train, y_test = train_test_split(\\n    X_moons, y_moons, test_size=0.3, random_state=1\\n)\";\n",
       "                var nbb_formatted_code = \"X_train, X_test, y_train, y_test = train_test_split(\\n    X_moons, y_moons, test_size=0.3, random_state=1\\n)\";\n",
       "                var nbb_cells = Jupyter.notebook.get_cells();\n",
       "                for (var i = 0; i < nbb_cells.length; ++i) {\n",
       "                    if (nbb_cells[i].input_prompt_number == nbb_cell_id) {\n",
       "                        if (nbb_cells[i].get_text() == nbb_unformatted_code) {\n",
       "                             nbb_cells[i].set_text(nbb_formatted_code);\n",
       "                        }\n",
       "                        break;\n",
       "                    }\n",
       "                }\n",
       "            }, 500);\n",
       "            "
      ],
      "text/plain": [
       "<IPython.core.display.Javascript object>"
      ]
     },
     "metadata": {},
     "output_type": "display_data"
    }
   ],
   "source": [
    "X_train, X_test, y_train, y_test = train_test_split(\n",
    "    X_moons, y_moons, test_size=0.3, random_state=1\n",
    ")"
   ]
  },
  {
   "cell_type": "code",
   "execution_count": 67,
   "metadata": {},
   "outputs": [
    {
     "name": "stdout",
     "output_type": "stream",
     "text": [
      "Trained Linear Model\n",
      "Trained Decision Tree Model\n"
     ]
    },
    {
     "data": {
      "application/javascript": [
       "\n",
       "            setTimeout(function() {\n",
       "                var nbb_cell_id = 67;\n",
       "                var nbb_unformatted_code = \"# Linear\\nlin = LogisticRegression()\\nlin.fit(X_train, y_train)\\nprint(\\\"Trained Linear Model\\\")\\n\\n# Tree\\ntree = DecisionTreeClassifier()\\ntree.fit(X_train, y_train)\\nprint(\\\"Trained Decision Tree Model\\\")\";\n",
       "                var nbb_formatted_code = \"# Linear\\nlin = LogisticRegression()\\nlin.fit(X_train, y_train)\\nprint(\\\"Trained Linear Model\\\")\\n\\n# Tree\\ntree = DecisionTreeClassifier()\\ntree.fit(X_train, y_train)\\nprint(\\\"Trained Decision Tree Model\\\")\";\n",
       "                var nbb_cells = Jupyter.notebook.get_cells();\n",
       "                for (var i = 0; i < nbb_cells.length; ++i) {\n",
       "                    if (nbb_cells[i].input_prompt_number == nbb_cell_id) {\n",
       "                        if (nbb_cells[i].get_text() == nbb_unformatted_code) {\n",
       "                             nbb_cells[i].set_text(nbb_formatted_code);\n",
       "                        }\n",
       "                        break;\n",
       "                    }\n",
       "                }\n",
       "            }, 500);\n",
       "            "
      ],
      "text/plain": [
       "<IPython.core.display.Javascript object>"
      ]
     },
     "metadata": {},
     "output_type": "display_data"
    }
   ],
   "source": [
    "# Linear\n",
    "lin = LogisticRegression()\n",
    "lin.fit(X_train, y_train)\n",
    "print(\"Trained Linear Model\")\n",
    "\n",
    "# Tree\n",
    "tree = DecisionTreeClassifier()\n",
    "tree.fit(X_train, y_train)\n",
    "print(\"Trained Decision Tree Model\")"
   ]
  },
  {
   "cell_type": "code",
   "execution_count": 71,
   "metadata": {
    "scrolled": true
   },
   "outputs": [
    {
     "name": "stdout",
     "output_type": "stream",
     "text": [
      "Accuracy on Test Data for Linear on make_moons: 0.833\n",
      "Accuracy on Test Data for Tree on make_moons: 0.967\n"
     ]
    },
    {
     "data": {
      "application/javascript": [
       "\n",
       "            setTimeout(function() {\n",
       "                var nbb_cell_id = 71;\n",
       "                var nbb_unformatted_code = \"print(\\n    \\\"Accuracy on Test Data for Linear on make_moons:\\\",\\n    round(accuracy_score(lin.predict(X_test), y_test), 3),\\n)\\nprint(\\n    \\\"Accuracy on Test Data for Tree on make_moons:\\\",\\n    round(accuracy_score(tree.predict(X_test), y_test), 3),\\n)\";\n",
       "                var nbb_formatted_code = \"print(\\n    \\\"Accuracy on Test Data for Linear on make_moons:\\\",\\n    round(accuracy_score(lin.predict(X_test), y_test), 3),\\n)\\nprint(\\n    \\\"Accuracy on Test Data for Tree on make_moons:\\\",\\n    round(accuracy_score(tree.predict(X_test), y_test), 3),\\n)\";\n",
       "                var nbb_cells = Jupyter.notebook.get_cells();\n",
       "                for (var i = 0; i < nbb_cells.length; ++i) {\n",
       "                    if (nbb_cells[i].input_prompt_number == nbb_cell_id) {\n",
       "                        if (nbb_cells[i].get_text() == nbb_unformatted_code) {\n",
       "                             nbb_cells[i].set_text(nbb_formatted_code);\n",
       "                        }\n",
       "                        break;\n",
       "                    }\n",
       "                }\n",
       "            }, 500);\n",
       "            "
      ],
      "text/plain": [
       "<IPython.core.display.Javascript object>"
      ]
     },
     "metadata": {},
     "output_type": "display_data"
    }
   ],
   "source": [
    "print(\n",
    "    \"Accuracy on Test Data for Linear on make_moons:\",\n",
    "    round(accuracy_score(lin.predict(X_test), y_test), 3),\n",
    ")\n",
    "print(\n",
    "    \"Accuracy on Test Data for Tree on make_moons:\",\n",
    "    round(accuracy_score(tree.predict(X_test), y_test), 3),\n",
    ")"
   ]
  },
  {
   "cell_type": "markdown",
   "metadata": {},
   "source": [
    "#### Plotting the decision boundary for linear model"
   ]
  },
  {
   "cell_type": "code",
   "execution_count": 72,
   "metadata": {},
   "outputs": [
    {
     "data": {
      "image/png": "[encoded data removed]",
      "text/plain": [
       "<Figure size 432x288 with 1 Axes>"
      ]
     },
     "metadata": {
      "needs_background": "light"
     },
     "output_type": "display_data"
    },
    {
     "data": {
      "application/javascript": [
       "\n",
       "            setTimeout(function() {\n",
       "                var nbb_cell_id = 72;\n",
       "                var nbb_unformatted_code = \"plot_decision_boundary(\\n    lin,\\n    X_moons,\\n    y_moons,\\n    axes=[\\n        X_moons[:, 0].min() - 0.5,\\n        X_moons[:, 0].max() + 0.5,\\n        X_moons[:, 1].min() - 0.5,\\n        X_moons[:, 1].max() + 0.5,\\n    ],\\n)\";\n",
       "                var nbb_formatted_code = \"plot_decision_boundary(\\n    lin,\\n    X_moons,\\n    y_moons,\\n    axes=[\\n        X_moons[:, 0].min() - 0.5,\\n        X_moons[:, 0].max() + 0.5,\\n        X_moons[:, 1].min() - 0.5,\\n        X_moons[:, 1].max() + 0.5,\\n    ],\\n)\";\n",
       "                var nbb_cells = Jupyter.notebook.get_cells();\n",
       "                for (var i = 0; i < nbb_cells.length; ++i) {\n",
       "                    if (nbb_cells[i].input_prompt_number == nbb_cell_id) {\n",
       "                        if (nbb_cells[i].get_text() == nbb_unformatted_code) {\n",
       "                             nbb_cells[i].set_text(nbb_formatted_code);\n",
       "                        }\n",
       "                        break;\n",
       "                    }\n",
       "                }\n",
       "            }, 500);\n",
       "            "
      ],
      "text/plain": [
       "<IPython.core.display.Javascript object>"
      ]
     },
     "metadata": {},
     "output_type": "display_data"
    }
   ],
   "source": [
    "plot_decision_boundary(\n",
    "    lin,\n",
    "    X_moons,\n",
    "    y_moons,\n",
    "    axes=[\n",
    "        X_moons[:, 0].min() - 0.5,\n",
    "        X_moons[:, 0].max() + 0.5,\n",
    "        X_moons[:, 1].min() - 0.5,\n",
    "        X_moons[:, 1].max() + 0.5,\n",
    "    ],\n",
    ")"
   ]
  },
  {
   "cell_type": "markdown",
   "metadata": {},
   "source": [
    "#### Plotting the decision boundary for decision tree model"
   ]
  },
  {
   "cell_type": "code",
   "execution_count": 73,
   "metadata": {},
   "outputs": [
    {
     "data": {
      "image/png": "[encoded data removed]",
      "text/plain": [
       "<Figure size 432x288 with 1 Axes>"
      ]
     },
     "metadata": {
      "needs_background": "light"
     },
     "output_type": "display_data"
    },
    {
     "data": {
      "application/javascript": [
       "\n",
       "            setTimeout(function() {\n",
       "                var nbb_cell_id = 73;\n",
       "                var nbb_unformatted_code = \"plot_decision_boundary(\\n    tree,\\n    X_moons,\\n    y_moons,\\n    axes=[\\n        X_moons[:, 0].min() - 0.5,\\n        X_moons[:, 0].max() + 0.5,\\n        X_moons[:, 1].min() - 0.5,\\n        X_moons[:, 1].max() + 0.5,\\n    ],\\n)\";\n",
       "                var nbb_formatted_code = \"plot_decision_boundary(\\n    tree,\\n    X_moons,\\n    y_moons,\\n    axes=[\\n        X_moons[:, 0].min() - 0.5,\\n        X_moons[:, 0].max() + 0.5,\\n        X_moons[:, 1].min() - 0.5,\\n        X_moons[:, 1].max() + 0.5,\\n    ],\\n)\";\n",
       "                var nbb_cells = Jupyter.notebook.get_cells();\n",
       "                for (var i = 0; i < nbb_cells.length; ++i) {\n",
       "                    if (nbb_cells[i].input_prompt_number == nbb_cell_id) {\n",
       "                        if (nbb_cells[i].get_text() == nbb_unformatted_code) {\n",
       "                             nbb_cells[i].set_text(nbb_formatted_code);\n",
       "                        }\n",
       "                        break;\n",
       "                    }\n",
       "                }\n",
       "            }, 500);\n",
       "            "
      ],
      "text/plain": [
       "<IPython.core.display.Javascript object>"
      ]
     },
     "metadata": {},
     "output_type": "display_data"
    }
   ],
   "source": [
    "plot_decision_boundary(\n",
    "    tree,\n",
    "    X_moons,\n",
    "    y_moons,\n",
    "    axes=[\n",
    "        X_moons[:, 0].min() - 0.5,\n",
    "        X_moons[:, 0].max() + 0.5,\n",
    "        X_moons[:, 1].min() - 0.5,\n",
    "        X_moons[:, 1].max() + 0.5,\n",
    "    ],\n",
    ")"
   ]
  },
  {
   "cell_type": "markdown",
   "metadata": {},
   "source": [
    "Q. Compare the performance of Decision Trees and logistic regression on the two datasets"
   ]
  },
  {
   "cell_type": "markdown",
   "metadata": {},
   "source": [
    "#### The above cases shows evidence of the fact of decision trees being able to handle complex data very well. We see that x_rot dataset is extremely simple and both the classifiers are able to fit it very well. But in the case of the make_moons which is a complex data, we see that the linear classifier does not do so well, but the decision tree first the data very well (although the fit looks somewhat like a overfit)."
   ]
  },
  {
   "cell_type": "markdown",
   "metadata": {},
   "source": [
    "### D. Regression using decision trees"
   ]
  },
  {
   "cell_type": "markdown",
   "metadata": {},
   "source": [
    "1. Train a regression tree on the noisy sine dataset given below with three different max_depth values : $2, 3$ and $4$.\n",
    "2. Plot the divisions of the input space and the predicted value in each division of the input space using the helper function plot_regression_predictions provided to you below for each regression tree model in (1)."
   ]
  },
  {
   "cell_type": "code",
   "execution_count": 76,
   "metadata": {},
   "outputs": [
    {
     "data": {
      "application/javascript": [
       "\n",
       "            setTimeout(function() {\n",
       "                var nbb_cell_id = 76;\n",
       "                var nbb_unformatted_code = \"def plot_regression_predictions(tree_reg, X, y, axes=[0, 1, -0.2, 1], ylabel=\\\"$y$\\\"):\\n    x1 = np.linspace(axes[0], axes[1], 500).reshape(-1, 1)\\n    y_pred = tree_reg.predict(x1)\\n    plt.axis(axes)\\n    plt.xlabel(\\\"$x_1$\\\", fontsize=18)\\n    if ylabel:\\n        plt.ylabel(ylabel, fontsize=18, rotation=0)\\n    plt.plot(X, y, \\\"b.\\\")\\n    plt.plot(x1, y_pred, \\\"r.-\\\", linewidth=2, label=r\\\"$\\\\hat{y}$\\\")\\n\\n\\n# Sine + noise training set\\nnp.random.seed(10)\\nX = np.random.rand(150, 1)\\ny = np.sin(2 * np.pi * X) + np.random.randn(150, 1) / 10\";\n",
       "                var nbb_formatted_code = \"def plot_regression_predictions(tree_reg, X, y, axes=[0, 1, -0.2, 1], ylabel=\\\"$y$\\\"):\\n    x1 = np.linspace(axes[0], axes[1], 500).reshape(-1, 1)\\n    y_pred = tree_reg.predict(x1)\\n    plt.axis(axes)\\n    plt.xlabel(\\\"$x_1$\\\", fontsize=18)\\n    if ylabel:\\n        plt.ylabel(ylabel, fontsize=18, rotation=0)\\n    plt.plot(X, y, \\\"b.\\\")\\n    plt.plot(x1, y_pred, \\\"r.-\\\", linewidth=2, label=r\\\"$\\\\hat{y}$\\\")\\n\\n\\n# Sine + noise training set\\nnp.random.seed(10)\\nX = np.random.rand(150, 1)\\ny = np.sin(2 * np.pi * X) + np.random.randn(150, 1) / 10\";\n",
       "                var nbb_cells = Jupyter.notebook.get_cells();\n",
       "                for (var i = 0; i < nbb_cells.length; ++i) {\n",
       "                    if (nbb_cells[i].input_prompt_number == nbb_cell_id) {\n",
       "                        if (nbb_cells[i].get_text() == nbb_unformatted_code) {\n",
       "                             nbb_cells[i].set_text(nbb_formatted_code);\n",
       "                        }\n",
       "                        break;\n",
       "                    }\n",
       "                }\n",
       "            }, 500);\n",
       "            "
      ],
      "text/plain": [
       "<IPython.core.display.Javascript object>"
      ]
     },
     "metadata": {},
     "output_type": "display_data"
    }
   ],
   "source": [
    "def plot_regression_predictions(tree_reg, X, y, axes=[0, 1, -0.2, 1], ylabel=\"$y$\"):\n",
    "    x1 = np.linspace(axes[0], axes[1], 500).reshape(-1, 1)\n",
    "    y_pred = tree_reg.predict(x1)\n",
    "    plt.axis(axes)\n",
    "    plt.xlabel(\"$x_1$\", fontsize=18)\n",
    "    if ylabel:\n",
    "        plt.ylabel(ylabel, fontsize=18, rotation=0)\n",
    "    plt.plot(X, y, \"b.\")\n",
    "    plt.plot(x1, y_pred, \"r.-\", linewidth=2, label=r\"$\\hat{y}$\")\n",
    "\n",
    "\n",
    "# Sine + noise training set\n",
    "np.random.seed(10)\n",
    "X = np.random.rand(150, 1)\n",
    "y = np.sin(2 * np.pi * X) + np.random.randn(150, 1) / 10"
   ]
  },
  {
   "cell_type": "code",
   "execution_count": 77,
   "metadata": {},
   "outputs": [
    {
     "data": {
      "application/javascript": [
       "\n",
       "            setTimeout(function() {\n",
       "                var nbb_cell_id = 77;\n",
       "                var nbb_unformatted_code = \"from sklearn.tree import DecisionTreeRegressor\";\n",
       "                var nbb_formatted_code = \"from sklearn.tree import DecisionTreeRegressor\";\n",
       "                var nbb_cells = Jupyter.notebook.get_cells();\n",
       "                for (var i = 0; i < nbb_cells.length; ++i) {\n",
       "                    if (nbb_cells[i].input_prompt_number == nbb_cell_id) {\n",
       "                        if (nbb_cells[i].get_text() == nbb_unformatted_code) {\n",
       "                             nbb_cells[i].set_text(nbb_formatted_code);\n",
       "                        }\n",
       "                        break;\n",
       "                    }\n",
       "                }\n",
       "            }, 500);\n",
       "            "
      ],
      "text/plain": [
       "<IPython.core.display.Javascript object>"
      ]
     },
     "metadata": {},
     "output_type": "display_data"
    }
   ],
   "source": [
    "from sklearn.tree import DecisionTreeRegressor"
   ]
  },
  {
   "cell_type": "code",
   "execution_count": 84,
   "metadata": {},
   "outputs": [
    {
     "data": {
      "image/png": "[encoded data removed]",
      "text/plain": [
       "<Figure size 432x288 with 1 Axes>"
      ]
     },
     "metadata": {
      "needs_background": "light"
     },
     "output_type": "display_data"
    },
    {
     "data": {
      "image/png": "[encoded data removed]",
      "text/plain": [
       "<Figure size 432x288 with 1 Axes>"
      ]
     },
     "metadata": {
      "needs_background": "light"
     },
     "output_type": "display_data"
    },
    {
     "data": {
      "image/png": "[encoded data removed]",
      "text/plain": [
       "<Figure size 432x288 with 1 Axes>"
      ]
     },
     "metadata": {
      "needs_background": "light"
     },
     "output_type": "display_data"
    },
    {
     "data": {
      "application/javascript": [
       "\n",
       "            setTimeout(function() {\n",
       "                var nbb_cell_id = 84;\n",
       "                var nbb_unformatted_code = \"for i in range(2, 5):\\n    tree_reg = DecisionTreeRegressor(max_depth=i)\\n    tree_reg.fit(X, y)\\n    plot_regression_predictions(\\n        tree_reg, X, y, [X.min() - 0.5, X.max() + 0.5, y.min() - 0.5, y.max() + 0.5],\\n    )\\n    plt.title(\\\"max_depth :\\\" + str(i))\\n    plt.show()\";\n",
       "                var nbb_formatted_code = \"for i in range(2, 5):\\n    tree_reg = DecisionTreeRegressor(max_depth=i)\\n    tree_reg.fit(X, y)\\n    plot_regression_predictions(\\n        tree_reg, X, y, [X.min() - 0.5, X.max() + 0.5, y.min() - 0.5, y.max() + 0.5],\\n    )\\n    plt.title(\\\"max_depth :\\\" + str(i))\\n    plt.show()\";\n",
       "                var nbb_cells = Jupyter.notebook.get_cells();\n",
       "                for (var i = 0; i < nbb_cells.length; ++i) {\n",
       "                    if (nbb_cells[i].input_prompt_number == nbb_cell_id) {\n",
       "                        if (nbb_cells[i].get_text() == nbb_unformatted_code) {\n",
       "                             nbb_cells[i].set_text(nbb_formatted_code);\n",
       "                        }\n",
       "                        break;\n",
       "                    }\n",
       "                }\n",
       "            }, 500);\n",
       "            "
      ],
      "text/plain": [
       "<IPython.core.display.Javascript object>"
      ]
     },
     "metadata": {},
     "output_type": "display_data"
    }
   ],
   "source": [
    "for i in range(2, 5):\n",
    "    tree_reg = DecisionTreeRegressor(max_depth=i)\n",
    "    tree_reg.fit(X, y)\n",
    "    plot_regression_predictions(\n",
    "        tree_reg, X, y, [X.min() - 0.5, X.max() + 0.5, y.min() - 0.5, y.max() + 0.5],\n",
    "    )\n",
    "    plt.title(\"max_depth :\" + str(i))\n",
    "    plt.show()"
   ]
  },
  {
   "cell_type": "markdown",
   "metadata": {},
   "source": [
    "### E. Overfitting in regression trees"
   ]
  },
  {
   "cell_type": "markdown",
   "metadata": {},
   "source": [
    "1. Fit another regression tree on the dataset used above, with no restrictions on the regularization hyperparameters of the model. Plot the predicted value in all input space divisions.\n",
    "2. What do you observe? Do regression trees too have a tendency to overfit if no regularization is applied? "
   ]
  },
  {
   "cell_type": "code",
   "execution_count": 86,
   "metadata": {},
   "outputs": [
    {
     "data": {
      "image/png": "[encoded data removed]",
      "text/plain": [
       "<Figure size 432x288 with 1 Axes>"
      ]
     },
     "metadata": {
      "needs_background": "light"
     },
     "output_type": "display_data"
    },
    {
     "data": {
      "application/javascript": [
       "\n",
       "            setTimeout(function() {\n",
       "                var nbb_cell_id = 86;\n",
       "                var nbb_unformatted_code = \"tree_reg = DecisionTreeRegressor()\\ntree_reg.fit(X, y)\\nplot_regression_predictions(\\n    tree_reg, X, y, [X.min() - 0.5, X.max() + 0.5, y.min() - 0.5, y.max() + 0.5],\\n)\\nplt.title(\\\"max_depth : Not set\\\")\\nplt.show()\";\n",
       "                var nbb_formatted_code = \"tree_reg = DecisionTreeRegressor()\\ntree_reg.fit(X, y)\\nplot_regression_predictions(\\n    tree_reg, X, y, [X.min() - 0.5, X.max() + 0.5, y.min() - 0.5, y.max() + 0.5],\\n)\\nplt.title(\\\"max_depth : Not set\\\")\\nplt.show()\";\n",
       "                var nbb_cells = Jupyter.notebook.get_cells();\n",
       "                for (var i = 0; i < nbb_cells.length; ++i) {\n",
       "                    if (nbb_cells[i].input_prompt_number == nbb_cell_id) {\n",
       "                        if (nbb_cells[i].get_text() == nbb_unformatted_code) {\n",
       "                             nbb_cells[i].set_text(nbb_formatted_code);\n",
       "                        }\n",
       "                        break;\n",
       "                    }\n",
       "                }\n",
       "            }, 500);\n",
       "            "
      ],
      "text/plain": [
       "<IPython.core.display.Javascript object>"
      ]
     },
     "metadata": {},
     "output_type": "display_data"
    }
   ],
   "source": [
    "tree_reg = DecisionTreeRegressor()\n",
    "tree_reg.fit(X, y)\n",
    "plot_regression_predictions(\n",
    "    tree_reg, X, y, [X.min() - 0.5, X.max() + 0.5, y.min() - 0.5, y.max() + 0.5],\n",
    ")\n",
    "plt.title(\"max_depth : Not set\")\n",
    "plt.show()"
   ]
  },
  {
   "cell_type": "markdown",
   "metadata": {},
   "source": [
    "#### From the above instances we see that regression trees also tend to overfit the data, but the overfitting is much less compared to the cases of Linear Regression due to nature of the data being classified."
   ]
  },
  {
   "cell_type": "markdown",
   "metadata": {},
   "source": [
    "### F. Fine-tuning a decision tree "
   ]
  },
  {
   "cell_type": "markdown",
   "metadata": {},
   "source": [
    "1. Generate a moons dataset using make_moons (n_samples=$10000$, noise=$0.5$). Random seed = 42 \n",
    "2. Split it into a training set and a test set. \n",
    "3. Use grid search with cross-validation (with the help of GridSearchCV) to find good hyperparameter values for max_leaf_nodes and min_samples_split. Try values ranging from $2$ to $35$ for max_leaf_nodes and $2$ to $10$ for min_samples_split. Report the optimal hyperparameter values.\n",
    "4. Train the decision tree classifier on the full training set using these optimal hyperparameters, and report your model's performance on the test set."
   ]
  },
  {
   "cell_type": "code",
   "execution_count": 88,
   "metadata": {},
   "outputs": [
    {
     "data": {
      "application/javascript": [
       "\n",
       "            setTimeout(function() {\n",
       "                var nbb_cell_id = 88;\n",
       "                var nbb_unformatted_code = \"from sklearn.model_selection import GridSearchCV\";\n",
       "                var nbb_formatted_code = \"from sklearn.model_selection import GridSearchCV\";\n",
       "                var nbb_cells = Jupyter.notebook.get_cells();\n",
       "                for (var i = 0; i < nbb_cells.length; ++i) {\n",
       "                    if (nbb_cells[i].input_prompt_number == nbb_cell_id) {\n",
       "                        if (nbb_cells[i].get_text() == nbb_unformatted_code) {\n",
       "                             nbb_cells[i].set_text(nbb_formatted_code);\n",
       "                        }\n",
       "                        break;\n",
       "                    }\n",
       "                }\n",
       "            }, 500);\n",
       "            "
      ],
      "text/plain": [
       "<IPython.core.display.Javascript object>"
      ]
     },
     "metadata": {},
     "output_type": "display_data"
    }
   ],
   "source": [
    "from sklearn.model_selection import GridSearchCV"
   ]
  },
  {
   "cell_type": "code",
   "execution_count": 98,
   "metadata": {},
   "outputs": [
    {
     "data": {
      "text/plain": [
       "GridSearchCV(estimator=DecisionTreeClassifier(),\n",
       "             param_grid={'max_leaf_nodes': range(2, 36),\n",
       "                         'min_samples_split': range(2, 11)})"
      ]
     },
     "execution_count": 98,
     "metadata": {},
     "output_type": "execute_result"
    },
    {
     "data": {
      "application/javascript": [
       "\n",
       "            setTimeout(function() {\n",
       "                var nbb_cell_id = 98;\n",
       "                var nbb_unformatted_code = \"X_moons_new, y_moons_new = make_moons(n_samples=10000, noise=0.5, random_state=42)\\n\\nX_train_new, X_test_new, y_train_new, y_test_new = train_test_split(\\n    X_moons_new, y_moons_new, test_size=0.2, random_state=1\\n)\\n\\nparams = {\\\"max_leaf_nodes\\\": range(2, 36), \\\"min_samples_split\\\": range(2, 11)}\\n\\ntree = DecisionTreeClassifier()\\n\\ncv = GridSearchCV(tree, params)\\n\\ncv.fit(X_train_new, y_train_new)\";\n",
       "                var nbb_formatted_code = \"X_moons_new, y_moons_new = make_moons(n_samples=10000, noise=0.5, random_state=42)\\n\\nX_train_new, X_test_new, y_train_new, y_test_new = train_test_split(\\n    X_moons_new, y_moons_new, test_size=0.2, random_state=1\\n)\\n\\nparams = {\\\"max_leaf_nodes\\\": range(2, 36), \\\"min_samples_split\\\": range(2, 11)}\\n\\ntree = DecisionTreeClassifier()\\n\\ncv = GridSearchCV(tree, params)\\n\\ncv.fit(X_train_new, y_train_new)\";\n",
       "                var nbb_cells = Jupyter.notebook.get_cells();\n",
       "                for (var i = 0; i < nbb_cells.length; ++i) {\n",
       "                    if (nbb_cells[i].input_prompt_number == nbb_cell_id) {\n",
       "                        if (nbb_cells[i].get_text() == nbb_unformatted_code) {\n",
       "                             nbb_cells[i].set_text(nbb_formatted_code);\n",
       "                        }\n",
       "                        break;\n",
       "                    }\n",
       "                }\n",
       "            }, 500);\n",
       "            "
      ],
      "text/plain": [
       "<IPython.core.display.Javascript object>"
      ]
     },
     "metadata": {},
     "output_type": "display_data"
    }
   ],
   "source": [
    "X_moons_new, y_moons_new = make_moons(n_samples=10000, noise=0.5, random_state=42)\n",
    "\n",
    "X_train_new, X_test_new, y_train_new, y_test_new = train_test_split(\n",
    "    X_moons_new, y_moons_new, test_size=0.2, random_state=1\n",
    ")\n",
    "\n",
    "params = {\"max_leaf_nodes\": range(2, 36), \"min_samples_split\": range(2, 11)}\n",
    "\n",
    "tree = DecisionTreeClassifier()\n",
    "\n",
    "cv = GridSearchCV(tree, params)\n",
    "\n",
    "cv.fit(X_train_new, y_train_new)"
   ]
  },
  {
   "cell_type": "code",
   "execution_count": 99,
   "metadata": {},
   "outputs": [
    {
     "name": "stdout",
     "output_type": "stream",
     "text": [
      "Best hyperparameters : {'max_leaf_nodes': 15, 'min_samples_split': 2}\n"
     ]
    },
    {
     "data": {
      "application/javascript": [
       "\n",
       "            setTimeout(function() {\n",
       "                var nbb_cell_id = 99;\n",
       "                var nbb_unformatted_code = \"print(\\\"Best hyperparameters :\\\",cv.best_params_)\";\n",
       "                var nbb_formatted_code = \"print(\\\"Best hyperparameters :\\\", cv.best_params_)\";\n",
       "                var nbb_cells = Jupyter.notebook.get_cells();\n",
       "                for (var i = 0; i < nbb_cells.length; ++i) {\n",
       "                    if (nbb_cells[i].input_prompt_number == nbb_cell_id) {\n",
       "                        if (nbb_cells[i].get_text() == nbb_unformatted_code) {\n",
       "                             nbb_cells[i].set_text(nbb_formatted_code);\n",
       "                        }\n",
       "                        break;\n",
       "                    }\n",
       "                }\n",
       "            }, 500);\n",
       "            "
      ],
      "text/plain": [
       "<IPython.core.display.Javascript object>"
      ]
     },
     "metadata": {},
     "output_type": "display_data"
    }
   ],
   "source": [
    "print(\"Best hyperparameters :\", cv.best_params_)"
   ]
  },
  {
   "cell_type": "code",
   "execution_count": 100,
   "metadata": {},
   "outputs": [
    {
     "data": {
      "application/javascript": [
       "\n",
       "            setTimeout(function() {\n",
       "                var nbb_cell_id = 100;\n",
       "                var nbb_unformatted_code = \"best_tree = DecisionTreeClassifier(\\n    max_leaf_nodes=cv.best_params_[\\\"max_leaf_nodes\\\"],\\n    min_samples_split=cv.best_params_[\\\"min_samples_split\\\"],\\n)\";\n",
       "                var nbb_formatted_code = \"best_tree = DecisionTreeClassifier(\\n    max_leaf_nodes=cv.best_params_[\\\"max_leaf_nodes\\\"],\\n    min_samples_split=cv.best_params_[\\\"min_samples_split\\\"],\\n)\";\n",
       "                var nbb_cells = Jupyter.notebook.get_cells();\n",
       "                for (var i = 0; i < nbb_cells.length; ++i) {\n",
       "                    if (nbb_cells[i].input_prompt_number == nbb_cell_id) {\n",
       "                        if (nbb_cells[i].get_text() == nbb_unformatted_code) {\n",
       "                             nbb_cells[i].set_text(nbb_formatted_code);\n",
       "                        }\n",
       "                        break;\n",
       "                    }\n",
       "                }\n",
       "            }, 500);\n",
       "            "
      ],
      "text/plain": [
       "<IPython.core.display.Javascript object>"
      ]
     },
     "metadata": {},
     "output_type": "display_data"
    }
   ],
   "source": [
    "best_tree = DecisionTreeClassifier(\n",
    "    max_leaf_nodes=cv.best_params_[\"max_leaf_nodes\"],\n",
    "    min_samples_split=cv.best_params_[\"min_samples_split\"],\n",
    ")"
   ]
  },
  {
   "cell_type": "code",
   "execution_count": 101,
   "metadata": {},
   "outputs": [
    {
     "data": {
      "text/plain": [
       "DecisionTreeClassifier(max_leaf_nodes=15)"
      ]
     },
     "execution_count": 101,
     "metadata": {},
     "output_type": "execute_result"
    },
    {
     "data": {
      "application/javascript": [
       "\n",
       "            setTimeout(function() {\n",
       "                var nbb_cell_id = 101;\n",
       "                var nbb_unformatted_code = \"best_tree.fit(X_train_new, y_train_new)\";\n",
       "                var nbb_formatted_code = \"best_tree.fit(X_train_new, y_train_new)\";\n",
       "                var nbb_cells = Jupyter.notebook.get_cells();\n",
       "                for (var i = 0; i < nbb_cells.length; ++i) {\n",
       "                    if (nbb_cells[i].input_prompt_number == nbb_cell_id) {\n",
       "                        if (nbb_cells[i].get_text() == nbb_unformatted_code) {\n",
       "                             nbb_cells[i].set_text(nbb_formatted_code);\n",
       "                        }\n",
       "                        break;\n",
       "                    }\n",
       "                }\n",
       "            }, 500);\n",
       "            "
      ],
      "text/plain": [
       "<IPython.core.display.Javascript object>"
      ]
     },
     "metadata": {},
     "output_type": "display_data"
    }
   ],
   "source": [
    "best_tree.fit(X_train_new, y_train_new)"
   ]
  },
  {
   "cell_type": "code",
   "execution_count": 102,
   "metadata": {},
   "outputs": [
    {
     "name": "stdout",
     "output_type": "stream",
     "text": [
      "Accuracy on test dataset : 0.8225\n"
     ]
    },
    {
     "data": {
      "application/javascript": [
       "\n",
       "            setTimeout(function() {\n",
       "                var nbb_cell_id = 102;\n",
       "                var nbb_unformatted_code = \"print(\\\"Accuracy on test dataset :\\\",accuracy_score(y_test_new,best_tree.predict(X_test_new)))\";\n",
       "                var nbb_formatted_code = \"print(\\n    \\\"Accuracy on test dataset :\\\",\\n    accuracy_score(y_test_new, best_tree.predict(X_test_new)),\\n)\";\n",
       "                var nbb_cells = Jupyter.notebook.get_cells();\n",
       "                for (var i = 0; i < nbb_cells.length; ++i) {\n",
       "                    if (nbb_cells[i].input_prompt_number == nbb_cell_id) {\n",
       "                        if (nbb_cells[i].get_text() == nbb_unformatted_code) {\n",
       "                             nbb_cells[i].set_text(nbb_formatted_code);\n",
       "                        }\n",
       "                        break;\n",
       "                    }\n",
       "                }\n",
       "            }, 500);\n",
       "            "
      ],
      "text/plain": [
       "<IPython.core.display.Javascript object>"
      ]
     },
     "metadata": {},
     "output_type": "display_data"
    }
   ],
   "source": [
    "print(\n",
    "    \"Accuracy on test dataset :\",\n",
    "    accuracy_score(y_test_new, best_tree.predict(X_test_new)),\n",
    ")"
   ]
  },
  {
   "cell_type": "markdown",
   "metadata": {},
   "source": [
    "### G. Training the Random Forest model\n",
    "1. Load the loans dataset and use one-hot encoding for the column 'purpose'\n",
    "2. Split the data into test and train sets with ratio 70:30 with random seed = 101\n",
    "3. Create an instance of the RandomForestClassifier class and fit it to our training data from the previous step.\n",
    "4. Predict the class of not.fully.paid for the X_test data\n",
    "5. Now create a classification report from the results. Do you get anything strange or some sort of warning?"
   ]
  },
  {
   "cell_type": "code",
   "execution_count": 143,
   "metadata": {},
   "outputs": [
    {
     "data": {
      "application/javascript": [
       "\n",
       "            setTimeout(function() {\n",
       "                var nbb_cell_id = 143;\n",
       "                var nbb_unformatted_code = \"import pandas as pd\\nfrom sklearn.ensemble import RandomForestClassifier\\nfrom sklearn.metrics import classification_report\";\n",
       "                var nbb_formatted_code = \"import pandas as pd\\nfrom sklearn.ensemble import RandomForestClassifier\\nfrom sklearn.metrics import classification_report\";\n",
       "                var nbb_cells = Jupyter.notebook.get_cells();\n",
       "                for (var i = 0; i < nbb_cells.length; ++i) {\n",
       "                    if (nbb_cells[i].input_prompt_number == nbb_cell_id) {\n",
       "                        if (nbb_cells[i].get_text() == nbb_unformatted_code) {\n",
       "                             nbb_cells[i].set_text(nbb_formatted_code);\n",
       "                        }\n",
       "                        break;\n",
       "                    }\n",
       "                }\n",
       "            }, 500);\n",
       "            "
      ],
      "text/plain": [
       "<IPython.core.display.Javascript object>"
      ]
     },
     "metadata": {},
     "output_type": "display_data"
    }
   ],
   "source": [
    "import pandas as pd\n",
    "from sklearn.ensemble import RandomForestClassifier\n",
    "from sklearn.metrics import classification_report"
   ]
  },
  {
   "cell_type": "code",
   "execution_count": 144,
   "metadata": {},
   "outputs": [
    {
     "data": {
      "text/html": [
       "<div>\n",
       "<style scoped>\n",
       "    .dataframe tbody tr th:only-of-type {\n",
       "        vertical-align: middle;\n",
       "    }\n",
       "\n",
       "    .dataframe tbody tr th {\n",
       "        vertical-align: top;\n",
       "    }\n",
       "\n",
       "    .dataframe thead th {\n",
       "        text-align: right;\n",
       "    }\n",
       "</style>\n",
       "<table border=\"1\" class=\"dataframe\">\n",
       "  <thead>\n",
       "    <tr style=\"text-align: right;\">\n",
       "      <th></th>\n",
       "      <th>credit.policy</th>\n",
       "      <th>purpose</th>\n",
       "      <th>int.rate</th>\n",
       "      <th>installment</th>\n",
       "      <th>log.annual.inc</th>\n",
       "      <th>dti</th>\n",
       "      <th>fico</th>\n",
       "      <th>days.with.cr.line</th>\n",
       "      <th>revol.bal</th>\n",
       "      <th>revol.util</th>\n",
       "      <th>inq.last.6mths</th>\n",
       "      <th>delinq.2yrs</th>\n",
       "      <th>pub.rec</th>\n",
       "      <th>not.fully.paid</th>\n",
       "    </tr>\n",
       "  </thead>\n",
       "  <tbody>\n",
       "    <tr>\n",
       "      <th>0</th>\n",
       "      <td>1</td>\n",
       "      <td>debt_consolidation</td>\n",
       "      <td>0.1189</td>\n",
       "      <td>829.10</td>\n",
       "      <td>11.350407</td>\n",
       "      <td>19.48</td>\n",
       "      <td>737</td>\n",
       "      <td>5639.958333</td>\n",
       "      <td>28854</td>\n",
       "      <td>52.1</td>\n",
       "      <td>0</td>\n",
       "      <td>0</td>\n",
       "      <td>0</td>\n",
       "      <td>0</td>\n",
       "    </tr>\n",
       "    <tr>\n",
       "      <th>1</th>\n",
       "      <td>1</td>\n",
       "      <td>credit_card</td>\n",
       "      <td>0.1071</td>\n",
       "      <td>228.22</td>\n",
       "      <td>11.082143</td>\n",
       "      <td>14.29</td>\n",
       "      <td>707</td>\n",
       "      <td>2760.000000</td>\n",
       "      <td>33623</td>\n",
       "      <td>76.7</td>\n",
       "      <td>0</td>\n",
       "      <td>0</td>\n",
       "      <td>0</td>\n",
       "      <td>0</td>\n",
       "    </tr>\n",
       "    <tr>\n",
       "      <th>2</th>\n",
       "      <td>1</td>\n",
       "      <td>debt_consolidation</td>\n",
       "      <td>0.1357</td>\n",
       "      <td>366.86</td>\n",
       "      <td>10.373491</td>\n",
       "      <td>11.63</td>\n",
       "      <td>682</td>\n",
       "      <td>4710.000000</td>\n",
       "      <td>3511</td>\n",
       "      <td>25.6</td>\n",
       "      <td>1</td>\n",
       "      <td>0</td>\n",
       "      <td>0</td>\n",
       "      <td>0</td>\n",
       "    </tr>\n",
       "    <tr>\n",
       "      <th>3</th>\n",
       "      <td>1</td>\n",
       "      <td>debt_consolidation</td>\n",
       "      <td>0.1008</td>\n",
       "      <td>162.34</td>\n",
       "      <td>11.350407</td>\n",
       "      <td>8.10</td>\n",
       "      <td>712</td>\n",
       "      <td>2699.958333</td>\n",
       "      <td>33667</td>\n",
       "      <td>73.2</td>\n",
       "      <td>1</td>\n",
       "      <td>0</td>\n",
       "      <td>0</td>\n",
       "      <td>0</td>\n",
       "    </tr>\n",
       "    <tr>\n",
       "      <th>4</th>\n",
       "      <td>1</td>\n",
       "      <td>credit_card</td>\n",
       "      <td>0.1426</td>\n",
       "      <td>102.92</td>\n",
       "      <td>11.299732</td>\n",
       "      <td>14.97</td>\n",
       "      <td>667</td>\n",
       "      <td>4066.000000</td>\n",
       "      <td>4740</td>\n",
       "      <td>39.5</td>\n",
       "      <td>0</td>\n",
       "      <td>1</td>\n",
       "      <td>0</td>\n",
       "      <td>0</td>\n",
       "    </tr>\n",
       "  </tbody>\n",
       "</table>\n",
       "</div>"
      ],
      "text/plain": [
       "   credit.policy             purpose  int.rate  installment  log.annual.inc  \\\n",
       "0              1  debt_consolidation    0.1189       829.10       11.350407   \n",
       "1              1         credit_card    0.1071       228.22       11.082143   \n",
       "2              1  debt_consolidation    0.1357       366.86       10.373491   \n",
       "3              1  debt_consolidation    0.1008       162.34       11.350407   \n",
       "4              1         credit_card    0.1426       102.92       11.299732   \n",
       "\n",
       "     dti  fico  days.with.cr.line  revol.bal  revol.util  inq.last.6mths  \\\n",
       "0  19.48   737        5639.958333      28854        52.1               0   \n",
       "1  14.29   707        2760.000000      33623        76.7               0   \n",
       "2  11.63   682        4710.000000       3511        25.6               1   \n",
       "3   8.10   712        2699.958333      33667        73.2               1   \n",
       "4  14.97   667        4066.000000       4740        39.5               0   \n",
       "\n",
       "   delinq.2yrs  pub.rec  not.fully.paid  \n",
       "0            0        0               0  \n",
       "1            0        0               0  \n",
       "2            0        0               0  \n",
       "3            0        0               0  \n",
       "4            1        0               0  "
      ]
     },
     "execution_count": 144,
     "metadata": {},
     "output_type": "execute_result"
    },
    {
     "data": {
      "application/javascript": [
       "\n",
       "            setTimeout(function() {\n",
       "                var nbb_cell_id = 144;\n",
       "                var nbb_unformatted_code = \"loans = pd.read_csv(\\\"loan_data.csv\\\")\\n\\nloans.head()\";\n",
       "                var nbb_formatted_code = \"loans = pd.read_csv(\\\"loan_data.csv\\\")\\n\\nloans.head()\";\n",
       "                var nbb_cells = Jupyter.notebook.get_cells();\n",
       "                for (var i = 0; i < nbb_cells.length; ++i) {\n",
       "                    if (nbb_cells[i].input_prompt_number == nbb_cell_id) {\n",
       "                        if (nbb_cells[i].get_text() == nbb_unformatted_code) {\n",
       "                             nbb_cells[i].set_text(nbb_formatted_code);\n",
       "                        }\n",
       "                        break;\n",
       "                    }\n",
       "                }\n",
       "            }, 500);\n",
       "            "
      ],
      "text/plain": [
       "<IPython.core.display.Javascript object>"
      ]
     },
     "metadata": {},
     "output_type": "display_data"
    }
   ],
   "source": [
    "loans = pd.read_csv(\"loan_data.csv\")\n",
    "\n",
    "loans.head()"
   ]
  },
  {
   "cell_type": "code",
   "execution_count": 145,
   "metadata": {},
   "outputs": [
    {
     "data": {
      "application/javascript": [
       "\n",
       "            setTimeout(function() {\n",
       "                var nbb_cell_id = 145;\n",
       "                var nbb_unformatted_code = \"purpose = pd.get_dummies(loans.purpose, prefix=\\\"purpose_\\\")\\n\\nloans = pd.concat([loans, purpose], axis=1)\\n\\nloans = loans.drop([\\\"purpose\\\"], axis=1)\";\n",
       "                var nbb_formatted_code = \"purpose = pd.get_dummies(loans.purpose, prefix=\\\"purpose_\\\")\\n\\nloans = pd.concat([loans, purpose], axis=1)\\n\\nloans = loans.drop([\\\"purpose\\\"], axis=1)\";\n",
       "                var nbb_cells = Jupyter.notebook.get_cells();\n",
       "                for (var i = 0; i < nbb_cells.length; ++i) {\n",
       "                    if (nbb_cells[i].input_prompt_number == nbb_cell_id) {\n",
       "                        if (nbb_cells[i].get_text() == nbb_unformatted_code) {\n",
       "                             nbb_cells[i].set_text(nbb_formatted_code);\n",
       "                        }\n",
       "                        break;\n",
       "                    }\n",
       "                }\n",
       "            }, 500);\n",
       "            "
      ],
      "text/plain": [
       "<IPython.core.display.Javascript object>"
      ]
     },
     "metadata": {},
     "output_type": "display_data"
    }
   ],
   "source": [
    "purpose = pd.get_dummies(loans.purpose, prefix=\"purpose_\")\n",
    "\n",
    "loans = pd.concat([loans, purpose], axis=1)\n",
    "\n",
    "loans = loans.drop([\"purpose\"], axis=1)"
   ]
  },
  {
   "cell_type": "code",
   "execution_count": 146,
   "metadata": {},
   "outputs": [
    {
     "data": {
      "application/javascript": [
       "\n",
       "            setTimeout(function() {\n",
       "                var nbb_cell_id = 146;\n",
       "                var nbb_unformatted_code = \"X_cols = set(loans.columns)\\ny_cols = set([\\\"not.fully.paid\\\"])\\n\\nX_cols = X_cols - y_cols\";\n",
       "                var nbb_formatted_code = \"X_cols = set(loans.columns)\\ny_cols = set([\\\"not.fully.paid\\\"])\\n\\nX_cols = X_cols - y_cols\";\n",
       "                var nbb_cells = Jupyter.notebook.get_cells();\n",
       "                for (var i = 0; i < nbb_cells.length; ++i) {\n",
       "                    if (nbb_cells[i].input_prompt_number == nbb_cell_id) {\n",
       "                        if (nbb_cells[i].get_text() == nbb_unformatted_code) {\n",
       "                             nbb_cells[i].set_text(nbb_formatted_code);\n",
       "                        }\n",
       "                        break;\n",
       "                    }\n",
       "                }\n",
       "            }, 500);\n",
       "            "
      ],
      "text/plain": [
       "<IPython.core.display.Javascript object>"
      ]
     },
     "metadata": {},
     "output_type": "display_data"
    }
   ],
   "source": [
    "X_cols = set(loans.columns)\n",
    "y_cols = set([\"not.fully.paid\"])\n",
    "\n",
    "X_cols = X_cols - y_cols"
   ]
  },
  {
   "cell_type": "code",
   "execution_count": 147,
   "metadata": {},
   "outputs": [
    {
     "data": {
      "application/javascript": [
       "\n",
       "            setTimeout(function() {\n",
       "                var nbb_cell_id = 147;\n",
       "                var nbb_unformatted_code = \"X_train, X_test, y_train, y_test = train_test_split(\\n    loans[X_cols], loans[y_cols], test_size=0.3, random_state=101\\n)\";\n",
       "                var nbb_formatted_code = \"X_train, X_test, y_train, y_test = train_test_split(\\n    loans[X_cols], loans[y_cols], test_size=0.3, random_state=101\\n)\";\n",
       "                var nbb_cells = Jupyter.notebook.get_cells();\n",
       "                for (var i = 0; i < nbb_cells.length; ++i) {\n",
       "                    if (nbb_cells[i].input_prompt_number == nbb_cell_id) {\n",
       "                        if (nbb_cells[i].get_text() == nbb_unformatted_code) {\n",
       "                             nbb_cells[i].set_text(nbb_formatted_code);\n",
       "                        }\n",
       "                        break;\n",
       "                    }\n",
       "                }\n",
       "            }, 500);\n",
       "            "
      ],
      "text/plain": [
       "<IPython.core.display.Javascript object>"
      ]
     },
     "metadata": {},
     "output_type": "display_data"
    }
   ],
   "source": [
    "X_train, X_test, y_train, y_test = train_test_split(\n",
    "    loans[X_cols], loans[y_cols], test_size=0.3, random_state=101\n",
    ")"
   ]
  },
  {
   "cell_type": "code",
   "execution_count": 148,
   "metadata": {},
   "outputs": [
    {
     "data": {
      "application/javascript": [
       "\n",
       "            setTimeout(function() {\n",
       "                var nbb_cell_id = 148;\n",
       "                var nbb_unformatted_code = \"rf = RandomForestClassifier()\";\n",
       "                var nbb_formatted_code = \"rf = RandomForestClassifier()\";\n",
       "                var nbb_cells = Jupyter.notebook.get_cells();\n",
       "                for (var i = 0; i < nbb_cells.length; ++i) {\n",
       "                    if (nbb_cells[i].input_prompt_number == nbb_cell_id) {\n",
       "                        if (nbb_cells[i].get_text() == nbb_unformatted_code) {\n",
       "                             nbb_cells[i].set_text(nbb_formatted_code);\n",
       "                        }\n",
       "                        break;\n",
       "                    }\n",
       "                }\n",
       "            }, 500);\n",
       "            "
      ],
      "text/plain": [
       "<IPython.core.display.Javascript object>"
      ]
     },
     "metadata": {},
     "output_type": "display_data"
    }
   ],
   "source": [
    "rf = RandomForestClassifier()"
   ]
  },
  {
   "cell_type": "code",
   "execution_count": 149,
   "metadata": {},
   "outputs": [
    {
     "data": {
      "text/plain": [
       "RandomForestClassifier()"
      ]
     },
     "execution_count": 149,
     "metadata": {},
     "output_type": "execute_result"
    },
    {
     "data": {
      "application/javascript": [
       "\n",
       "            setTimeout(function() {\n",
       "                var nbb_cell_id = 149;\n",
       "                var nbb_unformatted_code = \"rf.fit(X_train, y_train.values.ravel())\";\n",
       "                var nbb_formatted_code = \"rf.fit(X_train, y_train.values.ravel())\";\n",
       "                var nbb_cells = Jupyter.notebook.get_cells();\n",
       "                for (var i = 0; i < nbb_cells.length; ++i) {\n",
       "                    if (nbb_cells[i].input_prompt_number == nbb_cell_id) {\n",
       "                        if (nbb_cells[i].get_text() == nbb_unformatted_code) {\n",
       "                             nbb_cells[i].set_text(nbb_formatted_code);\n",
       "                        }\n",
       "                        break;\n",
       "                    }\n",
       "                }\n",
       "            }, 500);\n",
       "            "
      ],
      "text/plain": [
       "<IPython.core.display.Javascript object>"
      ]
     },
     "metadata": {},
     "output_type": "display_data"
    }
   ],
   "source": [
    "rf.fit(X_train, y_train.values.ravel())"
   ]
  },
  {
   "cell_type": "code",
   "execution_count": 154,
   "metadata": {},
   "outputs": [
    {
     "name": "stdout",
     "output_type": "stream",
     "text": [
      "              precision    recall  f1-score   support\n",
      "\n",
      "           0       0.85      1.00      0.92      2431\n",
      "           1       0.42      0.02      0.03       443\n",
      "\n",
      "    accuracy                           0.84      2874\n",
      "   macro avg       0.63      0.51      0.48      2874\n",
      "weighted avg       0.78      0.84      0.78      2874\n",
      "\n"
     ]
    },
    {
     "data": {
      "application/javascript": [
       "\n",
       "            setTimeout(function() {\n",
       "                var nbb_cell_id = 154;\n",
       "                var nbb_unformatted_code = \"print(classification_report(y_test, rf.predict(X_test)))\";\n",
       "                var nbb_formatted_code = \"print(classification_report(y_test, rf.predict(X_test)))\";\n",
       "                var nbb_cells = Jupyter.notebook.get_cells();\n",
       "                for (var i = 0; i < nbb_cells.length; ++i) {\n",
       "                    if (nbb_cells[i].input_prompt_number == nbb_cell_id) {\n",
       "                        if (nbb_cells[i].get_text() == nbb_unformatted_code) {\n",
       "                             nbb_cells[i].set_text(nbb_formatted_code);\n",
       "                        }\n",
       "                        break;\n",
       "                    }\n",
       "                }\n",
       "            }, 500);\n",
       "            "
      ],
      "text/plain": [
       "<IPython.core.display.Javascript object>"
      ]
     },
     "metadata": {},
     "output_type": "display_data"
    }
   ],
   "source": [
    "print(classification_report(y_test, rf.predict(X_test)))"
   ]
  },
  {
   "cell_type": "code",
   "execution_count": 155,
   "metadata": {},
   "outputs": [
    {
     "name": "stdout",
     "output_type": "stream",
     "text": [
      "(array([0, 1]), array([8045, 1533]))\n"
     ]
    },
    {
     "data": {
      "application/javascript": [
       "\n",
       "            setTimeout(function() {\n",
       "                var nbb_cell_id = 155;\n",
       "                var nbb_unformatted_code = \"print(np.unique(loans[y_cols],return_counts=True))\";\n",
       "                var nbb_formatted_code = \"print(np.unique(loans[y_cols], return_counts=True))\";\n",
       "                var nbb_cells = Jupyter.notebook.get_cells();\n",
       "                for (var i = 0; i < nbb_cells.length; ++i) {\n",
       "                    if (nbb_cells[i].input_prompt_number == nbb_cell_id) {\n",
       "                        if (nbb_cells[i].get_text() == nbb_unformatted_code) {\n",
       "                             nbb_cells[i].set_text(nbb_formatted_code);\n",
       "                        }\n",
       "                        break;\n",
       "                    }\n",
       "                }\n",
       "            }, 500);\n",
       "            "
      ],
      "text/plain": [
       "<IPython.core.display.Javascript object>"
      ]
     },
     "metadata": {},
     "output_type": "display_data"
    }
   ],
   "source": [
    "print(np.unique(loans[y_cols], return_counts=True))"
   ]
  },
  {
   "cell_type": "markdown",
   "metadata": {},
   "source": [
    "#### Although the average accuracy of the classfier seems to be good, it masks the fact that the model is actually performing very poorly for the task it is supposed to do. This is due to the fact that the number of datapoints which have '0' class is higher than the number of datapoints with '1' class. This makes the model predict data which actually belongs to '1' as '0' with very little accuracy decrease, but it is bad for predicting loan defaults."
   ]
  }
 ],
 "metadata": {
  "kernelspec": {
   "display_name": "Python 3.7.4 64-bit ('ee4708')",
   "language": "python",
   "name": "python37464bitee47089d95630ec6c245568bca969508d67b73"
  },
  "language_info": {
   "codemirror_mode": {
    "name": "ipython",
    "version": 3
   },
   "file_extension": ".py",
   "mimetype": "text/x-python",
   "name": "python",
   "nbconvert_exporter": "python",
   "pygments_lexer": "ipython3",
   "version": "3.7.4"
  }
 },
 "nbformat": 4,
 "nbformat_minor": 2
}
