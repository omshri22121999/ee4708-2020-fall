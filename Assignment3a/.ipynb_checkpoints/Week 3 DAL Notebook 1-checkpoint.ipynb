{
 "cells": [
  {
   "cell_type": "code",
   "execution_count": 1,
   "metadata": {},
   "outputs": [],
   "source": [
    "# Import required packages\n",
    "import numpy as np  # for mathematical operations, for arrays\n",
    "import pandas as pd  # Used for different data manipulation tasks\n",
    "import matplotlib.pyplot as plt  # Used for Plotting\n",
    "import random  # For random number generator\n",
    "import warnings\n",
    "\n",
    "warnings.filterwarnings(\"ignore\")  # To avoid warnings note while running the notebook"
   ]
  },
  {
   "cell_type": "markdown",
   "metadata": {},
   "source": [
    "# Section 1 : Implementing Gradient Descent\n",
    "\n",
    "Gradient Descent is an first order optimization algorithm to find the local minimum differentiable function (usually a loss function or an objective function). We start with a random point on the function and move in the negative direction of the gradient of the function to reach the find minimum.\n",
    "\n",
    "Let $F(x)$ be a differentiable function parameterised by $x$ and $x^*$ be the parameter value which minimises $F(x)$. The initial value is $x_0=a_0$. To determine $x^*$ using gradient descent, at each of the $i^{th}$ the parameter updation rule is:\n",
    "\n",
    "\\begin{align*}\n",
    "x_i = x_{i-1} - \\eta \\nabla F(a_{i-1}), \\hspace{1cm} i\\geq 1\n",
    "\\end{align*}  \n",
    "where $x_i$ is updated value of the parameter in the $i^{th}$ iteration. \n",
    "\n",
    "\\begin{align*}\n",
    "\\eta \\nabla F(a_{i-1}) = \\eta \\frac{dF}{dx}\\bigr \\rvert_{x=a_{i-1}}\n",
    "\\end{align*} \n",
    "\n",
    "**Stopping Criteria**: Following are three ways which are used as stopping criteria in gradient descent algorithm:\n",
    "1. Limiting number of iterations\n",
    "2. Threshold for change in the parameter (i.e difference between the updated parameter and parameter in the previous iteration) --> Change in parameter > Threshold\n",
    "3. Threshold for change in gradient step\n",
    "                  \n",
    "**Question** : Find $x^*$ which minimises $F(x) = (x+5)^2$ using gradient descent \n",
    "\n",
    "**Note : Few variables are set to a given value, read the instructions in the pseudo code**\n",
    "\n",
    "**Pseudo Code**:\n",
    "1. Initialise the parameter ('x') with some random number,set learning rate = 0.01(section 4 has details on \"how to select appropriate learning rate for a given problem\"), set threshold = 0.000001,\n",
    "2. Define a function for calculating differential of F (Hint : Use lambda method for single line of code)\n",
    "3. Compute the updated value of the parameter using the formula: $x_i = x_{i-1} - \\eta \\nabla F(a_{i-1})$ \n",
    "4. Iterate over step 3 until the stopping criteria is satisfied (You have to choose stopping criteria appropriately)"
   ]
  },
  {
   "cell_type": "markdown",
   "metadata": {},
   "source": [
    "## 1.1 Implementing Code\n",
    "Implement the above pseudo code and print the optimum value of $x$ and $F(x)$. Also print the number of iterations required to reach that optimum.\n",
    "\n",
    "**Note : Carefully choose your stopping criteria for reaching optimum**"
   ]
  },
  {
   "cell_type": "code",
   "execution_count": 2,
   "metadata": {},
   "outputs": [
    {
     "name": "stdout",
     "output_type": "stream",
     "text": [
      "Minima of F(x) = -4.999951332484771 ; F(-4.999951332484771) = 2.368527038600125e-09\n"
     ]
    }
   ],
   "source": [
    "# Write your code here\n",
    "def F(x):\n",
    "    return (x+5)**2\n",
    "\n",
    "def grad(x):\n",
    "    return 2*(x+5)\n",
    "\n",
    "x = random.random()\n",
    "l_r = 0.01\n",
    "thresh = 0.000001\n",
    "\n",
    "x_old = x+1\n",
    "\n",
    "while(abs(x-x_old)>thresh):\n",
    "    x_old = x\n",
    "    x = x - l_r*grad(x)\n",
    "\n",
    "print(\"Minima of F(x) = \",x,\" ; F(\",x,\") = \",F(x),sep = \"\")\n"
   ]
  },
  {
   "attachments": {
    "Normal%20Equation.png": {
     "image/png": "[encoded data removed]"
    }
   },
   "cell_type": "markdown",
   "metadata": {},
   "source": [
    "# Section 2 : Linear Regression - Finding the Regression parameters using Normal Equation (Analytical Approach)\n",
    "**Dataset** : dataset1.csv (given)\n",
    "\n",
    "Given a dataset (here dataset1.csv), find the coefficients (parameters) using the Normal Equation and predict the outputs for the same dataset (dataset1.csv). Given input features in matrix $X$ and observed output or target vector $y$, the regression parameters are given by the equation:\n",
    "![Normal%20Equation.png](attachment:Normal%20Equation.png)\n",
    "\n",
    "\n",
    "**Pseudo Code:**\n",
    "1. Append ones to X, let say that as \"X_appended\" (This is to be done when there is intercept, if you know before hand that intercept is zero, then this step can be ignored)\n",
    "2. Find the pseudo Inverse of the X_appended\n",
    "3. Find the dot product of transpose of X_appended and target vector (y),\n",
    "4. Find \"theta\" (parameters) using \"Normal Equation\" given above (i.e Matrix multiplication of outputs of Step 2 and Step 3)\n",
    "5. Predict ouputs for X_new by appending it with ones and then using the formula $y=X_{new}\\theta$\n",
    "\n",
    "**Note : When you perform matrix multiplications or dot products on vectors or matrices, always keep track of the matrix or vectors shapes. This helps you in avoiding implementation errors.**\n",
    "\n",
    "<div class=\"alert alert-block alert-warning\">\n",
    " <b>Implementation Note:</b>  Step 1 is crucial. We store each example as a row in the the $X$ matrix in Python `numpy`. To take into account the intercept term ($\\theta_0$), we add an additional first column to $X$ and set it to all ones. This allows us to treat $\\theta_0$ as simply another 'feature'.\n",
    "</div>"
   ]
  },
  {
   "cell_type": "code",
   "execution_count": 3,
   "metadata": {},
   "outputs": [],
   "source": [
    "# Import X, y from \"dataset1.csv\"\n",
    "# X and y are numpy array, Hint : store the data in the pandas dataframe and then convert it to numpy array\n",
    "\n",
    "data = pd.read_csv(\"dataset1.csv\")\n",
    "\n",
    "\n",
    "X = data[\"X\"].values.reshape(-1, 1)\n",
    "y = data[\"y\"].values\n",
    "\n",
    "\n",
    "def computeParams(X_appended, y):\n",
    "    X_inv = np.linalg.inv(np.matmul(X_appended.T, X_appended))\n",
    "\n",
    "    theta = np.matmul(X_inv, np.dot(X_appended.T, y))\n",
    "    return theta"
   ]
  },
  {
   "cell_type": "markdown",
   "metadata": {},
   "source": [
    "### 2.1 Function to predict the outputs\n",
    "Implement the predict function below. Predict the outputs for the given data (dataset1.csv), plot the predicted outputs Vs input features and scatter plot for dataset1.csv (X,y)"
   ]
  },
  {
   "cell_type": "code",
   "execution_count": 4,
   "metadata": {},
   "outputs": [
    {
     "name": "stdout",
     "output_type": "stream",
     "text": [
      "theta : \n",
      " [17.78924731  4.90189099]\n"
     ]
    },
    {
     "data": {
      "image/png": "[encoded data removed]",
      "text/plain": [
       "<Figure size 432x288 with 1 Axes>"
      ]
     },
     "metadata": {
      "needs_background": "light"
     },
     "output_type": "display_data"
    }
   ],
   "source": [
    "def predict(X, theta):\n",
    "    \"\"\"\n",
    "    Predictions of X for a given theta.\n",
    "    \n",
    "    Parameters\n",
    "    ----------\n",
    "    X : array with size of (m x n)\n",
    "    \n",
    "    theta : array with size of (n+1, 1).\n",
    "    \n",
    "    Returns\n",
    "    -------\n",
    "    predictions : array of size (m x 1)\n",
    "    \n",
    "    \"\"\"\n",
    "    X_appended = np.hstack((np.ones(X.shape, dtype=X.dtype), X))\n",
    "    prediction = np.matmul(X_appended, theta)\n",
    "\n",
    "    return prediction\n",
    "\n",
    "\n",
    "# Your predictions for the dataset1.csv\n",
    "\n",
    "X_appended = np.hstack((np.ones(X.shape, dtype=X.dtype), X))\n",
    "theta = computeParams(X_appended, y)\n",
    "y_pred = np.matmul(X_appended, theta)\n",
    "\n",
    "print(\"theta : \\n\", theta)\n",
    "# plot a line Predictions Vs features and scatter plot for the training data X,y\n",
    "\n",
    "plt.plot(X, y_pred, label=\"Prediction\", c=\"red\")\n",
    "plt.scatter(X, y, label=\"True\")\n",
    "plt.legend()\n",
    "plt.show()"
   ]
  },
  {
   "cell_type": "markdown",
   "metadata": {},
   "source": [
    "# Section 3 : Linear Regression - Find the Regression parameters using Gradient Descent\n",
    "This section is about applying gradient descent algorithm to find theta at which a cost function (Mean Squared Error) is minimum. This can be done using the gradient descent algorithm discussed in Section 1, where $x$ is replaced by the regression parameters. \n",
    "\n",
    "Refer to pseudo code in Section 1 for gradient descent algorithm. In simple terms, we initialise the regression parameters with some random number and we compute the gradient step to update the regression parameters."
   ]
  },
  {
   "cell_type": "markdown",
   "metadata": {},
   "source": [
    "### 3.1. Import and visualise the dataset"
   ]
  },
  {
   "cell_type": "code",
   "execution_count": 5,
   "metadata": {},
   "outputs": [
    {
     "data": {
      "image/png": "[encoded data removed]",
      "text/plain": [
       "<Figure size 432x288 with 1 Axes>"
      ]
     },
     "metadata": {
      "needs_background": "light"
     },
     "output_type": "display_data"
    }
   ],
   "source": [
    "# Import the data from dataset1.csv - Same as Section 2\n",
    "# Import X and y as numpy array, Hint : store the data in the pandas dataframe and then convert it to numpy array\n",
    "\n",
    "data = pd.read_csv(\"dataset1.csv\")\n",
    "\n",
    "\n",
    "X = data[\"X\"].values.reshape(-1, 1)\n",
    "y = data[\"y\"].values.reshape(-1, 1)\n",
    "# Scatter Plot the data X and y for visualisation\n",
    "\n",
    "plt.scatter(X, y)\n",
    "plt.show()"
   ]
  },
  {
   "cell_type": "markdown",
   "metadata": {},
   "source": [
    "### 3.2. Compute Cost Function - Mean Squared Error (MSE) \n",
    "The cost function used is Mean Squared Error (MSE) represented as $J(\\theta)$ and is given by:\n",
    "\n",
    "$$ J(\\theta) = \\frac{1}{2m} \\sum_{i=1}^m \\left( h_{\\theta}(x^{(i)}) - y^{(i)}\\right)^2$$\n",
    "\n",
    "where the hypothesis $h_\\theta(x)$ is a linear model given by: \n",
    "$$ h_\\theta(x) = \\theta^Tx = \\theta_0 + \\theta_1 x_1$$\n",
    "\n",
    "As you perform gradient descent to learn minimize the cost function $J(\\theta)$, it is helpful to monitor the convergence by computing the cost. This way you can know whether you choose high learning rate or low learning rate. Suppose if your learning rate is too high, you can see your cost will go up and down, but will not converge. If you choose good learning rate, then you can see your cost going down smoothly and converges.\n",
    "\n",
    "In this you will implement a function to calculate $J(\\theta)$ so you can check the convergence of your gradient descent implementation. "
   ]
  },
  {
   "cell_type": "code",
   "execution_count": 6,
   "metadata": {},
   "outputs": [],
   "source": [
    "def computeCost(X, y, theta):\n",
    "    \"\"\"\n",
    "    Compute cost for linear regression. Computes the cost of using theta as the\n",
    "    parameter for linear regression to fit the data points in X and y.\n",
    "    \n",
    "    Parameters\n",
    "    ----------\n",
    "    X : array with the shape of (m x n+1)\n",
    "        where m is the number of examples,n is the number of features\n",
    "        n+1 == n features + 1 for bias term(intercept as a feature)\n",
    "    \n",
    "    y : array with the shape of (m,1)\n",
    "    \n",
    "    theta : array with the shape of (n+1,1)\n",
    "    \n",
    "    Returns\n",
    "    -------\n",
    "    J : float -> The value of the regression cost function.\n",
    "    \n",
    "    \"\"\"\n",
    "    # Write your code here\n",
    "\n",
    "    J = np.sum((np.matmul(X, theta) - y) ** 2) / (2 * len(y))\n",
    "\n",
    "    return J"
   ]
  },
  {
   "cell_type": "markdown",
   "metadata": {},
   "source": [
    "## 3.3. Implementation of Gradient Descent \n",
    "\n",
    "Recall that the parameters of your model are the $\\theta_j$ values. These are\n",
    "the values you will adjust to minimize cost $J(\\theta)$. One way to do this is to\n",
    "use the batch gradient descent algorithm. In batch gradient descent, each\n",
    "iteration performs the update\n",
    "\n",
    "$$ \\theta_j = \\theta_j - \\alpha \\frac{1}{m} \\sum_{i=1}^m \\left( h_\\theta(x^{(i)}) - y^{(i)}\\right)x_j^{(i)} \\qquad \\text{simultaneously update } \\theta_j \\text{ for all } j$$\n",
    "\n",
    "With each step of gradient descent, your parameters $\\theta_j$ come closer to the optimal values that will achieve the lowest cost J($\\theta$).\n",
    "\n",
    "\n",
    "**Important implementation notes**\n",
    "\n",
    "The function `gradientDescent` calls `computeCost` on every iteration and saves the cost to a python list. If you have implemented gradient descent and `computeCost` correctly, your value of $J(\\theta)$ should never increase, and should converge to a steady value by the end of the algorithm."
   ]
  },
  {
   "cell_type": "code",
   "execution_count": 7,
   "metadata": {},
   "outputs": [],
   "source": [
    "def gradientDescent(X_appended, y, theta, alpha, precision=0.001):\n",
    "    \"\"\"\n",
    "    Performs gradient descent to learn `theta`. Updates theta by taking `num_iters`\n",
    "    gradient steps with learning rate `alpha`.\n",
    "    \n",
    "    Parameters\n",
    "    ----------\n",
    "    X_appended : array with shape of (m x n+1). Note : n+1 = n features + 1 intercept\n",
    "    \n",
    "    y : array with shape of (m, 1)\n",
    "    \n",
    "    theta : array with shape of (n+1,1)\n",
    "    \n",
    "    alpha : float value, called as \"learning rate\"\n",
    "    \n",
    "    precision : float, (One of the Stopping criteria). This is compared with the change in the cost from previous iter.\n",
    "    \n",
    "    Returns\n",
    "    -------\n",
    "    theta : array wih shape of (n+1,1),The learned linear regression parameters\n",
    "    \n",
    "    J_history : A python list for the values of the cost function after every iteration. This is to check for convergence\n",
    "    \n",
    "    Count : Integer, Number of iterations taken to converge\n",
    "    \n",
    "    Cost : Float, Mean squared error at the end of the iteration\n",
    "    \n",
    "    \n",
    "    Hint: \n",
    "    ------------\n",
    "    1. Peform a single gradient step on the parameter vector theta.\n",
    "    2. Loop over the number of iterations to update step by step.\n",
    "    \"\"\"\n",
    "    # Write your code here\n",
    "\n",
    "    J_history = []\n",
    "\n",
    "    flag = True\n",
    "    m = len(y)\n",
    "    J_old = computeCost(X_appended, y, theta) + 1\n",
    "    J = computeCost(X_appended, y, theta)\n",
    "\n",
    "    count = 0\n",
    "    J_history.append(J)\n",
    "    while abs(J - J_old) > precision:\n",
    "        J_old = J\n",
    "        theta = theta - alpha / m * np.sum(\n",
    "            np.matmul(X_appended.T, (np.matmul(X_appended, theta) - y)), axis=1\n",
    "        ).reshape(2, 1)\n",
    "        J = computeCost(X_appended, y, theta)\n",
    "        J_history.append(J)\n",
    "        count += 1\n",
    "\n",
    "    cost = computeCost(X_appended, y, theta)\n",
    "\n",
    "    return theta, J_history, cost, count"
   ]
  },
  {
   "cell_type": "markdown",
   "metadata": {},
   "source": [
    "### Run gradientDescent function to train the model here\n",
    "**Note : Use the learning rate(alpha) and precision given below. Initialise theta with zeros is suggested here (but you can initialise with different numbers)**\n",
    "\n",
    "Print the final theta (learnt parameters), number of iterations to converge, value of cost function at the convergence."
   ]
  },
  {
   "cell_type": "code",
   "execution_count": 8,
   "metadata": {},
   "outputs": [
    {
     "name": "stdout",
     "output_type": "stream",
     "text": [
      "Cost : 2.424134514167511 \n",
      "theta : \n",
      " [[17.6687466 ]\n",
      " [ 4.90802378]]\n"
     ]
    }
   ],
   "source": [
    "# initialize fitting parameters with zeros\n",
    "theta = np.zeros((2, 1))\n",
    "# Play with these setting to see how these parameters play a huge role, for a decent converge use below parameters\n",
    "precision = 0.000001\n",
    "alpha = 0.001\n",
    "\n",
    "##################################### Your Code here ########################################\n",
    "\n",
    "X_appended = np.hstack((np.ones(X.shape, dtype=X.dtype), X))\n",
    "theta, J_history, cost, count = gradientDescent(X_appended, y, theta, alpha, precision)\n",
    "\n",
    "print(\"Cost :\", cost, \"\\ntheta : \\n\", theta)"
   ]
  },
  {
   "cell_type": "markdown",
   "metadata": {},
   "source": [
    "## 3.4. Plot the Training Curve\n",
    "**Tip:** Initially the change in the loss(J) are drastic and dominating. So while plotting you may remove the first 10% of the iterations and then plot to see a smooth curve in the training process"
   ]
  },
  {
   "cell_type": "code",
   "execution_count": 9,
   "metadata": {},
   "outputs": [
    {
     "data": {
      "text/plain": [
       "[<matplotlib.lines.Line2D at 0x7f70fe128d90>]"
      ]
     },
     "execution_count": 9,
     "metadata": {},
     "output_type": "execute_result"
    },
    {
     "data": {
      "image/png": "[encoded data removed]",
      "text/plain": [
       "<Figure size 432x288 with 1 Axes>"
      ]
     },
     "metadata": {
      "needs_background": "light"
     },
     "output_type": "display_data"
    }
   ],
   "source": [
    "plt.plot(J_history[int(count * (0.001)) :])"
   ]
  },
  {
   "cell_type": "markdown",
   "metadata": {},
   "source": [
    "## 3.5. Predict Outputs and Plot the results\n",
    "Same as Step 5 in the Section 2. You can use the same function predict(X, theta)"
   ]
  },
  {
   "cell_type": "code",
   "execution_count": 10,
   "metadata": {},
   "outputs": [
    {
     "data": {
      "image/png": "[encoded data removed]",
      "text/plain": [
       "<Figure size 432x288 with 1 Axes>"
      ]
     },
     "metadata": {
      "needs_background": "light"
     },
     "output_type": "display_data"
    }
   ],
   "source": [
    "# plot a line for predictions and scatter plot for the training data X,y\n",
    "plt.plot(X, np.matmul(X_appended, theta), label=\"Prediction\", c=\"red\")\n",
    "plt.scatter(X, y, label=\"True\")\n",
    "plt.legend()\n",
    "plt.show()"
   ]
  },
  {
   "cell_type": "markdown",
   "metadata": {},
   "source": [
    "# Section 4 : Selecting appropriate learning rate\n",
    "**Implementation Note:** If your learning rate is too large, $J(\\theta)$ can diverge and ‘blow up’, resulting in values which are too large for computer calculations. In these situations, `numpy` will tend to return\n",
    "NaNs. NaN stands for ‘not a number’ and is often caused by undefined operations that involve −∞ and +∞. So dont worry even if you cost as inf or NaN\n",
    "\n",
    "**Repeat the training as in Section 3 with different values of alpha as listed below. Print the alpha, cost and number of iterations it took for every alpha**"
   ]
  },
  {
   "cell_type": "code",
   "execution_count": 11,
   "metadata": {},
   "outputs": [
    {
     "name": "stdout",
     "output_type": "stream",
     "text": [
      "Alpha : 0.0001 Cost : 2.4413078221495095 ; Count : 146029\n",
      "Alpha : 0.0003 Cost : 2.428586837399011 ; Count : 6988\n",
      "Alpha : 0.0005 Cost : 2.4260423061304786 ; Count : 1950\n",
      "Alpha : 0.0007 Cost : 2.424951382090273 ; Count : 918\n",
      "Alpha : 0.001 Cost : 2.424133618070792 ; Count : 681\n",
      "Alpha : 0.003 Cost : 2.4228621485056316 ; Count : 699\n",
      "Alpha : 0.005 Cost : 2.4226079744829505 ; Count : 195\n",
      "Alpha : 0.007 Cost : 2.422498808584202 ; Count : 92\n",
      "Alpha : 0.01 Cost : 2.422450400650655 ; Count : 38\n",
      "Alpha : 0.03 Cost : inf ; Count : 179\n",
      "Alpha : 0.05 Cost : inf ; Count : 0\n",
      "Alpha : 0.07 Cost : inf ; Count : 0\n",
      "Alpha : 0.1 Cost : inf ; Count : 0\n",
      "Alpha : 0.3 Cost : inf ; Count : 0\n"
     ]
    }
   ],
   "source": [
    "theta = np.zeros((2, 1))\n",
    "precision = 0.000001\n",
    "\n",
    "# You can change this set of alphas and try out different, but keep your range less than 1\n",
    "alphas = [\n",
    "    0.0001,\n",
    "    0.0003,\n",
    "    0.0005,\n",
    "    0.0007,\n",
    "    0.001,\n",
    "    0.003,\n",
    "    0.005,\n",
    "    0.007,\n",
    "    0.01,\n",
    "    0.03,\n",
    "    0.05,\n",
    "    0.07,\n",
    "    0.1,\n",
    "    0.3,\n",
    "]\n",
    "\n",
    "# Write your code here\n",
    "for alpha in alphas:\n",
    "    X_appended = np.hstack((np.ones(X.shape, dtype=X.dtype), X))\n",
    "    theta, J_history, cost, count = gradientDescent(\n",
    "        X_appended, y, theta, alpha, precision\n",
    "    )\n",
    "    print(\"Alpha :\", alpha, \"Cost :\", cost, \"; Count :\", count)"
   ]
  },
  {
   "cell_type": "markdown",
   "metadata": {},
   "source": [
    "## Section 5: Questions on Analytical and Gradient Descent approaches\n",
    "\n",
    "1. Are the results from both the analytical and gradient descent approach are same? If not, why?\n",
    "2. When do u prefer analytical approach and gradient descent approach? Hint: Explain interms of size of the dataset\n",
    "3. Can we use different cost function in place of MSE? If we do, where will be changes in the gradient descent step?(Just mention using words, equations are not required)\n",
    "4. How does the initialisation of the parameters $\\theta$ effects the convergence? In this case we initialised $\\theta$ to zeros. What happens if we choose closer to solution and farther to solution?\n",
    "5. Any drawbacks of Gradient descent that you could think of? Hint : Interms of Convergence rate.\n",
    "6. What if number of features increases and how does it effect the gradient descent approach and analytical approach? Note:This might require some time to look for appropriate concepts. But do note that this difference is very important to understand.\n",
    "7. Comment your observations on selecting appropriate learning rate.\n",
    "\n",
    "**Write your answers in the following Markdown**"
   ]
  },
  {
   "cell_type": "markdown",
   "metadata": {},
   "source": [
    "1. For a suitable value of alpha, the analytical and gradient descent approach gives practically the same solution. \n",
    "\n",
    "\n",
    "2. Analytical approach is preffered when the size of the data and the number of feautures are small, since the time taken for finding the analytical solution directly depends on the cube of the size of dataset, whereas the gradient descent takes approximately square of the dataset(although it depends on the convergence rate too). Thus when the size of input features and/or the dataset is large, gradient descent approach is preffered since the increase in cost as compared to analytical approach is not that high.\n",
    "\n",
    "\n",
    "3. Yeah we can use some other cost function in place of MSE which denotes how far the predictions are from the true value. If we use a different cost function, we have to appropriately change the function used to find the distance of the step to take in gradient.\n",
    "\n",
    "\n",
    "4. Initilisation of $\\theta$ nearer to the solution reduces the time taken for convergence and initialising $\\theta$ farther away from the solution increases time taken for convergence since it takes finite steps towards the solution and the number of steps reduce or increase depending on the distance of initialised $\\theta$ from the solution.\n",
    "\n",
    "\n",
    "5. One of the drawbacks of Gradient descent is the time it takes for convergence and also for choosing an proper learning rate for the gradient descent problem.\n",
    "\n",
    "\n",
    "6. Increasing the number of features increases the time taken by both the gradient descent and analytical approach to arrive at an answer. Although the increase in the time taken by analytical approach is more as compared to gradient descent due to the fact discussed in question 2.\n",
    "\n",
    "\n",
    "7. There is a sweet spot involved in choosing the learning rate. Taking too small a learning rate drastically increases the time required for the gradient descent model to arrive at minima and too large  a learning rate causes the loss to continuosly increase and will never converge to solution."
   ]
  }
 ],
 "metadata": {
  "kernelspec": {
   "display_name": "Python 3",
   "language": "python",
   "name": "python3"
  },
  "language_info": {
   "codemirror_mode": {
    "name": "ipython",
    "version": 3
   },
   "file_extension": ".py",
   "mimetype": "text/x-python",
   "name": "python",
   "nbconvert_exporter": "python",
   "pygments_lexer": "ipython3",
   "version": "3.7.4"
  }
 },
 "nbformat": 4,
 "nbformat_minor": 2
}
