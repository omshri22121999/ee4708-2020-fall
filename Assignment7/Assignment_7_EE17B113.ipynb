{
 "cells": [
  {
   "cell_type": "markdown",
   "metadata": {
    "id": "MMWp3bQP-bhU"
   },
   "source": [
    "## Week 6: Dimensionality Reduction (PCA) and Model Validation"
   ]
  },
  {
   "cell_type": "code",
   "execution_count": 1,
   "metadata": {},
   "outputs": [
    {
     "data": {
      "application/javascript": [
       "\n",
       "            setTimeout(function() {\n",
       "                var nbb_cell_id = 1;\n",
       "                var nbb_unformatted_code = \"# Importing libraries\\n\\nimport numpy as np\\nimport pandas as pd\\nimport matplotlib.pyplot as plt\\nimport seaborn as sns\\n\\nsns.set()\\n\\n%load_ext nb_black\";\n",
       "                var nbb_formatted_code = \"# Importing libraries\\n\\nimport numpy as np\\nimport pandas as pd\\nimport matplotlib.pyplot as plt\\nimport seaborn as sns\\n\\nsns.set()\\n\\n%load_ext nb_black\";\n",
       "                var nbb_cells = Jupyter.notebook.get_cells();\n",
       "                for (var i = 0; i < nbb_cells.length; ++i) {\n",
       "                    if (nbb_cells[i].input_prompt_number == nbb_cell_id) {\n",
       "                        if (nbb_cells[i].get_text() == nbb_unformatted_code) {\n",
       "                             nbb_cells[i].set_text(nbb_formatted_code);\n",
       "                        }\n",
       "                        break;\n",
       "                    }\n",
       "                }\n",
       "            }, 500);\n",
       "            "
      ],
      "text/plain": [
       "<IPython.core.display.Javascript object>"
      ]
     },
     "metadata": {},
     "output_type": "display_data"
    }
   ],
   "source": [
    "# Importing libraries\n",
    "\n",
    "import numpy as np\n",
    "import pandas as pd\n",
    "import matplotlib.pyplot as plt\n",
    "import seaborn as sns\n",
    "\n",
    "sns.set()\n",
    "\n",
    "%load_ext nb_black"
   ]
  },
  {
   "cell_type": "markdown",
   "metadata": {
    "id": "GlFINCKfoOHJ"
   },
   "source": [
    "**(1a) Load the data file 'data1.csv' and visualize the data using a scatter plot.**"
   ]
  },
  {
   "cell_type": "code",
   "execution_count": 2,
   "metadata": {
    "id": "rzNIPVxcEgK_",
    "outputId": "523fc753-f9f0-460a-e947-9e6cdc630557"
   },
   "outputs": [
    {
     "data": {
      "text/html": [
       "<div>\n",
       "<style scoped>\n",
       "    .dataframe tbody tr th:only-of-type {\n",
       "        vertical-align: middle;\n",
       "    }\n",
       "\n",
       "    .dataframe tbody tr th {\n",
       "        vertical-align: top;\n",
       "    }\n",
       "\n",
       "    .dataframe thead th {\n",
       "        text-align: right;\n",
       "    }\n",
       "</style>\n",
       "<table border=\"1\" class=\"dataframe\">\n",
       "  <thead>\n",
       "    <tr style=\"text-align: right;\">\n",
       "      <th></th>\n",
       "      <th>0</th>\n",
       "      <th>1</th>\n",
       "    </tr>\n",
       "  </thead>\n",
       "  <tbody>\n",
       "    <tr>\n",
       "      <th>0</th>\n",
       "      <td>-3.086760</td>\n",
       "      <td>0.012814</td>\n",
       "    </tr>\n",
       "    <tr>\n",
       "      <th>1</th>\n",
       "      <td>2.368870</td>\n",
       "      <td>-0.056970</td>\n",
       "    </tr>\n",
       "    <tr>\n",
       "      <th>2</th>\n",
       "      <td>-0.741769</td>\n",
       "      <td>0.089533</td>\n",
       "    </tr>\n",
       "    <tr>\n",
       "      <th>3</th>\n",
       "      <td>-1.221298</td>\n",
       "      <td>0.145294</td>\n",
       "    </tr>\n",
       "    <tr>\n",
       "      <th>4</th>\n",
       "      <td>-2.080397</td>\n",
       "      <td>0.118519</td>\n",
       "    </tr>\n",
       "  </tbody>\n",
       "</table>\n",
       "</div>"
      ],
      "text/plain": [
       "          0         1\n",
       "0 -3.086760  0.012814\n",
       "1  2.368870 -0.056970\n",
       "2 -0.741769  0.089533\n",
       "3 -1.221298  0.145294\n",
       "4 -2.080397  0.118519"
      ]
     },
     "execution_count": 2,
     "metadata": {},
     "output_type": "execute_result"
    },
    {
     "data": {
      "application/javascript": [
       "\n",
       "            setTimeout(function() {\n",
       "                var nbb_cell_id = 2;\n",
       "                var nbb_unformatted_code = \"data1 = pd.read_csv(\\\"data1.csv\\\", header=None)\\n\\ndata1.head()\";\n",
       "                var nbb_formatted_code = \"data1 = pd.read_csv(\\\"data1.csv\\\", header=None)\\n\\ndata1.head()\";\n",
       "                var nbb_cells = Jupyter.notebook.get_cells();\n",
       "                for (var i = 0; i < nbb_cells.length; ++i) {\n",
       "                    if (nbb_cells[i].input_prompt_number == nbb_cell_id) {\n",
       "                        if (nbb_cells[i].get_text() == nbb_unformatted_code) {\n",
       "                             nbb_cells[i].set_text(nbb_formatted_code);\n",
       "                        }\n",
       "                        break;\n",
       "                    }\n",
       "                }\n",
       "            }, 500);\n",
       "            "
      ],
      "text/plain": [
       "<IPython.core.display.Javascript object>"
      ]
     },
     "metadata": {},
     "output_type": "display_data"
    }
   ],
   "source": [
    "data1 = pd.read_csv(\"data1.csv\", header=None)\n",
    "\n",
    "data1.head()"
   ]
  },
  {
   "cell_type": "markdown",
   "metadata": {
    "id": "zfxzmweXEgLP"
   },
   "source": [
    "**Let $\\bar{x} = (x_1, x_2, x_3, \\cdots, x_m)$ denote a data point with $m$ features. Suppose we approximate $\\bar{x}$ with fewer features, say two features $x_1$ and $x_2$, as $\\bar{y} = (x_1, x_2, 0, \\cdots, 0)$. Now, define the loss due to the representation as $\\lVert \\bar{x} - \\bar{y} \\rVert^2 = x_3^2 + \\cdots + x_m^2$. **\n",
    "\n",
    "**(1b) Find a single feature representation of the data (in data1.csv) such that the loss in representation is minimum.**"
   ]
  },
  {
   "cell_type": "code",
   "execution_count": 3,
   "metadata": {
    "id": "_FyYA036EgLS",
    "outputId": "fae8e861-f9e3-467d-c2e7-e5003f6f58e2"
   },
   "outputs": [
    {
     "name": "stdout",
     "output_type": "stream",
     "text": [
      "Loss due to removing x1 : 358.1035064241587\n",
      "Loss due to removing x2 : 0.4191265524458239\n"
     ]
    },
    {
     "data": {
      "application/javascript": [
       "\n",
       "            setTimeout(function() {\n",
       "                var nbb_cell_id = 3;\n",
       "                var nbb_unformatted_code = \"# Loss Due to removing x2\\n\\nprint(\\\"Loss due to removing x1 :\\\", np.sum(data1[0].values ** 2))\\nprint(\\\"Loss due to removing x2 :\\\", np.sum(data1[1].values ** 2))\";\n",
       "                var nbb_formatted_code = \"# Loss Due to removing x2\\n\\nprint(\\\"Loss due to removing x1 :\\\", np.sum(data1[0].values ** 2))\\nprint(\\\"Loss due to removing x2 :\\\", np.sum(data1[1].values ** 2))\";\n",
       "                var nbb_cells = Jupyter.notebook.get_cells();\n",
       "                for (var i = 0; i < nbb_cells.length; ++i) {\n",
       "                    if (nbb_cells[i].input_prompt_number == nbb_cell_id) {\n",
       "                        if (nbb_cells[i].get_text() == nbb_unformatted_code) {\n",
       "                             nbb_cells[i].set_text(nbb_formatted_code);\n",
       "                        }\n",
       "                        break;\n",
       "                    }\n",
       "                }\n",
       "            }, 500);\n",
       "            "
      ],
      "text/plain": [
       "<IPython.core.display.Javascript object>"
      ]
     },
     "metadata": {},
     "output_type": "display_data"
    }
   ],
   "source": [
    "# Loss Due to removing x2\n",
    "\n",
    "print(\"Loss due to removing x1 :\", np.sum(data1[0].values ** 2))\n",
    "print(\"Loss due to removing x2 :\", np.sum(data1[1].values ** 2))"
   ]
  },
  {
   "cell_type": "markdown",
   "metadata": {},
   "source": [
    "Minimum loss is via removing x2, thus we only use x1"
   ]
  },
  {
   "cell_type": "markdown",
   "metadata": {
    "id": "sA2O2zxcEgLf"
   },
   "source": [
    "**(1c) Visualize the approximated data and compare it with the original data using scatter plot**"
   ]
  },
  {
   "cell_type": "code",
   "execution_count": 4,
   "metadata": {
    "id": "XXwPR24uEgLi",
    "outputId": "f7b76012-481d-4827-db4e-e50eaf1eed40"
   },
   "outputs": [
    {
     "data": {
      "image/png": "[encoded data removed]",
      "text/plain": [
       "<Figure size 432x288 with 1 Axes>"
      ]
     },
     "metadata": {},
     "output_type": "display_data"
    },
    {
     "data": {
      "application/javascript": [
       "\n",
       "            setTimeout(function() {\n",
       "                var nbb_cell_id = 4;\n",
       "                var nbb_unformatted_code = \"# Visualizing data using same scale along x and y\\n\\nplt.title(\\\"Comparing single feature vs double feature\\\")\\nplt.scatter(data1[0], data1[1], label=\\\"x1&x2\\\")\\nplt.scatter(data1[0], np.zeros(len(data1[1])), label=\\\"x1\\\")\\nplt.xlim([-6, 6])\\nplt.ylim([-2, 2])\\nplt.xlabel(\\\"x1\\\")\\nplt.ylabel(\\\"x2\\\")\\nplt.legend()\\nplt.show()\";\n",
       "                var nbb_formatted_code = \"# Visualizing data using same scale along x and y\\n\\nplt.title(\\\"Comparing single feature vs double feature\\\")\\nplt.scatter(data1[0], data1[1], label=\\\"x1&x2\\\")\\nplt.scatter(data1[0], np.zeros(len(data1[1])), label=\\\"x1\\\")\\nplt.xlim([-6, 6])\\nplt.ylim([-2, 2])\\nplt.xlabel(\\\"x1\\\")\\nplt.ylabel(\\\"x2\\\")\\nplt.legend()\\nplt.show()\";\n",
       "                var nbb_cells = Jupyter.notebook.get_cells();\n",
       "                for (var i = 0; i < nbb_cells.length; ++i) {\n",
       "                    if (nbb_cells[i].input_prompt_number == nbb_cell_id) {\n",
       "                        if (nbb_cells[i].get_text() == nbb_unformatted_code) {\n",
       "                             nbb_cells[i].set_text(nbb_formatted_code);\n",
       "                        }\n",
       "                        break;\n",
       "                    }\n",
       "                }\n",
       "            }, 500);\n",
       "            "
      ],
      "text/plain": [
       "<IPython.core.display.Javascript object>"
      ]
     },
     "metadata": {},
     "output_type": "display_data"
    }
   ],
   "source": [
    "# Visualizing data using same scale along x and y\n",
    "\n",
    "plt.title(\"Comparing single feature vs double feature\")\n",
    "plt.scatter(data1[0], data1[1], label=\"x1&x2\")\n",
    "plt.scatter(data1[0], np.zeros(len(data1[1])), label=\"x1\")\n",
    "plt.xlim([-6, 6])\n",
    "plt.ylim([-2, 2])\n",
    "plt.xlabel(\"x1\")\n",
    "plt.ylabel(\"x2\")\n",
    "plt.legend()\n",
    "plt.show()"
   ]
  },
  {
   "cell_type": "markdown",
   "metadata": {
    "id": "Fsb340vLEgLs"
   },
   "source": [
    "**(2a) Load the data file 'data2.csv'.**"
   ]
  },
  {
   "cell_type": "code",
   "execution_count": 5,
   "metadata": {
    "id": "xoYhAe2jEgLu"
   },
   "outputs": [
    {
     "data": {
      "text/html": [
       "<div>\n",
       "<style scoped>\n",
       "    .dataframe tbody tr th:only-of-type {\n",
       "        vertical-align: middle;\n",
       "    }\n",
       "\n",
       "    .dataframe tbody tr th {\n",
       "        vertical-align: top;\n",
       "    }\n",
       "\n",
       "    .dataframe thead th {\n",
       "        text-align: right;\n",
       "    }\n",
       "</style>\n",
       "<table border=\"1\" class=\"dataframe\">\n",
       "  <thead>\n",
       "    <tr style=\"text-align: right;\">\n",
       "      <th></th>\n",
       "      <th>0</th>\n",
       "      <th>1</th>\n",
       "      <th>2</th>\n",
       "      <th>3</th>\n",
       "    </tr>\n",
       "  </thead>\n",
       "  <tbody>\n",
       "    <tr>\n",
       "      <th>0</th>\n",
       "      <td>0.007589</td>\n",
       "      <td>-8.886696</td>\n",
       "      <td>-12.316361</td>\n",
       "      <td>-0.036092</td>\n",
       "    </tr>\n",
       "    <tr>\n",
       "      <th>1</th>\n",
       "      <td>-1.461927</td>\n",
       "      <td>3.977425</td>\n",
       "      <td>-17.784232</td>\n",
       "      <td>0.075197</td>\n",
       "    </tr>\n",
       "    <tr>\n",
       "      <th>2</th>\n",
       "      <td>-0.891625</td>\n",
       "      <td>-7.426320</td>\n",
       "      <td>25.122113</td>\n",
       "      <td>-0.150440</td>\n",
       "    </tr>\n",
       "    <tr>\n",
       "      <th>3</th>\n",
       "      <td>1.057471</td>\n",
       "      <td>4.184783</td>\n",
       "      <td>39.927021</td>\n",
       "      <td>0.068328</td>\n",
       "    </tr>\n",
       "    <tr>\n",
       "      <th>4</th>\n",
       "      <td>0.147645</td>\n",
       "      <td>-0.309380</td>\n",
       "      <td>33.502600</td>\n",
       "      <td>-0.125913</td>\n",
       "    </tr>\n",
       "  </tbody>\n",
       "</table>\n",
       "</div>"
      ],
      "text/plain": [
       "          0         1          2         3\n",
       "0  0.007589 -8.886696 -12.316361 -0.036092\n",
       "1 -1.461927  3.977425 -17.784232  0.075197\n",
       "2 -0.891625 -7.426320  25.122113 -0.150440\n",
       "3  1.057471  4.184783  39.927021  0.068328\n",
       "4  0.147645 -0.309380  33.502600 -0.125913"
      ]
     },
     "execution_count": 5,
     "metadata": {},
     "output_type": "execute_result"
    },
    {
     "data": {
      "application/javascript": [
       "\n",
       "            setTimeout(function() {\n",
       "                var nbb_cell_id = 5;\n",
       "                var nbb_unformatted_code = \"data2 = pd.read_csv(\\\"data2.csv\\\", header=None)\\n\\ndata2.head()\";\n",
       "                var nbb_formatted_code = \"data2 = pd.read_csv(\\\"data2.csv\\\", header=None)\\n\\ndata2.head()\";\n",
       "                var nbb_cells = Jupyter.notebook.get_cells();\n",
       "                for (var i = 0; i < nbb_cells.length; ++i) {\n",
       "                    if (nbb_cells[i].input_prompt_number == nbb_cell_id) {\n",
       "                        if (nbb_cells[i].get_text() == nbb_unformatted_code) {\n",
       "                             nbb_cells[i].set_text(nbb_formatted_code);\n",
       "                        }\n",
       "                        break;\n",
       "                    }\n",
       "                }\n",
       "            }, 500);\n",
       "            "
      ],
      "text/plain": [
       "<IPython.core.display.Javascript object>"
      ]
     },
     "metadata": {},
     "output_type": "display_data"
    }
   ],
   "source": [
    "data2 = pd.read_csv(\"data2.csv\", header=None)\n",
    "\n",
    "data2.head()"
   ]
  },
  {
   "cell_type": "markdown",
   "metadata": {
    "id": "zcWUsXTCEgL5"
   },
   "source": [
    "**(2c) Plot the minimum representation loss as a function of the number of features used for representation. Vary the number of features from 0 to 3**\n",
    "\n",
    "**(2c) Order the features in decreasing order of significance (with respect to the representation loss).**"
   ]
  },
  {
   "cell_type": "code",
   "execution_count": 6,
   "metadata": {
    "id": "-V8WSGP-EgL7",
    "outputId": "d2785a02-239b-4833-9e02-bdf2ffc9545f"
   },
   "outputs": [
    {
     "data": {
      "image/png": "[encoded data removed]",
      "text/plain": [
       "<Figure size 432x288 with 1 Axes>"
      ]
     },
     "metadata": {},
     "output_type": "display_data"
    },
    {
     "data": {
      "text/html": [
       "<div>\n",
       "<style scoped>\n",
       "    .dataframe tbody tr th:only-of-type {\n",
       "        vertical-align: middle;\n",
       "    }\n",
       "\n",
       "    .dataframe tbody tr th {\n",
       "        vertical-align: top;\n",
       "    }\n",
       "\n",
       "    .dataframe thead th {\n",
       "        text-align: right;\n",
       "    }\n",
       "</style>\n",
       "<table border=\"1\" class=\"dataframe\">\n",
       "  <thead>\n",
       "    <tr style=\"text-align: right;\">\n",
       "      <th></th>\n",
       "      <th>Features</th>\n",
       "      <th>Losses</th>\n",
       "    </tr>\n",
       "  </thead>\n",
       "  <tbody>\n",
       "    <tr>\n",
       "      <th>0</th>\n",
       "      <td>0</td>\n",
       "      <td>1.053533e+06</td>\n",
       "    </tr>\n",
       "    <tr>\n",
       "      <th>1</th>\n",
       "      <td>1</td>\n",
       "      <td>4.014408e+04</td>\n",
       "    </tr>\n",
       "    <tr>\n",
       "      <th>2</th>\n",
       "      <td>2</td>\n",
       "      <td>1.021137e+01</td>\n",
       "    </tr>\n",
       "    <tr>\n",
       "      <th>3</th>\n",
       "      <td>3</td>\n",
       "      <td>5.105685e+00</td>\n",
       "    </tr>\n",
       "  </tbody>\n",
       "</table>\n",
       "</div>"
      ],
      "text/plain": [
       "   Features        Losses\n",
       "0         0  1.053533e+06\n",
       "1         1  4.014408e+04\n",
       "2         2  1.021137e+01\n",
       "3         3  5.105685e+00"
      ]
     },
     "metadata": {},
     "output_type": "display_data"
    },
    {
     "data": {
      "application/javascript": [
       "\n",
       "            setTimeout(function() {\n",
       "                var nbb_cell_id = 6;\n",
       "                var nbb_unformatted_code = \"min_losses = []\\n\\n# 0 Features\\n\\nmin_losses.append(np.sum(data2.values ** 2))\\n\\n# 1 Feature\\n\\nlosses = []\\nfor i in data2.columns:\\n    losses.append(np.sum(data2[set(data2.columns) - set([i])].values ** 2))\\n\\nmin_losses.append(min(losses))\\n\\n# 2 Features\\n\\nlosses = []\\n\\nfor i in range(len(data2.columns)):\\n    for j in range(i, len(data2.columns)):\\n        losses.append(np.sum(data2[[data2.columns[i], data2.columns[j]]].values ** 2))\\n\\nmin_losses.append(min(losses))\\n\\n# 3 Features\\n\\nlosses = []\\n\\nfor i in data2.columns:\\n    losses.append(np.sum(data2[i].values ** 2))\\n\\nmin_losses.append(min(losses))\\n\\n# Plotting the loss\\n\\nplt.title(\\\"Loss vs Features\\\")\\nplt.plot(np.arange(len(min_losses)), min_losses)\\nplt.scatter(np.arange(len(min_losses)), min_losses)\\nplt.xlabel(\\\"Features\\\")\\nplt.ylabel(\\\"Loss\\\")\\nplt.show()\\n\\nloss_dict = pd.DataFrame({\\\"Features\\\": np.arange(len(min_losses)), \\\"Losses\\\": min_losses})\\n\\ndisplay(loss_dict)\";\n",
       "                var nbb_formatted_code = \"min_losses = []\\n\\n# 0 Features\\n\\nmin_losses.append(np.sum(data2.values ** 2))\\n\\n# 1 Feature\\n\\nlosses = []\\nfor i in data2.columns:\\n    losses.append(np.sum(data2[set(data2.columns) - set([i])].values ** 2))\\n\\nmin_losses.append(min(losses))\\n\\n# 2 Features\\n\\nlosses = []\\n\\nfor i in range(len(data2.columns)):\\n    for j in range(i, len(data2.columns)):\\n        losses.append(np.sum(data2[[data2.columns[i], data2.columns[j]]].values ** 2))\\n\\nmin_losses.append(min(losses))\\n\\n# 3 Features\\n\\nlosses = []\\n\\nfor i in data2.columns:\\n    losses.append(np.sum(data2[i].values ** 2))\\n\\nmin_losses.append(min(losses))\\n\\n# Plotting the loss\\n\\nplt.title(\\\"Loss vs Features\\\")\\nplt.plot(np.arange(len(min_losses)), min_losses)\\nplt.scatter(np.arange(len(min_losses)), min_losses)\\nplt.xlabel(\\\"Features\\\")\\nplt.ylabel(\\\"Loss\\\")\\nplt.show()\\n\\nloss_dict = pd.DataFrame({\\\"Features\\\": np.arange(len(min_losses)), \\\"Losses\\\": min_losses})\\n\\ndisplay(loss_dict)\";\n",
       "                var nbb_cells = Jupyter.notebook.get_cells();\n",
       "                for (var i = 0; i < nbb_cells.length; ++i) {\n",
       "                    if (nbb_cells[i].input_prompt_number == nbb_cell_id) {\n",
       "                        if (nbb_cells[i].get_text() == nbb_unformatted_code) {\n",
       "                             nbb_cells[i].set_text(nbb_formatted_code);\n",
       "                        }\n",
       "                        break;\n",
       "                    }\n",
       "                }\n",
       "            }, 500);\n",
       "            "
      ],
      "text/plain": [
       "<IPython.core.display.Javascript object>"
      ]
     },
     "metadata": {},
     "output_type": "display_data"
    }
   ],
   "source": [
    "min_losses = []\n",
    "\n",
    "# 0 Features\n",
    "\n",
    "min_losses.append(np.sum(data2.values ** 2))\n",
    "\n",
    "# 1 Feature\n",
    "\n",
    "losses = []\n",
    "for i in data2.columns:\n",
    "    losses.append(np.sum(data2[set(data2.columns) - set([i])].values ** 2))\n",
    "\n",
    "min_losses.append(min(losses))\n",
    "\n",
    "# 2 Features\n",
    "\n",
    "losses = []\n",
    "\n",
    "for i in range(len(data2.columns)):\n",
    "    for j in range(i, len(data2.columns)):\n",
    "        losses.append(np.sum(data2[[data2.columns[i], data2.columns[j]]].values ** 2))\n",
    "\n",
    "min_losses.append(min(losses))\n",
    "\n",
    "# 3 Features\n",
    "\n",
    "losses = []\n",
    "\n",
    "for i in data2.columns:\n",
    "    losses.append(np.sum(data2[i].values ** 2))\n",
    "\n",
    "min_losses.append(min(losses))\n",
    "\n",
    "# Plotting the loss\n",
    "\n",
    "plt.title(\"Loss vs Features\")\n",
    "plt.plot(np.arange(len(min_losses)), min_losses)\n",
    "plt.scatter(np.arange(len(min_losses)), min_losses)\n",
    "plt.xlabel(\"Features\")\n",
    "plt.ylabel(\"Loss\")\n",
    "plt.show()\n",
    "\n",
    "loss_dict = pd.DataFrame({\"Features\": np.arange(len(min_losses)), \"Losses\": min_losses})\n",
    "\n",
    "display(loss_dict)"
   ]
  },
  {
   "cell_type": "code",
   "execution_count": 7,
   "metadata": {},
   "outputs": [
    {
     "name": "stdout",
     "output_type": "stream",
     "text": [
      "['x2', 'x1', 'x0', 'x3']\n"
     ]
    },
    {
     "data": {
      "application/javascript": [
       "\n",
       "            setTimeout(function() {\n",
       "                var nbb_cell_id = 7;\n",
       "                var nbb_unformatted_code = \"# Feature importance\\n\\nlosses_feat = []\\n\\nfor i, col in enumerate(data2.columns):\\n    losses_feat.append((\\\"x\\\" + str(i), np.sum(data2[col].values ** 2)))\\n\\nprint([i[0] for i in sorted(losses_feat, key=lambda x: -x[1])])\";\n",
       "                var nbb_formatted_code = \"# Feature importance\\n\\nlosses_feat = []\\n\\nfor i, col in enumerate(data2.columns):\\n    losses_feat.append((\\\"x\\\" + str(i), np.sum(data2[col].values ** 2)))\\n\\nprint([i[0] for i in sorted(losses_feat, key=lambda x: -x[1])])\";\n",
       "                var nbb_cells = Jupyter.notebook.get_cells();\n",
       "                for (var i = 0; i < nbb_cells.length; ++i) {\n",
       "                    if (nbb_cells[i].input_prompt_number == nbb_cell_id) {\n",
       "                        if (nbb_cells[i].get_text() == nbb_unformatted_code) {\n",
       "                             nbb_cells[i].set_text(nbb_formatted_code);\n",
       "                        }\n",
       "                        break;\n",
       "                    }\n",
       "                }\n",
       "            }, 500);\n",
       "            "
      ],
      "text/plain": [
       "<IPython.core.display.Javascript object>"
      ]
     },
     "metadata": {},
     "output_type": "display_data"
    }
   ],
   "source": [
    "# Feature importance\n",
    "\n",
    "losses_feat = []\n",
    "\n",
    "for i, col in enumerate(data2.columns):\n",
    "    losses_feat.append((\"x\" + str(i), np.sum(data2[col].values ** 2)))\n",
    "\n",
    "print([i[0] for i in sorted(losses_feat, key=lambda x: -x[1])])"
   ]
  },
  {
   "cell_type": "markdown",
   "metadata": {
    "id": "l85T-HUvEgMK"
   },
   "source": [
    "**(2d) Compute the covariance matrix of the data. Give your observations between the values in covariance matrix and feature importance obtained in (2c).**"
   ]
  },
  {
   "cell_type": "code",
   "execution_count": 8,
   "metadata": {
    "id": "1MuILTIBEgMM",
    "outputId": "51fc3428-09d0-431a-e738-1d709fcb7835"
   },
   "outputs": [
    {
     "name": "stdout",
     "output_type": "stream",
     "text": [
      "[[ 9.87196296e-01 -5.71788428e-02 -1.40990871e-01  3.05657061e-03]\n",
      " [-5.71788428e-02  3.91821903e+01  1.16676059e-01 -7.77027357e-03]\n",
      " [-1.40990871e-01  1.16676059e-01  1.00898980e+03  5.58349417e-02]\n",
      " [ 3.05657061e-03 -7.77027357e-03  5.58349417e-02  5.09299247e-03]]\n"
     ]
    },
    {
     "data": {
      "application/javascript": [
       "\n",
       "            setTimeout(function() {\n",
       "                var nbb_cell_id = 8;\n",
       "                var nbb_unformatted_code = \"print(np.cov(data2.values.T))\";\n",
       "                var nbb_formatted_code = \"print(np.cov(data2.values.T))\";\n",
       "                var nbb_cells = Jupyter.notebook.get_cells();\n",
       "                for (var i = 0; i < nbb_cells.length; ++i) {\n",
       "                    if (nbb_cells[i].input_prompt_number == nbb_cell_id) {\n",
       "                        if (nbb_cells[i].get_text() == nbb_unformatted_code) {\n",
       "                             nbb_cells[i].set_text(nbb_formatted_code);\n",
       "                        }\n",
       "                        break;\n",
       "                    }\n",
       "                }\n",
       "            }, 500);\n",
       "            "
      ],
      "text/plain": [
       "<IPython.core.display.Javascript object>"
      ]
     },
     "metadata": {},
     "output_type": "display_data"
    }
   ],
   "source": [
    "print(np.cov(data2.values.T))"
   ]
  },
  {
   "cell_type": "markdown",
   "metadata": {
    "id": "AeAziDbFEgMd"
   },
   "source": [
    "The features with the higher value in diagonal have higher importance, since it is one of the factors used in calculation of the loss in information. This is because having a higher diagonal value indicates that their variance is high, indicating they can store more information. "
   ]
  },
  {
   "cell_type": "markdown",
   "metadata": {
    "id": "KZsH4LsHEgMf"
   },
   "source": [
    "**(3a) Load the data file 'data3.csv' and visualize the data.**\n",
    "\n",
    "**(3b) Compute the covariance matrix $C$ of data**"
   ]
  },
  {
   "cell_type": "code",
   "execution_count": 9,
   "metadata": {
    "id": "n0q7MHTJEgMg"
   },
   "outputs": [
    {
     "data": {
      "text/html": [
       "<div>\n",
       "<style scoped>\n",
       "    .dataframe tbody tr th:only-of-type {\n",
       "        vertical-align: middle;\n",
       "    }\n",
       "\n",
       "    .dataframe tbody tr th {\n",
       "        vertical-align: top;\n",
       "    }\n",
       "\n",
       "    .dataframe thead th {\n",
       "        text-align: right;\n",
       "    }\n",
       "</style>\n",
       "<table border=\"1\" class=\"dataframe\">\n",
       "  <thead>\n",
       "    <tr style=\"text-align: right;\">\n",
       "      <th></th>\n",
       "      <th>0</th>\n",
       "      <th>1</th>\n",
       "    </tr>\n",
       "  </thead>\n",
       "  <tbody>\n",
       "    <tr>\n",
       "      <th>0</th>\n",
       "      <td>-2.173608</td>\n",
       "      <td>-2.191730</td>\n",
       "    </tr>\n",
       "    <tr>\n",
       "      <th>1</th>\n",
       "      <td>1.634760</td>\n",
       "      <td>1.715328</td>\n",
       "    </tr>\n",
       "    <tr>\n",
       "      <th>2</th>\n",
       "      <td>-0.461201</td>\n",
       "      <td>-0.587819</td>\n",
       "    </tr>\n",
       "    <tr>\n",
       "      <th>3</th>\n",
       "      <td>-0.760849</td>\n",
       "      <td>-0.966327</td>\n",
       "    </tr>\n",
       "    <tr>\n",
       "      <th>4</th>\n",
       "      <td>-1.387257</td>\n",
       "      <td>-1.554868</td>\n",
       "    </tr>\n",
       "  </tbody>\n",
       "</table>\n",
       "</div>"
      ],
      "text/plain": [
       "          0         1\n",
       "0 -2.173608 -2.191730\n",
       "1  1.634760  1.715328\n",
       "2 -0.461201 -0.587819\n",
       "3 -0.760849 -0.966327\n",
       "4 -1.387257 -1.554868"
      ]
     },
     "execution_count": 9,
     "metadata": {},
     "output_type": "execute_result"
    },
    {
     "data": {
      "application/javascript": [
       "\n",
       "            setTimeout(function() {\n",
       "                var nbb_cell_id = 9;\n",
       "                var nbb_unformatted_code = \"data3 = pd.read_csv(\\\"data3.csv\\\", header=None)\\n\\ndata3.head()\";\n",
       "                var nbb_formatted_code = \"data3 = pd.read_csv(\\\"data3.csv\\\", header=None)\\n\\ndata3.head()\";\n",
       "                var nbb_cells = Jupyter.notebook.get_cells();\n",
       "                for (var i = 0; i < nbb_cells.length; ++i) {\n",
       "                    if (nbb_cells[i].input_prompt_number == nbb_cell_id) {\n",
       "                        if (nbb_cells[i].get_text() == nbb_unformatted_code) {\n",
       "                             nbb_cells[i].set_text(nbb_formatted_code);\n",
       "                        }\n",
       "                        break;\n",
       "                    }\n",
       "                }\n",
       "            }, 500);\n",
       "            "
      ],
      "text/plain": [
       "<IPython.core.display.Javascript object>"
      ]
     },
     "metadata": {},
     "output_type": "display_data"
    }
   ],
   "source": [
    "data3 = pd.read_csv(\"data3.csv\", header=None)\n",
    "\n",
    "data3.head()"
   ]
  },
  {
   "cell_type": "code",
   "execution_count": 10,
   "metadata": {},
   "outputs": [
    {
     "data": {
      "image/png": "[encoded data removed]",
      "text/plain": [
       "<Figure size 432x288 with 1 Axes>"
      ]
     },
     "metadata": {},
     "output_type": "display_data"
    },
    {
     "data": {
      "application/javascript": [
       "\n",
       "            setTimeout(function() {\n",
       "                var nbb_cell_id = 10;\n",
       "                var nbb_unformatted_code = \"plt.title(\\\"Data 3\\\")\\nplt.scatter(data3[0], data3[1])\\nplt.xlabel(\\\"x0\\\")\\nplt.ylabel(\\\"x1\\\")\\nplt.show()\";\n",
       "                var nbb_formatted_code = \"plt.title(\\\"Data 3\\\")\\nplt.scatter(data3[0], data3[1])\\nplt.xlabel(\\\"x0\\\")\\nplt.ylabel(\\\"x1\\\")\\nplt.show()\";\n",
       "                var nbb_cells = Jupyter.notebook.get_cells();\n",
       "                for (var i = 0; i < nbb_cells.length; ++i) {\n",
       "                    if (nbb_cells[i].input_prompt_number == nbb_cell_id) {\n",
       "                        if (nbb_cells[i].get_text() == nbb_unformatted_code) {\n",
       "                             nbb_cells[i].set_text(nbb_formatted_code);\n",
       "                        }\n",
       "                        break;\n",
       "                    }\n",
       "                }\n",
       "            }, 500);\n",
       "            "
      ],
      "text/plain": [
       "<IPython.core.display.Javascript object>"
      ]
     },
     "metadata": {},
     "output_type": "display_data"
    }
   ],
   "source": [
    "plt.title(\"Data 3\")\n",
    "plt.scatter(data3[0], data3[1])\n",
    "plt.xlabel(\"x0\")\n",
    "plt.ylabel(\"x1\")\n",
    "plt.show()"
   ]
  },
  {
   "cell_type": "markdown",
   "metadata": {
    "id": "it0n7Yj0EgM7"
   },
   "source": [
    "**(3c) Apply PCA to transform data by retaining only 1 PC. Now, visualize the data points in transformed 1-dimensional space**"
   ]
  },
  {
   "cell_type": "code",
   "execution_count": 11,
   "metadata": {
    "id": "nE2CZ9DiEgM8"
   },
   "outputs": [
    {
     "name": "stdout",
     "output_type": "stream",
     "text": [
      "Covariance Matrix :\n",
      " [[3.59416569 3.61756379]\n",
      " [3.61756379 3.65805865]]\n",
      "Eigenvalue values: \n",
      " [7.24381702 0.00840733]\n",
      "Eigen vectors: \n",
      " [[-0.70397777 -0.710222  ]\n",
      " [-0.710222    0.70397777]]\n"
     ]
    },
    {
     "data": {
      "application/javascript": [
       "\n",
       "            setTimeout(function() {\n",
       "                var nbb_cell_id = 11;\n",
       "                var nbb_unformatted_code = \"s_x = np.cov(data3.T)\\nv, w = np.linalg.eig(s_x)\\n\\nprint(\\\"Covariance Matrix :\\\\n\\\", s_x)\\n\\nidx = v.argsort()[::-1]\\n\\nv = v[idx]\\nw = w[:, idx]\\n\\nprint(\\\"Eigenvalue values: \\\\n\\\", v)\\nprint(\\\"Eigen vectors: \\\\n\\\", w)\";\n",
       "                var nbb_formatted_code = \"s_x = np.cov(data3.T)\\nv, w = np.linalg.eig(s_x)\\n\\nprint(\\\"Covariance Matrix :\\\\n\\\", s_x)\\n\\nidx = v.argsort()[::-1]\\n\\nv = v[idx]\\nw = w[:, idx]\\n\\nprint(\\\"Eigenvalue values: \\\\n\\\", v)\\nprint(\\\"Eigen vectors: \\\\n\\\", w)\";\n",
       "                var nbb_cells = Jupyter.notebook.get_cells();\n",
       "                for (var i = 0; i < nbb_cells.length; ++i) {\n",
       "                    if (nbb_cells[i].input_prompt_number == nbb_cell_id) {\n",
       "                        if (nbb_cells[i].get_text() == nbb_unformatted_code) {\n",
       "                             nbb_cells[i].set_text(nbb_formatted_code);\n",
       "                        }\n",
       "                        break;\n",
       "                    }\n",
       "                }\n",
       "            }, 500);\n",
       "            "
      ],
      "text/plain": [
       "<IPython.core.display.Javascript object>"
      ]
     },
     "metadata": {},
     "output_type": "display_data"
    }
   ],
   "source": [
    "s_x = np.cov(data3.T)\n",
    "v, w = np.linalg.eig(s_x)\n",
    "\n",
    "print(\"Covariance Matrix :\\n\", s_x)\n",
    "\n",
    "idx = v.argsort()[::-1]\n",
    "\n",
    "v = v[idx]\n",
    "w = w[:, idx]\n",
    "\n",
    "print(\"Eigenvalue values: \\n\", v)\n",
    "print(\"Eigen vectors: \\n\", w)"
   ]
  },
  {
   "cell_type": "code",
   "execution_count": 12,
   "metadata": {},
   "outputs": [
    {
     "data": {
      "image/png": "[encoded data removed]",
      "text/plain": [
       "<Figure size 432x288 with 1 Axes>"
      ]
     },
     "metadata": {},
     "output_type": "display_data"
    },
    {
     "data": {
      "application/javascript": [
       "\n",
       "            setTimeout(function() {\n",
       "                var nbb_cell_id = 12;\n",
       "                var nbb_unformatted_code = \"data3_new = data3.values.dot(w[:, 0])\\n\\nplt.title(\\\"1d Data\\\")\\nplt.scatter(data3_new, np.zeros(len(data3_new)))\\nplt.show()\";\n",
       "                var nbb_formatted_code = \"data3_new = data3.values.dot(w[:, 0])\\n\\nplt.title(\\\"1d Data\\\")\\nplt.scatter(data3_new, np.zeros(len(data3_new)))\\nplt.show()\";\n",
       "                var nbb_cells = Jupyter.notebook.get_cells();\n",
       "                for (var i = 0; i < nbb_cells.length; ++i) {\n",
       "                    if (nbb_cells[i].input_prompt_number == nbb_cell_id) {\n",
       "                        if (nbb_cells[i].get_text() == nbb_unformatted_code) {\n",
       "                             nbb_cells[i].set_text(nbb_formatted_code);\n",
       "                        }\n",
       "                        break;\n",
       "                    }\n",
       "                }\n",
       "            }, 500);\n",
       "            "
      ],
      "text/plain": [
       "<IPython.core.display.Javascript object>"
      ]
     },
     "metadata": {},
     "output_type": "display_data"
    }
   ],
   "source": [
    "data3_new = data3.values.dot(w[:, 0])\n",
    "\n",
    "plt.title(\"1d Data\")\n",
    "plt.scatter(data3_new, np.zeros(len(data3_new)))\n",
    "plt.show()"
   ]
  },
  {
   "cell_type": "markdown",
   "metadata": {
    "id": "9Xl2eUCzEgNa"
   },
   "source": [
    "**(3d) Compute the representational loss (with respect to the original data).**\n",
    "\n",
    "**(3e) Compare the above representation loss with the loss your would incur if you attempted a one-dimensional representation without any transformation. Comment on it.**\n"
   ]
  },
  {
   "cell_type": "code",
   "execution_count": 13,
   "metadata": {
    "id": "GfM1JgryEgNc",
    "outputId": "258e7155-ca0e-4886-e09b-e2c418156d1f",
    "scrolled": false
   },
   "outputs": [
    {
     "name": "stdout",
     "output_type": "stream",
     "text": [
      "Representational Loss with PCA transformation : 0.4120253056751544\n"
     ]
    },
    {
     "data": {
      "application/javascript": [
       "\n",
       "            setTimeout(function() {\n",
       "                var nbb_cell_id = 13;\n",
       "                var nbb_unformatted_code = \"# Projecting the data to PCA space\\n\\ndata3_proj = data3.values.dot(w)\\n\\nprint(\\n    \\\"Representational Loss with PCA transformation :\\\",\\n    (np.sum(data3_proj[:, 0] ** 2 + data3_proj[:, 1] ** 2 - data3_new ** 2)),\\n)\";\n",
       "                var nbb_formatted_code = \"# Projecting the data to PCA space\\n\\ndata3_proj = data3.values.dot(w)\\n\\nprint(\\n    \\\"Representational Loss with PCA transformation :\\\",\\n    (np.sum(data3_proj[:, 0] ** 2 + data3_proj[:, 1] ** 2 - data3_new ** 2)),\\n)\";\n",
       "                var nbb_cells = Jupyter.notebook.get_cells();\n",
       "                for (var i = 0; i < nbb_cells.length; ++i) {\n",
       "                    if (nbb_cells[i].input_prompt_number == nbb_cell_id) {\n",
       "                        if (nbb_cells[i].get_text() == nbb_unformatted_code) {\n",
       "                             nbb_cells[i].set_text(nbb_formatted_code);\n",
       "                        }\n",
       "                        break;\n",
       "                    }\n",
       "                }\n",
       "            }, 500);\n",
       "            "
      ],
      "text/plain": [
       "<IPython.core.display.Javascript object>"
      ]
     },
     "metadata": {},
     "output_type": "display_data"
    }
   ],
   "source": [
    "# Projecting the data to PCA space\n",
    "\n",
    "data3_proj = data3.values.dot(w)\n",
    "\n",
    "print(\n",
    "    \"Representational Loss with PCA transformation :\",\n",
    "    (np.sum(data3_proj[:, 0] ** 2 + data3_proj[:, 1] ** 2 - data3_new ** 2)),\n",
    ")"
   ]
  },
  {
   "cell_type": "code",
   "execution_count": 14,
   "metadata": {},
   "outputs": [
    {
     "name": "stdout",
     "output_type": "stream",
     "text": [
      "Minimum Representational Loss without PCA transformation : 176.11411905436043\n"
     ]
    },
    {
     "data": {
      "application/javascript": [
       "\n",
       "            setTimeout(function() {\n",
       "                var nbb_cell_id = 14;\n",
       "                var nbb_unformatted_code = \"print(\\n    \\\"Minimum Representational Loss without PCA transformation :\\\",\\n    min(s_x[0, 0], s_x[1, 1]) * (len(data3) - 1),\\n)\";\n",
       "                var nbb_formatted_code = \"print(\\n    \\\"Minimum Representational Loss without PCA transformation :\\\",\\n    min(s_x[0, 0], s_x[1, 1]) * (len(data3) - 1),\\n)\";\n",
       "                var nbb_cells = Jupyter.notebook.get_cells();\n",
       "                for (var i = 0; i < nbb_cells.length; ++i) {\n",
       "                    if (nbb_cells[i].input_prompt_number == nbb_cell_id) {\n",
       "                        if (nbb_cells[i].get_text() == nbb_unformatted_code) {\n",
       "                             nbb_cells[i].set_text(nbb_formatted_code);\n",
       "                        }\n",
       "                        break;\n",
       "                    }\n",
       "                }\n",
       "            }, 500);\n",
       "            "
      ],
      "text/plain": [
       "<IPython.core.display.Javascript object>"
      ]
     },
     "metadata": {},
     "output_type": "display_data"
    }
   ],
   "source": [
    "print(\n",
    "    \"Minimum Representational Loss without PCA transformation :\",\n",
    "    min(s_x[0, 0], s_x[1, 1]) * (len(data3) - 1),\n",
    ")"
   ]
  },
  {
   "cell_type": "markdown",
   "metadata": {
    "id": "H__9kyFz_yip"
   },
   "source": [
    "### Application of PCA on real dataset"
   ]
  },
  {
   "cell_type": "markdown",
   "metadata": {
    "id": "u-CjbJhHEgNs"
   },
   "source": [
    "**(4a) Load the human face data set from sklearn (fetch_lfw_people).**"
   ]
  },
  {
   "cell_type": "code",
   "execution_count": 15,
   "metadata": {
    "id": "2KddvXwUEgNt"
   },
   "outputs": [
    {
     "data": {
      "application/javascript": [
       "\n",
       "            setTimeout(function() {\n",
       "                var nbb_cell_id = 15;\n",
       "                var nbb_unformatted_code = \"from sklearn.datasets import fetch_lfw_people\\nfrom sklearn.decomposition import PCA\\n\\nfaces = fetch_lfw_people(min_faces_per_person=60)\\n\\nX_face = np.array(faces[\\\"data\\\"])\";\n",
       "                var nbb_formatted_code = \"from sklearn.datasets import fetch_lfw_people\\nfrom sklearn.decomposition import PCA\\n\\nfaces = fetch_lfw_people(min_faces_per_person=60)\\n\\nX_face = np.array(faces[\\\"data\\\"])\";\n",
       "                var nbb_cells = Jupyter.notebook.get_cells();\n",
       "                for (var i = 0; i < nbb_cells.length; ++i) {\n",
       "                    if (nbb_cells[i].input_prompt_number == nbb_cell_id) {\n",
       "                        if (nbb_cells[i].get_text() == nbb_unformatted_code) {\n",
       "                             nbb_cells[i].set_text(nbb_formatted_code);\n",
       "                        }\n",
       "                        break;\n",
       "                    }\n",
       "                }\n",
       "            }, 500);\n",
       "            "
      ],
      "text/plain": [
       "<IPython.core.display.Javascript object>"
      ]
     },
     "metadata": {},
     "output_type": "display_data"
    }
   ],
   "source": [
    "from sklearn.datasets import fetch_lfw_people\n",
    "from sklearn.decomposition import PCA\n",
    "\n",
    "faces = fetch_lfw_people(min_faces_per_person=60)\n",
    "\n",
    "X_face = np.array(faces[\"data\"])"
   ]
  },
  {
   "cell_type": "markdown",
   "metadata": {
    "id": "MSc0kegUEgN7"
   },
   "source": [
    "**(4b) Apply PCA on the faces data (sklearn can be used). Take the top 150 features from PCA. Reconstruct the images with the these 150 features and visualise them. Give your observations.**"
   ]
  },
  {
   "cell_type": "code",
   "execution_count": 16,
   "metadata": {
    "id": "2P9STHgGEgN9"
   },
   "outputs": [
    {
     "data": {
      "application/javascript": [
       "\n",
       "            setTimeout(function() {\n",
       "                var nbb_cell_id = 16;\n",
       "                var nbb_unformatted_code = \"n_samples, h, w = faces.images.shape\\n\\nn_components = 150\";\n",
       "                var nbb_formatted_code = \"n_samples, h, w = faces.images.shape\\n\\nn_components = 150\";\n",
       "                var nbb_cells = Jupyter.notebook.get_cells();\n",
       "                for (var i = 0; i < nbb_cells.length; ++i) {\n",
       "                    if (nbb_cells[i].input_prompt_number == nbb_cell_id) {\n",
       "                        if (nbb_cells[i].get_text() == nbb_unformatted_code) {\n",
       "                             nbb_cells[i].set_text(nbb_formatted_code);\n",
       "                        }\n",
       "                        break;\n",
       "                    }\n",
       "                }\n",
       "            }, 500);\n",
       "            "
      ],
      "text/plain": [
       "<IPython.core.display.Javascript object>"
      ]
     },
     "metadata": {},
     "output_type": "display_data"
    }
   ],
   "source": [
    "n_samples, h, w = faces.images.shape\n",
    "\n",
    "n_components = 150"
   ]
  },
  {
   "cell_type": "code",
   "execution_count": 17,
   "metadata": {},
   "outputs": [
    {
     "data": {
      "application/javascript": [
       "\n",
       "            setTimeout(function() {\n",
       "                var nbb_cell_id = 17;\n",
       "                var nbb_unformatted_code = \"pca = PCA(n_components=n_components, svd_solver=\\\"randomized\\\", whiten=True)\\n\\nX_face_transformed = pca.fit_transform(X_face)\";\n",
       "                var nbb_formatted_code = \"pca = PCA(n_components=n_components, svd_solver=\\\"randomized\\\", whiten=True)\\n\\nX_face_transformed = pca.fit_transform(X_face)\";\n",
       "                var nbb_cells = Jupyter.notebook.get_cells();\n",
       "                for (var i = 0; i < nbb_cells.length; ++i) {\n",
       "                    if (nbb_cells[i].input_prompt_number == nbb_cell_id) {\n",
       "                        if (nbb_cells[i].get_text() == nbb_unformatted_code) {\n",
       "                             nbb_cells[i].set_text(nbb_formatted_code);\n",
       "                        }\n",
       "                        break;\n",
       "                    }\n",
       "                }\n",
       "            }, 500);\n",
       "            "
      ],
      "text/plain": [
       "<IPython.core.display.Javascript object>"
      ]
     },
     "metadata": {},
     "output_type": "display_data"
    }
   ],
   "source": [
    "pca = PCA(n_components=n_components, svd_solver=\"randomized\", whiten=True)\n",
    "\n",
    "X_face_transformed = pca.fit_transform(X_face)"
   ]
  },
  {
   "cell_type": "code",
   "execution_count": 18,
   "metadata": {},
   "outputs": [
    {
     "data": {
      "application/javascript": [
       "\n",
       "            setTimeout(function() {\n",
       "                var nbb_cell_id = 18;\n",
       "                var nbb_unformatted_code = \"X_face_reconstruct = pca.inverse_transform(X_face_transformed).reshape(\\n    faces[\\\"images\\\"].shape\\n)\";\n",
       "                var nbb_formatted_code = \"X_face_reconstruct = pca.inverse_transform(X_face_transformed).reshape(\\n    faces[\\\"images\\\"].shape\\n)\";\n",
       "                var nbb_cells = Jupyter.notebook.get_cells();\n",
       "                for (var i = 0; i < nbb_cells.length; ++i) {\n",
       "                    if (nbb_cells[i].input_prompt_number == nbb_cell_id) {\n",
       "                        if (nbb_cells[i].get_text() == nbb_unformatted_code) {\n",
       "                             nbb_cells[i].set_text(nbb_formatted_code);\n",
       "                        }\n",
       "                        break;\n",
       "                    }\n",
       "                }\n",
       "            }, 500);\n",
       "            "
      ],
      "text/plain": [
       "<IPython.core.display.Javascript object>"
      ]
     },
     "metadata": {},
     "output_type": "display_data"
    }
   ],
   "source": [
    "X_face_reconstruct = pca.inverse_transform(X_face_transformed).reshape(\n",
    "    faces[\"images\"].shape\n",
    ")"
   ]
  },
  {
   "cell_type": "code",
   "execution_count": 19,
   "metadata": {
    "scrolled": true
   },
   "outputs": [
    {
     "data": {
      "image/png": "[encoded data removed]",
      "text/plain": [
       "<Figure size 432x288 with 2 Axes>"
      ]
     },
     "metadata": {},
     "output_type": "display_data"
    },
    {
     "data": {
      "image/png": "[encoded data removed]",
      "text/plain": [
       "<Figure size 432x288 with 2 Axes>"
      ]
     },
     "metadata": {},
     "output_type": "display_data"
    },
    {
     "data": {
      "image/png": "[encoded data removed]",
      "text/plain": [
       "<Figure size 432x288 with 2 Axes>"
      ]
     },
     "metadata": {},
     "output_type": "display_data"
    },
    {
     "data": {
      "image/png": "[encoded data removed]",
      "text/plain": [
       "<Figure size 432x288 with 2 Axes>"
      ]
     },
     "metadata": {},
     "output_type": "display_data"
    },
    {
     "data": {
      "image/png": "[encoded data removed]",
      "text/plain": [
       "<Figure size 432x288 with 2 Axes>"
      ]
     },
     "metadata": {},
     "output_type": "display_data"
    },
    {
     "data": {
      "image/png": "[encoded data removed]",
      "text/plain": [
       "<Figure size 432x288 with 2 Axes>"
      ]
     },
     "metadata": {},
     "output_type": "display_data"
    },
    {
     "data": {
      "image/png": "[encoded data removed]",
      "text/plain": [
       "<Figure size 432x288 with 2 Axes>"
      ]
     },
     "metadata": {},
     "output_type": "display_data"
    },
    {
     "data": {
      "image/png": "[encoded data removed]",
      "text/plain": [
       "<Figure size 432x288 with 2 Axes>"
      ]
     },
     "metadata": {},
     "output_type": "display_data"
    },
    {
     "data": {
      "application/javascript": [
       "\n",
       "            setTimeout(function() {\n",
       "                var nbb_cell_id = 19;\n",
       "                var nbb_unformatted_code = \"faces_seen = set()\\ni = 0\\nwhile len(faces_seen) < 8:\\n    if faces[\\\"target\\\"][i] not in faces_seen:\\n        fig, axs = plt.subplots(1, 2)\\n        axs[1].imshow(X_face_reconstruct[i, :, :].reshape(h, w), cmap=\\\"gray\\\")\\n        axs[1].title.set_text(\\\"Reconstructed Image\\\")\\n        axs[1].axis(\\\"off\\\")\\n        axs[0].imshow(faces[\\\"images\\\"][i, :, :], cmap=\\\"gray\\\")\\n        axs[0].title.set_text(\\\"Original : \\\" + faces[\\\"target_names\\\"][faces[\\\"target\\\"][i]])\\n        axs[0].axis(\\\"off\\\")\\n        plt.show()\\n        faces_seen.add(faces[\\\"target\\\"][i])\\n    i += 1\";\n",
       "                var nbb_formatted_code = \"faces_seen = set()\\ni = 0\\nwhile len(faces_seen) < 8:\\n    if faces[\\\"target\\\"][i] not in faces_seen:\\n        fig, axs = plt.subplots(1, 2)\\n        axs[1].imshow(X_face_reconstruct[i, :, :].reshape(h, w), cmap=\\\"gray\\\")\\n        axs[1].title.set_text(\\\"Reconstructed Image\\\")\\n        axs[1].axis(\\\"off\\\")\\n        axs[0].imshow(faces[\\\"images\\\"][i, :, :], cmap=\\\"gray\\\")\\n        axs[0].title.set_text(\\\"Original : \\\" + faces[\\\"target_names\\\"][faces[\\\"target\\\"][i]])\\n        axs[0].axis(\\\"off\\\")\\n        plt.show()\\n        faces_seen.add(faces[\\\"target\\\"][i])\\n    i += 1\";\n",
       "                var nbb_cells = Jupyter.notebook.get_cells();\n",
       "                for (var i = 0; i < nbb_cells.length; ++i) {\n",
       "                    if (nbb_cells[i].input_prompt_number == nbb_cell_id) {\n",
       "                        if (nbb_cells[i].get_text() == nbb_unformatted_code) {\n",
       "                             nbb_cells[i].set_text(nbb_formatted_code);\n",
       "                        }\n",
       "                        break;\n",
       "                    }\n",
       "                }\n",
       "            }, 500);\n",
       "            "
      ],
      "text/plain": [
       "<IPython.core.display.Javascript object>"
      ]
     },
     "metadata": {},
     "output_type": "display_data"
    }
   ],
   "source": [
    "faces_seen = set()\n",
    "i = 0\n",
    "while len(faces_seen) < 8:\n",
    "    if faces[\"target\"][i] not in faces_seen:\n",
    "        fig, axs = plt.subplots(1, 2)\n",
    "        axs[1].imshow(X_face_reconstruct[i, :, :].reshape(h, w), cmap=\"gray\")\n",
    "        axs[1].title.set_text(\"Reconstructed Image\")\n",
    "        axs[1].axis(\"off\")\n",
    "        axs[0].imshow(faces[\"images\"][i, :, :], cmap=\"gray\")\n",
    "        axs[0].title.set_text(\"Original : \" + faces[\"target_names\"][faces[\"target\"][i]])\n",
    "        axs[0].axis(\"off\")\n",
    "        plt.show()\n",
    "        faces_seen.add(faces[\"target\"][i])\n",
    "    i += 1"
   ]
  },
  {
   "cell_type": "markdown",
   "metadata": {},
   "source": [
    "We observe that the reconstructed images have lower quality than the original image due to the reduction in the number of features, but it is able to retain some features to resemble the original image."
   ]
  },
  {
   "cell_type": "markdown",
   "metadata": {},
   "source": [
    "### 5) Cross validation to select parameters for Ridge Regression \n",
    "\n",
    "$$\\hat{\\theta} = argmin_{\\theta}((y - X\\theta)^\\top(y - X\\theta) + \\lambda \\theta^\\top \\theta)$$\n"
   ]
  },
  {
   "cell_type": "markdown",
   "metadata": {},
   "source": [
    "Perform ridge rigression using gradient descent on the data 4 provided. (You can use sklearn)\n",
    "\n",
    "Try to fit the data with polynomial of degree 3 and \n",
    "\n",
    "- For $\\lambda$ choose from = [10,100,1000]\n",
    "- choose learning rate (here it is $\\alpha$)= [ 0.01,0.001,0.0001,0.00001]\n",
    "- max_iters = 1000\n",
    "\n",
    "Choose the best combination of $\\lambda$ and $\\alpha$ using 5-fold cross validation on the dataset provided and report the same.\n"
   ]
  },
  {
   "cell_type": "code",
   "execution_count": 20,
   "metadata": {},
   "outputs": [
    {
     "data": {
      "application/javascript": [
       "\n",
       "            setTimeout(function() {\n",
       "                var nbb_cell_id = 20;\n",
       "                var nbb_unformatted_code = \"from sklearn.linear_model import Ridge\\nfrom sklearn.preprocessing import PolynomialFeatures, StandardScaler\\nfrom sklearn.model_selection import GridSearchCV, train_test_split\\nfrom sklearn.metrics import mean_squared_error\\n\\nimport warnings\\n\\nwarnings.filterwarnings(\\\"ignore\\\")\";\n",
       "                var nbb_formatted_code = \"from sklearn.linear_model import Ridge\\nfrom sklearn.preprocessing import PolynomialFeatures, StandardScaler\\nfrom sklearn.model_selection import GridSearchCV, train_test_split\\nfrom sklearn.metrics import mean_squared_error\\n\\nimport warnings\\n\\nwarnings.filterwarnings(\\\"ignore\\\")\";\n",
       "                var nbb_cells = Jupyter.notebook.get_cells();\n",
       "                for (var i = 0; i < nbb_cells.length; ++i) {\n",
       "                    if (nbb_cells[i].input_prompt_number == nbb_cell_id) {\n",
       "                        if (nbb_cells[i].get_text() == nbb_unformatted_code) {\n",
       "                             nbb_cells[i].set_text(nbb_formatted_code);\n",
       "                        }\n",
       "                        break;\n",
       "                    }\n",
       "                }\n",
       "            }, 500);\n",
       "            "
      ],
      "text/plain": [
       "<IPython.core.display.Javascript object>"
      ]
     },
     "metadata": {},
     "output_type": "display_data"
    }
   ],
   "source": [
    "from sklearn.linear_model import Ridge\n",
    "from sklearn.preprocessing import PolynomialFeatures, StandardScaler\n",
    "from sklearn.model_selection import GridSearchCV, train_test_split\n",
    "from sklearn.metrics import mean_squared_error\n",
    "\n",
    "import warnings\n",
    "\n",
    "warnings.filterwarnings(\"ignore\")"
   ]
  },
  {
   "cell_type": "code",
   "execution_count": 21,
   "metadata": {},
   "outputs": [
    {
     "name": "stdout",
     "output_type": "stream",
     "text": [
      "(506, 560)\n"
     ]
    },
    {
     "data": {
      "application/javascript": [
       "\n",
       "            setTimeout(function() {\n",
       "                var nbb_cell_id = 21;\n",
       "                var nbb_unformatted_code = \"X_train = np.loadtxt(\\\"data_X.txt\\\")[:, :-1]  # Removing the y_train from X_train\\ny_train = np.loadtxt(\\\"data_y.txt\\\")\\nX_train_poly = PolynomialFeatures(degree=3).fit_transform(X_train)\\n\\nprint(X_train_poly.shape)\";\n",
       "                var nbb_formatted_code = \"X_train = np.loadtxt(\\\"data_X.txt\\\")[:, :-1]  # Removing the y_train from X_train\\ny_train = np.loadtxt(\\\"data_y.txt\\\")\\nX_train_poly = PolynomialFeatures(degree=3).fit_transform(X_train)\\n\\nprint(X_train_poly.shape)\";\n",
       "                var nbb_cells = Jupyter.notebook.get_cells();\n",
       "                for (var i = 0; i < nbb_cells.length; ++i) {\n",
       "                    if (nbb_cells[i].input_prompt_number == nbb_cell_id) {\n",
       "                        if (nbb_cells[i].get_text() == nbb_unformatted_code) {\n",
       "                             nbb_cells[i].set_text(nbb_formatted_code);\n",
       "                        }\n",
       "                        break;\n",
       "                    }\n",
       "                }\n",
       "            }, 500);\n",
       "            "
      ],
      "text/plain": [
       "<IPython.core.display.Javascript object>"
      ]
     },
     "metadata": {},
     "output_type": "display_data"
    }
   ],
   "source": [
    "X_train = np.loadtxt(\"data_X.txt\")[:, :-1]  # Removing the y_train from X_train\n",
    "y_train = np.loadtxt(\"data_y.txt\")\n",
    "X_train_poly = PolynomialFeatures(degree=3).fit_transform(X_train)\n",
    "\n",
    "print(X_train_poly.shape)"
   ]
  },
  {
   "cell_type": "code",
   "execution_count": 22,
   "metadata": {},
   "outputs": [
    {
     "data": {
      "application/javascript": [
       "\n",
       "            setTimeout(function() {\n",
       "                var nbb_cell_id = 22;\n",
       "                var nbb_unformatted_code = \"lambd = [10, 100, 1000]\\nmax_iters = 1000\";\n",
       "                var nbb_formatted_code = \"lambd = [10, 100, 1000]\\nmax_iters = 1000\";\n",
       "                var nbb_cells = Jupyter.notebook.get_cells();\n",
       "                for (var i = 0; i < nbb_cells.length; ++i) {\n",
       "                    if (nbb_cells[i].input_prompt_number == nbb_cell_id) {\n",
       "                        if (nbb_cells[i].get_text() == nbb_unformatted_code) {\n",
       "                             nbb_cells[i].set_text(nbb_formatted_code);\n",
       "                        }\n",
       "                        break;\n",
       "                    }\n",
       "                }\n",
       "            }, 500);\n",
       "            "
      ],
      "text/plain": [
       "<IPython.core.display.Javascript object>"
      ]
     },
     "metadata": {},
     "output_type": "display_data"
    }
   ],
   "source": [
    "lambd = [10, 100, 1000]\n",
    "max_iters = 1000"
   ]
  },
  {
   "cell_type": "code",
   "execution_count": 23,
   "metadata": {},
   "outputs": [
    {
     "data": {
      "application/javascript": [
       "\n",
       "            setTimeout(function() {\n",
       "                var nbb_cell_id = 23;\n",
       "                var nbb_unformatted_code = \"model = Ridge(fit_intercept=False, max_iter=max_iters)\\nparams_dict = {\\\"alpha\\\": lambd}\\n\\ncv = GridSearchCV(model, params_dict, cv=5)\";\n",
       "                var nbb_formatted_code = \"model = Ridge(fit_intercept=False, max_iter=max_iters)\\nparams_dict = {\\\"alpha\\\": lambd}\\n\\ncv = GridSearchCV(model, params_dict, cv=5)\";\n",
       "                var nbb_cells = Jupyter.notebook.get_cells();\n",
       "                for (var i = 0; i < nbb_cells.length; ++i) {\n",
       "                    if (nbb_cells[i].input_prompt_number == nbb_cell_id) {\n",
       "                        if (nbb_cells[i].get_text() == nbb_unformatted_code) {\n",
       "                             nbb_cells[i].set_text(nbb_formatted_code);\n",
       "                        }\n",
       "                        break;\n",
       "                    }\n",
       "                }\n",
       "            }, 500);\n",
       "            "
      ],
      "text/plain": [
       "<IPython.core.display.Javascript object>"
      ]
     },
     "metadata": {},
     "output_type": "display_data"
    }
   ],
   "source": [
    "model = Ridge(fit_intercept=False, max_iter=max_iters)\n",
    "params_dict = {\"alpha\": lambd}\n",
    "\n",
    "cv = GridSearchCV(model, params_dict, cv=5)"
   ]
  },
  {
   "cell_type": "code",
   "execution_count": 24,
   "metadata": {},
   "outputs": [
    {
     "data": {
      "text/plain": [
       "GridSearchCV(cv=5, estimator=Ridge(fit_intercept=False, max_iter=1000),\n",
       "             param_grid={'alpha': [10, 100, 1000]})"
      ]
     },
     "execution_count": 24,
     "metadata": {},
     "output_type": "execute_result"
    },
    {
     "data": {
      "application/javascript": [
       "\n",
       "            setTimeout(function() {\n",
       "                var nbb_cell_id = 24;\n",
       "                var nbb_unformatted_code = \"cv.fit(X_train_poly, y_train)\";\n",
       "                var nbb_formatted_code = \"cv.fit(X_train_poly, y_train)\";\n",
       "                var nbb_cells = Jupyter.notebook.get_cells();\n",
       "                for (var i = 0; i < nbb_cells.length; ++i) {\n",
       "                    if (nbb_cells[i].input_prompt_number == nbb_cell_id) {\n",
       "                        if (nbb_cells[i].get_text() == nbb_unformatted_code) {\n",
       "                             nbb_cells[i].set_text(nbb_formatted_code);\n",
       "                        }\n",
       "                        break;\n",
       "                    }\n",
       "                }\n",
       "            }, 500);\n",
       "            "
      ],
      "text/plain": [
       "<IPython.core.display.Javascript object>"
      ]
     },
     "metadata": {},
     "output_type": "display_data"
    }
   ],
   "source": [
    "cv.fit(X_train_poly, y_train)"
   ]
  },
  {
   "cell_type": "code",
   "execution_count": 25,
   "metadata": {},
   "outputs": [
    {
     "name": "stdout",
     "output_type": "stream",
     "text": [
      "{'alpha': 100}\n"
     ]
    },
    {
     "data": {
      "application/javascript": [
       "\n",
       "            setTimeout(function() {\n",
       "                var nbb_cell_id = 25;\n",
       "                var nbb_unformatted_code = \"params = cv.best_params_\\n\\nprint(params)\\nX_train_n, X_val_n, y_train_n, y_val_n = train_test_split(\\n    X_train, y_train, test_size=0.2, random_state=1\\n)\";\n",
       "                var nbb_formatted_code = \"params = cv.best_params_\\n\\nprint(params)\\nX_train_n, X_val_n, y_train_n, y_val_n = train_test_split(\\n    X_train, y_train, test_size=0.2, random_state=1\\n)\";\n",
       "                var nbb_cells = Jupyter.notebook.get_cells();\n",
       "                for (var i = 0; i < nbb_cells.length; ++i) {\n",
       "                    if (nbb_cells[i].input_prompt_number == nbb_cell_id) {\n",
       "                        if (nbb_cells[i].get_text() == nbb_unformatted_code) {\n",
       "                             nbb_cells[i].set_text(nbb_formatted_code);\n",
       "                        }\n",
       "                        break;\n",
       "                    }\n",
       "                }\n",
       "            }, 500);\n",
       "            "
      ],
      "text/plain": [
       "<IPython.core.display.Javascript object>"
      ]
     },
     "metadata": {},
     "output_type": "display_data"
    }
   ],
   "source": [
    "params = cv.best_params_\n",
    "\n",
    "print(params)\n",
    "X_train_n, X_val_n, y_train_n, y_val_n = train_test_split(\n",
    "    X_train, y_train, test_size=0.2, random_state=1\n",
    ")"
   ]
  },
  {
   "cell_type": "code",
   "execution_count": 26,
   "metadata": {},
   "outputs": [
    {
     "data": {
      "text/plain": [
       "Ridge(alpha=100, fit_intercept=False)"
      ]
     },
     "execution_count": 26,
     "metadata": {},
     "output_type": "execute_result"
    },
    {
     "data": {
      "application/javascript": [
       "\n",
       "            setTimeout(function() {\n",
       "                var nbb_cell_id = 26;\n",
       "                var nbb_unformatted_code = \"X_train_poly_n = PolynomialFeatures(degree=3).fit_transform(X_train_n)\\nX_val_poly_n = PolynomialFeatures(degree=3).fit_transform(X_val_n)\\n\\nbest_est = Ridge(alpha=params[\\\"alpha\\\"], fit_intercept=False)\\n\\nbest_est.fit(X_train_poly_n, y_train_n)\";\n",
       "                var nbb_formatted_code = \"X_train_poly_n = PolynomialFeatures(degree=3).fit_transform(X_train_n)\\nX_val_poly_n = PolynomialFeatures(degree=3).fit_transform(X_val_n)\\n\\nbest_est = Ridge(alpha=params[\\\"alpha\\\"], fit_intercept=False)\\n\\nbest_est.fit(X_train_poly_n, y_train_n)\";\n",
       "                var nbb_cells = Jupyter.notebook.get_cells();\n",
       "                for (var i = 0; i < nbb_cells.length; ++i) {\n",
       "                    if (nbb_cells[i].input_prompt_number == nbb_cell_id) {\n",
       "                        if (nbb_cells[i].get_text() == nbb_unformatted_code) {\n",
       "                             nbb_cells[i].set_text(nbb_formatted_code);\n",
       "                        }\n",
       "                        break;\n",
       "                    }\n",
       "                }\n",
       "            }, 500);\n",
       "            "
      ],
      "text/plain": [
       "<IPython.core.display.Javascript object>"
      ]
     },
     "metadata": {},
     "output_type": "display_data"
    }
   ],
   "source": [
    "X_train_poly_n = PolynomialFeatures(degree=3).fit_transform(X_train_n)\n",
    "X_val_poly_n = PolynomialFeatures(degree=3).fit_transform(X_val_n)\n",
    "\n",
    "best_est = Ridge(alpha=params[\"alpha\"], fit_intercept=False)\n",
    "\n",
    "best_est.fit(X_train_poly_n, y_train_n)"
   ]
  },
  {
   "cell_type": "code",
   "execution_count": 27,
   "metadata": {},
   "outputs": [
    {
     "name": "stdout",
     "output_type": "stream",
     "text": [
      "Mean Square Error : 66.36752674239112\n"
     ]
    },
    {
     "data": {
      "application/javascript": [
       "\n",
       "            setTimeout(function() {\n",
       "                var nbb_cell_id = 27;\n",
       "                var nbb_unformatted_code = \"print(\\n    \\\"Mean Square Error :\\\", mean_squared_error(y_val_n, best_est.predict(X_val_poly_n))\\n)\";\n",
       "                var nbb_formatted_code = \"print(\\n    \\\"Mean Square Error :\\\", mean_squared_error(y_val_n, best_est.predict(X_val_poly_n))\\n)\";\n",
       "                var nbb_cells = Jupyter.notebook.get_cells();\n",
       "                for (var i = 0; i < nbb_cells.length; ++i) {\n",
       "                    if (nbb_cells[i].input_prompt_number == nbb_cell_id) {\n",
       "                        if (nbb_cells[i].get_text() == nbb_unformatted_code) {\n",
       "                             nbb_cells[i].set_text(nbb_formatted_code);\n",
       "                        }\n",
       "                        break;\n",
       "                    }\n",
       "                }\n",
       "            }, 500);\n",
       "            "
      ],
      "text/plain": [
       "<IPython.core.display.Javascript object>"
      ]
     },
     "metadata": {},
     "output_type": "display_data"
    }
   ],
   "source": [
    "print(\n",
    "    \"Mean Square Error :\", mean_squared_error(y_val_n, best_est.predict(X_val_poly_n))\n",
    ")"
   ]
  }
 ],
 "metadata": {
  "colab": {
   "collapsed_sections": [],
   "name": "Dimensionality Reduction",
   "provenance": []
  },
  "kernelspec": {
   "display_name": "Python 3.7.4 64-bit ('ee4708')",
   "language": "python",
   "name": "python37464bitee47089d95630ec6c245568bca969508d67b73"
  },
  "language_info": {
   "codemirror_mode": {
    "name": "ipython",
    "version": 3
   },
   "file_extension": ".py",
   "mimetype": "text/x-python",
   "name": "python",
   "nbconvert_exporter": "python",
   "pygments_lexer": "ipython3",
   "version": "3.7.4"
  },
  "toc": {
   "nav_menu": {},
   "number_sections": true,
   "sideBar": true,
   "skip_h1_title": false,
   "title_cell": "Table of Contents",
   "title_sidebar": "Contents",
   "toc_cell": false,
   "toc_position": {},
   "toc_section_display": true,
   "toc_window_display": false
  }
 },
 "nbformat": 4,
 "nbformat_minor": 1
}
