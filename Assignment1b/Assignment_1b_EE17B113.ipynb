{
 "cells": [
  {
   "cell_type": "markdown",
   "metadata": {},
   "source": [
    "# Pandas Exercises"
   ]
  },
  {
   "cell_type": "markdown",
   "metadata": {},
   "source": [
    "Assigments for Pandas skills\n"
   ]
  },
  {
   "cell_type": "markdown",
   "metadata": {},
   "source": [
    "**Import pandas and read in the banklist.csv file into a dataframe called banks.**"
   ]
  },
  {
   "cell_type": "code",
   "execution_count": 1,
   "metadata": {},
   "outputs": [],
   "source": [
    "import pandas as pd"
   ]
  },
  {
   "cell_type": "code",
   "execution_count": 2,
   "metadata": {},
   "outputs": [],
   "source": [
    "banks = pd.read_csv(\"./banklist.csv\")"
   ]
  },
  {
   "cell_type": "markdown",
   "metadata": {},
   "source": [
    "**Show the head of the dataframe**"
   ]
  },
  {
   "cell_type": "code",
   "execution_count": 3,
   "metadata": {},
   "outputs": [
    {
     "output_type": "execute_result",
     "data": {
      "text/plain": "                                           Bank Name                City  ST  \\\n0                                Fayette County Bank          Saint Elmo  IL   \n1  Guaranty Bank, (d/b/a BestBank in Georgia & Mi...           Milwaukee  WI   \n2                                     First NBC Bank         New Orleans  LA   \n3                                      Proficio Bank  Cottonwood Heights  UT   \n4                      Seaway Bank and Trust Company             Chicago  IL   \n\n    CERT                Acquiring Institution Closing Date Updated Date  \n0   1802            United Fidelity Bank, fsb    26-May-17     1-Jun-17  \n1  30003  First-Citizens Bank & Trust Company     5-May-17     1-Jun-17  \n2  58302                         Whitney Bank    28-Apr-17    23-May-17  \n3  35495                    Cache Valley Bank     3-Mar-17    18-May-17  \n4  19328                  State Bank of Texas    27-Jan-17    18-May-17  ",
      "text/html": "<div>\n<style scoped>\n    .dataframe tbody tr th:only-of-type {\n        vertical-align: middle;\n    }\n\n    .dataframe tbody tr th {\n        vertical-align: top;\n    }\n\n    .dataframe thead th {\n        text-align: right;\n    }\n</style>\n<table border=\"1\" class=\"dataframe\">\n  <thead>\n    <tr style=\"text-align: right;\">\n      <th></th>\n      <th>Bank Name</th>\n      <th>City</th>\n      <th>ST</th>\n      <th>CERT</th>\n      <th>Acquiring Institution</th>\n      <th>Closing Date</th>\n      <th>Updated Date</th>\n    </tr>\n  </thead>\n  <tbody>\n    <tr>\n      <th>0</th>\n      <td>Fayette County Bank</td>\n      <td>Saint Elmo</td>\n      <td>IL</td>\n      <td>1802</td>\n      <td>United Fidelity Bank, fsb</td>\n      <td>26-May-17</td>\n      <td>1-Jun-17</td>\n    </tr>\n    <tr>\n      <th>1</th>\n      <td>Guaranty Bank, (d/b/a BestBank in Georgia &amp; Mi...</td>\n      <td>Milwaukee</td>\n      <td>WI</td>\n      <td>30003</td>\n      <td>First-Citizens Bank &amp; Trust Company</td>\n      <td>5-May-17</td>\n      <td>1-Jun-17</td>\n    </tr>\n    <tr>\n      <th>2</th>\n      <td>First NBC Bank</td>\n      <td>New Orleans</td>\n      <td>LA</td>\n      <td>58302</td>\n      <td>Whitney Bank</td>\n      <td>28-Apr-17</td>\n      <td>23-May-17</td>\n    </tr>\n    <tr>\n      <th>3</th>\n      <td>Proficio Bank</td>\n      <td>Cottonwood Heights</td>\n      <td>UT</td>\n      <td>35495</td>\n      <td>Cache Valley Bank</td>\n      <td>3-Mar-17</td>\n      <td>18-May-17</td>\n    </tr>\n    <tr>\n      <th>4</th>\n      <td>Seaway Bank and Trust Company</td>\n      <td>Chicago</td>\n      <td>IL</td>\n      <td>19328</td>\n      <td>State Bank of Texas</td>\n      <td>27-Jan-17</td>\n      <td>18-May-17</td>\n    </tr>\n  </tbody>\n</table>\n</div>"
     },
     "metadata": {},
     "execution_count": 3
    }
   ],
   "source": [
    "banks.head()"
   ]
  },
  {
   "cell_type": "markdown",
   "metadata": {},
   "source": [
    "**What are the column names?**"
   ]
  },
  {
   "cell_type": "code",
   "execution_count": 4,
   "metadata": {},
   "outputs": [
    {
     "output_type": "execute_result",
     "data": {
      "text/plain": "Index(['Bank Name', 'City', 'ST', 'CERT', 'Acquiring Institution',\n       'Closing Date', 'Updated Date'],\n      dtype='object')"
     },
     "metadata": {},
     "execution_count": 4
    }
   ],
   "source": [
    "banks.columns"
   ]
  },
  {
   "cell_type": "markdown",
   "metadata": {},
   "source": [
    "**How many States (ST) are represented in this data set?**"
   ]
  },
  {
   "cell_type": "code",
   "execution_count": 5,
   "metadata": {},
   "outputs": [
    {
     "output_type": "execute_result",
     "data": {
      "text/plain": "44"
     },
     "metadata": {},
     "execution_count": 5
    }
   ],
   "source": [
    "len(banks.ST.unique())"
   ]
  },
  {
   "cell_type": "markdown",
   "metadata": {},
   "source": [
    "**Get a list or array of all the states in the data set.**"
   ]
  },
  {
   "cell_type": "code",
   "execution_count": 6,
   "metadata": {
    "scrolled": true
   },
   "outputs": [
    {
     "output_type": "execute_result",
     "data": {
      "text/plain": "array(['IL', 'WI', 'LA', 'UT', 'NJ', 'AR', 'GA', 'PA', 'TN', 'WA', 'CO',\n       'PR', 'FL', 'MN', 'CA', 'MD', 'OK', 'OH', 'SC', 'VA', 'ID', 'TX',\n       'CT', 'AZ', 'NV', 'NC', 'KY', 'MO', 'KS', 'AL', 'MI', 'IN', 'IA',\n       'NE', 'MS', 'NM', 'OR', 'NY', 'MA', 'SD', 'WY', 'WV', 'NH', 'HI'],\n      dtype=object)"
     },
     "metadata": {},
     "execution_count": 6
    }
   ],
   "source": [
    "states = banks.ST.unique()\n",
    "states"
   ]
  },
  {
   "cell_type": "markdown",
   "metadata": {},
   "source": [
    "**What are the top 5 states with the most failed banks?**"
   ]
  },
  {
   "cell_type": "code",
   "execution_count": 7,
   "metadata": {
    "scrolled": false
   },
   "outputs": [
    {
     "output_type": "execute_result",
     "data": {
      "text/plain": "ST\nGA    93\nFL    75\nIL    67\nCA    41\nMN    23\nName: Bank Name, dtype: int64"
     },
     "metadata": {},
     "execution_count": 7
    }
   ],
   "source": [
    "banks.groupby(\"ST\").count().nlargest(columns = \"Bank Name\",n=5)['Bank Name']"
   ]
  },
  {
   "cell_type": "markdown",
   "metadata": {},
   "source": [
    "**What are the top 5 acquiring institutions?**"
   ]
  },
  {
   "cell_type": "code",
   "execution_count": 8,
   "metadata": {},
   "outputs": [
    {
     "output_type": "execute_result",
     "data": {
      "text/plain": "No Acquirer                            31\nState Bank and Trust Company           12\nFirst-Citizens Bank & Trust Company    11\nAmeris Bank                            10\nU.S. Bank N.A.                          9\nName: Acquiring Institution, dtype: int64"
     },
     "metadata": {},
     "execution_count": 8
    }
   ],
   "source": [
    "banks[\"Acquiring Institution\"].value_counts().nlargest(5)"
   ]
  },
  {
   "cell_type": "markdown",
   "metadata": {},
   "source": [
    "**How many banks has the State Bank of Texas acquired? How many of them were actually in Texas?**"
   ]
  },
  {
   "cell_type": "code",
   "execution_count": 9,
   "metadata": {
    "tags": []
   },
   "outputs": [
    {
     "output_type": "display_data",
     "data": {
      "text/plain": "                                 Bank Name     City  ST   CERT  \\\n4            Seaway Bank and Trust Company  Chicago  IL  19328   \n21   The National Republic Bank of Chicago  Chicago  IL    916   \n450         Millennium State Bank of Texas   Dallas  TX  57667   \n\n    Acquiring Institution Closing Date Updated Date  \n4     State Bank of Texas    27-Jan-17    18-May-17  \n21    State Bank of Texas    24-Oct-14     6-Jan-16  \n450   State Bank of Texas     2-Jul-09    26-Oct-12  ",
      "text/html": "<div>\n<style scoped>\n    .dataframe tbody tr th:only-of-type {\n        vertical-align: middle;\n    }\n\n    .dataframe tbody tr th {\n        vertical-align: top;\n    }\n\n    .dataframe thead th {\n        text-align: right;\n    }\n</style>\n<table border=\"1\" class=\"dataframe\">\n  <thead>\n    <tr style=\"text-align: right;\">\n      <th></th>\n      <th>Bank Name</th>\n      <th>City</th>\n      <th>ST</th>\n      <th>CERT</th>\n      <th>Acquiring Institution</th>\n      <th>Closing Date</th>\n      <th>Updated Date</th>\n    </tr>\n  </thead>\n  <tbody>\n    <tr>\n      <th>4</th>\n      <td>Seaway Bank and Trust Company</td>\n      <td>Chicago</td>\n      <td>IL</td>\n      <td>19328</td>\n      <td>State Bank of Texas</td>\n      <td>27-Jan-17</td>\n      <td>18-May-17</td>\n    </tr>\n    <tr>\n      <th>21</th>\n      <td>The National Republic Bank of Chicago</td>\n      <td>Chicago</td>\n      <td>IL</td>\n      <td>916</td>\n      <td>State Bank of Texas</td>\n      <td>24-Oct-14</td>\n      <td>6-Jan-16</td>\n    </tr>\n    <tr>\n      <th>450</th>\n      <td>Millennium State Bank of Texas</td>\n      <td>Dallas</td>\n      <td>TX</td>\n      <td>57667</td>\n      <td>State Bank of Texas</td>\n      <td>2-Jul-09</td>\n      <td>26-Oct-12</td>\n    </tr>\n  </tbody>\n</table>\n</div>"
     },
     "metadata": {}
    },
    {
     "output_type": "stream",
     "name": "stdout",
     "text": "No of banks in Texas : 1\n"
    }
   ],
   "source": [
    "bank_acq_tx = banks.loc[banks['Acquiring Institution']==\"State Bank of Texas\"]\n",
    "display(bank_acq_tx)\n",
    "\n",
    "print(\"No of banks in Texas :\",sum(bank_acq_tx['ST']==\"TX\"))"
   ]
  },
  {
   "cell_type": "markdown",
   "metadata": {},
   "source": [
    "**What is the most common city in California for a bank to fail in?**"
   ]
  },
  {
   "cell_type": "code",
   "execution_count": 10,
   "metadata": {
    "scrolled": true
   },
   "outputs": [
    {
     "output_type": "execute_result",
     "data": {
      "text/plain": "             Bank Name  CERT  Acquiring Institution  Closing Date  \\\nCity                                                                \nLos Angeles          4     4                      4             4   \n\n             Updated Date  \nCity                       \nLos Angeles             4  ",
      "text/html": "<div>\n<style scoped>\n    .dataframe tbody tr th:only-of-type {\n        vertical-align: middle;\n    }\n\n    .dataframe tbody tr th {\n        vertical-align: top;\n    }\n\n    .dataframe thead th {\n        text-align: right;\n    }\n</style>\n<table border=\"1\" class=\"dataframe\">\n  <thead>\n    <tr style=\"text-align: right;\">\n      <th></th>\n      <th>Bank Name</th>\n      <th>CERT</th>\n      <th>Acquiring Institution</th>\n      <th>Closing Date</th>\n      <th>Updated Date</th>\n    </tr>\n    <tr>\n      <th>City</th>\n      <th></th>\n      <th></th>\n      <th></th>\n      <th></th>\n      <th></th>\n    </tr>\n  </thead>\n  <tbody>\n    <tr>\n      <th>Los Angeles</th>\n      <td>4</td>\n      <td>4</td>\n      <td>4</td>\n      <td>4</td>\n      <td>4</td>\n    </tr>\n  </tbody>\n</table>\n</div>"
     },
     "metadata": {},
     "execution_count": 10
    }
   ],
   "source": [
    "ca = banks.groupby([\"ST\",\"City\"]).count().xs(\"CA\",level = \"ST\")\n",
    "ca[ca['CERT']==ca[\"CERT\"].max()]"
   ]
  },
  {
   "cell_type": "markdown",
   "metadata": {},
   "source": [
    "**How many failed banks don't have the word \"Bank\" in their name?**"
   ]
  },
  {
   "cell_type": "code",
   "execution_count": 11,
   "metadata": {},
   "outputs": [
    {
     "output_type": "execute_result",
     "data": {
      "text/plain": "14"
     },
     "metadata": {},
     "execution_count": 11
    }
   ],
   "source": [
    "len(banks) - sum(banks['Bank Name'].str.contains(\"Bank\",regex = False))"
   ]
  },
  {
   "cell_type": "markdown",
   "metadata": {},
   "source": [
    "**How many bank names start with the letter 's' ?**"
   ]
  },
  {
   "cell_type": "code",
   "execution_count": 12,
   "metadata": {},
   "outputs": [
    {
     "output_type": "execute_result",
     "data": {
      "text/plain": "53"
     },
     "metadata": {},
     "execution_count": 12
    }
   ],
   "source": [
    "sum(banks['Bank Name'].apply(lambda x:1 if x[0]=='S' else 0))"
   ]
  },
  {
   "cell_type": "markdown",
   "metadata": {},
   "source": [
    "**How many CERT values are above 20000 ?**"
   ]
  },
  {
   "cell_type": "code",
   "execution_count": 13,
   "metadata": {},
   "outputs": [
    {
     "output_type": "execute_result",
     "data": {
      "text/plain": "417"
     },
     "metadata": {},
     "execution_count": 13
    }
   ],
   "source": [
    "sum(banks[\"CERT\"]>20000)"
   ]
  },
  {
   "cell_type": "markdown",
   "metadata": {},
   "source": [
    "**How many bank names consist of just two words? (e.g. \"First Bank\" , \"Bank Georgia\" )**"
   ]
  },
  {
   "cell_type": "code",
   "execution_count": 14,
   "metadata": {},
   "outputs": [
    {
     "output_type": "execute_result",
     "data": {
      "text/plain": "114"
     },
     "metadata": {},
     "execution_count": 14
    }
   ],
   "source": [
    "sum(banks['Bank Name'].apply(lambda x:len(x.strip().split(' '))==2))"
   ]
  },
  {
   "cell_type": "markdown",
   "metadata": {},
   "source": [
    "**Bonus: How many banks closed in the year 2008? (this is hard because we technically haven't learned about time series with pandas yet! Feel free to skip this one!**"
   ]
  },
  {
   "cell_type": "code",
   "execution_count": 15,
   "metadata": {},
   "outputs": [
    {
     "output_type": "execute_result",
     "data": {
      "text/plain": "25"
     },
     "metadata": {},
     "execution_count": 15
    }
   ],
   "source": [
    "sum(banks['Closing Date'].apply(lambda x:x[-2:]=='08'))"
   ]
  }
 ],
 "metadata": {
  "kernelspec": {
   "display_name": "Python 3.7.4 64-bit ('ee4708')",
   "language": "python",
   "name": "python37464bitee47082b8c44f9ef114bac9925a63aa3f18cbc"
  },
  "language_info": {
   "codemirror_mode": {
    "name": "ipython",
    "version": 3
   },
   "file_extension": ".py",
   "mimetype": "text/x-python",
   "name": "python",
   "nbconvert_exporter": "python",
   "pygments_lexer": "ipython3",
   "version": "3.7.4-final"
  }
 },
 "nbformat": 4,
 "nbformat_minor": 2
}