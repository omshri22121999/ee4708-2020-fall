{
 "cells": [
  {
   "cell_type": "markdown",
   "metadata": {},
   "source": [
    "Load the Housing_Price.csv and see the feature_discription.txt for more insight (However you don't need to remove any unneccesary feature just use encoding to convert the categorical features)"
   ]
  },
  {
   "cell_type": "code",
   "execution_count": 2,
   "metadata": {},
   "outputs": [
    {
     "data": {
      "application/javascript": [
       "\n",
       "            setTimeout(function() {\n",
       "                var nbb_cell_id = 2;\n",
       "                var nbb_unformatted_code = \"import pandas as pd\\nimport numpy as np\\nfrom sklearn.model_selection import train_test_split, cross_val_score\\nfrom sklearn.linear_model import Lasso, Ridge, LinearRegression\\nfrom sklearn.metrics import mean_squared_error\\nfrom sklearn.preprocessing import StandardScaler\\nimport seaborn as sns\\nimport matplotlib.pyplot as plt\\nimport warnings\\n\\nwarnings.filterwarnings(\\\"ignore\\\")\\n\\npd.set_option(\\\"display.max_rows\\\", 100)\\nsns.set()\\n%load_ext nb_black\";\n",
       "                var nbb_formatted_code = \"import pandas as pd\\nimport numpy as np\\nfrom sklearn.model_selection import train_test_split, cross_val_score\\nfrom sklearn.linear_model import Lasso, Ridge, LinearRegression\\nfrom sklearn.metrics import mean_squared_error\\nfrom sklearn.preprocessing import StandardScaler\\nimport seaborn as sns\\nimport matplotlib.pyplot as plt\\nimport warnings\\n\\nwarnings.filterwarnings(\\\"ignore\\\")\\n\\npd.set_option(\\\"display.max_rows\\\", 100)\\nsns.set()\\n%load_ext nb_black\";\n",
       "                var nbb_cells = Jupyter.notebook.get_cells();\n",
       "                for (var i = 0; i < nbb_cells.length; ++i) {\n",
       "                    if (nbb_cells[i].input_prompt_number == nbb_cell_id) {\n",
       "                        if (nbb_cells[i].get_text() == nbb_unformatted_code) {\n",
       "                             nbb_cells[i].set_text(nbb_formatted_code);\n",
       "                        }\n",
       "                        break;\n",
       "                    }\n",
       "                }\n",
       "            }, 500);\n",
       "            "
      ],
      "text/plain": [
       "<IPython.core.display.Javascript object>"
      ]
     },
     "metadata": {},
     "output_type": "display_data"
    }
   ],
   "source": [
    "import pandas as pd\n",
    "import numpy as np\n",
    "from sklearn.model_selection import train_test_split, cross_val_score\n",
    "from sklearn.linear_model import Lasso, Ridge, LinearRegression\n",
    "from sklearn.metrics import mean_squared_error\n",
    "from sklearn.preprocessing import StandardScaler\n",
    "import seaborn as sns\n",
    "import matplotlib.pyplot as plt\n",
    "import warnings\n",
    "\n",
    "warnings.filterwarnings(\"ignore\")\n",
    "\n",
    "pd.set_option(\"display.max_rows\", 100)\n",
    "sns.set()\n",
    "%load_ext nb_black"
   ]
  },
  {
   "cell_type": "code",
   "execution_count": 3,
   "metadata": {},
   "outputs": [
    {
     "name": "stdout",
     "output_type": "stream",
     "text": [
      "Size of data :  (1460, 42) \n",
      "\n"
     ]
    },
    {
     "data": {
      "application/javascript": [
       "\n",
       "            setTimeout(function() {\n",
       "                var nbb_cell_id = 3;\n",
       "                var nbb_unformatted_code = \"# load data\\n\\ndata = pd.read_csv(\\\"Housing_Price.csv\\\")\\n\\nprint(\\\"Size of data : \\\", data.shape, \\\"\\\\n\\\")\";\n",
       "                var nbb_formatted_code = \"# load data\\n\\ndata = pd.read_csv(\\\"Housing_Price.csv\\\")\\n\\nprint(\\\"Size of data : \\\", data.shape, \\\"\\\\n\\\")\";\n",
       "                var nbb_cells = Jupyter.notebook.get_cells();\n",
       "                for (var i = 0; i < nbb_cells.length; ++i) {\n",
       "                    if (nbb_cells[i].input_prompt_number == nbb_cell_id) {\n",
       "                        if (nbb_cells[i].get_text() == nbb_unformatted_code) {\n",
       "                             nbb_cells[i].set_text(nbb_formatted_code);\n",
       "                        }\n",
       "                        break;\n",
       "                    }\n",
       "                }\n",
       "            }, 500);\n",
       "            "
      ],
      "text/plain": [
       "<IPython.core.display.Javascript object>"
      ]
     },
     "metadata": {},
     "output_type": "display_data"
    }
   ],
   "source": [
    "# load data\n",
    "\n",
    "data = pd.read_csv(\"Housing_Price.csv\")\n",
    "\n",
    "print(\"Size of data : \", data.shape, \"\\n\")"
   ]
  },
  {
   "cell_type": "markdown",
   "metadata": {},
   "source": [
    "which are categorical and which are numerical features?"
   ]
  },
  {
   "cell_type": "code",
   "execution_count": 4,
   "metadata": {},
   "outputs": [
    {
     "name": "stdout",
     "output_type": "stream",
     "text": [
      "Categorical Columns : {'Street', 'Condition2', 'HeatingQC', 'Condition1', 'CentralAir', 'LotShape', 'LandContour'}\n",
      "Ordinal Columns : {'BsmtHalfBath', 'KitchenAbvGr', 'MoSold', 'BedroomAbvGr', 'TotRmsAbvGrd', 'OverallQual', 'YrSold', 'FullBath', 'MSSubClass', 'BsmtFullBath', 'Fireplaces', 'PoolArea', 'HalfBath', 'GarageCars', 'OverallCond'}\n",
      "Other cols : {'ScreenPorch', '1stFlrSF', 'TotalBsmtSF', 'GarageArea', 'LowQualFinSF', 'YearBuilt', 'BsmtUnfSF', '3SsnPorch', 'YearRemodAdd', '2ndFlrSF', 'MiscVal', 'OpenPorchSF', 'LotArea', 'SalePrice', 'GrLivArea', 'BsmtFinSF2', 'EnclosedPorch', 'BsmtFinSF1', 'Id', 'WoodDeckSF'}\n"
     ]
    },
    {
     "data": {
      "application/javascript": [
       "\n",
       "            setTimeout(function() {\n",
       "                var nbb_cell_id = 4;\n",
       "                var nbb_unformatted_code = \"# you can print and analyse the data type to say about categorical features\\n\\ncat_cols = set()\\nord_cols = set()\\nfor i in data.columns:\\n    if data[i].dtype != np.int64:\\n        cat_cols.add(i)\\n    elif len(np.unique(data[i])) <= 16:\\n        ord_cols.add(i)\\nnum_cols = set(data.columns) - cat_cols - ord_cols\\nprint(\\\"Categorical Columns :\\\", cat_cols)\\nprint(\\\"Ordinal Columns :\\\", ord_cols)\\nprint(\\\"Other cols :\\\", num_cols)\";\n",
       "                var nbb_formatted_code = \"# you can print and analyse the data type to say about categorical features\\n\\ncat_cols = set()\\nord_cols = set()\\nfor i in data.columns:\\n    if data[i].dtype != np.int64:\\n        cat_cols.add(i)\\n    elif len(np.unique(data[i])) <= 16:\\n        ord_cols.add(i)\\nnum_cols = set(data.columns) - cat_cols - ord_cols\\nprint(\\\"Categorical Columns :\\\", cat_cols)\\nprint(\\\"Ordinal Columns :\\\", ord_cols)\\nprint(\\\"Other cols :\\\", num_cols)\";\n",
       "                var nbb_cells = Jupyter.notebook.get_cells();\n",
       "                for (var i = 0; i < nbb_cells.length; ++i) {\n",
       "                    if (nbb_cells[i].input_prompt_number == nbb_cell_id) {\n",
       "                        if (nbb_cells[i].get_text() == nbb_unformatted_code) {\n",
       "                             nbb_cells[i].set_text(nbb_formatted_code);\n",
       "                        }\n",
       "                        break;\n",
       "                    }\n",
       "                }\n",
       "            }, 500);\n",
       "            "
      ],
      "text/plain": [
       "<IPython.core.display.Javascript object>"
      ]
     },
     "metadata": {},
     "output_type": "display_data"
    }
   ],
   "source": [
    "# you can print and analyse the data type to say about categorical features\n",
    "\n",
    "cat_cols = set()\n",
    "ord_cols = set()\n",
    "for i in data.columns:\n",
    "    if data[i].dtype != np.int64:\n",
    "        cat_cols.add(i)\n",
    "    elif len(np.unique(data[i])) <= 16:\n",
    "        ord_cols.add(i)\n",
    "num_cols = set(data.columns) - cat_cols - ord_cols\n",
    "print(\"Categorical Columns :\", cat_cols)\n",
    "print(\"Ordinal Columns :\", ord_cols)\n",
    "print(\"Other cols :\", num_cols)"
   ]
  },
  {
   "cell_type": "markdown",
   "metadata": {},
   "source": [
    "Write a function for doing one hot encoding for all categorical features\n",
    "\n",
    "Hint: Use pandas.get_dummies"
   ]
  },
  {
   "cell_type": "code",
   "execution_count": 5,
   "metadata": {
    "tags": []
   },
   "outputs": [
    {
     "data": {
      "application/javascript": [
       "\n",
       "            setTimeout(function() {\n",
       "                var nbb_cell_id = 5;\n",
       "                var nbb_unformatted_code = \"\\ndef onehot_encoding(df,columns):\\n    \\n    '''\\n    Takes the dataframe \\n    columns which are corresponding to categorical features\\n    '''\\n    \\n    for i in columns:\\n        df = df.join(pd.get_dummies(df[i],prefix=i+\\\"_\\\"))\\n        df = df.drop(i,axis=1)\\n    \\n    return df\";\n",
       "                var nbb_formatted_code = \"def onehot_encoding(df, columns):\\n\\n    \\\"\\\"\\\"\\n    Takes the dataframe \\n    columns which are corresponding to categorical features\\n    \\\"\\\"\\\"\\n\\n    for i in columns:\\n        df = df.join(pd.get_dummies(df[i], prefix=i + \\\"_\\\"))\\n        df = df.drop(i, axis=1)\\n\\n    return df\";\n",
       "                var nbb_cells = Jupyter.notebook.get_cells();\n",
       "                for (var i = 0; i < nbb_cells.length; ++i) {\n",
       "                    if (nbb_cells[i].input_prompt_number == nbb_cell_id) {\n",
       "                        if (nbb_cells[i].get_text() == nbb_unformatted_code) {\n",
       "                             nbb_cells[i].set_text(nbb_formatted_code);\n",
       "                        }\n",
       "                        break;\n",
       "                    }\n",
       "                }\n",
       "            }, 500);\n",
       "            "
      ],
      "text/plain": [
       "<IPython.core.display.Javascript object>"
      ]
     },
     "metadata": {},
     "output_type": "display_data"
    }
   ],
   "source": [
    "\n",
    "def onehot_encoding(df,columns):\n",
    "    \n",
    "    '''\n",
    "    Takes the dataframe \n",
    "    columns which are corresponding to categorical features\n",
    "    '''\n",
    "    \n",
    "    for i in columns:\n",
    "        df = df.join(pd.get_dummies(df[i],prefix=i+\"_\"))\n",
    "        df = df.drop(i,axis=1)\n",
    "    \n",
    "    return df\n"
   ]
  },
  {
   "cell_type": "code",
   "execution_count": 6,
   "metadata": {},
   "outputs": [
    {
     "data": {
      "text/plain": [
       "(1460, 69)"
      ]
     },
     "execution_count": 6,
     "metadata": {},
     "output_type": "execute_result"
    },
    {
     "data": {
      "application/javascript": [
       "\n",
       "            setTimeout(function() {\n",
       "                var nbb_cell_id = 6;\n",
       "                var nbb_unformatted_code = \"data_enc = onehot_encoding(data, columns=cat_cols)\\n\\ndata_enc.shape\";\n",
       "                var nbb_formatted_code = \"data_enc = onehot_encoding(data, columns=cat_cols)\\n\\ndata_enc.shape\";\n",
       "                var nbb_cells = Jupyter.notebook.get_cells();\n",
       "                for (var i = 0; i < nbb_cells.length; ++i) {\n",
       "                    if (nbb_cells[i].input_prompt_number == nbb_cell_id) {\n",
       "                        if (nbb_cells[i].get_text() == nbb_unformatted_code) {\n",
       "                             nbb_cells[i].set_text(nbb_formatted_code);\n",
       "                        }\n",
       "                        break;\n",
       "                    }\n",
       "                }\n",
       "            }, 500);\n",
       "            "
      ],
      "text/plain": [
       "<IPython.core.display.Javascript object>"
      ]
     },
     "metadata": {},
     "output_type": "display_data"
    }
   ],
   "source": [
    "data_enc = onehot_encoding(data, columns=cat_cols)\n",
    "\n",
    "data_enc.shape"
   ]
  },
  {
   "cell_type": "code",
   "execution_count": 7,
   "metadata": {
    "scrolled": true
   },
   "outputs": [
    {
     "data": {
      "application/javascript": [
       "\n",
       "            setTimeout(function() {\n",
       "                var nbb_cell_id = 7;\n",
       "                var nbb_unformatted_code = \"X = data_enc[set(data_enc.columns) - set([\\\"SalePrice\\\", \\\"Id\\\"])]\\ny = data_enc[\\\"SalePrice\\\"].values\";\n",
       "                var nbb_formatted_code = \"X = data_enc[set(data_enc.columns) - set([\\\"SalePrice\\\", \\\"Id\\\"])]\\ny = data_enc[\\\"SalePrice\\\"].values\";\n",
       "                var nbb_cells = Jupyter.notebook.get_cells();\n",
       "                for (var i = 0; i < nbb_cells.length; ++i) {\n",
       "                    if (nbb_cells[i].input_prompt_number == nbb_cell_id) {\n",
       "                        if (nbb_cells[i].get_text() == nbb_unformatted_code) {\n",
       "                             nbb_cells[i].set_text(nbb_formatted_code);\n",
       "                        }\n",
       "                        break;\n",
       "                    }\n",
       "                }\n",
       "            }, 500);\n",
       "            "
      ],
      "text/plain": [
       "<IPython.core.display.Javascript object>"
      ]
     },
     "metadata": {},
     "output_type": "display_data"
    }
   ],
   "source": [
    "X = data_enc[set(data_enc.columns) - set([\"SalePrice\", \"Id\"])]\n",
    "y = data_enc[\"SalePrice\"].values"
   ]
  },
  {
   "cell_type": "markdown",
   "metadata": {},
   "source": [
    "Split train test split with random state 42, test size 0.2\n",
    "\n",
    "You can use sklearn module for this exercise"
   ]
  },
  {
   "cell_type": "code",
   "execution_count": 8,
   "metadata": {},
   "outputs": [
    {
     "data": {
      "application/javascript": [
       "\n",
       "            setTimeout(function() {\n",
       "                var nbb_cell_id = 8;\n",
       "                var nbb_unformatted_code = \"X_train, X_test, y_train, y_test = train_test_split(\\n    X, y, test_size=0.2, random_state=42\\n)\";\n",
       "                var nbb_formatted_code = \"X_train, X_test, y_train, y_test = train_test_split(\\n    X, y, test_size=0.2, random_state=42\\n)\";\n",
       "                var nbb_cells = Jupyter.notebook.get_cells();\n",
       "                for (var i = 0; i < nbb_cells.length; ++i) {\n",
       "                    if (nbb_cells[i].input_prompt_number == nbb_cell_id) {\n",
       "                        if (nbb_cells[i].get_text() == nbb_unformatted_code) {\n",
       "                             nbb_cells[i].set_text(nbb_formatted_code);\n",
       "                        }\n",
       "                        break;\n",
       "                    }\n",
       "                }\n",
       "            }, 500);\n",
       "            "
      ],
      "text/plain": [
       "<IPython.core.display.Javascript object>"
      ]
     },
     "metadata": {},
     "output_type": "display_data"
    }
   ],
   "source": [
    "X_train, X_test, y_train, y_test = train_test_split(\n",
    "    X, y, test_size=0.2, random_state=42\n",
    ")"
   ]
  },
  {
   "cell_type": "code",
   "execution_count": 9,
   "metadata": {},
   "outputs": [
    {
     "data": {
      "application/javascript": [
       "\n",
       "            setTimeout(function() {\n",
       "                var nbb_cell_id = 9;\n",
       "                var nbb_unformatted_code = \"# Normalizing the data\\n\\nfor i in X_train.columns:\\n    if i in num_cols:\\n        scaler = StandardScaler()\\n        scaler.fit(X_train[i].values.reshape(-1, 1))\\n        X_train[i] = scaler.transform(X_train[i].values.reshape(-1, 1))\\n        X_test[i] = scaler.transform(X_test[i].values.reshape(-1, 1))\";\n",
       "                var nbb_formatted_code = \"# Normalizing the data\\n\\nfor i in X_train.columns:\\n    if i in num_cols:\\n        scaler = StandardScaler()\\n        scaler.fit(X_train[i].values.reshape(-1, 1))\\n        X_train[i] = scaler.transform(X_train[i].values.reshape(-1, 1))\\n        X_test[i] = scaler.transform(X_test[i].values.reshape(-1, 1))\";\n",
       "                var nbb_cells = Jupyter.notebook.get_cells();\n",
       "                for (var i = 0; i < nbb_cells.length; ++i) {\n",
       "                    if (nbb_cells[i].input_prompt_number == nbb_cell_id) {\n",
       "                        if (nbb_cells[i].get_text() == nbb_unformatted_code) {\n",
       "                             nbb_cells[i].set_text(nbb_formatted_code);\n",
       "                        }\n",
       "                        break;\n",
       "                    }\n",
       "                }\n",
       "            }, 500);\n",
       "            "
      ],
      "text/plain": [
       "<IPython.core.display.Javascript object>"
      ]
     },
     "metadata": {},
     "output_type": "display_data"
    }
   ],
   "source": [
    "# Normalizing the data\n",
    "\n",
    "for i in X_train.columns:\n",
    "    if i in num_cols:\n",
    "        scaler = StandardScaler()\n",
    "        scaler.fit(X_train[i].values.reshape(-1, 1))\n",
    "        X_train[i] = scaler.transform(X_train[i].values.reshape(-1, 1))\n",
    "        X_test[i] = scaler.transform(X_test[i].values.reshape(-1, 1))"
   ]
  },
  {
   "cell_type": "code",
   "execution_count": 10,
   "metadata": {},
   "outputs": [
    {
     "data": {
      "text/html": [
       "<div>\n",
       "<style scoped>\n",
       "    .dataframe tbody tr th:only-of-type {\n",
       "        vertical-align: middle;\n",
       "    }\n",
       "\n",
       "    .dataframe tbody tr th {\n",
       "        vertical-align: top;\n",
       "    }\n",
       "\n",
       "    .dataframe thead th {\n",
       "        text-align: right;\n",
       "    }\n",
       "</style>\n",
       "<table border=\"1\" class=\"dataframe\">\n",
       "  <thead>\n",
       "    <tr style=\"text-align: right;\">\n",
       "      <th></th>\n",
       "      <th>Condition1__Norm</th>\n",
       "      <th>1stFlrSF</th>\n",
       "      <th>GarageArea</th>\n",
       "      <th>Street__Grvl</th>\n",
       "      <th>LowQualFinSF</th>\n",
       "      <th>YearBuilt</th>\n",
       "      <th>BsmtUnfSF</th>\n",
       "      <th>TotRmsAbvGrd</th>\n",
       "      <th>Condition1__PosA</th>\n",
       "      <th>LotShape__IR2</th>\n",
       "      <th>HeatingQC__Fa</th>\n",
       "      <th>BsmtFullBath</th>\n",
       "      <th>Condition2__Norm</th>\n",
       "      <th>BedroomAbvGr</th>\n",
       "      <th>LandContour__HLS</th>\n",
       "      <th>Condition2__RRAe</th>\n",
       "      <th>LandContour__Low</th>\n",
       "      <th>Condition1__PosN</th>\n",
       "      <th>GarageCars</th>\n",
       "      <th>GrLivArea</th>\n",
       "      <th>BsmtFinSF2</th>\n",
       "      <th>Condition1__RRAe</th>\n",
       "      <th>Fireplaces</th>\n",
       "      <th>PoolArea</th>\n",
       "      <th>Condition2__PosN</th>\n",
       "      <th>HalfBath</th>\n",
       "      <th>WoodDeckSF</th>\n",
       "      <th>Condition2__Feedr</th>\n",
       "      <th>BsmtHalfBath</th>\n",
       "      <th>ScreenPorch</th>\n",
       "      <th>CentralAir__N</th>\n",
       "      <th>Condition1__Artery</th>\n",
       "      <th>YrSold</th>\n",
       "      <th>TotalBsmtSF</th>\n",
       "      <th>Condition1__RRNe</th>\n",
       "      <th>Street__Pave</th>\n",
       "      <th>LotShape__IR1</th>\n",
       "      <th>KitchenAbvGr</th>\n",
       "      <th>3SsnPorch</th>\n",
       "      <th>YearRemodAdd</th>\n",
       "      <th>Condition2__PosA</th>\n",
       "      <th>2ndFlrSF</th>\n",
       "      <th>HeatingQC__Po</th>\n",
       "      <th>LotShape__IR3</th>\n",
       "      <th>MiscVal</th>\n",
       "      <th>LotShape__Reg</th>\n",
       "      <th>HeatingQC__Ex</th>\n",
       "      <th>LandContour__Lvl</th>\n",
       "      <th>MoSold</th>\n",
       "      <th>OpenPorchSF</th>\n",
       "      <th>Condition2__Artery</th>\n",
       "      <th>HeatingQC__Gd</th>\n",
       "      <th>OverallQual</th>\n",
       "      <th>MSSubClass</th>\n",
       "      <th>LandContour__Bnk</th>\n",
       "      <th>HeatingQC__TA</th>\n",
       "      <th>LotArea</th>\n",
       "      <th>Condition1__Feedr</th>\n",
       "      <th>Condition1__RRNn</th>\n",
       "      <th>CentralAir__Y</th>\n",
       "      <th>Condition2__RRAn</th>\n",
       "      <th>EnclosedPorch</th>\n",
       "      <th>FullBath</th>\n",
       "      <th>Condition2__RRNn</th>\n",
       "      <th>BsmtFinSF1</th>\n",
       "      <th>Condition1__RRAn</th>\n",
       "      <th>OverallCond</th>\n",
       "    </tr>\n",
       "  </thead>\n",
       "  <tbody>\n",
       "    <tr>\n",
       "      <th>254</th>\n",
       "      <td>1</td>\n",
       "      <td>0.374235</td>\n",
       "      <td>-0.863837</td>\n",
       "      <td>0</td>\n",
       "      <td>-0.118999</td>\n",
       "      <td>-0.455469</td>\n",
       "      <td>-0.400282</td>\n",
       "      <td>5</td>\n",
       "      <td>0</td>\n",
       "      <td>0</td>\n",
       "      <td>0</td>\n",
       "      <td>1</td>\n",
       "      <td>1</td>\n",
       "      <td>3</td>\n",
       "      <td>0</td>\n",
       "      <td>0</td>\n",
       "      <td>0</td>\n",
       "      <td>0</td>\n",
       "      <td>1</td>\n",
       "      <td>-0.407093</td>\n",
       "      <td>-0.285504</td>\n",
       "      <td>0</td>\n",
       "      <td>0</td>\n",
       "      <td>0</td>\n",
       "      <td>0</td>\n",
       "      <td>0</td>\n",
       "      <td>1.188402</td>\n",
       "      <td>0</td>\n",
       "      <td>0</td>\n",
       "      <td>-0.275838</td>\n",
       "      <td>0</td>\n",
       "      <td>0</td>\n",
       "      <td>2010</td>\n",
       "      <td>0.572612</td>\n",
       "      <td>0</td>\n",
       "      <td>1</td>\n",
       "      <td>0</td>\n",
       "      <td>1</td>\n",
       "      <td>-0.121008</td>\n",
       "      <td>-1.346063</td>\n",
       "      <td>0</td>\n",
       "      <td>-0.801923</td>\n",
       "      <td>0</td>\n",
       "      <td>0</td>\n",
       "      <td>-0.09274</td>\n",
       "      <td>1</td>\n",
       "      <td>0</td>\n",
       "      <td>1</td>\n",
       "      <td>6</td>\n",
       "      <td>-0.714352</td>\n",
       "      <td>0</td>\n",
       "      <td>0</td>\n",
       "      <td>5</td>\n",
       "      <td>20</td>\n",
       "      <td>0</td>\n",
       "      <td>1</td>\n",
       "      <td>-0.212896</td>\n",
       "      <td>0</td>\n",
       "      <td>0</td>\n",
       "      <td>1</td>\n",
       "      <td>0</td>\n",
       "      <td>-0.351921</td>\n",
       "      <td>1</td>\n",
       "      <td>0</td>\n",
       "      <td>1.037269</td>\n",
       "      <td>0</td>\n",
       "      <td>6</td>\n",
       "    </tr>\n",
       "    <tr>\n",
       "      <th>1066</th>\n",
       "      <td>1</td>\n",
       "      <td>-0.958202</td>\n",
       "      <td>-0.456264</td>\n",
       "      <td>0</td>\n",
       "      <td>-0.118999</td>\n",
       "      <td>0.718609</td>\n",
       "      <td>0.511920</td>\n",
       "      <td>7</td>\n",
       "      <td>0</td>\n",
       "      <td>0</td>\n",
       "      <td>0</td>\n",
       "      <td>0</td>\n",
       "      <td>1</td>\n",
       "      <td>3</td>\n",
       "      <td>0</td>\n",
       "      <td>0</td>\n",
       "      <td>0</td>\n",
       "      <td>0</td>\n",
       "      <td>2</td>\n",
       "      <td>0.083170</td>\n",
       "      <td>-0.285504</td>\n",
       "      <td>0</td>\n",
       "      <td>1</td>\n",
       "      <td>0</td>\n",
       "      <td>0</td>\n",
       "      <td>1</td>\n",
       "      <td>-0.740157</td>\n",
       "      <td>0</td>\n",
       "      <td>0</td>\n",
       "      <td>-0.275838</td>\n",
       "      <td>0</td>\n",
       "      <td>0</td>\n",
       "      <td>2009</td>\n",
       "      <td>-0.596547</td>\n",
       "      <td>0</td>\n",
       "      <td>1</td>\n",
       "      <td>1</td>\n",
       "      <td>1</td>\n",
       "      <td>-0.121008</td>\n",
       "      <td>0.439214</td>\n",
       "      <td>0</td>\n",
       "      <td>0.955088</td>\n",
       "      <td>0</td>\n",
       "      <td>0</td>\n",
       "      <td>-0.09274</td>\n",
       "      <td>0</td>\n",
       "      <td>0</td>\n",
       "      <td>1</td>\n",
       "      <td>5</td>\n",
       "      <td>-0.138015</td>\n",
       "      <td>0</td>\n",
       "      <td>1</td>\n",
       "      <td>6</td>\n",
       "      <td>60</td>\n",
       "      <td>0</td>\n",
       "      <td>0</td>\n",
       "      <td>-0.265245</td>\n",
       "      <td>0</td>\n",
       "      <td>0</td>\n",
       "      <td>1</td>\n",
       "      <td>0</td>\n",
       "      <td>-0.351921</td>\n",
       "      <td>2</td>\n",
       "      <td>0</td>\n",
       "      <td>-0.971996</td>\n",
       "      <td>0</td>\n",
       "      <td>7</td>\n",
       "    </tr>\n",
       "    <tr>\n",
       "      <th>638</th>\n",
       "      <td>0</td>\n",
       "      <td>-0.965964</td>\n",
       "      <td>-2.257169</td>\n",
       "      <td>0</td>\n",
       "      <td>-0.118999</td>\n",
       "      <td>-1.988293</td>\n",
       "      <td>0.505196</td>\n",
       "      <td>4</td>\n",
       "      <td>0</td>\n",
       "      <td>0</td>\n",
       "      <td>0</td>\n",
       "      <td>0</td>\n",
       "      <td>1</td>\n",
       "      <td>2</td>\n",
       "      <td>0</td>\n",
       "      <td>0</td>\n",
       "      <td>0</td>\n",
       "      <td>0</td>\n",
       "      <td>0</td>\n",
       "      <td>-1.395250</td>\n",
       "      <td>-0.285504</td>\n",
       "      <td>0</td>\n",
       "      <td>0</td>\n",
       "      <td>0</td>\n",
       "      <td>0</td>\n",
       "      <td>0</td>\n",
       "      <td>1.790113</td>\n",
       "      <td>0</td>\n",
       "      <td>0</td>\n",
       "      <td>-0.275838</td>\n",
       "      <td>0</td>\n",
       "      <td>0</td>\n",
       "      <td>2008</td>\n",
       "      <td>-0.603357</td>\n",
       "      <td>0</td>\n",
       "      <td>1</td>\n",
       "      <td>0</td>\n",
       "      <td>1</td>\n",
       "      <td>-0.121008</td>\n",
       "      <td>-1.683818</td>\n",
       "      <td>0</td>\n",
       "      <td>-0.801923</td>\n",
       "      <td>0</td>\n",
       "      <td>0</td>\n",
       "      <td>-0.09274</td>\n",
       "      <td>1</td>\n",
       "      <td>0</td>\n",
       "      <td>1</td>\n",
       "      <td>5</td>\n",
       "      <td>-0.714352</td>\n",
       "      <td>0</td>\n",
       "      <td>1</td>\n",
       "      <td>5</td>\n",
       "      <td>30</td>\n",
       "      <td>0</td>\n",
       "      <td>0</td>\n",
       "      <td>-0.177841</td>\n",
       "      <td>1</td>\n",
       "      <td>0</td>\n",
       "      <td>1</td>\n",
       "      <td>0</td>\n",
       "      <td>2.290826</td>\n",
       "      <td>1</td>\n",
       "      <td>0</td>\n",
       "      <td>-0.971996</td>\n",
       "      <td>0</td>\n",
       "      <td>7</td>\n",
       "    </tr>\n",
       "    <tr>\n",
       "      <th>799</th>\n",
       "      <td>0</td>\n",
       "      <td>-0.487321</td>\n",
       "      <td>-1.119755</td>\n",
       "      <td>0</td>\n",
       "      <td>-0.118999</td>\n",
       "      <td>-1.107734</td>\n",
       "      <td>-0.915776</td>\n",
       "      <td>7</td>\n",
       "      <td>0</td>\n",
       "      <td>0</td>\n",
       "      <td>0</td>\n",
       "      <td>1</td>\n",
       "      <td>1</td>\n",
       "      <td>3</td>\n",
       "      <td>0</td>\n",
       "      <td>0</td>\n",
       "      <td>0</td>\n",
       "      <td>0</td>\n",
       "      <td>1</td>\n",
       "      <td>0.458975</td>\n",
       "      <td>-0.285504</td>\n",
       "      <td>0</td>\n",
       "      <td>2</td>\n",
       "      <td>0</td>\n",
       "      <td>0</td>\n",
       "      <td>1</td>\n",
       "      <td>-0.740157</td>\n",
       "      <td>0</td>\n",
       "      <td>0</td>\n",
       "      <td>-0.275838</td>\n",
       "      <td>0</td>\n",
       "      <td>0</td>\n",
       "      <td>2007</td>\n",
       "      <td>-0.750921</td>\n",
       "      <td>0</td>\n",
       "      <td>1</td>\n",
       "      <td>0</td>\n",
       "      <td>1</td>\n",
       "      <td>-0.121008</td>\n",
       "      <td>-1.683818</td>\n",
       "      <td>0</td>\n",
       "      <td>0.989227</td>\n",
       "      <td>0</td>\n",
       "      <td>0</td>\n",
       "      <td>-0.09274</td>\n",
       "      <td>1</td>\n",
       "      <td>1</td>\n",
       "      <td>1</td>\n",
       "      <td>6</td>\n",
       "      <td>-0.714352</td>\n",
       "      <td>0</td>\n",
       "      <td>0</td>\n",
       "      <td>5</td>\n",
       "      <td>50</td>\n",
       "      <td>0</td>\n",
       "      <td>0</td>\n",
       "      <td>-0.324474</td>\n",
       "      <td>1</td>\n",
       "      <td>0</td>\n",
       "      <td>1</td>\n",
       "      <td>0</td>\n",
       "      <td>3.902257</td>\n",
       "      <td>1</td>\n",
       "      <td>0</td>\n",
       "      <td>0.267995</td>\n",
       "      <td>0</td>\n",
       "      <td>7</td>\n",
       "    </tr>\n",
       "    <tr>\n",
       "      <th>380</th>\n",
       "      <td>1</td>\n",
       "      <td>-0.370895</td>\n",
       "      <td>-0.797488</td>\n",
       "      <td>0</td>\n",
       "      <td>-0.118999</td>\n",
       "      <td>-1.531707</td>\n",
       "      <td>0.532091</td>\n",
       "      <td>6</td>\n",
       "      <td>0</td>\n",
       "      <td>0</td>\n",
       "      <td>0</td>\n",
       "      <td>0</td>\n",
       "      <td>1</td>\n",
       "      <td>3</td>\n",
       "      <td>0</td>\n",
       "      <td>0</td>\n",
       "      <td>0</td>\n",
       "      <td>0</td>\n",
       "      <td>1</td>\n",
       "      <td>0.312087</td>\n",
       "      <td>-0.285504</td>\n",
       "      <td>0</td>\n",
       "      <td>1</td>\n",
       "      <td>0</td>\n",
       "      <td>0</td>\n",
       "      <td>0</td>\n",
       "      <td>-0.740157</td>\n",
       "      <td>0</td>\n",
       "      <td>0</td>\n",
       "      <td>-0.275838</td>\n",
       "      <td>0</td>\n",
       "      <td>0</td>\n",
       "      <td>2010</td>\n",
       "      <td>-0.081209</td>\n",
       "      <td>0</td>\n",
       "      <td>1</td>\n",
       "      <td>0</td>\n",
       "      <td>1</td>\n",
       "      <td>-0.121008</td>\n",
       "      <td>-1.683818</td>\n",
       "      <td>0</td>\n",
       "      <td>0.711564</td>\n",
       "      <td>0</td>\n",
       "      <td>0</td>\n",
       "      <td>-0.09274</td>\n",
       "      <td>1</td>\n",
       "      <td>0</td>\n",
       "      <td>1</td>\n",
       "      <td>5</td>\n",
       "      <td>-0.714352</td>\n",
       "      <td>0</td>\n",
       "      <td>0</td>\n",
       "      <td>5</td>\n",
       "      <td>50</td>\n",
       "      <td>0</td>\n",
       "      <td>1</td>\n",
       "      <td>-0.529035</td>\n",
       "      <td>0</td>\n",
       "      <td>0</td>\n",
       "      <td>1</td>\n",
       "      <td>0</td>\n",
       "      <td>3.547742</td>\n",
       "      <td>2</td>\n",
       "      <td>0</td>\n",
       "      <td>-0.496920</td>\n",
       "      <td>0</td>\n",
       "      <td>6</td>\n",
       "    </tr>\n",
       "  </tbody>\n",
       "</table>\n",
       "</div>"
      ],
      "text/plain": [
       "      Condition1__Norm  1stFlrSF  GarageArea  Street__Grvl  LowQualFinSF  \\\n",
       "254                  1  0.374235   -0.863837             0     -0.118999   \n",
       "1066                 1 -0.958202   -0.456264             0     -0.118999   \n",
       "638                  0 -0.965964   -2.257169             0     -0.118999   \n",
       "799                  0 -0.487321   -1.119755             0     -0.118999   \n",
       "380                  1 -0.370895   -0.797488             0     -0.118999   \n",
       "\n",
       "      YearBuilt  BsmtUnfSF  TotRmsAbvGrd  Condition1__PosA  LotShape__IR2  \\\n",
       "254   -0.455469  -0.400282             5                 0              0   \n",
       "1066   0.718609   0.511920             7                 0              0   \n",
       "638   -1.988293   0.505196             4                 0              0   \n",
       "799   -1.107734  -0.915776             7                 0              0   \n",
       "380   -1.531707   0.532091             6                 0              0   \n",
       "\n",
       "      HeatingQC__Fa  BsmtFullBath  Condition2__Norm  BedroomAbvGr  \\\n",
       "254               0             1                 1             3   \n",
       "1066              0             0                 1             3   \n",
       "638               0             0                 1             2   \n",
       "799               0             1                 1             3   \n",
       "380               0             0                 1             3   \n",
       "\n",
       "      LandContour__HLS  Condition2__RRAe  LandContour__Low  Condition1__PosN  \\\n",
       "254                  0                 0                 0                 0   \n",
       "1066                 0                 0                 0                 0   \n",
       "638                  0                 0                 0                 0   \n",
       "799                  0                 0                 0                 0   \n",
       "380                  0                 0                 0                 0   \n",
       "\n",
       "      GarageCars  GrLivArea  BsmtFinSF2  Condition1__RRAe  Fireplaces  \\\n",
       "254            1  -0.407093   -0.285504                 0           0   \n",
       "1066           2   0.083170   -0.285504                 0           1   \n",
       "638            0  -1.395250   -0.285504                 0           0   \n",
       "799            1   0.458975   -0.285504                 0           2   \n",
       "380            1   0.312087   -0.285504                 0           1   \n",
       "\n",
       "      PoolArea  Condition2__PosN  HalfBath  WoodDeckSF  Condition2__Feedr  \\\n",
       "254          0                 0         0    1.188402                  0   \n",
       "1066         0                 0         1   -0.740157                  0   \n",
       "638          0                 0         0    1.790113                  0   \n",
       "799          0                 0         1   -0.740157                  0   \n",
       "380          0                 0         0   -0.740157                  0   \n",
       "\n",
       "      BsmtHalfBath  ScreenPorch  CentralAir__N  Condition1__Artery  YrSold  \\\n",
       "254              0    -0.275838              0                   0    2010   \n",
       "1066             0    -0.275838              0                   0    2009   \n",
       "638              0    -0.275838              0                   0    2008   \n",
       "799              0    -0.275838              0                   0    2007   \n",
       "380              0    -0.275838              0                   0    2010   \n",
       "\n",
       "      TotalBsmtSF  Condition1__RRNe  Street__Pave  LotShape__IR1  \\\n",
       "254      0.572612                 0             1              0   \n",
       "1066    -0.596547                 0             1              1   \n",
       "638     -0.603357                 0             1              0   \n",
       "799     -0.750921                 0             1              0   \n",
       "380     -0.081209                 0             1              0   \n",
       "\n",
       "      KitchenAbvGr  3SsnPorch  YearRemodAdd  Condition2__PosA  2ndFlrSF  \\\n",
       "254              1  -0.121008     -1.346063                 0 -0.801923   \n",
       "1066             1  -0.121008      0.439214                 0  0.955088   \n",
       "638              1  -0.121008     -1.683818                 0 -0.801923   \n",
       "799              1  -0.121008     -1.683818                 0  0.989227   \n",
       "380              1  -0.121008     -1.683818                 0  0.711564   \n",
       "\n",
       "      HeatingQC__Po  LotShape__IR3  MiscVal  LotShape__Reg  HeatingQC__Ex  \\\n",
       "254               0              0 -0.09274              1              0   \n",
       "1066              0              0 -0.09274              0              0   \n",
       "638               0              0 -0.09274              1              0   \n",
       "799               0              0 -0.09274              1              1   \n",
       "380               0              0 -0.09274              1              0   \n",
       "\n",
       "      LandContour__Lvl  MoSold  OpenPorchSF  Condition2__Artery  \\\n",
       "254                  1       6    -0.714352                   0   \n",
       "1066                 1       5    -0.138015                   0   \n",
       "638                  1       5    -0.714352                   0   \n",
       "799                  1       6    -0.714352                   0   \n",
       "380                  1       5    -0.714352                   0   \n",
       "\n",
       "      HeatingQC__Gd  OverallQual  MSSubClass  LandContour__Bnk  HeatingQC__TA  \\\n",
       "254               0            5          20                 0              1   \n",
       "1066              1            6          60                 0              0   \n",
       "638               1            5          30                 0              0   \n",
       "799               0            5          50                 0              0   \n",
       "380               0            5          50                 0              1   \n",
       "\n",
       "       LotArea  Condition1__Feedr  Condition1__RRNn  CentralAir__Y  \\\n",
       "254  -0.212896                  0                 0              1   \n",
       "1066 -0.265245                  0                 0              1   \n",
       "638  -0.177841                  1                 0              1   \n",
       "799  -0.324474                  1                 0              1   \n",
       "380  -0.529035                  0                 0              1   \n",
       "\n",
       "      Condition2__RRAn  EnclosedPorch  FullBath  Condition2__RRNn  BsmtFinSF1  \\\n",
       "254                  0      -0.351921         1                 0    1.037269   \n",
       "1066                 0      -0.351921         2                 0   -0.971996   \n",
       "638                  0       2.290826         1                 0   -0.971996   \n",
       "799                  0       3.902257         1                 0    0.267995   \n",
       "380                  0       3.547742         2                 0   -0.496920   \n",
       "\n",
       "      Condition1__RRAn  OverallCond  \n",
       "254                  0            6  \n",
       "1066                 0            7  \n",
       "638                  0            7  \n",
       "799                  0            7  \n",
       "380                  0            6  "
      ]
     },
     "execution_count": 10,
     "metadata": {},
     "output_type": "execute_result"
    },
    {
     "data": {
      "application/javascript": [
       "\n",
       "            setTimeout(function() {\n",
       "                var nbb_cell_id = 10;\n",
       "                var nbb_unformatted_code = \"pd.options.display.max_columns = 500\\nX_train.head()\";\n",
       "                var nbb_formatted_code = \"pd.options.display.max_columns = 500\\nX_train.head()\";\n",
       "                var nbb_cells = Jupyter.notebook.get_cells();\n",
       "                for (var i = 0; i < nbb_cells.length; ++i) {\n",
       "                    if (nbb_cells[i].input_prompt_number == nbb_cell_id) {\n",
       "                        if (nbb_cells[i].get_text() == nbb_unformatted_code) {\n",
       "                             nbb_cells[i].set_text(nbb_formatted_code);\n",
       "                        }\n",
       "                        break;\n",
       "                    }\n",
       "                }\n",
       "            }, 500);\n",
       "            "
      ],
      "text/plain": [
       "<IPython.core.display.Javascript object>"
      ]
     },
     "metadata": {},
     "output_type": "display_data"
    }
   ],
   "source": [
    "pd.options.display.max_columns = 500\n",
    "X_train.head()"
   ]
  },
  {
   "cell_type": "code",
   "execution_count": 11,
   "metadata": {},
   "outputs": [
    {
     "data": {
      "text/plain": [
       "(1168, 67)"
      ]
     },
     "execution_count": 11,
     "metadata": {},
     "output_type": "execute_result"
    },
    {
     "data": {
      "application/javascript": [
       "\n",
       "            setTimeout(function() {\n",
       "                var nbb_cell_id = 11;\n",
       "                var nbb_unformatted_code = \"X_train.shape\";\n",
       "                var nbb_formatted_code = \"X_train.shape\";\n",
       "                var nbb_cells = Jupyter.notebook.get_cells();\n",
       "                for (var i = 0; i < nbb_cells.length; ++i) {\n",
       "                    if (nbb_cells[i].input_prompt_number == nbb_cell_id) {\n",
       "                        if (nbb_cells[i].get_text() == nbb_unformatted_code) {\n",
       "                             nbb_cells[i].set_text(nbb_formatted_code);\n",
       "                        }\n",
       "                        break;\n",
       "                    }\n",
       "                }\n",
       "            }, 500);\n",
       "            "
      ],
      "text/plain": [
       "<IPython.core.display.Javascript object>"
      ]
     },
     "metadata": {},
     "output_type": "display_data"
    }
   ],
   "source": [
    "X_train.shape"
   ]
  },
  {
   "cell_type": "markdown",
   "metadata": {},
   "source": [
    "## Lasso Regression"
   ]
  },
  {
   "cell_type": "markdown",
   "metadata": {},
   "source": [
    "1. search for alphas in range of 0.1 to 1000 for Lasso rigression, choose the best which minimizes the mse \n",
    "2. Plot the alphas vs MSE  \n",
    "\n",
    "Hint:   \n",
    "- cross validation score gives accuracy not the error convert to error appropriately (otherwise choose lambda which maximizes the score)\n",
    "\n",
    "\n",
    "In the following cell, use training which was split earlier to cross validate (using cross_val_score) use cv = 5 (5 folds), then calculate the mean of the cross validation score for each alphas and plot $\\lambda$ vs cross_valiadtion_score  or cross_validation_error. If you choose the accuracy then choose the $\\lambda$ which maximizes the cross_val_score. \n",
    "\n",
    "For range of alphas use  alphas = np.logspace(-1, 3, 100)\n",
    "\n",
    "Finally find the $\\lambda$ which maximizes the score (or minimizes the error) (appropriate value of $\\lambda$ is enough just by seeing the graph)"
   ]
  },
  {
   "cell_type": "code",
   "execution_count": 12,
   "metadata": {},
   "outputs": [
    {
     "data": {
      "application/javascript": [
       "\n",
       "            setTimeout(function() {\n",
       "                var nbb_cell_id = 12;\n",
       "                var nbb_unformatted_code = \"alphas = np.logspace(-1, 3, 100)\";\n",
       "                var nbb_formatted_code = \"alphas = np.logspace(-1, 3, 100)\";\n",
       "                var nbb_cells = Jupyter.notebook.get_cells();\n",
       "                for (var i = 0; i < nbb_cells.length; ++i) {\n",
       "                    if (nbb_cells[i].input_prompt_number == nbb_cell_id) {\n",
       "                        if (nbb_cells[i].get_text() == nbb_unformatted_code) {\n",
       "                             nbb_cells[i].set_text(nbb_formatted_code);\n",
       "                        }\n",
       "                        break;\n",
       "                    }\n",
       "                }\n",
       "            }, 500);\n",
       "            "
      ],
      "text/plain": [
       "<IPython.core.display.Javascript object>"
      ]
     },
     "metadata": {},
     "output_type": "display_data"
    }
   ],
   "source": [
    "alphas = np.logspace(-1, 3, 100)"
   ]
  },
  {
   "cell_type": "code",
   "execution_count": null,
   "metadata": {},
   "outputs": [],
   "source": [
    "lasso_cv_scores = []\n",
    "\n",
    "for a in alphas:\n",
    "    model = Lasso(alpha=a)\n",
    "    lasso_cv_scores.append(np.mean(cross_val_score(model, X_train, y_train, cv=5)))"
   ]
  },
  {
   "cell_type": "code",
   "execution_count": null,
   "metadata": {},
   "outputs": [],
   "source": [
    "plt.title(\"Lasso Score\")\n",
    "plt.ylabel(\"CV Score\")\n",
    "plt.xlabel(r\"log($\\alpha$)\")\n",
    "plt.scatter(alphas, lasso_cv_scores)\n",
    "plt.xscale(\"log\")\n",
    "plt.show()\n",
    "alpha_max_lasso = alphas[lasso_cv_scores.index(max(lasso_cv_scores))]\n",
    "print(\"Alpha with max score =\", alpha_max_lasso, \"with score =\", max(lasso_cv_scores))"
   ]
  },
  {
   "cell_type": "markdown",
   "metadata": {},
   "source": [
    "## Ridge Regression"
   ]
  },
  {
   "cell_type": "markdown",
   "metadata": {},
   "source": [
    "1. search for alphas in range of 0.1 to 100 for Ridge rigression, choose the best which minimizes the mse \n",
    "2. Plot the alphas vs MSE\n",
    "\n",
    "\n",
    "This similar to as explained for Lasso regression. Again plot $\\lambda$ vs accuracy (or error) \n",
    "\n",
    "For range of alphas use  alphas = np.logspace(-1, 2, 100)\n",
    "\n",
    "Finally find the $\\lambda$ which maximizes the score (or minimizes the error) (appropriate value of $\\lambda$ is enough just by seeing the graph)\n"
   ]
  },
  {
   "cell_type": "code",
   "execution_count": 16,
   "metadata": {},
   "outputs": [
    {
     "data": {
      "application/javascript": [
       "\n",
       "            setTimeout(function() {\n",
       "                var nbb_cell_id = 16;\n",
       "                var nbb_unformatted_code = \"alphas = np.logspace(-1, 2, 100)\";\n",
       "                var nbb_formatted_code = \"alphas = np.logspace(-1, 2, 100)\";\n",
       "                var nbb_cells = Jupyter.notebook.get_cells();\n",
       "                for (var i = 0; i < nbb_cells.length; ++i) {\n",
       "                    if (nbb_cells[i].input_prompt_number == nbb_cell_id) {\n",
       "                        if (nbb_cells[i].get_text() == nbb_unformatted_code) {\n",
       "                             nbb_cells[i].set_text(nbb_formatted_code);\n",
       "                        }\n",
       "                        break;\n",
       "                    }\n",
       "                }\n",
       "            }, 500);\n",
       "            "
      ],
      "text/plain": [
       "<IPython.core.display.Javascript object>"
      ]
     },
     "metadata": {},
     "output_type": "display_data"
    }
   ],
   "source": [
    "alphas = np.logspace(-1, 3, 100) #Using until 1000 since the score is increasing after 100"
   ]
  },
  {
   "cell_type": "code",
   "execution_count": 17,
   "metadata": {},
   "outputs": [
    {
     "data": {
      "application/javascript": [
       "\n",
       "            setTimeout(function() {\n",
       "                var nbb_cell_id = 17;\n",
       "                var nbb_unformatted_code = \"ridge_cv_scores = []\\n\\nfor a in alphas:\\n    model = Ridge(alpha=a)\\n    ridge_cv_scores.append(np.mean(cross_val_score(model, X_train, y_train, cv=5)))\";\n",
       "                var nbb_formatted_code = \"ridge_cv_scores = []\\n\\nfor a in alphas:\\n    model = Ridge(alpha=a)\\n    ridge_cv_scores.append(np.mean(cross_val_score(model, X_train, y_train, cv=5)))\";\n",
       "                var nbb_cells = Jupyter.notebook.get_cells();\n",
       "                for (var i = 0; i < nbb_cells.length; ++i) {\n",
       "                    if (nbb_cells[i].input_prompt_number == nbb_cell_id) {\n",
       "                        if (nbb_cells[i].get_text() == nbb_unformatted_code) {\n",
       "                             nbb_cells[i].set_text(nbb_formatted_code);\n",
       "                        }\n",
       "                        break;\n",
       "                    }\n",
       "                }\n",
       "            }, 500);\n",
       "            "
      ],
      "text/plain": [
       "<IPython.core.display.Javascript object>"
      ]
     },
     "metadata": {},
     "output_type": "display_data"
    }
   ],
   "source": [
    "ridge_cv_scores = []\n",
    "\n",
    "for a in alphas:\n",
    "    model = Ridge(alpha=a)\n",
    "    ridge_cv_scores.append(np.mean(cross_val_score(model, X_train, y_train, cv=5)))"
   ]
  },
  {
   "cell_type": "code",
   "execution_count": 30,
   "metadata": {},
   "outputs": [
    {
     "data": {
      "image/png": "[encoded data removed]",
      "text/plain": [
       "<Figure size 432x288 with 1 Axes>"
      ]
     },
     "metadata": {},
     "output_type": "display_data"
    },
    {
     "name": "stdout",
     "output_type": "stream",
     "text": [
      "Alpha with max score = 100.0 with score = 0.772489041401853\n"
     ]
    },
    {
     "data": {
      "application/javascript": [
       "\n",
       "            setTimeout(function() {\n",
       "                var nbb_cell_id = 30;\n",
       "                var nbb_unformatted_code = \"plt.title(\\\"Ridge Score\\\")\\nplt.ylabel(\\\"CV Score\\\")\\nplt.xlabel(r\\\"log($\\\\alpha$)\\\")\\nplt.scatter(alphas, ridge_cv_scores)\\nplt.xscale(\\\"log\\\")\\nplt.show()\\nalpha_max_ridge = alphas[ridge_cv_scores.index(max(ridge_cv_scores))]\\nprint(\\\"Alpha with max score =\\\", alpha_max_ridge, \\\"with score =\\\", max(ridge_cv_scores))\";\n",
       "                var nbb_formatted_code = \"plt.title(\\\"Ridge Score\\\")\\nplt.ylabel(\\\"CV Score\\\")\\nplt.xlabel(r\\\"log($\\\\alpha$)\\\")\\nplt.scatter(alphas, ridge_cv_scores)\\nplt.xscale(\\\"log\\\")\\nplt.show()\\nalpha_max_ridge = alphas[ridge_cv_scores.index(max(ridge_cv_scores))]\\nprint(\\\"Alpha with max score =\\\", alpha_max_ridge, \\\"with score =\\\", max(ridge_cv_scores))\";\n",
       "                var nbb_cells = Jupyter.notebook.get_cells();\n",
       "                for (var i = 0; i < nbb_cells.length; ++i) {\n",
       "                    if (nbb_cells[i].input_prompt_number == nbb_cell_id) {\n",
       "                        if (nbb_cells[i].get_text() == nbb_unformatted_code) {\n",
       "                             nbb_cells[i].set_text(nbb_formatted_code);\n",
       "                        }\n",
       "                        break;\n",
       "                    }\n",
       "                }\n",
       "            }, 500);\n",
       "            "
      ],
      "text/plain": [
       "<IPython.core.display.Javascript object>"
      ]
     },
     "metadata": {},
     "output_type": "display_data"
    }
   ],
   "source": [
    "plt.title(\"Ridge Score\")\n",
    "plt.ylabel(\"CV Score\")\n",
    "plt.xlabel(r\"log($\\alpha$)\")\n",
    "plt.scatter(alphas, ridge_cv_scores)\n",
    "plt.xscale(\"log\")\n",
    "plt.show()\n",
    "alpha_max_ridge = alphas[ridge_cv_scores.index(max(ridge_cv_scores))]\n",
    "print(\"Alpha with max score =\", alpha_max_ridge, \"with score =\", max(ridge_cv_scores))"
   ]
  },
  {
   "cell_type": "markdown",
   "metadata": {},
   "source": [
    "Now compare regularized models to linear Regression model\n",
    "\n",
    "In the following cell, calculate cross validation score using Linear Regression model"
   ]
  },
  {
   "cell_type": "code",
   "execution_count": 19,
   "metadata": {
    "tags": []
   },
   "outputs": [
    {
     "name": "stdout",
     "output_type": "stream",
     "text": [
      "Cross Validation score for Linear Model =  0.7319127091470975\n"
     ]
    },
    {
     "data": {
      "application/javascript": [
       "\n",
       "            setTimeout(function() {\n",
       "                var nbb_cell_id = 19;\n",
       "                var nbb_unformatted_code = \"model = LinearRegression()\\n\\nprint(\\n    \\\"Cross Validation score for Linear Model = \\\",\\n    np.mean(cross_val_score(model, X_train, y_train, cv=5)),\\n)\";\n",
       "                var nbb_formatted_code = \"model = LinearRegression()\\n\\nprint(\\n    \\\"Cross Validation score for Linear Model = \\\",\\n    np.mean(cross_val_score(model, X_train, y_train, cv=5)),\\n)\";\n",
       "                var nbb_cells = Jupyter.notebook.get_cells();\n",
       "                for (var i = 0; i < nbb_cells.length; ++i) {\n",
       "                    if (nbb_cells[i].input_prompt_number == nbb_cell_id) {\n",
       "                        if (nbb_cells[i].get_text() == nbb_unformatted_code) {\n",
       "                             nbb_cells[i].set_text(nbb_formatted_code);\n",
       "                        }\n",
       "                        break;\n",
       "                    }\n",
       "                }\n",
       "            }, 500);\n",
       "            "
      ],
      "text/plain": [
       "<IPython.core.display.Javascript object>"
      ]
     },
     "metadata": {},
     "output_type": "display_data"
    }
   ],
   "source": [
    "model = LinearRegression()\n",
    "\n",
    "print(\n",
    "    \"Cross Validation score for Linear Model = \",\n",
    "    np.mean(cross_val_score(model, X_train, y_train, cv=5)),\n",
    ")"
   ]
  },
  {
   "cell_type": "markdown",
   "metadata": {},
   "source": [
    "Now you have $\\lambda$ values for both ridge and lasso regression, predict the model on the test data you created earlier\n",
    "\n",
    "In the following cell use selected $\\lambda$ as the model parameter, predict on test data, compare among three models and report your findings. \n",
    "\n",
    "\n",
    "\n",
    "\n",
    "Finally use lasso regression to find the important features and write your observations and also what do you observe when you compare both coefficients of Ridge and Lasso ? Do you see any property of Lasso which is used?\n",
    " \n",
    "Hint: \n",
    "- Check weights corresponding to each features\n",
    "\n",
    "\n",
    "Note:\n",
    "- Don't worry if you have huge error in prediction, it is possible, just compare among models and report which has lease error.\n"
   ]
  },
  {
   "cell_type": "code",
   "execution_count": 20,
   "metadata": {
    "tags": []
   },
   "outputs": [
    {
     "name": "stdout",
     "output_type": "stream",
     "text": [
      "Lasso Test error =  1394636822.5289536\n",
      "Ridge Test error =  1387885619.962569\n",
      "Linear Test error =  1380512172.4162936\n"
     ]
    },
    {
     "data": {
      "application/javascript": [
       "\n",
       "            setTimeout(function() {\n",
       "                var nbb_cell_id = 20;\n",
       "                var nbb_unformatted_code = \"lasso_model = Lasso(alpha=alpha_max_lasso)\\nlasso_model.fit(X_train, y_train)\\nprint(\\\"Lasso Test error = \\\", mean_squared_error(y_test, lasso_model.predict(X_test)))\\nridge_model = Ridge(alpha=alpha_max_ridge)\\nridge_model.fit(X_train, y_train)\\nprint(\\\"Ridge Test error = \\\", mean_squared_error(y_test, ridge_model.predict(X_test)))\\nlinear_model = LinearRegression()\\nlinear_model.fit(X_train, y_train)\\nprint(\\\"Linear Test error = \\\", mean_squared_error(y_test, linear_model.predict(X_test)))\";\n",
       "                var nbb_formatted_code = \"lasso_model = Lasso(alpha=alpha_max_lasso)\\nlasso_model.fit(X_train, y_train)\\nprint(\\\"Lasso Test error = \\\", mean_squared_error(y_test, lasso_model.predict(X_test)))\\nridge_model = Ridge(alpha=alpha_max_ridge)\\nridge_model.fit(X_train, y_train)\\nprint(\\\"Ridge Test error = \\\", mean_squared_error(y_test, ridge_model.predict(X_test)))\\nlinear_model = LinearRegression()\\nlinear_model.fit(X_train, y_train)\\nprint(\\\"Linear Test error = \\\", mean_squared_error(y_test, linear_model.predict(X_test)))\";\n",
       "                var nbb_cells = Jupyter.notebook.get_cells();\n",
       "                for (var i = 0; i < nbb_cells.length; ++i) {\n",
       "                    if (nbb_cells[i].input_prompt_number == nbb_cell_id) {\n",
       "                        if (nbb_cells[i].get_text() == nbb_unformatted_code) {\n",
       "                             nbb_cells[i].set_text(nbb_formatted_code);\n",
       "                        }\n",
       "                        break;\n",
       "                    }\n",
       "                }\n",
       "            }, 500);\n",
       "            "
      ],
      "text/plain": [
       "<IPython.core.display.Javascript object>"
      ]
     },
     "metadata": {},
     "output_type": "display_data"
    }
   ],
   "source": [
    "lasso_model = Lasso(alpha=alpha_max_lasso)\n",
    "lasso_model.fit(X_train, y_train)\n",
    "print(\"Lasso Test error = \", mean_squared_error(y_test, lasso_model.predict(X_test)))\n",
    "ridge_model = Ridge(alpha=alpha_max_ridge)\n",
    "ridge_model.fit(X_train, y_train)\n",
    "print(\"Ridge Test error = \", mean_squared_error(y_test, ridge_model.predict(X_test)))\n",
    "linear_model = LinearRegression()\n",
    "linear_model.fit(X_train, y_train)\n",
    "print(\"Linear Test error = \", mean_squared_error(y_test, linear_model.predict(X_test)))"
   ]
  },
  {
   "cell_type": "code",
   "execution_count": 21,
   "metadata": {},
   "outputs": [
    {
     "data": {
      "application/javascript": [
       "\n",
       "            setTimeout(function() {\n",
       "                var nbb_cell_id = 21;\n",
       "                var nbb_unformatted_code = \"coeffs = {\\n    \\\"Feature\\\": [],\\n    \\\"Lasso_Coefficient\\\": [],\\n    \\\"Ridge_Coefficient\\\": [],\\n    \\\"Linear_Coefficient\\\": [],\\n}\\n\\nfor i, col in enumerate(X_train.columns):\\n    coeffs[\\\"Feature\\\"].append(col)\\n    coeffs[\\\"Lasso_Coefficient\\\"].append(lasso_model.coef_[i])\\n    coeffs[\\\"Ridge_Coefficient\\\"].append(ridge_model.coef_[i])\\n    coeffs[\\\"Linear_Coefficient\\\"].append(linear_model.coef_[i])\";\n",
       "                var nbb_formatted_code = \"coeffs = {\\n    \\\"Feature\\\": [],\\n    \\\"Lasso_Coefficient\\\": [],\\n    \\\"Ridge_Coefficient\\\": [],\\n    \\\"Linear_Coefficient\\\": [],\\n}\\n\\nfor i, col in enumerate(X_train.columns):\\n    coeffs[\\\"Feature\\\"].append(col)\\n    coeffs[\\\"Lasso_Coefficient\\\"].append(lasso_model.coef_[i])\\n    coeffs[\\\"Ridge_Coefficient\\\"].append(ridge_model.coef_[i])\\n    coeffs[\\\"Linear_Coefficient\\\"].append(linear_model.coef_[i])\";\n",
       "                var nbb_cells = Jupyter.notebook.get_cells();\n",
       "                for (var i = 0; i < nbb_cells.length; ++i) {\n",
       "                    if (nbb_cells[i].input_prompt_number == nbb_cell_id) {\n",
       "                        if (nbb_cells[i].get_text() == nbb_unformatted_code) {\n",
       "                             nbb_cells[i].set_text(nbb_formatted_code);\n",
       "                        }\n",
       "                        break;\n",
       "                    }\n",
       "                }\n",
       "            }, 500);\n",
       "            "
      ],
      "text/plain": [
       "<IPython.core.display.Javascript object>"
      ]
     },
     "metadata": {},
     "output_type": "display_data"
    }
   ],
   "source": [
    "coeffs = {\n",
    "    \"Feature\": [],\n",
    "    \"Lasso_Coefficient\": [],\n",
    "    \"Ridge_Coefficient\": [],\n",
    "    \"Linear_Coefficient\": [],\n",
    "}\n",
    "\n",
    "for i, col in enumerate(X_train.columns):\n",
    "    coeffs[\"Feature\"].append(col)\n",
    "    coeffs[\"Lasso_Coefficient\"].append(lasso_model.coef_[i])\n",
    "    coeffs[\"Ridge_Coefficient\"].append(ridge_model.coef_[i])\n",
    "    coeffs[\"Linear_Coefficient\"].append(linear_model.coef_[i])"
   ]
  },
  {
   "cell_type": "code",
   "execution_count": 1,
   "metadata": {},
   "outputs": [
    {
     "ename": "NameError",
     "evalue": "name 'pd' is not defined",
     "output_type": "error",
     "traceback": [
      "\u001b[0;31m---------------------------------------------------------------------------\u001b[0m",
      "\u001b[0;31mNameError\u001b[0m                                 Traceback (most recent call last)",
      "\u001b[0;32m<ipython-input-1-2b457bcfc8a6>\u001b[0m in \u001b[0;36m<module>\u001b[0;34m\u001b[0m\n\u001b[0;32m----> 1\u001b[0;31m \u001b[0mcoeff_df\u001b[0m \u001b[0;34m=\u001b[0m \u001b[0mpd\u001b[0m\u001b[0;34m.\u001b[0m\u001b[0mDataFrame\u001b[0m\u001b[0;34m(\u001b[0m\u001b[0mcoeffs\u001b[0m\u001b[0;34m)\u001b[0m\u001b[0;34m\u001b[0m\u001b[0;34m\u001b[0m\u001b[0m\n\u001b[0m\u001b[1;32m      2\u001b[0m \u001b[0mdisplay\u001b[0m\u001b[0;34m(\u001b[0m\u001b[0mcoeff_df\u001b[0m\u001b[0;34m)\u001b[0m\u001b[0;34m\u001b[0m\u001b[0;34m\u001b[0m\u001b[0m\n",
      "\u001b[0;31mNameError\u001b[0m: name 'pd' is not defined"
     ]
    }
   ],
   "source": [
    "coeff_df = pd.DataFrame(coeffs)\n",
    "display(coeff_df)"
   ]
  },
  {
   "cell_type": "code",
   "execution_count": null,
   "metadata": {},
   "outputs": [],
   "source": [
    "lasso_feat_sel = coeff_df[coeff_df[\"Lasso_Coefficient\"] != 0][\"Feature\"]\n",
    "print(\"\\nFeatures selected by lasso : \")\n",
    "display(lasso_feat_sel.to_frame())"
   ]
  },
  {
   "cell_type": "markdown",
   "metadata": {},
   "source": [
    "- On comparing the coefficients of Lasso and Ridge, we can see that for some features, the Lasso coefficients is 0. This is due to the feature selection property of Lasso, where it tries to make the coefficients of features which are unnecessary to 0."
   ]
  }
 ],
 "metadata": {
  "kernelspec": {
   "display_name": "ee4708",
   "language": "python",
   "name": "ee4708"
  },
  "language_info": {
   "codemirror_mode": {
    "name": "ipython",
    "version": 3
   },
   "file_extension": ".py",
   "mimetype": "text/x-python",
   "name": "python",
   "nbconvert_exporter": "python",
   "pygments_lexer": "ipython3",
   "version": "3.7.4"
  }
 },
 "nbformat": 4,
 "nbformat_minor": 2
}
