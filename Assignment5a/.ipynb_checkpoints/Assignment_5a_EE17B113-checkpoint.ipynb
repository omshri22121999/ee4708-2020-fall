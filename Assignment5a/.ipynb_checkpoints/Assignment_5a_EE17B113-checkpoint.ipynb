{
 "cells": [
  {
   "cell_type": "markdown",
   "metadata": {},
   "source": [
    "#  Classification : Nearest Neighbors and Naive Bayes "
   ]
  },
  {
   "cell_type": "markdown",
   "metadata": {},
   "source": [
    "## Classification using Nearest Neighbors"
   ]
  },
  {
   "cell_type": "markdown",
   "metadata": {},
   "source": [
    "(a) Perform k-Nearest neighbours on the given dataset($X_{knn}$ and $y_{knn}$: where $X_{knn}$ stores feature vectors representing the movies and  $y_{knn}$ stores the 0-1 labelling for each movie) for binary classification of movies, for classifiying whether a given movie is a comedy(label 1) or not a comedy(label 0) . Split the dataset into train(80%), validation(10%) and test sets(10%).Run k-Nearest neighbours for different k values (1,3,7,15,31,63). Select the k, using validation set, which returns the best accuracy score. \n",
    "\n",
    "(i)  Report all the validation accuracies for all the values of k. \n",
    "<br>(ii) Report accuracy score by performing k-NN on the test dataset using the best chosen k value. "
   ]
  },
  {
   "cell_type": "code",
   "execution_count": 1,
   "metadata": {},
   "outputs": [
    {
     "data": {
      "application/javascript": [
       "\n",
       "            setTimeout(function() {\n",
       "                var nbb_cell_id = 1;\n",
       "                var nbb_unformatted_code = \"import pandas as pd\\nimport numpy as np\\nimport matplotlib.pyplot as plt\\nfrom sklearn.model_selection import train_test_split\\nimport seaborn as sns\\nimport heapq\\n\\nsns.set()\\n\\n%load_ext nb_black\";\n",
       "                var nbb_formatted_code = \"import pandas as pd\\nimport numpy as np\\nimport matplotlib.pyplot as plt\\nfrom sklearn.model_selection import train_test_split\\nimport seaborn as sns\\nimport heapq\\n\\nsns.set()\\n\\n%load_ext nb_black\";\n",
       "                var nbb_cells = Jupyter.notebook.get_cells();\n",
       "                for (var i = 0; i < nbb_cells.length; ++i) {\n",
       "                    if (nbb_cells[i].input_prompt_number == nbb_cell_id) {\n",
       "                        if (nbb_cells[i].get_text() == nbb_unformatted_code) {\n",
       "                             nbb_cells[i].set_text(nbb_formatted_code);\n",
       "                        }\n",
       "                        break;\n",
       "                    }\n",
       "                }\n",
       "            }, 500);\n",
       "            "
      ],
      "text/plain": [
       "<IPython.core.display.Javascript object>"
      ]
     },
     "metadata": {},
     "output_type": "display_data"
    }
   ],
   "source": [
    "import pandas as pd\n",
    "import numpy as np\n",
    "import matplotlib.pyplot as plt\n",
    "from sklearn.model_selection import train_test_split\n",
    "import seaborn as sns\n",
    "import heapq\n",
    "\n",
    "sns.set()\n",
    "\n",
    "%load_ext nb_black"
   ]
  },
  {
   "cell_type": "code",
   "execution_count": 2,
   "metadata": {},
   "outputs": [
    {
     "data": {
      "application/javascript": [
       "\n",
       "            setTimeout(function() {\n",
       "                var nbb_cell_id = 2;\n",
       "                var nbb_unformatted_code = \"X = np.genfromtxt(\\\"X_knn.csv\\\", delimiter=\\\" \\\")\\ny = np.genfromtxt(\\\"y_knn.csv\\\", delimiter=\\\" \\\")\";\n",
       "                var nbb_formatted_code = \"X = np.genfromtxt(\\\"X_knn.csv\\\", delimiter=\\\" \\\")\\ny = np.genfromtxt(\\\"y_knn.csv\\\", delimiter=\\\" \\\")\";\n",
       "                var nbb_cells = Jupyter.notebook.get_cells();\n",
       "                for (var i = 0; i < nbb_cells.length; ++i) {\n",
       "                    if (nbb_cells[i].input_prompt_number == nbb_cell_id) {\n",
       "                        if (nbb_cells[i].get_text() == nbb_unformatted_code) {\n",
       "                             nbb_cells[i].set_text(nbb_formatted_code);\n",
       "                        }\n",
       "                        break;\n",
       "                    }\n",
       "                }\n",
       "            }, 500);\n",
       "            "
      ],
      "text/plain": [
       "<IPython.core.display.Javascript object>"
      ]
     },
     "metadata": {},
     "output_type": "display_data"
    }
   ],
   "source": [
    "X = np.genfromtxt(\"X_knn.csv\", delimiter=\" \")\n",
    "y = np.genfromtxt(\"y_knn.csv\", delimiter=\" \")"
   ]
  },
  {
   "cell_type": "code",
   "execution_count": 3,
   "metadata": {},
   "outputs": [
    {
     "name": "stdout",
     "output_type": "stream",
     "text": [
      "(10000, 1128)\n",
      "(10000,)\n"
     ]
    },
    {
     "data": {
      "application/javascript": [
       "\n",
       "            setTimeout(function() {\n",
       "                var nbb_cell_id = 3;\n",
       "                var nbb_unformatted_code = \"print(X.shape)\\nprint(y.shape)\";\n",
       "                var nbb_formatted_code = \"print(X.shape)\\nprint(y.shape)\";\n",
       "                var nbb_cells = Jupyter.notebook.get_cells();\n",
       "                for (var i = 0; i < nbb_cells.length; ++i) {\n",
       "                    if (nbb_cells[i].input_prompt_number == nbb_cell_id) {\n",
       "                        if (nbb_cells[i].get_text() == nbb_unformatted_code) {\n",
       "                             nbb_cells[i].set_text(nbb_formatted_code);\n",
       "                        }\n",
       "                        break;\n",
       "                    }\n",
       "                }\n",
       "            }, 500);\n",
       "            "
      ],
      "text/plain": [
       "<IPython.core.display.Javascript object>"
      ]
     },
     "metadata": {},
     "output_type": "display_data"
    }
   ],
   "source": [
    "print(X.shape)\n",
    "print(y.shape)"
   ]
  },
  {
   "cell_type": "code",
   "execution_count": 4,
   "metadata": {},
   "outputs": [
    {
     "data": {
      "application/javascript": [
       "\n",
       "            setTimeout(function() {\n",
       "                var nbb_cell_id = 4;\n",
       "                var nbb_unformatted_code = \"train_ratio = 0.8\\nval_ratio = 0.1\\ntest_ratio = 0.1\\n\\nX_train, X_test, y_train, y_test = train_test_split(\\n    X, y, test_size=1 - train_ratio, random_state=2020\\n)\\nX_val, X_test, y_val, y_test = train_test_split(\\n    X_test, y_test, test_size=test_ratio / (test_ratio + val_ratio)\\n)\";\n",
       "                var nbb_formatted_code = \"train_ratio = 0.8\\nval_ratio = 0.1\\ntest_ratio = 0.1\\n\\nX_train, X_test, y_train, y_test = train_test_split(\\n    X, y, test_size=1 - train_ratio, random_state=2020\\n)\\nX_val, X_test, y_val, y_test = train_test_split(\\n    X_test, y_test, test_size=test_ratio / (test_ratio + val_ratio)\\n)\";\n",
       "                var nbb_cells = Jupyter.notebook.get_cells();\n",
       "                for (var i = 0; i < nbb_cells.length; ++i) {\n",
       "                    if (nbb_cells[i].input_prompt_number == nbb_cell_id) {\n",
       "                        if (nbb_cells[i].get_text() == nbb_unformatted_code) {\n",
       "                             nbb_cells[i].set_text(nbb_formatted_code);\n",
       "                        }\n",
       "                        break;\n",
       "                    }\n",
       "                }\n",
       "            }, 500);\n",
       "            "
      ],
      "text/plain": [
       "<IPython.core.display.Javascript object>"
      ]
     },
     "metadata": {},
     "output_type": "display_data"
    }
   ],
   "source": [
    "train_ratio = 0.8\n",
    "val_ratio = 0.1\n",
    "test_ratio = 0.1\n",
    "\n",
    "X_train, X_test, y_train, y_test = train_test_split(\n",
    "    X, y, test_size=1 - train_ratio, random_state=2020\n",
    ")\n",
    "X_val, X_test, y_val, y_test = train_test_split(\n",
    "    X_test, y_test, test_size=test_ratio / (test_ratio + val_ratio)\n",
    ")"
   ]
  },
  {
   "cell_type": "code",
   "execution_count": 5,
   "metadata": {
    "scrolled": true
   },
   "outputs": [
    {
     "name": "stdout",
     "output_type": "stream",
     "text": [
      "Train Data Shape : (8000, 1128)\n",
      "Validate Data Shape : (1000, 1128)\n",
      "Test Data Shape : (1000, 1128)\n"
     ]
    },
    {
     "data": {
      "application/javascript": [
       "\n",
       "            setTimeout(function() {\n",
       "                var nbb_cell_id = 5;\n",
       "                var nbb_unformatted_code = \"print(\\\"Train Data Shape :\\\", X_train.shape)\\nprint(\\\"Validate Data Shape :\\\", X_val.shape)\\nprint(\\\"Test Data Shape :\\\", X_test.shape)\";\n",
       "                var nbb_formatted_code = \"print(\\\"Train Data Shape :\\\", X_train.shape)\\nprint(\\\"Validate Data Shape :\\\", X_val.shape)\\nprint(\\\"Test Data Shape :\\\", X_test.shape)\";\n",
       "                var nbb_cells = Jupyter.notebook.get_cells();\n",
       "                for (var i = 0; i < nbb_cells.length; ++i) {\n",
       "                    if (nbb_cells[i].input_prompt_number == nbb_cell_id) {\n",
       "                        if (nbb_cells[i].get_text() == nbb_unformatted_code) {\n",
       "                             nbb_cells[i].set_text(nbb_formatted_code);\n",
       "                        }\n",
       "                        break;\n",
       "                    }\n",
       "                }\n",
       "            }, 500);\n",
       "            "
      ],
      "text/plain": [
       "<IPython.core.display.Javascript object>"
      ]
     },
     "metadata": {},
     "output_type": "display_data"
    }
   ],
   "source": [
    "print(\"Train Data Shape :\", X_train.shape)\n",
    "print(\"Validate Data Shape :\", X_val.shape)\n",
    "print(\"Test Data Shape :\", X_test.shape)"
   ]
  },
  {
   "cell_type": "code",
   "execution_count": 10,
   "metadata": {
    "scrolled": true
   },
   "outputs": [
    {
     "data": {
      "application/javascript": [
       "\n",
       "            setTimeout(function() {\n",
       "                var nbb_cell_id = 10;\n",
       "                var nbb_unformatted_code = \"class KNN:\\n    def __init__(self, k):\\n        self.k = k\\n\\n    def dist(self, x1, x2):\\n        return np.sqrt(np.sum((x1 - x2) ** 2))\\n\\n    def train(self, X, y):\\n        self.dataset = np.append(X, y.reshape(-1, 1), axis=1)\\n\\n    def predict(self, X_t):\\n        preds = []\\n        for i in X_t:\\n            dist = []\\n            for j in self.dataset:\\n                dist.append((self.dist(i, j[:-1]), j))\\n            dist_n = heapq.nsmallest(self.k, dist, key=lambda x: x[0])\\n            vals = []\\n            for i in dist_n:\\n                vals.append(i[1][-1])\\n            preds.append(np.argmax(np.bincount(np.array(vals).astype(\\\"int64\\\"))))\\n        return np.array(preds).astype(\\\"float64\\\")\";\n",
       "                var nbb_formatted_code = \"class KNN:\\n    def __init__(self, k):\\n        self.k = k\\n\\n    def dist(self, x1, x2):\\n        return np.sqrt(np.sum((x1 - x2) ** 2))\\n\\n    def train(self, X, y):\\n        self.dataset = np.append(X, y.reshape(-1, 1), axis=1)\\n\\n    def predict(self, X_t):\\n        preds = []\\n        for i in X_t:\\n            dist = []\\n            for j in self.dataset:\\n                dist.append((self.dist(i, j[:-1]), j))\\n            dist_n = heapq.nsmallest(self.k, dist, key=lambda x: x[0])\\n            vals = []\\n            for i in dist_n:\\n                vals.append(i[1][-1])\\n            preds.append(np.argmax(np.bincount(np.array(vals).astype(\\\"int64\\\"))))\\n        return np.array(preds).astype(\\\"float64\\\")\";\n",
       "                var nbb_cells = Jupyter.notebook.get_cells();\n",
       "                for (var i = 0; i < nbb_cells.length; ++i) {\n",
       "                    if (nbb_cells[i].input_prompt_number == nbb_cell_id) {\n",
       "                        if (nbb_cells[i].get_text() == nbb_unformatted_code) {\n",
       "                             nbb_cells[i].set_text(nbb_formatted_code);\n",
       "                        }\n",
       "                        break;\n",
       "                    }\n",
       "                }\n",
       "            }, 500);\n",
       "            "
      ],
      "text/plain": [
       "<IPython.core.display.Javascript object>"
      ]
     },
     "metadata": {},
     "output_type": "display_data"
    }
   ],
   "source": [
    "# Note : This is a rough implementation of KNN, thus prediction will take a lot of time.\n",
    "\n",
    "class KNN:\n",
    "    def __init__(self, k):\n",
    "        self.k = k\n",
    "\n",
    "    def dist(self, x1, x2):\n",
    "        return np.sqrt(np.sum((x1 - x2) ** 2))\n",
    "\n",
    "    def train(self, X, y):\n",
    "        self.dataset = np.append(X, y.reshape(-1, 1), axis=1)\n",
    "\n",
    "    def predict(self, X_t):\n",
    "        preds = []\n",
    "        for i in X_t:\n",
    "            dist = []\n",
    "            for j in self.dataset:\n",
    "                dist.append((self.dist(i, j[:-1]), j))\n",
    "            dist_n = heapq.nsmallest(self.k, dist, key=lambda x: x[0])\n",
    "            vals = []\n",
    "            for i in dist_n:\n",
    "                vals.append(i[1][-1])\n",
    "            preds.append(np.argmax(np.bincount(np.array(vals).astype(\"int64\"))))\n",
    "        return np.array(preds).astype(\"float64\")"
   ]
  },
  {
   "cell_type": "code",
   "execution_count": 11,
   "metadata": {
    "scrolled": true
   },
   "outputs": [
    {
     "name": "stdout",
     "output_type": "stream",
     "text": [
      "Training KNN model with n_neighbors = 1\n",
      "Training KNN model with n_neighbors = 3\n",
      "Training KNN model with n_neighbors = 7\n",
      "Training KNN model with n_neighbors = 15\n",
      "Training KNN model with n_neighbors = 31\n",
      "Training KNN model with n_neighbors = 63\n"
     ]
    },
    {
     "data": {
      "application/javascript": [
       "\n",
       "            setTimeout(function() {\n",
       "                var nbb_cell_id = 11;\n",
       "                var nbb_unformatted_code = \"k_vals = [1, 3, 7, 15, 31, 63]\\nval_scores = []\\nmodels = []\\nfor k in k_vals:\\n    print(\\\"Training KNN model with n_neighbors =\\\", k)\\n    model = KNN(k=k)\\n    model.train(X_train, y_train)\\n    acc = np.sum(model.predict(X_val) == y_val) / len(y_val)\\n    models.append(model)\\n    val_scores.append(acc)\";\n",
       "                var nbb_formatted_code = \"k_vals = [1, 3, 7, 15, 31, 63]\\nval_scores = []\\nmodels = []\\nfor k in k_vals:\\n    print(\\\"Training KNN model with n_neighbors =\\\", k)\\n    model = KNN(k=k)\\n    model.train(X_train, y_train)\\n    acc = np.sum(model.predict(X_val) == y_val) / len(y_val)\\n    models.append(model)\\n    val_scores.append(acc)\";\n",
       "                var nbb_cells = Jupyter.notebook.get_cells();\n",
       "                for (var i = 0; i < nbb_cells.length; ++i) {\n",
       "                    if (nbb_cells[i].input_prompt_number == nbb_cell_id) {\n",
       "                        if (nbb_cells[i].get_text() == nbb_unformatted_code) {\n",
       "                             nbb_cells[i].set_text(nbb_formatted_code);\n",
       "                        }\n",
       "                        break;\n",
       "                    }\n",
       "                }\n",
       "            }, 500);\n",
       "            "
      ],
      "text/plain": [
       "<IPython.core.display.Javascript object>"
      ]
     },
     "metadata": {},
     "output_type": "display_data"
    }
   ],
   "source": [
    "k_vals = [1, 3, 7, 15, 31, 63]\n",
    "val_scores = []\n",
    "models = []\n",
    "for k in k_vals:\n",
    "    print(\"Training KNN model with n_neighbors =\", k)\n",
    "    model = KNN(k=k)\n",
    "    model.train(X_train, y_train)\n",
    "    acc = np.sum(model.predict(X_val) == y_val) / len(y_val)\n",
    "    models.append(model)\n",
    "    val_scores.append(acc)"
   ]
  },
  {
   "cell_type": "code",
   "execution_count": 20,
   "metadata": {},
   "outputs": [
    {
     "data": {
      "image/png": "[encoded data removed]",
      "text/plain": [
       "<Figure size 432x288 with 1 Axes>"
      ]
     },
     "metadata": {},
     "output_type": "display_data"
    },
    {
     "data": {
      "application/javascript": [
       "\n",
       "            setTimeout(function() {\n",
       "                var nbb_cell_id = 20;\n",
       "                var nbb_unformatted_code = \"plt.scatter(k_vals, val_scores)\\nplt.title(\\\"K-Values vs Validation Accuracy\\\")\\nplt.xlabel(\\\"K Values\\\")\\nplt.ylabel(\\\"Validation Accuracy\\\")\\nplt.show()\";\n",
       "                var nbb_formatted_code = \"plt.scatter(k_vals, val_scores)\\nplt.title(\\\"K-Values vs Validation Accuracy\\\")\\nplt.xlabel(\\\"K Values\\\")\\nplt.ylabel(\\\"Validation Accuracy\\\")\\nplt.show()\";\n",
       "                var nbb_cells = Jupyter.notebook.get_cells();\n",
       "                for (var i = 0; i < nbb_cells.length; ++i) {\n",
       "                    if (nbb_cells[i].input_prompt_number == nbb_cell_id) {\n",
       "                        if (nbb_cells[i].get_text() == nbb_unformatted_code) {\n",
       "                             nbb_cells[i].set_text(nbb_formatted_code);\n",
       "                        }\n",
       "                        break;\n",
       "                    }\n",
       "                }\n",
       "            }, 500);\n",
       "            "
      ],
      "text/plain": [
       "<IPython.core.display.Javascript object>"
      ]
     },
     "metadata": {},
     "output_type": "display_data"
    }
   ],
   "source": [
    "plt.scatter(k_vals, val_scores)\n",
    "plt.title(\"K-Values vs Validation Accuracy\")\n",
    "plt.xlabel(\"K Values\")\n",
    "plt.ylabel(\"Validation Accuracy\")\n",
    "plt.show()"
   ]
  },
  {
   "cell_type": "code",
   "execution_count": 14,
   "metadata": {},
   "outputs": [
    {
     "name": "stdout",
     "output_type": "stream",
     "text": [
      "Model with best validation accuracy is with model with n_neighbours = 15 with validation acuracy = 0.857\n"
     ]
    },
    {
     "data": {
      "application/javascript": [
       "\n",
       "            setTimeout(function() {\n",
       "                var nbb_cell_id = 14;\n",
       "                var nbb_unformatted_code = \"best_model = models[val_scores.index(max(val_scores))]\\nprint(\\n    \\\"Model with best validation accuracy is with model with n_neighbours =\\\",\\n    best_model.k,\\n    \\\"with validation acuracy =\\\",\\n    max(val_scores),\\n)\";\n",
       "                var nbb_formatted_code = \"best_model = models[val_scores.index(max(val_scores))]\\nprint(\\n    \\\"Model with best validation accuracy is with model with n_neighbours =\\\",\\n    best_model.k,\\n    \\\"with validation acuracy =\\\",\\n    max(val_scores),\\n)\";\n",
       "                var nbb_cells = Jupyter.notebook.get_cells();\n",
       "                for (var i = 0; i < nbb_cells.length; ++i) {\n",
       "                    if (nbb_cells[i].input_prompt_number == nbb_cell_id) {\n",
       "                        if (nbb_cells[i].get_text() == nbb_unformatted_code) {\n",
       "                             nbb_cells[i].set_text(nbb_formatted_code);\n",
       "                        }\n",
       "                        break;\n",
       "                    }\n",
       "                }\n",
       "            }, 500);\n",
       "            "
      ],
      "text/plain": [
       "<IPython.core.display.Javascript object>"
      ]
     },
     "metadata": {},
     "output_type": "display_data"
    }
   ],
   "source": [
    "best_model = models[val_scores.index(max(val_scores))]\n",
    "print(\n",
    "    \"Model with best validation accuracy is with model with n_neighbours =\",\n",
    "    best_model.k,\n",
    "    \"with validation acuracy =\",\n",
    "    max(val_scores),\n",
    ")"
   ]
  },
  {
   "cell_type": "code",
   "execution_count": 15,
   "metadata": {},
   "outputs": [
    {
     "name": "stdout",
     "output_type": "stream",
     "text": [
      "Test accuracy = 0.845\n"
     ]
    },
    {
     "data": {
      "application/javascript": [
       "\n",
       "            setTimeout(function() {\n",
       "                var nbb_cell_id = 15;\n",
       "                var nbb_unformatted_code = \"test_acc = np.sum(best_model.predict(X_test) == y_test) / len(y_test)\\nprint(\\\"Test accuracy =\\\", test_acc)\";\n",
       "                var nbb_formatted_code = \"test_acc = np.sum(best_model.predict(X_test) == y_test) / len(y_test)\\nprint(\\\"Test accuracy =\\\", test_acc)\";\n",
       "                var nbb_cells = Jupyter.notebook.get_cells();\n",
       "                for (var i = 0; i < nbb_cells.length; ++i) {\n",
       "                    if (nbb_cells[i].input_prompt_number == nbb_cell_id) {\n",
       "                        if (nbb_cells[i].get_text() == nbb_unformatted_code) {\n",
       "                             nbb_cells[i].set_text(nbb_formatted_code);\n",
       "                        }\n",
       "                        break;\n",
       "                    }\n",
       "                }\n",
       "            }, 500);\n",
       "            "
      ],
      "text/plain": [
       "<IPython.core.display.Javascript object>"
      ]
     },
     "metadata": {},
     "output_type": "display_data"
    }
   ],
   "source": [
    "test_acc = np.sum(best_model.predict(X_test) == y_test) / len(y_test)\n",
    "print(\"Test accuracy =\", test_acc)"
   ]
  },
  {
   "cell_type": "markdown",
   "metadata": {},
   "source": [
    "- Validation Accuracy = 0.857\n",
    "\n",
    "- Test Accuracy = 0.845\n",
    "\n",
    "- n_neighbours parameter for best model = 15"
   ]
  },
  {
   "cell_type": "markdown",
   "metadata": {},
   "source": [
    "(b) State why using an even value of k in k-NN should not be chosen"
   ]
  },
  {
   "cell_type": "markdown",
   "metadata": {},
   "source": [
    "A) Since KNN tries to classify using the prediction of k neighbours, if k is even then there is a chance that there might be a tie which causes additional problems of tie-breaks. To prevent that from happening we prevent using even value of k."
   ]
  },
  {
   "cell_type": "markdown",
   "metadata": {},
   "source": [
    "## Learning Naive Bayes' classifier  "
   ]
  },
  {
   "cell_type": "markdown",
   "metadata": {},
   "source": [
    "### From Continuous Distribution of data"
   ]
  },
  {
   "cell_type": "markdown",
   "metadata": {},
   "source": [
    "Here, the distribution of the data( $X$ represents the datapoints and $Y$ represents the 0-1 binary-class label; where 0 being the negative class and 1 being the positive class) is already known.\n",
    "<br>Consider the following one-dimensional(1-D) Gaussian distributions where means and variances are unknown. You need to estimate means($\\mu_-$: for negative class and  $\\mu_+$: for positive class) and variances ($\\sigma^{2}_{-}$: for negative class and $\\sigma^{2}_+$: for positive class) from the given data : \n",
    "<br> (1) Assume $X|Y_{Y=0} \\sim \\mathcal{N}(\\mu_- , \\sigma^{2}_-)$ \n",
    "<br>(2) Assume $X|Y_{Y=1} \\sim \\mathcal{N}(\\mu_+ , \\sigma^{2}_+)$\n"
   ]
  },
  {
   "cell_type": "markdown",
   "metadata": {},
   "source": [
    "*Generating artificial datasets in the next cell*"
   ]
  },
  {
   "cell_type": "code",
   "execution_count": 2,
   "metadata": {},
   "outputs": [
    {
     "data": {
      "application/javascript": [
       "\n",
       "            setTimeout(function() {\n",
       "                var nbb_cell_id = 2;\n",
       "                var nbb_unformatted_code = \"## This cell is for generating datasets. Students should not change anything in this cell.\\n## You can compare your mean and variance estimates by the actual ones used to generate these datasets\\n\\nX_pos = np.random.randn(1000, 1) + np.array([[2.0]])\\nX_neg = np.random.randn(1000, 1) + np.array([[4.0]])\\nX_train_pos = X_pos[:900]\\nX_train_neg = X_neg[:900]\\nX_test_pos = X_pos[900:]\\nX_test_neg = X_neg[900:]\\nX_train = np.concatenate((X_train_pos, X_train_neg), axis=0)\\nX_test = np.concatenate((X_test_pos, X_test_neg), axis=0)\\nY_train = np.concatenate((np.ones(900), np.zeros(900)))\\nY_test = np.concatenate((np.ones(100), np.zeros(100)))\\n\\n## X_train, X_test, Y_train, Y_test are your datasets to work with ####\";\n",
       "                var nbb_formatted_code = \"## This cell is for generating datasets. Students should not change anything in this cell.\\n## You can compare your mean and variance estimates by the actual ones used to generate these datasets\\n\\nX_pos = np.random.randn(1000, 1) + np.array([[2.0]])\\nX_neg = np.random.randn(1000, 1) + np.array([[4.0]])\\nX_train_pos = X_pos[:900]\\nX_train_neg = X_neg[:900]\\nX_test_pos = X_pos[900:]\\nX_test_neg = X_neg[900:]\\nX_train = np.concatenate((X_train_pos, X_train_neg), axis=0)\\nX_test = np.concatenate((X_test_pos, X_test_neg), axis=0)\\nY_train = np.concatenate((np.ones(900), np.zeros(900)))\\nY_test = np.concatenate((np.ones(100), np.zeros(100)))\\n\\n## X_train, X_test, Y_train, Y_test are your datasets to work with ####\";\n",
       "                var nbb_cells = Jupyter.notebook.get_cells();\n",
       "                for (var i = 0; i < nbb_cells.length; ++i) {\n",
       "                    if (nbb_cells[i].input_prompt_number == nbb_cell_id) {\n",
       "                        if (nbb_cells[i].get_text() == nbb_unformatted_code) {\n",
       "                             nbb_cells[i].set_text(nbb_formatted_code);\n",
       "                        }\n",
       "                        break;\n",
       "                    }\n",
       "                }\n",
       "            }, 500);\n",
       "            "
      ],
      "text/plain": [
       "<IPython.core.display.Javascript object>"
      ]
     },
     "metadata": {},
     "output_type": "display_data"
    }
   ],
   "source": [
    "## This cell is for generating datasets. Students should not change anything in this cell.\n",
    "## You can compare your mean and variance estimates by the actual ones used to generate these datasets\n",
    "\n",
    "X_pos = np.random.randn(1000, 1) + np.array([[2.0]])\n",
    "X_neg = np.random.randn(1000, 1) + np.array([[4.0]])\n",
    "X_train_pos = X_pos[:900]\n",
    "X_train_neg = X_neg[:900]\n",
    "X_test_pos = X_pos[900:]\n",
    "X_test_neg = X_neg[900:]\n",
    "X_train = np.concatenate((X_train_pos, X_train_neg), axis=0)\n",
    "X_test = np.concatenate((X_test_pos, X_test_neg), axis=0)\n",
    "Y_train = np.concatenate((np.ones(900), np.zeros(900)))\n",
    "Y_test = np.concatenate((np.ones(100), np.zeros(100)))\n",
    "\n",
    "## X_train, X_test, Y_train, Y_test are your datasets to work with ####"
   ]
  },
  {
   "cell_type": "markdown",
   "metadata": {},
   "source": [
    "\n",
    "\n",
    "<br>**Instructions to follow for learning a Baeysian classifier:** *(Code the formulae for estimating the different parameters yourself)*\n",
    "<br> a)Utilize the training dataset to estimate the means($\\hat{\\mu_+}$,$\\hat{\\mu_-}$) and variances($\\hat{\\sigma^{2}_+}$, $\\hat{\\sigma^{2}_-}$) for both positive and negative classes  \n",
    "b)Estimate the prior probability: $P(Y=1)$  ⟶ which could be referred to as: $\\hat{a}$ \n",
    "<br>c)Estimate the classifier funtion/posterior probability:  $P(Y=1|X = x)$  ⟶ which could be referred to as $\\hat{\\eta(x)}$\n",
    "<br>d)Find out the threshold value($x^*$) for classification by equating the estimated classifier function($\\hat{\\eta(x)}$)  with threshold probability of 0.5\n",
    "<br>e)Classify the test dataset into the two classes using this threshold value($x^*$) and find out the **accuracy** of the prediction \n",
    "\n",
    "Return back:  $\\hat{\\mu_+}$, $\\hat{\\mu_-}$, $\\hat{\\sigma^{2}_+}$, $\\hat{\\sigma^{2}_-}$, $\\hat{a}$, $x^*$ and accuracy from the code written \n",
    "\n",
    "*Hint: $X|Y_{Y=0} \\sim \\mathcal{N}(\\mu_- , \\sigma^{2}_-)$ implies $P_{X|Y=0} = \\mathcal{N}(\\mu_- , \\sigma^{2}_-) $*\n"
   ]
  },
  {
   "cell_type": "code",
   "execution_count": 5,
   "metadata": {},
   "outputs": [
    {
     "data": {
      "application/javascript": [
       "\n",
       "            setTimeout(function() {\n",
       "                var nbb_cell_id = 5;\n",
       "                var nbb_unformatted_code = \"mu_pos = np.mean(X_train[Y_train == 1])\\nmu_neg = np.mean(X_train[Y_train == 0])\\n\\nvar_pos = np.var(X_train[Y_train == 1])\\nvar_neg = np.var(X_train[Y_train == 0])\\n\\nP_1 = np.sum(Y_train == 1) / len(Y_train)\\nP_0 = 1 - P_1\";\n",
       "                var nbb_formatted_code = \"mu_pos = np.mean(X_train[Y_train == 1])\\nmu_neg = np.mean(X_train[Y_train == 0])\\n\\nvar_pos = np.var(X_train[Y_train == 1])\\nvar_neg = np.var(X_train[Y_train == 0])\\n\\nP_1 = np.sum(Y_train == 1) / len(Y_train)\\nP_0 = 1 - P_1\";\n",
       "                var nbb_cells = Jupyter.notebook.get_cells();\n",
       "                for (var i = 0; i < nbb_cells.length; ++i) {\n",
       "                    if (nbb_cells[i].input_prompt_number == nbb_cell_id) {\n",
       "                        if (nbb_cells[i].get_text() == nbb_unformatted_code) {\n",
       "                             nbb_cells[i].set_text(nbb_formatted_code);\n",
       "                        }\n",
       "                        break;\n",
       "                    }\n",
       "                }\n",
       "            }, 500);\n",
       "            "
      ],
      "text/plain": [
       "<IPython.core.display.Javascript object>"
      ]
     },
     "metadata": {},
     "output_type": "display_data"
    }
   ],
   "source": [
    "mu_pos = np.mean(X_train[Y_train == 1])\n",
    "mu_neg = np.mean(X_train[Y_train == 0])\n",
    "\n",
    "var_pos = np.var(X_train[Y_train == 1])\n",
    "var_neg = np.var(X_train[Y_train == 0])\n",
    "\n",
    "P_1 = np.sum(Y_train == 1) / len(Y_train)\n",
    "P_0 = 1 - P_1"
   ]
  },
  {
   "cell_type": "markdown",
   "metadata": {},
   "source": [
    "We know the classifier function from the below\n",
    "\n",
    "$\\hat{\\eta(x)}$ = $\\frac{P(Y=1)P_{X|Y=1}}{P(Y=1)P_{X|Y=1}+P(Y=0)P_{X|Y=0}}$ = $\\frac{\\frac{1}{\\sqrt{2\\pi\\sigma^{2}_+}}e^{\\frac{(x-\\mu_+)^2}{2\\sigma^2_+}}}{\\frac{1}{\\sqrt{2\\pi\\sigma^{2}_+}}e^{\\frac{(x-\\mu_+)^2}{2\\sigma^2_+}} + \\frac{1}{\\sqrt{2\\pi\\sigma^{2}_-}}e^{\\frac{(x-\\mu_-)^2}{2\\sigma^2_-}}}$ ; (Since P(Y=1)=P(Y=0))\n",
    "\n",
    "$\\implies$ when $x = x^*$, $\\hat{\\eta(x)}=0.5$\n",
    "\n",
    "$\\implies 0.5 = \\frac{\\frac{1}{\\sqrt{2\\pi\\sigma^{2}_+}}e^{\\frac{(x^*-\\mu_+)^2}{2\\sigma^2_+}}}{\\frac{1}{\\sqrt{2\\pi\\sigma^{2}_+}}e^{\\frac{(x^*-\\mu_+)^2}{2\\sigma^2_+}} + \\frac{1}{\\sqrt{2\\pi\\sigma^{2}_-}}e^{\\frac{(x^*-\\mu_-)^2}{2\\sigma^2_-}}} \\implies \\frac{1}{\\sqrt{2\\pi\\sigma^{2}_+}}e^{\\frac{(x^*-\\mu_+)^2}{2\\sigma^2_+}} = \\frac{1}{\\sqrt{2\\pi\\sigma^{2}_-}}e^{\\frac{(x^*-\\mu_-)^2}{2\\sigma^2_-}}$ \n",
    "$\\implies \\left(\\frac{1}{\\sigma^2_+} - \\frac{1}{\\sigma^2_-}\\right)(x^{*2})-\\left(\\frac{\\mu_+}{\\sigma_+^2} - \\frac{\\mu_-}{\\sigma_-^2}\\right)x^*+\\left(\\frac{\\mu_+^2}{2\\sigma_-^2} - \\frac{\\mu_-^2}{2\\sigma_+^2} - log\\left(\\frac{\\sigma_-}{\\sigma_+}\\right)\\right) = 0$\n",
    "\n",
    "\n",
    "Thus we have to find the roots of above equation to get the threshold $x^*$"
   ]
  },
  {
   "cell_type": "code",
   "execution_count": 6,
   "metadata": {},
   "outputs": [
    {
     "data": {
      "application/javascript": [
       "\n",
       "            setTimeout(function() {\n",
       "                var nbb_cell_id = 6;\n",
       "                var nbb_unformatted_code = \"# Function to solve for x*\\ndef solve(mu1, mu2, sig1, sig2):\\n    a = 1 / (2 * sig1 ** 2) - 1 / (2 * sig2 ** 2)\\n    b = mu2 / (sig2 ** 2) - mu1 / (sig1 ** 2)\\n    c = mu1 ** 2 / (2 * sig1 ** 2) - mu2 ** 2 / (2 * sig2 ** 2) - np.log(sig2 / sig1)\\n    return np.roots([a, b, c])\";\n",
       "                var nbb_formatted_code = \"# Function to solve for x*\\ndef solve(mu1, mu2, sig1, sig2):\\n    a = 1 / (2 * sig1 ** 2) - 1 / (2 * sig2 ** 2)\\n    b = mu2 / (sig2 ** 2) - mu1 / (sig1 ** 2)\\n    c = mu1 ** 2 / (2 * sig1 ** 2) - mu2 ** 2 / (2 * sig2 ** 2) - np.log(sig2 / sig1)\\n    return np.roots([a, b, c])\";\n",
       "                var nbb_cells = Jupyter.notebook.get_cells();\n",
       "                for (var i = 0; i < nbb_cells.length; ++i) {\n",
       "                    if (nbb_cells[i].input_prompt_number == nbb_cell_id) {\n",
       "                        if (nbb_cells[i].get_text() == nbb_unformatted_code) {\n",
       "                             nbb_cells[i].set_text(nbb_formatted_code);\n",
       "                        }\n",
       "                        break;\n",
       "                    }\n",
       "                }\n",
       "            }, 500);\n",
       "            "
      ],
      "text/plain": [
       "<IPython.core.display.Javascript object>"
      ]
     },
     "metadata": {},
     "output_type": "display_data"
    }
   ],
   "source": [
    "# Function to solve for x*\n",
    "def solve(mu1, mu2, sig1, sig2):\n",
    "    a = 1 / (2 * sig1 ** 2) - 1 / (2 * sig2 ** 2)\n",
    "    b = mu2 / (sig2 ** 2) - mu1 / (sig1 ** 2)\n",
    "    c = mu1 ** 2 / (2 * sig1 ** 2) - mu2 ** 2 / (2 * sig2 ** 2) - np.log(sig2 / sig1)\n",
    "    return np.roots([a, b, c])"
   ]
  },
  {
   "cell_type": "code",
   "execution_count": 7,
   "metadata": {
    "scrolled": true
   },
   "outputs": [
    {
     "data": {
      "application/javascript": [
       "\n",
       "            setTimeout(function() {\n",
       "                var nbb_cell_id = 7;\n",
       "                var nbb_unformatted_code = \"x_ans = solve(mu_pos, mu_neg, np.sqrt(var_pos), np.sqrt(var_neg))[1]\";\n",
       "                var nbb_formatted_code = \"x_ans = solve(mu_pos, mu_neg, np.sqrt(var_pos), np.sqrt(var_neg))[1]\";\n",
       "                var nbb_cells = Jupyter.notebook.get_cells();\n",
       "                for (var i = 0; i < nbb_cells.length; ++i) {\n",
       "                    if (nbb_cells[i].input_prompt_number == nbb_cell_id) {\n",
       "                        if (nbb_cells[i].get_text() == nbb_unformatted_code) {\n",
       "                             nbb_cells[i].set_text(nbb_formatted_code);\n",
       "                        }\n",
       "                        break;\n",
       "                    }\n",
       "                }\n",
       "            }, 500);\n",
       "            "
      ],
      "text/plain": [
       "<IPython.core.display.Javascript object>"
      ]
     },
     "metadata": {},
     "output_type": "display_data"
    }
   ],
   "source": [
    "x_ans = solve(mu_pos, mu_neg, np.sqrt(var_pos), np.sqrt(var_neg))[1]"
   ]
  },
  {
   "cell_type": "code",
   "execution_count": 8,
   "metadata": {},
   "outputs": [
    {
     "data": {
      "application/javascript": [
       "\n",
       "            setTimeout(function() {\n",
       "                var nbb_cell_id = 8;\n",
       "                var nbb_unformatted_code = \"# Calculating the prediction and accuracy\\npreds = np.array([1 if i < x_ans else 0 for i in X_test])\\n\\nacc = np.sum(preds == Y_test) / len(preds)\";\n",
       "                var nbb_formatted_code = \"# Calculating the prediction and accuracy\\npreds = np.array([1 if i < x_ans else 0 for i in X_test])\\n\\nacc = np.sum(preds == Y_test) / len(preds)\";\n",
       "                var nbb_cells = Jupyter.notebook.get_cells();\n",
       "                for (var i = 0; i < nbb_cells.length; ++i) {\n",
       "                    if (nbb_cells[i].input_prompt_number == nbb_cell_id) {\n",
       "                        if (nbb_cells[i].get_text() == nbb_unformatted_code) {\n",
       "                             nbb_cells[i].set_text(nbb_formatted_code);\n",
       "                        }\n",
       "                        break;\n",
       "                    }\n",
       "                }\n",
       "            }, 500);\n",
       "            "
      ],
      "text/plain": [
       "<IPython.core.display.Javascript object>"
      ]
     },
     "metadata": {},
     "output_type": "display_data"
    }
   ],
   "source": [
    "# Calculating the prediction and accuracy\n",
    "preds = np.array([1 if i < x_ans else 0 for i in X_test])\n",
    "\n",
    "acc = np.sum(preds == Y_test) / len(preds)"
   ]
  },
  {
   "cell_type": "code",
   "execution_count": 14,
   "metadata": {},
   "outputs": [
    {
     "name": "stdout",
     "output_type": "stream",
     "text": [
      "mu_pos : 1.9579124565154016\n",
      "mu_neg : 4.001017840559742 \n",
      "\n",
      "var_pos : 1.0226604589023025\n",
      "var_neg : 1.0157214844237124 \n",
      "\n",
      "P(Y=1) : 0.5\n",
      "P(Y=0) : 0.5 \n",
      "\n",
      "Threshold =  2.979505781069792 ; Classifying points on the left of threshold as Y=1 and right as Y=0 \n",
      "\n",
      "Accuracy of prediction = 0.905\n"
     ]
    },
    {
     "data": {
      "application/javascript": [
       "\n",
       "            setTimeout(function() {\n",
       "                var nbb_cell_id = 14;\n",
       "                var nbb_unformatted_code = \"print(\\\"mu_pos :\\\", mu_pos)\\nprint(\\\"mu_neg :\\\", mu_neg, \\\"\\\\n\\\")\\n\\nprint(\\\"var_pos :\\\", var_pos)\\nprint(\\\"var_neg :\\\", var_neg, \\\"\\\\n\\\")\\n\\nprint(\\\"P(Y=1) :\\\", P_1)\\nprint(\\\"P(Y=0) :\\\", P_0, \\\"\\\\n\\\")\\n\\nprint(\\n    \\\"Threshold = \\\",\\n    x_ans,\\n    \\\"; Classifying points on the left of threshold as Y=1 and right as Y=0\\\",\\n    \\\"\\\\n\\\",\\n)\\n\\nprint(\\\"Accuracy of prediction =\\\", acc)\";\n",
       "                var nbb_formatted_code = \"print(\\\"mu_pos :\\\", mu_pos)\\nprint(\\\"mu_neg :\\\", mu_neg, \\\"\\\\n\\\")\\n\\nprint(\\\"var_pos :\\\", var_pos)\\nprint(\\\"var_neg :\\\", var_neg, \\\"\\\\n\\\")\\n\\nprint(\\\"P(Y=1) :\\\", P_1)\\nprint(\\\"P(Y=0) :\\\", P_0, \\\"\\\\n\\\")\\n\\nprint(\\n    \\\"Threshold = \\\",\\n    x_ans,\\n    \\\"; Classifying points on the left of threshold as Y=1 and right as Y=0\\\",\\n    \\\"\\\\n\\\",\\n)\\n\\nprint(\\\"Accuracy of prediction =\\\", acc)\";\n",
       "                var nbb_cells = Jupyter.notebook.get_cells();\n",
       "                for (var i = 0; i < nbb_cells.length; ++i) {\n",
       "                    if (nbb_cells[i].input_prompt_number == nbb_cell_id) {\n",
       "                        if (nbb_cells[i].get_text() == nbb_unformatted_code) {\n",
       "                             nbb_cells[i].set_text(nbb_formatted_code);\n",
       "                        }\n",
       "                        break;\n",
       "                    }\n",
       "                }\n",
       "            }, 500);\n",
       "            "
      ],
      "text/plain": [
       "<IPython.core.display.Javascript object>"
      ]
     },
     "metadata": {},
     "output_type": "display_data"
    }
   ],
   "source": [
    "print(\"mu_pos :\", mu_pos)\n",
    "print(\"mu_neg :\", mu_neg, \"\\n\")\n",
    "\n",
    "print(\"var_pos :\", var_pos)\n",
    "print(\"var_neg :\", var_neg, \"\\n\")\n",
    "\n",
    "print(\"P(Y=1) :\", P_1)\n",
    "print(\"P(Y=0) :\", P_0, \"\\n\")\n",
    "\n",
    "print(\n",
    "    \"Threshold = \",\n",
    "    x_ans,\n",
    "    \"; Classifying points on the left of threshold as Y=1 and right as Y=0\",\n",
    "    \"\\n\",\n",
    ")\n",
    "\n",
    "print(\"Accuracy of prediction =\", acc)"
   ]
  },
  {
   "cell_type": "markdown",
   "metadata": {},
   "source": [
    "### From Discrete distribution of data"
   ]
  },
  {
   "cell_type": "markdown",
   "metadata": {},
   "source": [
    "Unlike the first exercise for learning the Naive Bayes' classifier where we dealt with continuous distribution of data, here you need to work with discrete data, which means finding Probability Mass Distribution(PMF). \n",
    "\n",
    "Age  | Income | Status  | Buy\n",
    "-----|--------|-------- |----\n",
    "<=20 |  low   | students| yes\n",
    "<=20 |  high  | students| yes\n",
    "<=20 | medium | students| no\n",
    "<=20 | medium | married | no\n",
    "<=20 |  high  | married | yes\n",
    "21-30|  low   | married | yes\n",
    "21-30|  low   | married | no \n",
    "21-30| medium | students| no\n",
    "21-30|  high  | students| yes\n",
    " >30 |  high  | married | no\n",
    " >30 |  high  | married | yes\n",
    " >30 | medium | married | yes\n",
    " >30 | medium | married | no\n",
    " >30 | medium | students| no\n",
    " \n",
    "Consider the train dataset above. Take any random datapoint ($X_{i}$) where $X_{i} = (X_{i,1} = Age,X_{i,2} = Income,X_{i,3} = Status)$ and its corresponding label \n",
    "\n",
    "($Y_{i} = Buy$). A \"yes\" in Buy corresponds to label-1 and a \"no\" in Buy corresponds to label-0.\n",
    "\n",
    "<br>**Instructions to follow for learning a Baeysian classifier:** *(Code the formulae for estimating the different parameters yourself)*\n",
    "<br> a)Estimate the prior probability: $P(Y=1)$  ⟶ which could be referred to as: $\\hat{a}$   \n",
    "b)Estimate the likelihood for each feature:  $P(X_{i,j} = x |Y = y_{i})$, where $ i$=datapoint counter, $j \\in \\{1,2,3\\}$ and $y_{i} \\in \\{0,1\\}$ \n",
    "<br>c)Estimate the total likelihood: $P(X_{i} = x |Y = y_{i})$  \n",
    "d)Calculate the posterior probability: $P(Y = 1|X_{i} = x_{test} )$ = $p_{test}$ where $x_{test} = (Age = 21-30, Income= medium, Status = married)$\n",
    "\n",
    "\n",
    "Return back: $\\hat{a}$, total likelihood and $p_{test}$ \n"
   ]
  },
  {
   "cell_type": "code",
   "execution_count": 27,
   "metadata": {},
   "outputs": [
    {
     "name": "stdout",
     "output_type": "stream",
     "text": [
      "â = 0.5 \n",
      "\n",
      "Y='yes'\n",
      "-------\n",
      "P(Age=<=20        ;Income=low       ;Status=students  |Y=yes) = 0.05247813411078716\n",
      "P(Age=<=20        ;Income=low       ;Status=married   |Y=yes) = 0.06997084548104955\n",
      "P(Age=<=20        ;Income=medium    ;Status=students  |Y=yes) = 0.02623906705539358\n",
      "P(Age=<=20        ;Income=medium    ;Status=married   |Y=yes) = 0.034985422740524776\n",
      "P(Age=<=20        ;Income=high      ;Status=students  |Y=yes) = 0.10495626822157432\n",
      "P(Age=<=20        ;Income=high      ;Status=married   |Y=yes) = 0.1399416909620991\n",
      "P(Age=21-30       ;Income=low       ;Status=students  |Y=yes) = 0.034985422740524776\n",
      "P(Age=21-30       ;Income=low       ;Status=married   |Y=yes) = 0.0466472303206997\n",
      "P(Age=21-30       ;Income=medium    ;Status=students  |Y=yes) = 0.017492711370262388\n",
      "P(Age=21-30       ;Income=medium    ;Status=married   |Y=yes) = 0.02332361516034985\n",
      "P(Age=21-30       ;Income=high      ;Status=students  |Y=yes) = 0.06997084548104955\n",
      "P(Age=21-30       ;Income=high      ;Status=married   |Y=yes) = 0.0932944606413994\n",
      "P(Age=>30         ;Income=low       ;Status=students  |Y=yes) = 0.034985422740524776\n",
      "P(Age=>30         ;Income=low       ;Status=married   |Y=yes) = 0.0466472303206997\n",
      "P(Age=>30         ;Income=medium    ;Status=students  |Y=yes) = 0.017492711370262388\n",
      "P(Age=>30         ;Income=medium    ;Status=married   |Y=yes) = 0.02332361516034985\n",
      "P(Age=>30         ;Income=high      ;Status=students  |Y=yes) = 0.06997084548104955\n",
      "P(Age=>30         ;Income=high      ;Status=married   |Y=yes) = 0.0932944606413994\n",
      "\n",
      "Y='no'\n",
      "------\n",
      "P(Age=<=20        ;Income=low       ;Status=students  |Y=no ) = 0.017492711370262388\n",
      "P(Age=<=20        ;Income=low       ;Status=married   |Y=no ) = 0.02332361516034985\n",
      "P(Age=<=20        ;Income=medium    ;Status=students  |Y=no ) = 0.08746355685131195\n",
      "P(Age=<=20        ;Income=medium    ;Status=married   |Y=no ) = 0.11661807580174927\n",
      "P(Age=<=20        ;Income=high      ;Status=students  |Y=no ) = 0.017492711370262388\n",
      "P(Age=<=20        ;Income=high      ;Status=married   |Y=no ) = 0.02332361516034985\n",
      "P(Age=21-30       ;Income=low       ;Status=students  |Y=no ) = 0.017492711370262388\n",
      "P(Age=21-30       ;Income=low       ;Status=married   |Y=no ) = 0.02332361516034985\n",
      "P(Age=21-30       ;Income=medium    ;Status=students  |Y=no ) = 0.08746355685131195\n",
      "P(Age=21-30       ;Income=medium    ;Status=married   |Y=no ) = 0.11661807580174927\n",
      "P(Age=21-30       ;Income=high      ;Status=students  |Y=no ) = 0.017492711370262388\n",
      "P(Age=21-30       ;Income=high      ;Status=married   |Y=no ) = 0.02332361516034985\n",
      "P(Age=>30         ;Income=low       ;Status=students  |Y=no ) = 0.02623906705539358\n",
      "P(Age=>30         ;Income=low       ;Status=married   |Y=no ) = 0.034985422740524776\n",
      "P(Age=>30         ;Income=medium    ;Status=students  |Y=no ) = 0.13119533527696792\n",
      "P(Age=>30         ;Income=medium    ;Status=married   |Y=no ) = 0.1749271137026239\n",
      "P(Age=>30         ;Income=high      ;Status=students  |Y=no ) = 0.02623906705539358\n",
      "P(Age=>30         ;Income=high      ;Status=married   |Y=no ) = 0.034985422740524776\n",
      "\n",
      "p_test = 0.16666666666666663\n"
     ]
    },
    {
     "data": {
      "application/javascript": [
       "\n",
       "            setTimeout(function() {\n",
       "                var nbb_cell_id = 27;\n",
       "                var nbb_unformatted_code = \"data = pd.read_csv(\\\"pmf_data.tsv\\\", sep=\\\"\\\\t\\\")\\n\\nP_1 = np.sum(data[\\\"Buy\\\"] == \\\"yes\\\") / len(data)\\nP_0 = 1 - P_1\\n\\n# Probability Dictonary\\n\\nP_probab = {\\\"yes\\\": {}, \\\"no\\\": {}}\\n\\n# Features\\n\\nage_set = set(data[\\\"Age\\\"])\\nincome_set = set(data[\\\"Income\\\"])\\nstatus_set = set(data[\\\"Status\\\"])\\n\\n# Age\\n\\nfor i in age_set:\\n    P_probab[\\\"yes\\\"][i] = np.sum((data[\\\"Age\\\"] == i) & (data[\\\"Buy\\\"] == \\\"yes\\\")) / (\\n        len(data) * P_1\\n    )\\n    P_probab[\\\"no\\\"][i] = np.sum((data[\\\"Age\\\"] == i) & (data[\\\"Buy\\\"] == \\\"no\\\")) / (\\n        len(data) * P_0\\n    )\\n\\n# Income\\n\\nfor i in income_set:\\n    P_probab[\\\"yes\\\"][i] = np.sum((data[\\\"Income\\\"] == i) & (data[\\\"Buy\\\"] == \\\"yes\\\")) / (\\n        len(data) * P_1\\n    )\\n    P_probab[\\\"no\\\"][i] = np.sum((data[\\\"Income\\\"] == i) & (data[\\\"Buy\\\"] == \\\"no\\\")) / (\\n        len(data) * P_0\\n    )\\n\\n# Status\\n\\nfor i in status_set:\\n    P_probab[\\\"yes\\\"][i] = np.sum((data[\\\"Status\\\"] == i) & (data[\\\"Buy\\\"] == \\\"yes\\\")) / (\\n        len(data) * P_1\\n    )\\n    P_probab[\\\"no\\\"][i] = np.sum((data[\\\"Status\\\"] == i) & (data[\\\"Buy\\\"] == \\\"no\\\")) / (\\n        len(data) * P_0\\n    )\\n\\n# Probability with all features\\n\\nP_total = {\\\"yes\\\": {}, \\\"no\\\": {}}\\n\\nfor i in age_set:\\n    for j in income_set:\\n        for k in status_set:\\n            P_total[\\\"yes\\\"][i + \\\"_\\\" + j + \\\"_\\\" + k] = (\\n                P_probab[\\\"yes\\\"][i] * P_probab[\\\"yes\\\"][j] * P_probab[\\\"yes\\\"][k]\\n            )\\n            P_total[\\\"no\\\"][i + \\\"_\\\" + j + \\\"_\\\" + k] = (\\n                P_probab[\\\"no\\\"][i] * P_probab[\\\"no\\\"][j] * P_probab[\\\"no\\\"][k]\\n            )\\n\\n\\nprint(\\\"\\u00e2 =\\\", P_1, \\\"\\\\n\\\")\\n\\n\\nprint(\\\"Y='yes'\\\")\\nprint(\\\"-------\\\")\\nfor i in age_set:\\n    for j in income_set:\\n        for k in status_set:\\n            ans_print = (\\n                \\\"P(Age=\\\" + i + \\\"\\\\t;Income=\\\" + j + \\\"\\\\t;Status=\\\" + k + \\\"\\\\t|Y=yes\\\" + \\\") = \\\"\\n            )\\n            print(\\n                ans_print.expandtabs(9),\\n                P_total[\\\"yes\\\"][i + \\\"_\\\" + j + \\\"_\\\" + k],\\n                end=\\\"\\\\n\\\",\\n                sep=\\\"\\\",\\n            )\\nprint()\\nprint(\\\"Y='no'\\\")\\nprint(\\\"------\\\")\\nfor i in age_set:\\n    for j in income_set:\\n        for k in status_set:\\n            ans_print = (\\n                \\\"P(Age=\\\" + i + \\\"\\\\t;Income=\\\" + j + \\\"\\\\t;Status=\\\" + k + \\\"\\\\t|Y=no \\\" + \\\") = \\\"\\n            )\\n            print(\\n                ans_print.expandtabs(9),\\n                P_total[\\\"no\\\"][i + \\\"_\\\" + j + \\\"_\\\" + k],\\n                end=\\\"\\\\n\\\",\\n                sep=\\\"\\\",\\n            )\\n\\n\\np_test_case = \\\"21-30_medium_married\\\"\\np_test = P_total[\\\"yes\\\"][p_test_case] / (\\n    P_total[\\\"yes\\\"][p_test_case] + P_total[\\\"no\\\"][p_test_case]\\n)\\n\\nprint(\\\"\\\\np_test =\\\", p_test)\";\n",
       "                var nbb_formatted_code = \"data = pd.read_csv(\\\"pmf_data.tsv\\\", sep=\\\"\\\\t\\\")\\n\\nP_1 = np.sum(data[\\\"Buy\\\"] == \\\"yes\\\") / len(data)\\nP_0 = 1 - P_1\\n\\n# Probability Dictonary\\n\\nP_probab = {\\\"yes\\\": {}, \\\"no\\\": {}}\\n\\n# Features\\n\\nage_set = set(data[\\\"Age\\\"])\\nincome_set = set(data[\\\"Income\\\"])\\nstatus_set = set(data[\\\"Status\\\"])\\n\\n# Age\\n\\nfor i in age_set:\\n    P_probab[\\\"yes\\\"][i] = np.sum((data[\\\"Age\\\"] == i) & (data[\\\"Buy\\\"] == \\\"yes\\\")) / (\\n        len(data) * P_1\\n    )\\n    P_probab[\\\"no\\\"][i] = np.sum((data[\\\"Age\\\"] == i) & (data[\\\"Buy\\\"] == \\\"no\\\")) / (\\n        len(data) * P_0\\n    )\\n\\n# Income\\n\\nfor i in income_set:\\n    P_probab[\\\"yes\\\"][i] = np.sum((data[\\\"Income\\\"] == i) & (data[\\\"Buy\\\"] == \\\"yes\\\")) / (\\n        len(data) * P_1\\n    )\\n    P_probab[\\\"no\\\"][i] = np.sum((data[\\\"Income\\\"] == i) & (data[\\\"Buy\\\"] == \\\"no\\\")) / (\\n        len(data) * P_0\\n    )\\n\\n# Status\\n\\nfor i in status_set:\\n    P_probab[\\\"yes\\\"][i] = np.sum((data[\\\"Status\\\"] == i) & (data[\\\"Buy\\\"] == \\\"yes\\\")) / (\\n        len(data) * P_1\\n    )\\n    P_probab[\\\"no\\\"][i] = np.sum((data[\\\"Status\\\"] == i) & (data[\\\"Buy\\\"] == \\\"no\\\")) / (\\n        len(data) * P_0\\n    )\\n\\n# Probability with all features\\n\\nP_total = {\\\"yes\\\": {}, \\\"no\\\": {}}\\n\\nfor i in age_set:\\n    for j in income_set:\\n        for k in status_set:\\n            P_total[\\\"yes\\\"][i + \\\"_\\\" + j + \\\"_\\\" + k] = (\\n                P_probab[\\\"yes\\\"][i] * P_probab[\\\"yes\\\"][j] * P_probab[\\\"yes\\\"][k]\\n            )\\n            P_total[\\\"no\\\"][i + \\\"_\\\" + j + \\\"_\\\" + k] = (\\n                P_probab[\\\"no\\\"][i] * P_probab[\\\"no\\\"][j] * P_probab[\\\"no\\\"][k]\\n            )\\n\\n\\nprint(\\\"\\u00e2 =\\\", P_1, \\\"\\\\n\\\")\\n\\n\\nprint(\\\"Y='yes'\\\")\\nprint(\\\"-------\\\")\\nfor i in age_set:\\n    for j in income_set:\\n        for k in status_set:\\n            ans_print = (\\n                \\\"P(Age=\\\" + i + \\\"\\\\t;Income=\\\" + j + \\\"\\\\t;Status=\\\" + k + \\\"\\\\t|Y=yes\\\" + \\\") = \\\"\\n            )\\n            print(\\n                ans_print.expandtabs(9),\\n                P_total[\\\"yes\\\"][i + \\\"_\\\" + j + \\\"_\\\" + k],\\n                end=\\\"\\\\n\\\",\\n                sep=\\\"\\\",\\n            )\\nprint()\\nprint(\\\"Y='no'\\\")\\nprint(\\\"------\\\")\\nfor i in age_set:\\n    for j in income_set:\\n        for k in status_set:\\n            ans_print = (\\n                \\\"P(Age=\\\" + i + \\\"\\\\t;Income=\\\" + j + \\\"\\\\t;Status=\\\" + k + \\\"\\\\t|Y=no \\\" + \\\") = \\\"\\n            )\\n            print(\\n                ans_print.expandtabs(9),\\n                P_total[\\\"no\\\"][i + \\\"_\\\" + j + \\\"_\\\" + k],\\n                end=\\\"\\\\n\\\",\\n                sep=\\\"\\\",\\n            )\\n\\n\\np_test_case = \\\"21-30_medium_married\\\"\\np_test = P_total[\\\"yes\\\"][p_test_case] / (\\n    P_total[\\\"yes\\\"][p_test_case] + P_total[\\\"no\\\"][p_test_case]\\n)\\n\\nprint(\\\"\\\\np_test =\\\", p_test)\";\n",
       "                var nbb_cells = Jupyter.notebook.get_cells();\n",
       "                for (var i = 0; i < nbb_cells.length; ++i) {\n",
       "                    if (nbb_cells[i].input_prompt_number == nbb_cell_id) {\n",
       "                        if (nbb_cells[i].get_text() == nbb_unformatted_code) {\n",
       "                             nbb_cells[i].set_text(nbb_formatted_code);\n",
       "                        }\n",
       "                        break;\n",
       "                    }\n",
       "                }\n",
       "            }, 500);\n",
       "            "
      ],
      "text/plain": [
       "<IPython.core.display.Javascript object>"
      ]
     },
     "metadata": {},
     "output_type": "display_data"
    }
   ],
   "source": [
    "# Note : I've generated the pmf data into a tsv file - pmf_data.tsv\n",
    "\n",
    "data = pd.read_csv(\"pmf_data.tsv\", sep=\"\\t\")\n",
    "\n",
    "P_1 = np.sum(data[\"Buy\"] == \"yes\") / len(data)\n",
    "P_0 = 1 - P_1\n",
    "\n",
    "# Probability Dictonary\n",
    "\n",
    "P_probab = {\"yes\": {}, \"no\": {}}\n",
    "\n",
    "# Features\n",
    "\n",
    "age_set = set(data[\"Age\"])\n",
    "income_set = set(data[\"Income\"])\n",
    "status_set = set(data[\"Status\"])\n",
    "\n",
    "# Age\n",
    "\n",
    "for i in age_set:\n",
    "    P_probab[\"yes\"][i] = np.sum((data[\"Age\"] == i) & (data[\"Buy\"] == \"yes\")) / (\n",
    "        len(data) * P_1\n",
    "    )\n",
    "    P_probab[\"no\"][i] = np.sum((data[\"Age\"] == i) & (data[\"Buy\"] == \"no\")) / (\n",
    "        len(data) * P_0\n",
    "    )\n",
    "\n",
    "# Income\n",
    "\n",
    "for i in income_set:\n",
    "    P_probab[\"yes\"][i] = np.sum((data[\"Income\"] == i) & (data[\"Buy\"] == \"yes\")) / (\n",
    "        len(data) * P_1\n",
    "    )\n",
    "    P_probab[\"no\"][i] = np.sum((data[\"Income\"] == i) & (data[\"Buy\"] == \"no\")) / (\n",
    "        len(data) * P_0\n",
    "    )\n",
    "\n",
    "# Status\n",
    "\n",
    "for i in status_set:\n",
    "    P_probab[\"yes\"][i] = np.sum((data[\"Status\"] == i) & (data[\"Buy\"] == \"yes\")) / (\n",
    "        len(data) * P_1\n",
    "    )\n",
    "    P_probab[\"no\"][i] = np.sum((data[\"Status\"] == i) & (data[\"Buy\"] == \"no\")) / (\n",
    "        len(data) * P_0\n",
    "    )\n",
    "\n",
    "# Probability with all features\n",
    "\n",
    "P_total = {\"yes\": {}, \"no\": {}}\n",
    "\n",
    "for i in age_set:\n",
    "    for j in income_set:\n",
    "        for k in status_set:\n",
    "            P_total[\"yes\"][i + \"_\" + j + \"_\" + k] = (\n",
    "                P_probab[\"yes\"][i] * P_probab[\"yes\"][j] * P_probab[\"yes\"][k]\n",
    "            )\n",
    "            P_total[\"no\"][i + \"_\" + j + \"_\" + k] = (\n",
    "                P_probab[\"no\"][i] * P_probab[\"no\"][j] * P_probab[\"no\"][k]\n",
    "            )\n",
    "\n",
    "\n",
    "print(\"â =\", P_1, \"\\n\")\n",
    "\n",
    "\n",
    "print(\"Y='yes'\")\n",
    "print(\"-------\")\n",
    "for i in age_set:\n",
    "    for j in income_set:\n",
    "        for k in status_set:\n",
    "            ans_print = (\n",
    "                \"P(Age=\" + i + \"\\t;Income=\" + j + \"\\t;Status=\" + k + \"\\t|Y=yes\" + \") = \"\n",
    "            )\n",
    "            print(\n",
    "                ans_print.expandtabs(9),\n",
    "                P_total[\"yes\"][i + \"_\" + j + \"_\" + k],\n",
    "                end=\"\\n\",\n",
    "                sep=\"\",\n",
    "            )\n",
    "print()\n",
    "print(\"Y='no'\")\n",
    "print(\"------\")\n",
    "for i in age_set:\n",
    "    for j in income_set:\n",
    "        for k in status_set:\n",
    "            ans_print = (\n",
    "                \"P(Age=\" + i + \"\\t;Income=\" + j + \"\\t;Status=\" + k + \"\\t|Y=no \" + \") = \"\n",
    "            )\n",
    "            print(\n",
    "                ans_print.expandtabs(9),\n",
    "                P_total[\"no\"][i + \"_\" + j + \"_\" + k],\n",
    "                end=\"\\n\",\n",
    "                sep=\"\",\n",
    "            )\n",
    "\n",
    "\n",
    "p_test_case = \"21-30_medium_married\"\n",
    "p_test = P_total[\"yes\"][p_test_case] / (\n",
    "    P_total[\"yes\"][p_test_case] + P_total[\"no\"][p_test_case]\n",
    ")\n",
    "\n",
    "print(\"\\np_test =\", p_test)"
   ]
  }
 ],
 "metadata": {
  "kernelspec": {
   "display_name": "ee4708",
   "language": "python",
   "name": "ee4708"
  },
  "language_info": {
   "codemirror_mode": {
    "name": "ipython",
    "version": 3
   },
   "file_extension": ".py",
   "mimetype": "text/x-python",
   "name": "python",
   "nbconvert_exporter": "python",
   "pygments_lexer": "ipython3",
   "version": "3.7.4"
  },
  "toc": {
   "nav_menu": {},
   "number_sections": true,
   "sideBar": true,
   "skip_h1_title": false,
   "title_cell": "Table of Contents",
   "title_sidebar": "Contents",
   "toc_cell": false,
   "toc_position": {},
   "toc_section_display": true,
   "toc_window_display": false
  }
 },
 "nbformat": 4,
 "nbformat_minor": 2
}
